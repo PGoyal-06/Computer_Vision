{
  "nbformat": 4,
  "nbformat_minor": 0,
  "metadata": {
    "colab": {
      "provenance": [],
      "mount_file_id": "1_cTAdXrX-9RXv0FdCkbzsHJIrj6Qhlts",
      "authorship_tag": "ABX9TyMQK8/IzPjPtNoHmbqC9dzY",
      "include_colab_link": true
    },
    "kernelspec": {
      "name": "python3",
      "display_name": "Python 3"
    },
    "language_info": {
      "name": "python"
    }
  },
  "cells": [
    {
      "cell_type": "markdown",
      "metadata": {
        "id": "view-in-github",
        "colab_type": "text"
      },
      "source": [
        "<a href=\"https://colab.research.google.com/github/PGoyal-06/Computer_Vision/blob/main/01_neural_network_regression_with_tensorflow.ipynb\" target=\"_parent\"><img src=\"https://colab.research.google.com/assets/colab-badge.svg\" alt=\"Open In Colab\"/></a>"
      ]
    },
    {
      "cell_type": "markdown",
      "source": [
        "# Introduction to Regression with Neural Networks in TensorFlow\n",
        "\n",
        "There are many definitions for a regression problem but in our case, we're going to simplify it: predicting a numerical variable based on some other combination of variables, even shorter... predicting a number."
      ],
      "metadata": {
        "id": "WXDs_niUB1k9"
      }
    },
    {
      "cell_type": "code",
      "source": [
        "# Import TensorFlow\n",
        "import tensorflow as tf\n",
        "print(tf.__version__)"
      ],
      "metadata": {
        "colab": {
          "base_uri": "https://localhost:8080/"
        },
        "id": "GrFHD7YDCS_2",
        "outputId": "dcf99efd-60a0-48f3-b298-9a15095c495d"
      },
      "execution_count": null,
      "outputs": [
        {
          "output_type": "stream",
          "name": "stdout",
          "text": [
            "2.12.0\n"
          ]
        }
      ]
    },
    {
      "cell_type": "markdown",
      "source": [
        "## Creating some data to view and fit"
      ],
      "metadata": {
        "id": "HXJ9tJ1NC0Nw"
      }
    },
    {
      "cell_type": "code",
      "source": [
        "import numpy as np\n",
        "import matplotlib.pyplot as plt\n",
        "\n",
        "# Create features\n",
        "X = np.array([-7.0, -4.0, -1.0, 2.0, 5.0, 8.0, 11.0, 14.0])\n",
        "\n",
        "# Create labels\n",
        "y = np.array([3.0, 6.0, 9.0, 12.0, 15.0, 18.0, 21.0, 24.0])\n",
        "\n",
        "# Visualize it\n",
        "plt.scatter(X,y)"
      ],
      "metadata": {
        "colab": {
          "base_uri": "https://localhost:8080/",
          "height": 452
        },
        "id": "B2X70VXwC-tz",
        "outputId": "c14424d3-b9c7-41d3-d3d0-5a1ba3139490"
      },
      "execution_count": null,
      "outputs": [
        {
          "output_type": "execute_result",
          "data": {
            "text/plain": [
              "<matplotlib.collections.PathCollection at 0x7f0e0ed13520>"
            ]
          },
          "metadata": {},
          "execution_count": 2
        },
        {
          "output_type": "display_data",
          "data": {
            "text/plain": [
              "<Figure size 640x480 with 1 Axes>"
            ],
            "image/png": "[encoded data removed]"
          },
          "metadata": {}
        }
      ]
    },
    {
      "cell_type": "code",
      "source": [
        "y == X + 10"
      ],
      "metadata": {
        "colab": {
          "base_uri": "https://localhost:8080/"
        },
        "id": "XNGgA3r3DdhV",
        "outputId": "e156eb9f-28c2-404a-a1a0-ac3c61920d83"
      },
      "execution_count": null,
      "outputs": [
        {
          "output_type": "execute_result",
          "data": {
            "text/plain": [
              "array([ True,  True,  True,  True,  True,  True,  True,  True])"
            ]
          },
          "metadata": {},
          "execution_count": 3
        }
      ]
    },
    {
      "cell_type": "markdown",
      "source": [
        "## Input and output shapes"
      ],
      "metadata": {
        "id": "eRuIMDhSDw_v"
      }
    },
    {
      "cell_type": "code",
      "source": [
        "# Create a demo tensor for our housing price prediction problem\n",
        "house_info = tf.constant([\"bedroom\", \"bathroom\", \"garage\"])\n",
        "house_price = tf.constant([939700])\n",
        "house_info, house_price"
      ],
      "metadata": {
        "colab": {
          "base_uri": "https://localhost:8080/"
        },
        "id": "CXsAf_V3D7Wd",
        "outputId": "bacf3711-7a6b-468b-bbfc-350693a70371"
      },
      "execution_count": null,
      "outputs": [
        {
          "output_type": "execute_result",
          "data": {
            "text/plain": [
              "(<tf.Tensor: shape=(3,), dtype=string, numpy=array([b'bedroom', b'bathroom', b'garage'], dtype=object)>,\n",
              " <tf.Tensor: shape=(1,), dtype=int32, numpy=array([939700], dtype=int32)>)"
            ]
          },
          "metadata": {},
          "execution_count": 4
        }
      ]
    },
    {
      "cell_type": "code",
      "source": [
        "X[0], y[0]"
      ],
      "metadata": {
        "colab": {
          "base_uri": "https://localhost:8080/"
        },
        "id": "sIz0zQJnE0yL",
        "outputId": "8fd82746-4c67-4ad7-f412-bb217594031a"
      },
      "execution_count": null,
      "outputs": [
        {
          "output_type": "execute_result",
          "data": {
            "text/plain": [
              "(-7.0, 3.0)"
            ]
          },
          "metadata": {},
          "execution_count": 5
        }
      ]
    },
    {
      "cell_type": "code",
      "source": [
        "X[1], y[1]"
      ],
      "metadata": {
        "colab": {
          "base_uri": "https://localhost:8080/"
        },
        "id": "VXWUd58hE2c1",
        "outputId": "07061092-4dfb-4c4e-a39b-763809abcf4d"
      },
      "execution_count": null,
      "outputs": [
        {
          "output_type": "execute_result",
          "data": {
            "text/plain": [
              "(-4.0, 6.0)"
            ]
          },
          "metadata": {},
          "execution_count": 6
        }
      ]
    },
    {
      "cell_type": "code",
      "source": [
        "input_shape = X[0].shape\n",
        "output_shape = y[0].shape\n",
        "input_shape, output_shape"
      ],
      "metadata": {
        "colab": {
          "base_uri": "https://localhost:8080/"
        },
        "id": "kq-PbFymEako",
        "outputId": "2b74aa59-89b3-45a0-cc00-1b6d19ef6bf8"
      },
      "execution_count": null,
      "outputs": [
        {
          "output_type": "execute_result",
          "data": {
            "text/plain": [
              "((), ())"
            ]
          },
          "metadata": {},
          "execution_count": 7
        }
      ]
    },
    {
      "cell_type": "code",
      "source": [
        "X[0].ndim"
      ],
      "metadata": {
        "colab": {
          "base_uri": "https://localhost:8080/"
        },
        "id": "wQ_JCcstElfY",
        "outputId": "d645b62a-3507-4303-f4b1-9483e644ca68"
      },
      "execution_count": null,
      "outputs": [
        {
          "output_type": "execute_result",
          "data": {
            "text/plain": [
              "0"
            ]
          },
          "metadata": {},
          "execution_count": 8
        }
      ]
    },
    {
      "cell_type": "code",
      "source": [
        "X[0], y[0]"
      ],
      "metadata": {
        "id": "kHjnAnMsFIPc",
        "outputId": "f62a2c3a-1720-4aa5-dc3e-0e3f95421db3",
        "colab": {
          "base_uri": "https://localhost:8080/"
        }
      },
      "execution_count": null,
      "outputs": [
        {
          "output_type": "execute_result",
          "data": {
            "text/plain": [
              "(-7.0, 3.0)"
            ]
          },
          "metadata": {},
          "execution_count": 9
        }
      ]
    },
    {
      "cell_type": "code",
      "source": [
        "# Turn our numpy arrays into tensors with type float32\n",
        "X = tf.cast(tf.constant(X), dtype=tf.float32)\n",
        "y = tf.cast(tf.constant(y), dtype=tf.float32)\n",
        "X, y"
      ],
      "metadata": {
        "id": "-heAzYA6FLu8",
        "colab": {
          "base_uri": "https://localhost:8080/"
        },
        "outputId": "d5abe708-b354-4d74-e52d-d76db4f09423"
      },
      "execution_count": null,
      "outputs": [
        {
          "output_type": "execute_result",
          "data": {
            "text/plain": [
              "(<tf.Tensor: shape=(8,), dtype=float32, numpy=array([-7., -4., -1.,  2.,  5.,  8., 11., 14.], dtype=float32)>,\n",
              " <tf.Tensor: shape=(8,), dtype=float32, numpy=array([ 3.,  6.,  9., 12., 15., 18., 21., 24.], dtype=float32)>)"
            ]
          },
          "metadata": {},
          "execution_count": 10
        }
      ]
    },
    {
      "cell_type": "code",
      "source": [
        "input_shape = X[0].shape\n",
        "ouput_shape = y[0].shape\n",
        "input_shape, output_shape"
      ],
      "metadata": {
        "colab": {
          "base_uri": "https://localhost:8080/"
        },
        "id": "X1JhrTRodB7z",
        "outputId": "0f30ac1b-45a0-4bf4-9c8b-6b99f85c5aca"
      },
      "execution_count": null,
      "outputs": [
        {
          "output_type": "execute_result",
          "data": {
            "text/plain": [
              "(TensorShape([]), ())"
            ]
          },
          "metadata": {},
          "execution_count": 11
        }
      ]
    },
    {
      "cell_type": "code",
      "source": [
        "plt.scatter(X, y)"
      ],
      "metadata": {
        "colab": {
          "base_uri": "https://localhost:8080/",
          "height": 452
        },
        "id": "T4m_5ujedRYj",
        "outputId": "9c1cce86-c0c4-443d-c54a-96750d0e9250"
      },
      "execution_count": null,
      "outputs": [
        {
          "output_type": "execute_result",
          "data": {
            "text/plain": [
              "<matplotlib.collections.PathCollection at 0x7f0e0cc5e380>"
            ]
          },
          "metadata": {},
          "execution_count": 12
        },
        {
          "output_type": "display_data",
          "data": {
            "text/plain": [
              "<Figure size 640x480 with 1 Axes>"
            ],
            "image/png": "[encoded data removed]"
          },
          "metadata": {}
        }
      ]
    },
    {
      "cell_type": "markdown",
      "source": [
        "## Steps in modelling with TenorFlow\n",
        "\n",
        "1. **Creating a model** - define the input and output layers as well as the hidden layers of a deep learning model.\n",
        "\n",
        "2. **Compiling a model** - define the loss function (in other words, the function which tells our model how wrong it is) and the optimizer (tells our model how to improve the patterns it is learning) and evaluation metrics (what we can use to interpret the performance of our model).\n",
        "\n",
        "3. **Fitting a model** - letting the model try to find patterns between X & y (features & labels)."
      ],
      "metadata": {
        "id": "47OV-NNndW3Y"
      }
    },
    {
      "cell_type": "code",
      "source": [
        "# Set random seed\n",
        "tf.random.set_seed(42)\n",
        "\n",
        "# 1. create a model using the Sequential API\n",
        "model = tf.keras.Sequential([\n",
        "    tf.keras.layers.Dense(1)\n",
        "])\n",
        "\n",
        "# 2. Compile the model\n",
        "model.compile(loss=tf.keras.losses.mae, # mae is short for mean absolute error\n",
        "              optimizer=tf.keras.optimizers.SGD(), # sgd is short for stochastic gradient descent\n",
        "              metrics=[\"mae\"])\n",
        "\n",
        "# 3. Fit the model\n",
        "model.fit(tf.expand_dims(X, axis=1),y,epochs=5)"
      ],
      "metadata": {
        "colab": {
          "base_uri": "https://localhost:8080/"
        },
        "id": "HJxuXKSteHFb",
        "outputId": "e06ed32c-d043-4763-d77a-eef16592bd1c"
      },
      "execution_count": null,
      "outputs": [
        {
          "output_type": "stream",
          "name": "stdout",
          "text": [
            "Epoch 1/5\n",
            "1/1 [==============================] - 1s 730ms/step - loss: 11.4971 - mae: 11.4971\n",
            "Epoch 2/5\n",
            "1/1 [==============================] - 0s 15ms/step - loss: 11.3646 - mae: 11.3646\n",
            "Epoch 3/5\n",
            "1/1 [==============================] - 0s 10ms/step - loss: 11.2321 - mae: 11.2321\n",
            "Epoch 4/5\n",
            "1/1 [==============================] - 0s 19ms/step - loss: 11.0996 - mae: 11.0996\n",
            "Epoch 5/5\n",
            "1/1 [==============================] - 0s 12ms/step - loss: 10.9671 - mae: 10.9671\n"
          ]
        },
        {
          "output_type": "execute_result",
          "data": {
            "text/plain": [
              "<keras.callbacks.History at 0x7f0e09bc3460>"
            ]
          },
          "metadata": {},
          "execution_count": 13
        }
      ]
    },
    {
      "cell_type": "code",
      "source": [
        "# Check out X and y\n",
        "X, y"
      ],
      "metadata": {
        "colab": {
          "base_uri": "https://localhost:8080/"
        },
        "id": "ZsmOXOkekF2z",
        "outputId": "b37deae1-1a8b-454b-8181-d55de6d52597"
      },
      "execution_count": null,
      "outputs": [
        {
          "output_type": "execute_result",
          "data": {
            "text/plain": [
              "(<tf.Tensor: shape=(8,), dtype=float32, numpy=array([-7., -4., -1.,  2.,  5.,  8., 11., 14.], dtype=float32)>,\n",
              " <tf.Tensor: shape=(8,), dtype=float32, numpy=array([ 3.,  6.,  9., 12., 15., 18., 21., 24.], dtype=float32)>)"
            ]
          },
          "metadata": {},
          "execution_count": 14
        }
      ]
    },
    {
      "cell_type": "code",
      "source": [
        "# Try and make a prediction using our model\n",
        "y_pred = model.predict([17.0])\n",
        "y_pred"
      ],
      "metadata": {
        "colab": {
          "base_uri": "https://localhost:8080/"
        },
        "id": "8WgoZJI7mByE",
        "outputId": "98effc83-884b-4a10-8bde-1b88a033e48e"
      },
      "execution_count": null,
      "outputs": [
        {
          "output_type": "stream",
          "name": "stdout",
          "text": [
            "1/1 [==============================] - 0s 127ms/step\n"
          ]
        },
        {
          "output_type": "execute_result",
          "data": {
            "text/plain": [
              "array([[12.753318]], dtype=float32)"
            ]
          },
          "metadata": {},
          "execution_count": 15
        }
      ]
    },
    {
      "cell_type": "code",
      "source": [
        "y_pred + 11"
      ],
      "metadata": {
        "colab": {
          "base_uri": "https://localhost:8080/"
        },
        "id": "Q7frjRNrmM__",
        "outputId": "36955ef9-aff2-4a87-b907-97c48fb8e306"
      },
      "execution_count": null,
      "outputs": [
        {
          "output_type": "execute_result",
          "data": {
            "text/plain": [
              "array([[23.753319]], dtype=float32)"
            ]
          },
          "metadata": {},
          "execution_count": 16
        }
      ]
    },
    {
      "cell_type": "markdown",
      "source": [
        "## Improving our model\n",
        "\n",
        "We can improve our model by altering the steps we took to create a model.\n",
        "\n",
        "1. **Creating a model** - here we might add more layers, increase the number of hidden units (also called neurons) withing each of the hidden layers, change the activation function of each layer.\n",
        "\n",
        "2. **Compiling a model** - here we might change the optimization function or perhaps the **learning rate** of the optimization function.\n",
        "\n",
        "3. **Fitting a model** - here we might fit a model for more **epochs** (leave it training for longer) or on more data (give the model more examples to learn from).\n",
        "\n",
        "**Common Ways to improve a deep model:**\n",
        "* Adding layers\n",
        "* Increase the number of hidden units\n",
        "* Change the activation functions\n",
        "* Change the optimization function\n",
        "* Change the learning rate\n",
        "* Fitting on more data\n",
        "* Fitting for longer"
      ],
      "metadata": {
        "id": "3cDzMk1BmgRK"
      }
    },
    {
      "cell_type": "code",
      "source": [
        "# Let's rebuild our model\n",
        "\n",
        "# 1. create the model\n",
        "model = tf.keras.Sequential([\n",
        "    tf.keras.layers.Dense(1)\n",
        "])\n",
        "\n",
        "# 2. Compile the model\n",
        "model.compile(loss=tf.keras.losses.mae,\n",
        "              optimizer=tf.keras.optimizers.SGD(),\n",
        "              metrics=[\"mae\"])\n",
        "\n",
        "# 3. Fit the model\n",
        "model.fit(tf.expand_dims(X, axis=1),y,epochs=100)"
      ],
      "metadata": {
        "id": "cqmWWzysml8g",
        "colab": {
          "base_uri": "https://localhost:8080/"
        },
        "outputId": "f96f8907-3bff-41f1-e124-658d0dfdb68a"
      },
      "execution_count": null,
      "outputs": [
        {
          "output_type": "stream",
          "name": "stdout",
          "text": [
            "Epoch 1/100\n",
            "1/1 [==============================] - 1s 556ms/step - loss: 17.3064 - mae: 17.3064\n",
            "Epoch 2/100\n",
            "1/1 [==============================] - 0s 9ms/step - loss: 17.0251 - mae: 17.0251\n",
            "Epoch 3/100\n",
            "1/1 [==============================] - 0s 8ms/step - loss: 16.7439 - mae: 16.7439\n",
            "Epoch 4/100\n",
            "1/1 [==============================] - 0s 7ms/step - loss: 16.4626 - mae: 16.4626\n",
            "Epoch 5/100\n",
            "1/1 [==============================] - 0s 15ms/step - loss: 16.1814 - mae: 16.1814\n",
            "Epoch 6/100\n",
            "1/1 [==============================] - 0s 9ms/step - loss: 15.9001 - mae: 15.9001\n",
            "Epoch 7/100\n",
            "1/1 [==============================] - 0s 11ms/step - loss: 15.6189 - mae: 15.6189\n",
            "Epoch 8/100\n",
            "1/1 [==============================] - 0s 25ms/step - loss: 15.3376 - mae: 15.3376\n",
            "Epoch 9/100\n",
            "1/1 [==============================] - 0s 9ms/step - loss: 15.0564 - mae: 15.0564\n",
            "Epoch 10/100\n",
            "1/1 [==============================] - 0s 15ms/step - loss: 14.8163 - mae: 14.8163\n",
            "Epoch 11/100\n",
            "1/1 [==============================] - 0s 9ms/step - loss: 14.6838 - mae: 14.6838\n",
            "Epoch 12/100\n",
            "1/1 [==============================] - 0s 24ms/step - loss: 14.5513 - mae: 14.5513\n",
            "Epoch 13/100\n",
            "1/1 [==============================] - 0s 13ms/step - loss: 14.4188 - mae: 14.4188\n",
            "Epoch 14/100\n",
            "1/1 [==============================] - 0s 13ms/step - loss: 14.2863 - mae: 14.2863\n",
            "Epoch 15/100\n",
            "1/1 [==============================] - 0s 12ms/step - loss: 14.1538 - mae: 14.1538\n",
            "Epoch 16/100\n",
            "1/1 [==============================] - 0s 13ms/step - loss: 14.0213 - mae: 14.0213\n",
            "Epoch 17/100\n",
            "1/1 [==============================] - 0s 9ms/step - loss: 13.8888 - mae: 13.8888\n",
            "Epoch 18/100\n",
            "1/1 [==============================] - 0s 6ms/step - loss: 13.7563 - mae: 13.7563\n",
            "Epoch 19/100\n",
            "1/1 [==============================] - 0s 9ms/step - loss: 13.6238 - mae: 13.6238\n",
            "Epoch 20/100\n",
            "1/1 [==============================] - 0s 52ms/step - loss: 13.4913 - mae: 13.4913\n",
            "Epoch 21/100\n",
            "1/1 [==============================] - 0s 14ms/step - loss: 13.3588 - mae: 13.3588\n",
            "Epoch 22/100\n",
            "1/1 [==============================] - 0s 14ms/step - loss: 13.2263 - mae: 13.2263\n",
            "Epoch 23/100\n",
            "1/1 [==============================] - 0s 11ms/step - loss: 13.0938 - mae: 13.0938\n",
            "Epoch 24/100\n",
            "1/1 [==============================] - 0s 15ms/step - loss: 12.9613 - mae: 12.9613\n",
            "Epoch 25/100\n",
            "1/1 [==============================] - 0s 18ms/step - loss: 12.8288 - mae: 12.8288\n",
            "Epoch 26/100\n",
            "1/1 [==============================] - 0s 14ms/step - loss: 12.6963 - mae: 12.6963\n",
            "Epoch 27/100\n",
            "1/1 [==============================] - 0s 12ms/step - loss: 12.5638 - mae: 12.5638\n",
            "Epoch 28/100\n",
            "1/1 [==============================] - 0s 9ms/step - loss: 12.4313 - mae: 12.4313\n",
            "Epoch 29/100\n",
            "1/1 [==============================] - 0s 8ms/step - loss: 12.2988 - mae: 12.2988\n",
            "Epoch 30/100\n",
            "1/1 [==============================] - 0s 10ms/step - loss: 12.1663 - mae: 12.1663\n",
            "Epoch 31/100\n",
            "1/1 [==============================] - 0s 18ms/step - loss: 12.0338 - mae: 12.0338\n",
            "Epoch 32/100\n",
            "1/1 [==============================] - 0s 9ms/step - loss: 11.9013 - mae: 11.9013\n",
            "Epoch 33/100\n",
            "1/1 [==============================] - 0s 8ms/step - loss: 11.7688 - mae: 11.7688\n",
            "Epoch 34/100\n",
            "1/1 [==============================] - 0s 10ms/step - loss: 11.6363 - mae: 11.6363\n",
            "Epoch 35/100\n",
            "1/1 [==============================] - 0s 10ms/step - loss: 11.5038 - mae: 11.5038\n",
            "Epoch 36/100\n",
            "1/1 [==============================] - 0s 16ms/step - loss: 11.3713 - mae: 11.3713\n",
            "Epoch 37/100\n",
            "1/1 [==============================] - 0s 7ms/step - loss: 11.2388 - mae: 11.2388\n",
            "Epoch 38/100\n",
            "1/1 [==============================] - 0s 12ms/step - loss: 11.1063 - mae: 11.1063\n",
            "Epoch 39/100\n",
            "1/1 [==============================] - 0s 9ms/step - loss: 10.9738 - mae: 10.9738\n",
            "Epoch 40/100\n",
            "1/1 [==============================] - 0s 14ms/step - loss: 10.8413 - mae: 10.8413\n",
            "Epoch 41/100\n",
            "1/1 [==============================] - 0s 8ms/step - loss: 10.7088 - mae: 10.7088\n",
            "Epoch 42/100\n",
            "1/1 [==============================] - 0s 11ms/step - loss: 10.5763 - mae: 10.5763\n",
            "Epoch 43/100\n",
            "1/1 [==============================] - 0s 8ms/step - loss: 10.4438 - mae: 10.4438\n",
            "Epoch 44/100\n",
            "1/1 [==============================] - 0s 8ms/step - loss: 10.3113 - mae: 10.3113\n",
            "Epoch 45/100\n",
            "1/1 [==============================] - 0s 18ms/step - loss: 10.1788 - mae: 10.1788\n",
            "Epoch 46/100\n",
            "1/1 [==============================] - 0s 23ms/step - loss: 10.0463 - mae: 10.0463\n",
            "Epoch 47/100\n",
            "1/1 [==============================] - 0s 13ms/step - loss: 9.9138 - mae: 9.9138\n",
            "Epoch 48/100\n",
            "1/1 [==============================] - 0s 16ms/step - loss: 9.7813 - mae: 9.7813\n",
            "Epoch 49/100\n",
            "1/1 [==============================] - 0s 20ms/step - loss: 9.6488 - mae: 9.6488\n",
            "Epoch 50/100\n",
            "1/1 [==============================] - 0s 10ms/step - loss: 9.5163 - mae: 9.5163\n",
            "Epoch 51/100\n",
            "1/1 [==============================] - 0s 10ms/step - loss: 9.3838 - mae: 9.3838\n",
            "Epoch 52/100\n",
            "1/1 [==============================] - 0s 7ms/step - loss: 9.2513 - mae: 9.2513\n",
            "Epoch 53/100\n",
            "1/1 [==============================] - 0s 7ms/step - loss: 9.1188 - mae: 9.1188\n",
            "Epoch 54/100\n",
            "1/1 [==============================] - 0s 8ms/step - loss: 8.9863 - mae: 8.9863\n",
            "Epoch 55/100\n",
            "1/1 [==============================] - 0s 8ms/step - loss: 8.8538 - mae: 8.8538\n",
            "Epoch 56/100\n",
            "1/1 [==============================] - 0s 8ms/step - loss: 8.7213 - mae: 8.7213\n",
            "Epoch 57/100\n",
            "1/1 [==============================] - 0s 6ms/step - loss: 8.5888 - mae: 8.5888\n",
            "Epoch 58/100\n",
            "1/1 [==============================] - 0s 6ms/step - loss: 8.4563 - mae: 8.4563\n",
            "Epoch 59/100\n",
            "1/1 [==============================] - 0s 6ms/step - loss: 8.3238 - mae: 8.3238\n",
            "Epoch 60/100\n",
            "1/1 [==============================] - 0s 7ms/step - loss: 8.1913 - mae: 8.1913\n",
            "Epoch 61/100\n",
            "1/1 [==============================] - 0s 7ms/step - loss: 8.0588 - mae: 8.0588\n",
            "Epoch 62/100\n",
            "1/1 [==============================] - 0s 11ms/step - loss: 7.9263 - mae: 7.9263\n",
            "Epoch 63/100\n",
            "1/1 [==============================] - 0s 7ms/step - loss: 7.7938 - mae: 7.7938\n",
            "Epoch 64/100\n",
            "1/1 [==============================] - 0s 7ms/step - loss: 7.6613 - mae: 7.6613\n",
            "Epoch 65/100\n",
            "1/1 [==============================] - 0s 6ms/step - loss: 7.5288 - mae: 7.5288\n",
            "Epoch 66/100\n",
            "1/1 [==============================] - 0s 6ms/step - loss: 7.3963 - mae: 7.3963\n",
            "Epoch 67/100\n",
            "1/1 [==============================] - 0s 6ms/step - loss: 7.2638 - mae: 7.2638\n",
            "Epoch 68/100\n",
            "1/1 [==============================] - 0s 7ms/step - loss: 7.1313 - mae: 7.1313\n",
            "Epoch 69/100\n",
            "1/1 [==============================] - 0s 12ms/step - loss: 7.0069 - mae: 7.0069\n",
            "Epoch 70/100\n",
            "1/1 [==============================] - 0s 25ms/step - loss: 7.0013 - mae: 7.0013\n",
            "Epoch 71/100\n",
            "1/1 [==============================] - 0s 10ms/step - loss: 6.9956 - mae: 6.9956\n",
            "Epoch 72/100\n",
            "1/1 [==============================] - 0s 16ms/step - loss: 6.9900 - mae: 6.9900\n",
            "Epoch 73/100\n",
            "1/1 [==============================] - 0s 8ms/step - loss: 6.9844 - mae: 6.9844\n",
            "Epoch 74/100\n",
            "1/1 [==============================] - 0s 7ms/step - loss: 6.9788 - mae: 6.9788\n",
            "Epoch 75/100\n",
            "1/1 [==============================] - 0s 7ms/step - loss: 6.9731 - mae: 6.9731\n",
            "Epoch 76/100\n",
            "1/1 [==============================] - 0s 6ms/step - loss: 6.9675 - mae: 6.9675\n",
            "Epoch 77/100\n",
            "1/1 [==============================] - 0s 9ms/step - loss: 6.9619 - mae: 6.9619\n",
            "Epoch 78/100\n",
            "1/1 [==============================] - 0s 10ms/step - loss: 6.9563 - mae: 6.9563\n",
            "Epoch 79/100\n",
            "1/1 [==============================] - 0s 16ms/step - loss: 6.9506 - mae: 6.9506\n",
            "Epoch 80/100\n",
            "1/1 [==============================] - 0s 14ms/step - loss: 6.9450 - mae: 6.9450\n",
            "Epoch 81/100\n",
            "1/1 [==============================] - 0s 17ms/step - loss: 6.9394 - mae: 6.9394\n",
            "Epoch 82/100\n",
            "1/1 [==============================] - 0s 9ms/step - loss: 6.9338 - mae: 6.9338\n",
            "Epoch 83/100\n",
            "1/1 [==============================] - 0s 18ms/step - loss: 6.9281 - mae: 6.9281\n",
            "Epoch 84/100\n",
            "1/1 [==============================] - 0s 12ms/step - loss: 6.9225 - mae: 6.9225\n",
            "Epoch 85/100\n",
            "1/1 [==============================] - 0s 18ms/step - loss: 6.9169 - mae: 6.9169\n",
            "Epoch 86/100\n",
            "1/1 [==============================] - 0s 10ms/step - loss: 6.9113 - mae: 6.9113\n",
            "Epoch 87/100\n",
            "1/1 [==============================] - 0s 13ms/step - loss: 6.9056 - mae: 6.9056\n",
            "Epoch 88/100\n",
            "1/1 [==============================] - 0s 11ms/step - loss: 6.9000 - mae: 6.9000\n",
            "Epoch 89/100\n",
            "1/1 [==============================] - 0s 18ms/step - loss: 6.8944 - mae: 6.8944\n",
            "Epoch 90/100\n",
            "1/1 [==============================] - 0s 15ms/step - loss: 6.8888 - mae: 6.8888\n",
            "Epoch 91/100\n",
            "1/1 [==============================] - 0s 13ms/step - loss: 6.8831 - mae: 6.8831\n",
            "Epoch 92/100\n",
            "1/1 [==============================] - 0s 16ms/step - loss: 6.8775 - mae: 6.8775\n",
            "Epoch 93/100\n",
            "1/1 [==============================] - 0s 12ms/step - loss: 6.8719 - mae: 6.8719\n",
            "Epoch 94/100\n",
            "1/1 [==============================] - 0s 11ms/step - loss: 6.8663 - mae: 6.8663\n",
            "Epoch 95/100\n",
            "1/1 [==============================] - 0s 19ms/step - loss: 6.8606 - mae: 6.8606\n",
            "Epoch 96/100\n",
            "1/1 [==============================] - 0s 11ms/step - loss: 6.8550 - mae: 6.8550\n",
            "Epoch 97/100\n",
            "1/1 [==============================] - 0s 11ms/step - loss: 6.8494 - mae: 6.8494\n",
            "Epoch 98/100\n",
            "1/1 [==============================] - 0s 7ms/step - loss: 6.8438 - mae: 6.8438\n",
            "Epoch 99/100\n",
            "1/1 [==============================] - 0s 10ms/step - loss: 6.8381 - mae: 6.8381\n",
            "Epoch 100/100\n",
            "1/1 [==============================] - 0s 11ms/step - loss: 6.8325 - mae: 6.8325\n"
          ]
        },
        {
          "output_type": "execute_result",
          "data": {
            "text/plain": [
              "<keras.callbacks.History at 0x7f0e091d9480>"
            ]
          },
          "metadata": {},
          "execution_count": 17
        }
      ]
    },
    {
      "cell_type": "code",
      "source": [
        "X, y"
      ],
      "metadata": {
        "colab": {
          "base_uri": "https://localhost:8080/"
        },
        "id": "CfLHXEVxryag",
        "outputId": "7d144747-b6de-4913-e883-bc7473a80a25"
      },
      "execution_count": null,
      "outputs": [
        {
          "output_type": "execute_result",
          "data": {
            "text/plain": [
              "(<tf.Tensor: shape=(8,), dtype=float32, numpy=array([-7., -4., -1.,  2.,  5.,  8., 11., 14.], dtype=float32)>,\n",
              " <tf.Tensor: shape=(8,), dtype=float32, numpy=array([ 3.,  6.,  9., 12., 15., 18., 21., 24.], dtype=float32)>)"
            ]
          },
          "metadata": {},
          "execution_count": 18
        }
      ]
    },
    {
      "cell_type": "code",
      "source": [
        "# Let's see if the model's prediction has improved\n",
        "model.predict([17.0])"
      ],
      "metadata": {
        "colab": {
          "base_uri": "https://localhost:8080/"
        },
        "id": "MmnAIKf6s_o5",
        "outputId": "0353bb4e-fd15-4563-94e9-ea2d5573301f"
      },
      "execution_count": null,
      "outputs": [
        {
          "output_type": "stream",
          "name": "stdout",
          "text": [
            "1/1 [==============================] - 0s 69ms/step\n"
          ]
        },
        {
          "output_type": "execute_result",
          "data": {
            "text/plain": [
              "array([[29.280958]], dtype=float32)"
            ]
          },
          "metadata": {},
          "execution_count": 19
        }
      ]
    },
    {
      "cell_type": "code",
      "source": [
        "# Let's make another change\n",
        "\n",
        "# 1. Create the model\n",
        "model = tf.keras.Sequential([\n",
        "    tf.keras.layers.Dense(1000, activation=None),\n",
        "    tf.keras.layers.Dense(1)\n",
        "])\n",
        "\n",
        "# 2. Compile the model\n",
        "model.compile(loss=\"mae\",\n",
        "              optimizer=tf.keras.optimizers.Adam(lr=0.01),\n",
        "              metrics=[\"mae\"])\n",
        "\n",
        "# 3. fit the model\n",
        "model.fit(tf.expand_dims(X, axis=1),y,epochs=100)"
      ],
      "metadata": {
        "colab": {
          "base_uri": "https://localhost:8080/"
        },
        "id": "oT_0GDcYtH7n",
        "outputId": "c43fd64a-013c-4a17-dc9e-07ab8b028406"
      },
      "execution_count": null,
      "outputs": [
        {
          "output_type": "stream",
          "name": "stderr",
          "text": [
            "WARNING:absl:`lr` is deprecated in Keras optimizer, please use `learning_rate` or use the legacy optimizer, e.g.,tf.keras.optimizers.legacy.Adam.\n"
          ]
        },
        {
          "output_type": "stream",
          "name": "stdout",
          "text": [
            "Epoch 1/100\n",
            "1/1 [==============================] - 1s 696ms/step - loss: 13.6565 - mae: 13.6565\n",
            "Epoch 2/100\n",
            "1/1 [==============================] - 0s 10ms/step - loss: 13.3481 - mae: 13.3481\n",
            "Epoch 3/100\n",
            "1/1 [==============================] - 0s 9ms/step - loss: 13.0395 - mae: 13.0395\n",
            "Epoch 4/100\n",
            "1/1 [==============================] - 0s 8ms/step - loss: 12.7306 - mae: 12.7306\n",
            "Epoch 5/100\n",
            "1/1 [==============================] - 0s 13ms/step - loss: 12.4211 - mae: 12.4211\n",
            "Epoch 6/100\n",
            "1/1 [==============================] - 0s 8ms/step - loss: 12.1109 - mae: 12.1109\n",
            "Epoch 7/100\n",
            "1/1 [==============================] - 0s 10ms/step - loss: 11.7998 - mae: 11.7998\n",
            "Epoch 8/100\n",
            "1/1 [==============================] - 0s 8ms/step - loss: 11.4875 - mae: 11.4875\n",
            "Epoch 9/100\n",
            "1/1 [==============================] - 0s 8ms/step - loss: 11.1738 - mae: 11.1738\n",
            "Epoch 10/100\n",
            "1/1 [==============================] - 0s 10ms/step - loss: 10.8583 - mae: 10.8583\n",
            "Epoch 11/100\n",
            "1/1 [==============================] - 0s 7ms/step - loss: 10.5408 - mae: 10.5408\n",
            "Epoch 12/100\n",
            "1/1 [==============================] - 0s 7ms/step - loss: 10.2210 - mae: 10.2210\n",
            "Epoch 13/100\n",
            "1/1 [==============================] - 0s 9ms/step - loss: 9.8986 - mae: 9.8986\n",
            "Epoch 14/100\n",
            "1/1 [==============================] - 0s 11ms/step - loss: 9.5732 - mae: 9.5732\n",
            "Epoch 15/100\n",
            "1/1 [==============================] - 0s 7ms/step - loss: 9.2444 - mae: 9.2444\n",
            "Epoch 16/100\n",
            "1/1 [==============================] - 0s 7ms/step - loss: 8.9120 - mae: 8.9120\n",
            "Epoch 17/100\n",
            "1/1 [==============================] - 0s 15ms/step - loss: 8.5755 - mae: 8.5755\n",
            "Epoch 18/100\n",
            "1/1 [==============================] - 0s 10ms/step - loss: 8.2345 - mae: 8.2345\n",
            "Epoch 19/100\n",
            "1/1 [==============================] - 0s 7ms/step - loss: 7.8888 - mae: 7.8888\n",
            "Epoch 20/100\n",
            "1/1 [==============================] - 0s 26ms/step - loss: 7.5379 - mae: 7.5379\n",
            "Epoch 21/100\n",
            "1/1 [==============================] - 0s 10ms/step - loss: 7.1815 - mae: 7.1815\n",
            "Epoch 22/100\n",
            "1/1 [==============================] - 0s 9ms/step - loss: 6.8191 - mae: 6.8191\n",
            "Epoch 23/100\n",
            "1/1 [==============================] - 0s 11ms/step - loss: 6.7690 - mae: 6.7690\n",
            "Epoch 24/100\n",
            "1/1 [==============================] - 0s 15ms/step - loss: 6.7362 - mae: 6.7362\n",
            "Epoch 25/100\n",
            "1/1 [==============================] - 0s 15ms/step - loss: 6.8920 - mae: 6.8920\n",
            "Epoch 26/100\n",
            "1/1 [==============================] - 0s 12ms/step - loss: 7.0068 - mae: 7.0068\n",
            "Epoch 27/100\n",
            "1/1 [==============================] - 0s 10ms/step - loss: 7.0846 - mae: 7.0846\n",
            "Epoch 28/100\n",
            "1/1 [==============================] - 0s 11ms/step - loss: 7.1288 - mae: 7.1288\n",
            "Epoch 29/100\n",
            "1/1 [==============================] - 0s 8ms/step - loss: 7.1429 - mae: 7.1429\n",
            "Epoch 30/100\n",
            "1/1 [==============================] - 0s 10ms/step - loss: 7.1303 - mae: 7.1303\n",
            "Epoch 31/100\n",
            "1/1 [==============================] - 0s 9ms/step - loss: 7.0938 - mae: 7.0938\n",
            "Epoch 32/100\n",
            "1/1 [==============================] - 0s 8ms/step - loss: 7.0364 - mae: 7.0364\n",
            "Epoch 33/100\n",
            "1/1 [==============================] - 0s 9ms/step - loss: 6.9605 - mae: 6.9605\n",
            "Epoch 34/100\n",
            "1/1 [==============================] - 0s 12ms/step - loss: 6.8685 - mae: 6.8685\n",
            "Epoch 35/100\n",
            "1/1 [==============================] - 0s 8ms/step - loss: 6.7625 - mae: 6.7625\n",
            "Epoch 36/100\n",
            "1/1 [==============================] - 0s 9ms/step - loss: 6.6444 - mae: 6.6444\n",
            "Epoch 37/100\n",
            "1/1 [==============================] - 0s 8ms/step - loss: 6.5158 - mae: 6.5158\n",
            "Epoch 38/100\n",
            "1/1 [==============================] - 0s 9ms/step - loss: 6.3783 - mae: 6.3783\n",
            "Epoch 39/100\n",
            "1/1 [==============================] - 0s 10ms/step - loss: 6.2977 - mae: 6.2977\n",
            "Epoch 40/100\n",
            "1/1 [==============================] - 0s 9ms/step - loss: 6.2757 - mae: 6.2757\n",
            "Epoch 41/100\n",
            "1/1 [==============================] - 0s 8ms/step - loss: 6.2521 - mae: 6.2521\n",
            "Epoch 42/100\n",
            "1/1 [==============================] - 0s 9ms/step - loss: 6.2270 - mae: 6.2270\n",
            "Epoch 43/100\n",
            "1/1 [==============================] - 0s 8ms/step - loss: 6.2003 - mae: 6.2003\n",
            "Epoch 44/100\n",
            "1/1 [==============================] - 0s 13ms/step - loss: 6.2413 - mae: 6.2413\n",
            "Epoch 45/100\n",
            "1/1 [==============================] - 0s 9ms/step - loss: 6.2442 - mae: 6.2442\n",
            "Epoch 46/100\n",
            "1/1 [==============================] - 0s 8ms/step - loss: 6.1995 - mae: 6.1995\n",
            "Epoch 47/100\n",
            "1/1 [==============================] - 0s 9ms/step - loss: 6.1125 - mae: 6.1125\n",
            "Epoch 48/100\n",
            "1/1 [==============================] - 0s 10ms/step - loss: 6.0197 - mae: 6.0197\n",
            "Epoch 49/100\n",
            "1/1 [==============================] - 0s 9ms/step - loss: 5.9755 - mae: 5.9755\n",
            "Epoch 50/100\n",
            "1/1 [==============================] - 0s 11ms/step - loss: 5.9308 - mae: 5.9308\n",
            "Epoch 51/100\n",
            "1/1 [==============================] - 0s 10ms/step - loss: 5.8854 - mae: 5.8854\n",
            "Epoch 52/100\n",
            "1/1 [==============================] - 0s 11ms/step - loss: 5.8394 - mae: 5.8394\n",
            "Epoch 53/100\n",
            "1/1 [==============================] - 0s 11ms/step - loss: 5.7927 - mae: 5.7927\n",
            "Epoch 54/100\n",
            "1/1 [==============================] - 0s 11ms/step - loss: 5.7452 - mae: 5.7452\n",
            "Epoch 55/100\n",
            "1/1 [==============================] - 0s 11ms/step - loss: 5.6990 - mae: 5.6990\n",
            "Epoch 56/100\n",
            "1/1 [==============================] - 0s 14ms/step - loss: 5.6785 - mae: 5.6785\n",
            "Epoch 57/100\n",
            "1/1 [==============================] - 0s 11ms/step - loss: 5.6350 - mae: 5.6350\n",
            "Epoch 58/100\n",
            "1/1 [==============================] - 0s 7ms/step - loss: 5.5707 - mae: 5.5707\n",
            "Epoch 59/100\n",
            "1/1 [==============================] - 0s 14ms/step - loss: 5.5281 - mae: 5.5281\n",
            "Epoch 60/100\n",
            "1/1 [==============================] - 0s 11ms/step - loss: 5.4872 - mae: 5.4872\n",
            "Epoch 61/100\n",
            "1/1 [==============================] - 0s 15ms/step - loss: 5.4445 - mae: 5.4445\n",
            "Epoch 62/100\n",
            "1/1 [==============================] - 0s 14ms/step - loss: 5.3999 - mae: 5.3999\n",
            "Epoch 63/100\n",
            "1/1 [==============================] - 0s 21ms/step - loss: 5.3536 - mae: 5.3536\n",
            "Epoch 64/100\n",
            "1/1 [==============================] - 0s 11ms/step - loss: 5.3055 - mae: 5.3055\n",
            "Epoch 65/100\n",
            "1/1 [==============================] - 0s 13ms/step - loss: 5.2556 - mae: 5.2556\n",
            "Epoch 66/100\n",
            "1/1 [==============================] - 0s 12ms/step - loss: 5.2040 - mae: 5.2040\n",
            "Epoch 67/100\n",
            "1/1 [==============================] - 0s 14ms/step - loss: 5.1507 - mae: 5.1507\n",
            "Epoch 68/100\n",
            "1/1 [==============================] - 0s 18ms/step - loss: 5.0957 - mae: 5.0957\n",
            "Epoch 69/100\n",
            "1/1 [==============================] - 0s 16ms/step - loss: 5.0390 - mae: 5.0390\n",
            "Epoch 70/100\n",
            "1/1 [==============================] - 0s 11ms/step - loss: 4.9805 - mae: 4.9805\n",
            "Epoch 71/100\n",
            "1/1 [==============================] - 0s 15ms/step - loss: 4.9203 - mae: 4.9203\n",
            "Epoch 72/100\n",
            "1/1 [==============================] - 0s 10ms/step - loss: 4.8583 - mae: 4.8583\n",
            "Epoch 73/100\n",
            "1/1 [==============================] - 0s 11ms/step - loss: 4.7946 - mae: 4.7946\n",
            "Epoch 74/100\n",
            "1/1 [==============================] - 0s 13ms/step - loss: 4.7291 - mae: 4.7291\n",
            "Epoch 75/100\n",
            "1/1 [==============================] - 0s 10ms/step - loss: 4.6618 - mae: 4.6618\n",
            "Epoch 76/100\n",
            "1/1 [==============================] - 0s 9ms/step - loss: 4.5926 - mae: 4.5926\n",
            "Epoch 77/100\n",
            "1/1 [==============================] - 0s 8ms/step - loss: 4.5493 - mae: 4.5493\n",
            "Epoch 78/100\n",
            "1/1 [==============================] - 0s 8ms/step - loss: 4.4790 - mae: 4.4790\n",
            "Epoch 79/100\n",
            "1/1 [==============================] - 0s 8ms/step - loss: 4.3887 - mae: 4.3887\n",
            "Epoch 80/100\n",
            "1/1 [==============================] - 0s 8ms/step - loss: 4.3210 - mae: 4.3210\n",
            "Epoch 81/100\n",
            "1/1 [==============================] - 0s 8ms/step - loss: 4.2506 - mae: 4.2506\n",
            "Epoch 82/100\n",
            "1/1 [==============================] - 0s 7ms/step - loss: 4.1776 - mae: 4.1776\n",
            "Epoch 83/100\n",
            "1/1 [==============================] - 0s 8ms/step - loss: 4.1021 - mae: 4.1021\n",
            "Epoch 84/100\n",
            "1/1 [==============================] - 0s 14ms/step - loss: 4.0241 - mae: 4.0241\n",
            "Epoch 85/100\n",
            "1/1 [==============================] - 0s 8ms/step - loss: 3.9435 - mae: 3.9435\n",
            "Epoch 86/100\n",
            "1/1 [==============================] - 0s 9ms/step - loss: 3.8605 - mae: 3.8605\n",
            "Epoch 87/100\n",
            "1/1 [==============================] - 0s 8ms/step - loss: 3.7750 - mae: 3.7750\n",
            "Epoch 88/100\n",
            "1/1 [==============================] - 0s 8ms/step - loss: 3.6870 - mae: 3.6870\n",
            "Epoch 89/100\n",
            "1/1 [==============================] - 0s 8ms/step - loss: 3.5965 - mae: 3.5965\n",
            "Epoch 90/100\n",
            "1/1 [==============================] - 0s 12ms/step - loss: 3.5256 - mae: 3.5256\n",
            "Epoch 91/100\n",
            "1/1 [==============================] - 0s 8ms/step - loss: 3.4201 - mae: 3.4201\n",
            "Epoch 92/100\n",
            "1/1 [==============================] - 0s 8ms/step - loss: 3.3269 - mae: 3.3269\n",
            "Epoch 93/100\n",
            "1/1 [==============================] - 0s 11ms/step - loss: 3.2366 - mae: 3.2366\n",
            "Epoch 94/100\n",
            "1/1 [==============================] - 0s 11ms/step - loss: 3.1430 - mae: 3.1430\n",
            "Epoch 95/100\n",
            "1/1 [==============================] - 0s 11ms/step - loss: 3.0460 - mae: 3.0460\n",
            "Epoch 96/100\n",
            "1/1 [==============================] - 0s 10ms/step - loss: 2.9458 - mae: 2.9458\n",
            "Epoch 97/100\n",
            "1/1 [==============================] - 0s 9ms/step - loss: 2.8424 - mae: 2.8424\n",
            "Epoch 98/100\n",
            "1/1 [==============================] - 0s 8ms/step - loss: 2.7359 - mae: 2.7359\n",
            "Epoch 99/100\n",
            "1/1 [==============================] - 0s 7ms/step - loss: 2.6263 - mae: 2.6263\n",
            "Epoch 100/100\n",
            "1/1 [==============================] - 0s 7ms/step - loss: 2.5135 - mae: 2.5135\n"
          ]
        },
        {
          "output_type": "execute_result",
          "data": {
            "text/plain": [
              "<keras.callbacks.History at 0x7f0e0a3cb820>"
            ]
          },
          "metadata": {},
          "execution_count": 20
        }
      ]
    },
    {
      "cell_type": "code",
      "source": [
        "X, y"
      ],
      "metadata": {
        "colab": {
          "base_uri": "https://localhost:8080/"
        },
        "id": "pFnXPLLHvdrB",
        "outputId": "176c9afc-139a-4e91-866b-2eb04512bc40"
      },
      "execution_count": null,
      "outputs": [
        {
          "output_type": "execute_result",
          "data": {
            "text/plain": [
              "(<tf.Tensor: shape=(8,), dtype=float32, numpy=array([-7., -4., -1.,  2.,  5.,  8., 11., 14.], dtype=float32)>,\n",
              " <tf.Tensor: shape=(8,), dtype=float32, numpy=array([ 3.,  6.,  9., 12., 15., 18., 21., 24.], dtype=float32)>)"
            ]
          },
          "metadata": {},
          "execution_count": 21
        }
      ]
    },
    {
      "cell_type": "code",
      "source": [
        "model.predict([17.0])"
      ],
      "metadata": {
        "colab": {
          "base_uri": "https://localhost:8080/"
        },
        "id": "J8w-Bjgzv95J",
        "outputId": "11bbb771-f9e0-4049-dc66-9718b3e5408f"
      },
      "execution_count": null,
      "outputs": [
        {
          "output_type": "stream",
          "name": "stdout",
          "text": [
            "1/1 [==============================] - 0s 91ms/step\n"
          ]
        },
        {
          "output_type": "execute_result",
          "data": {
            "text/plain": [
              "array([[27.74636]], dtype=float32)"
            ]
          },
          "metadata": {},
          "execution_count": 22
        }
      ]
    },
    {
      "cell_type": "markdown",
      "source": [
        "## Evaluating a model\n",
        "\n",
        "In practice, a typical workflow you will go through when building neural nerowrks is:\n",
        "\n",
        "```\n",
        "Build a model -> fit it -> evaluate it -> tweak a model -> fit it -> evaluate it -> tweak a model -> fit it -> evaluate it...\n",
        "```"
      ],
      "metadata": {
        "id": "_v3Sc0rcwAtr"
      }
    },
    {
      "cell_type": "markdown",
      "source": [
        "When it comes to evaluation... there are 3 words you should memorize:\n",
        "\n",
        "> \"Visualize, visualize, visualize\"\n",
        "\n",
        "It's a good idea to visualize:\n",
        "* The data - what data are we working with? What does it look like?\n",
        "\n",
        "* The model itself - what does our model look like?\n",
        "\n",
        "* The training of a model - how does a model perform while it learns?\n",
        "\n",
        "* The predictions of the model - how do the predictions of a model line up against the ground truth (the original labels)?"
      ],
      "metadata": {
        "id": "MMJHdhQF0nY-"
      }
    },
    {
      "cell_type": "code",
      "source": [
        "# Make a bigger dataset\n",
        "X = tf.range(-100, 100, 4)\n",
        "X"
      ],
      "metadata": {
        "colab": {
          "base_uri": "https://localhost:8080/"
        },
        "id": "HGwydkqYPQS0",
        "outputId": "4eae91a5-39d8-4052-dac6-ad1c940b57ea"
      },
      "execution_count": null,
      "outputs": [
        {
          "output_type": "execute_result",
          "data": {
            "text/plain": [
              "<tf.Tensor: shape=(50,), dtype=int32, numpy=\n",
              "array([-100,  -96,  -92,  -88,  -84,  -80,  -76,  -72,  -68,  -64,  -60,\n",
              "        -56,  -52,  -48,  -44,  -40,  -36,  -32,  -28,  -24,  -20,  -16,\n",
              "        -12,   -8,   -4,    0,    4,    8,   12,   16,   20,   24,   28,\n",
              "         32,   36,   40,   44,   48,   52,   56,   60,   64,   68,   72,\n",
              "         76,   80,   84,   88,   92,   96], dtype=int32)>"
            ]
          },
          "metadata": {},
          "execution_count": 23
        }
      ]
    },
    {
      "cell_type": "code",
      "source": [
        "# Make labels for the dataset\n",
        "y = X + 10\n",
        "y"
      ],
      "metadata": {
        "colab": {
          "base_uri": "https://localhost:8080/"
        },
        "id": "1vzQwV0mQPan",
        "outputId": "ce751d2e-72fa-4608-d440-4c0d9d7ff641"
      },
      "execution_count": null,
      "outputs": [
        {
          "output_type": "execute_result",
          "data": {
            "text/plain": [
              "<tf.Tensor: shape=(50,), dtype=int32, numpy=\n",
              "array([-90, -86, -82, -78, -74, -70, -66, -62, -58, -54, -50, -46, -42,\n",
              "       -38, -34, -30, -26, -22, -18, -14, -10,  -6,  -2,   2,   6,  10,\n",
              "        14,  18,  22,  26,  30,  34,  38,  42,  46,  50,  54,  58,  62,\n",
              "        66,  70,  74,  78,  82,  86,  90,  94,  98, 102, 106], dtype=int32)>"
            ]
          },
          "metadata": {},
          "execution_count": 24
        }
      ]
    },
    {
      "cell_type": "code",
      "source": [
        "# Visualize the data\n",
        "import matplotlib.pyplot as plt\n",
        "\n",
        "plt.scatter(X,y)"
      ],
      "metadata": {
        "colab": {
          "base_uri": "https://localhost:8080/",
          "height": 447
        },
        "id": "jqmIIpt1QXhf",
        "outputId": "245cb5db-56fe-4deb-8ffb-19e033c0951d"
      },
      "execution_count": null,
      "outputs": [
        {
          "output_type": "execute_result",
          "data": {
            "text/plain": [
              "<matplotlib.collections.PathCollection at 0x7f0e09c40af0>"
            ]
          },
          "metadata": {},
          "execution_count": 25
        },
        {
          "output_type": "display_data",
          "data": {
            "text/plain": [
              "<Figure size 640x480 with 1 Axes>"
            ],
            "image/png": "[encoded data removed]"
          },
          "metadata": {}
        }
      ]
    },
    {
      "cell_type": "markdown",
      "source": [
        "### The 3 sets...\n",
        "\n",
        "* **Training set** - the model learns from this data, which is typically 70-80% of the total data you have available.\n",
        "\n",
        "* **Validation set** - the model gets tuned on this data, whcih is typically 10-15% of the data available.\n",
        "\n",
        "* **Test set** - the model gets evaluated on this data to test what it has learned, this set is typically 10-15% of the total data available."
      ],
      "metadata": {
        "id": "uBIbeqroQhG0"
      }
    },
    {
      "cell_type": "code",
      "source": [
        "# Check the length of how many samples we have\n",
        "len(X)"
      ],
      "metadata": {
        "colab": {
          "base_uri": "https://localhost:8080/"
        },
        "id": "kjfJZcl2Qtvf",
        "outputId": "9bd02883-0bcc-4f89-8e82-4e47c3ed34f6"
      },
      "execution_count": null,
      "outputs": [
        {
          "output_type": "execute_result",
          "data": {
            "text/plain": [
              "50"
            ]
          },
          "metadata": {},
          "execution_count": 26
        }
      ]
    },
    {
      "cell_type": "code",
      "source": [
        "# SPlit the data into train and tets sets\n",
        "X_train = X[:40] # firts 40 training samples (80% of the data)\n",
        "y_train = y[:40]\n",
        "\n",
        "X_test = X[40:] # last 10 are testing samples (20% of the data)\n",
        "y_test = y[40:]\n",
        "\n",
        "len(X_train), len(X_test), len(y_train), len(y_test)"
      ],
      "metadata": {
        "colab": {
          "base_uri": "https://localhost:8080/"
        },
        "id": "mBcati7eR3mR",
        "outputId": "f321f28a-b257-4fc9-dfea-fc1ba7ef6b31"
      },
      "execution_count": null,
      "outputs": [
        {
          "output_type": "execute_result",
          "data": {
            "text/plain": [
              "(40, 10, 40, 10)"
            ]
          },
          "metadata": {},
          "execution_count": 27
        }
      ]
    },
    {
      "cell_type": "markdown",
      "source": [
        "### Visualizing the data\n",
        "\n",
        "Now we've got our data in training and tests sets... let's visualize it again!"
      ],
      "metadata": {
        "id": "W_VZpC-BSgE1"
      }
    },
    {
      "cell_type": "code",
      "source": [
        "plt.figure(figsize=(10, 7))\n",
        "# plot training data in blue\n",
        "plt.scatter(X_train, y_train, c=\"b\", label=\"Training data\") # our model will learn on this\n",
        "#plot the test data in green\n",
        "plt.scatter(X_test, y_test, c=\"g\", label=\"Testing data\") # want our model to be able to predict this (given X, what is y?)\n",
        "# show a legend\n",
        "plt.legend();"
      ],
      "metadata": {
        "colab": {
          "base_uri": "https://localhost:8080/",
          "height": 456
        },
        "id": "OM5OezWhS8Po",
        "outputId": "17505eef-36d0-4162-9032-32a098a2af04"
      },
      "execution_count": null,
      "outputs": [
        {
          "output_type": "display_data",
          "data": {
            "text/plain": [
              "<Figure size 1000x700 with 1 Axes>"
            ],
            "image/png": "[encoded data removed]"
          },
          "metadata": {}
        }
      ]
    },
    {
      "cell_type": "code",
      "source": [
        "# Let's have a look at how to build a neural network for our data\n",
        "\n",
        "# 1. create a model\n",
        "model = tf.keras.Sequential([\n",
        "    tf.keras.layers.Dense(1)\n",
        "])\n",
        "\n",
        "# 2. compile the model\n",
        "model.compile(loss=tf.keras.losses.mae,\n",
        "              optimizer = tf.keras.optimizers.SGD(),\n",
        "              metrics=[\"mae\"])\n",
        "\n",
        "# 3. fit the model\n",
        "model.fit(tf.expand_dims(X_train, axis=1),y_train,epochs=100)"
      ],
      "metadata": {
        "id": "e17a8rOlUMMZ",
        "colab": {
          "base_uri": "https://localhost:8080/"
        },
        "outputId": "6cb00c51-b1ec-46d1-92e0-829f044c9c3b"
      },
      "execution_count": null,
      "outputs": [
        {
          "output_type": "stream",
          "name": "stdout",
          "text": [
            "Epoch 1/100\n",
            "2/2 [==============================] - 1s 8ms/step - loss: 93.6945 - mae: 93.6945\n",
            "Epoch 2/100\n",
            "2/2 [==============================] - 0s 6ms/step - loss: 58.2390 - mae: 58.2390\n",
            "Epoch 3/100\n",
            "2/2 [==============================] - 0s 6ms/step - loss: 21.4245 - mae: 21.4245\n",
            "Epoch 4/100\n",
            "2/2 [==============================] - 0s 5ms/step - loss: 13.2056 - mae: 13.2056\n",
            "Epoch 5/100\n",
            "2/2 [==============================] - 0s 7ms/step - loss: 12.2765 - mae: 12.2765\n",
            "Epoch 6/100\n",
            "2/2 [==============================] - 0s 11ms/step - loss: 9.5023 - mae: 9.5023\n",
            "Epoch 7/100\n",
            "2/2 [==============================] - 0s 4ms/step - loss: 8.6343 - mae: 8.6343\n",
            "Epoch 8/100\n",
            "2/2 [==============================] - 0s 8ms/step - loss: 9.0753 - mae: 9.0753\n",
            "Epoch 9/100\n",
            "2/2 [==============================] - 0s 6ms/step - loss: 18.8612 - mae: 18.8612\n",
            "Epoch 10/100\n",
            "2/2 [==============================] - 0s 8ms/step - loss: 10.1943 - mae: 10.1943\n",
            "Epoch 11/100\n",
            "2/2 [==============================] - 0s 5ms/step - loss: 8.4456 - mae: 8.4456\n",
            "Epoch 12/100\n",
            "2/2 [==============================] - 0s 9ms/step - loss: 10.7333 - mae: 10.7333\n",
            "Epoch 13/100\n",
            "2/2 [==============================] - 0s 5ms/step - loss: 9.8421 - mae: 9.8421\n",
            "Epoch 14/100\n",
            "2/2 [==============================] - 0s 12ms/step - loss: 16.1230 - mae: 16.1230\n",
            "Epoch 15/100\n",
            "2/2 [==============================] - 0s 5ms/step - loss: 11.3522 - mae: 11.3522\n",
            "Epoch 16/100\n",
            "2/2 [==============================] - 0s 11ms/step - loss: 8.5875 - mae: 8.5875\n",
            "Epoch 17/100\n",
            "2/2 [==============================] - 0s 10ms/step - loss: 13.7164 - mae: 13.7164\n",
            "Epoch 18/100\n",
            "2/2 [==============================] - 0s 17ms/step - loss: 11.5578 - mae: 11.5578\n",
            "Epoch 19/100\n",
            "2/2 [==============================] - 0s 7ms/step - loss: 17.8538 - mae: 17.8538\n",
            "Epoch 20/100\n",
            "2/2 [==============================] - 0s 6ms/step - loss: 14.9889 - mae: 14.9889\n",
            "Epoch 21/100\n",
            "2/2 [==============================] - 0s 12ms/step - loss: 10.8730 - mae: 10.8730\n",
            "Epoch 22/100\n",
            "2/2 [==============================] - 0s 6ms/step - loss: 8.6254 - mae: 8.6254\n",
            "Epoch 23/100\n",
            "2/2 [==============================] - 0s 7ms/step - loss: 9.7333 - mae: 9.7333\n",
            "Epoch 24/100\n",
            "2/2 [==============================] - 0s 7ms/step - loss: 10.9838 - mae: 10.9838\n",
            "Epoch 25/100\n",
            "2/2 [==============================] - 0s 9ms/step - loss: 9.1889 - mae: 9.1889\n",
            "Epoch 26/100\n",
            "2/2 [==============================] - 0s 9ms/step - loss: 13.2212 - mae: 13.2212\n",
            "Epoch 27/100\n",
            "2/2 [==============================] - 0s 15ms/step - loss: 10.6938 - mae: 10.6938\n",
            "Epoch 28/100\n",
            "2/2 [==============================] - 0s 6ms/step - loss: 12.9158 - mae: 12.9158\n",
            "Epoch 29/100\n",
            "2/2 [==============================] - 0s 5ms/step - loss: 9.5370 - mae: 9.5370\n",
            "Epoch 30/100\n",
            "2/2 [==============================] - 0s 5ms/step - loss: 16.4385 - mae: 16.4385\n",
            "Epoch 31/100\n",
            "2/2 [==============================] - 0s 5ms/step - loss: 23.5742 - mae: 23.5742\n",
            "Epoch 32/100\n",
            "2/2 [==============================] - 0s 5ms/step - loss: 7.6344 - mae: 7.6344\n",
            "Epoch 33/100\n",
            "2/2 [==============================] - 0s 13ms/step - loss: 9.3302 - mae: 9.3302\n",
            "Epoch 34/100\n",
            "2/2 [==============================] - 0s 6ms/step - loss: 13.6953 - mae: 13.6953\n",
            "Epoch 35/100\n",
            "2/2 [==============================] - 0s 11ms/step - loss: 11.1839 - mae: 11.1839\n",
            "Epoch 36/100\n",
            "2/2 [==============================] - 0s 9ms/step - loss: 13.4046 - mae: 13.4046\n",
            "Epoch 37/100\n",
            "2/2 [==============================] - 0s 5ms/step - loss: 9.4754 - mae: 9.4754\n",
            "Epoch 38/100\n",
            "2/2 [==============================] - 0s 7ms/step - loss: 10.1275 - mae: 10.1275\n",
            "Epoch 39/100\n",
            "2/2 [==============================] - 0s 5ms/step - loss: 10.2360 - mae: 10.2360\n",
            "Epoch 40/100\n",
            "2/2 [==============================] - 0s 11ms/step - loss: 10.9795 - mae: 10.9795\n",
            "Epoch 41/100\n",
            "2/2 [==============================] - 0s 8ms/step - loss: 7.9573 - mae: 7.9573\n",
            "Epoch 42/100\n",
            "2/2 [==============================] - 0s 6ms/step - loss: 10.6053 - mae: 10.6053\n",
            "Epoch 43/100\n",
            "2/2 [==============================] - 0s 4ms/step - loss: 7.2379 - mae: 7.2379\n",
            "Epoch 44/100\n",
            "2/2 [==============================] - 0s 5ms/step - loss: 8.0190 - mae: 8.0190\n",
            "Epoch 45/100\n",
            "2/2 [==============================] - 0s 4ms/step - loss: 9.8124 - mae: 9.8124\n",
            "Epoch 46/100\n",
            "2/2 [==============================] - 0s 5ms/step - loss: 8.8869 - mae: 8.8869\n",
            "Epoch 47/100\n",
            "2/2 [==============================] - 0s 6ms/step - loss: 7.6015 - mae: 7.6015\n",
            "Epoch 48/100\n",
            "2/2 [==============================] - 0s 8ms/step - loss: 8.6054 - mae: 8.6054\n",
            "Epoch 49/100\n",
            "2/2 [==============================] - 0s 5ms/step - loss: 10.0170 - mae: 10.0170\n",
            "Epoch 50/100\n",
            "2/2 [==============================] - 0s 5ms/step - loss: 9.0575 - mae: 9.0575\n",
            "Epoch 51/100\n",
            "2/2 [==============================] - 0s 4ms/step - loss: 10.6855 - mae: 10.6855\n",
            "Epoch 52/100\n",
            "2/2 [==============================] - 0s 5ms/step - loss: 15.3262 - mae: 15.3262\n",
            "Epoch 53/100\n",
            "2/2 [==============================] - 0s 6ms/step - loss: 14.3428 - mae: 14.3428\n",
            "Epoch 54/100\n",
            "2/2 [==============================] - 0s 5ms/step - loss: 21.6419 - mae: 21.6419\n",
            "Epoch 55/100\n",
            "2/2 [==============================] - 0s 5ms/step - loss: 15.9909 - mae: 15.9909\n",
            "Epoch 56/100\n",
            "2/2 [==============================] - 0s 5ms/step - loss: 10.3183 - mae: 10.3183\n",
            "Epoch 57/100\n",
            "2/2 [==============================] - 0s 5ms/step - loss: 9.7868 - mae: 9.7868\n",
            "Epoch 58/100\n",
            "2/2 [==============================] - 0s 5ms/step - loss: 9.0744 - mae: 9.0744\n",
            "Epoch 59/100\n",
            "2/2 [==============================] - 0s 6ms/step - loss: 8.2755 - mae: 8.2755\n",
            "Epoch 60/100\n",
            "2/2 [==============================] - 0s 5ms/step - loss: 9.3767 - mae: 9.3767\n",
            "Epoch 61/100\n",
            "2/2 [==============================] - 0s 5ms/step - loss: 11.1816 - mae: 11.1816\n",
            "Epoch 62/100\n",
            "2/2 [==============================] - 0s 7ms/step - loss: 12.1079 - mae: 12.1079\n",
            "Epoch 63/100\n",
            "2/2 [==============================] - 0s 10ms/step - loss: 7.2928 - mae: 7.2928\n",
            "Epoch 64/100\n",
            "2/2 [==============================] - 0s 6ms/step - loss: 12.4401 - mae: 12.4401\n",
            "Epoch 65/100\n",
            "2/2 [==============================] - 0s 5ms/step - loss: 10.5175 - mae: 10.5175\n",
            "Epoch 66/100\n",
            "2/2 [==============================] - 0s 5ms/step - loss: 15.6392 - mae: 15.6392\n",
            "Epoch 67/100\n",
            "2/2 [==============================] - 0s 15ms/step - loss: 10.0418 - mae: 10.0418\n",
            "Epoch 68/100\n",
            "2/2 [==============================] - 0s 5ms/step - loss: 8.7499 - mae: 8.7499\n",
            "Epoch 69/100\n",
            "2/2 [==============================] - 0s 10ms/step - loss: 13.5182 - mae: 13.5182\n",
            "Epoch 70/100\n",
            "2/2 [==============================] - 0s 10ms/step - loss: 7.4956 - mae: 7.4956\n",
            "Epoch 71/100\n",
            "2/2 [==============================] - 0s 5ms/step - loss: 12.2443 - mae: 12.2443\n",
            "Epoch 72/100\n",
            "2/2 [==============================] - 0s 5ms/step - loss: 8.5625 - mae: 8.5625\n",
            "Epoch 73/100\n",
            "2/2 [==============================] - 0s 6ms/step - loss: 7.0658 - mae: 7.0658\n",
            "Epoch 74/100\n",
            "2/2 [==============================] - 0s 5ms/step - loss: 9.9625 - mae: 9.9625\n",
            "Epoch 75/100\n",
            "2/2 [==============================] - 0s 8ms/step - loss: 9.9566 - mae: 9.9566\n",
            "Epoch 76/100\n",
            "2/2 [==============================] - 0s 15ms/step - loss: 10.1245 - mae: 10.1245\n",
            "Epoch 77/100\n",
            "2/2 [==============================] - 0s 6ms/step - loss: 12.9627 - mae: 12.9627\n",
            "Epoch 78/100\n",
            "2/2 [==============================] - 0s 5ms/step - loss: 11.1755 - mae: 11.1755\n",
            "Epoch 79/100\n",
            "2/2 [==============================] - 0s 11ms/step - loss: 14.7294 - mae: 14.7294\n",
            "Epoch 80/100\n",
            "2/2 [==============================] - 0s 6ms/step - loss: 8.9451 - mae: 8.9451\n",
            "Epoch 81/100\n",
            "2/2 [==============================] - 0s 5ms/step - loss: 10.7860 - mae: 10.7860\n",
            "Epoch 82/100\n",
            "2/2 [==============================] - 0s 8ms/step - loss: 8.4203 - mae: 8.4203\n",
            "Epoch 83/100\n",
            "2/2 [==============================] - 0s 9ms/step - loss: 9.2428 - mae: 9.2428\n",
            "Epoch 84/100\n",
            "2/2 [==============================] - 0s 5ms/step - loss: 8.9653 - mae: 8.9653\n",
            "Epoch 85/100\n",
            "2/2 [==============================] - 0s 7ms/step - loss: 13.1987 - mae: 13.1987\n",
            "Epoch 86/100\n",
            "2/2 [==============================] - 0s 7ms/step - loss: 13.7287 - mae: 13.7287\n",
            "Epoch 87/100\n",
            "2/2 [==============================] - 0s 14ms/step - loss: 13.2136 - mae: 13.2136\n",
            "Epoch 88/100\n",
            "2/2 [==============================] - 0s 5ms/step - loss: 11.5424 - mae: 11.5424\n",
            "Epoch 89/100\n",
            "2/2 [==============================] - 0s 6ms/step - loss: 7.8310 - mae: 7.8310\n",
            "Epoch 90/100\n",
            "2/2 [==============================] - 0s 7ms/step - loss: 10.9592 - mae: 10.9592\n",
            "Epoch 91/100\n",
            "2/2 [==============================] - 0s 6ms/step - loss: 6.7754 - mae: 6.7754\n",
            "Epoch 92/100\n",
            "2/2 [==============================] - 0s 7ms/step - loss: 10.1521 - mae: 10.1521\n",
            "Epoch 93/100\n",
            "2/2 [==============================] - 0s 26ms/step - loss: 7.6278 - mae: 7.6278\n",
            "Epoch 94/100\n",
            "2/2 [==============================] - 0s 16ms/step - loss: 9.2610 - mae: 9.2610\n",
            "Epoch 95/100\n",
            "2/2 [==============================] - 0s 15ms/step - loss: 10.8475 - mae: 10.8475\n",
            "Epoch 96/100\n",
            "2/2 [==============================] - 0s 14ms/step - loss: 10.3218 - mae: 10.3218\n",
            "Epoch 97/100\n",
            "2/2 [==============================] - 0s 21ms/step - loss: 7.6982 - mae: 7.6982\n",
            "Epoch 98/100\n",
            "2/2 [==============================] - 0s 6ms/step - loss: 8.6352 - mae: 8.6352\n",
            "Epoch 99/100\n",
            "2/2 [==============================] - 0s 8ms/step - loss: 9.4138 - mae: 9.4138\n",
            "Epoch 100/100\n",
            "2/2 [==============================] - 0s 5ms/step - loss: 8.8603 - mae: 8.8603\n"
          ]
        },
        {
          "output_type": "execute_result",
          "data": {
            "text/plain": [
              "<keras.callbacks.History at 0x7f0dfaca36d0>"
            ]
          },
          "metadata": {},
          "execution_count": 29
        }
      ]
    },
    {
      "cell_type": "markdown",
      "source": [
        "### Visualizing the model"
      ],
      "metadata": {
        "id": "UUz5hyTFUp3V"
      }
    },
    {
      "cell_type": "code",
      "source": [
        "model.summary()"
      ],
      "metadata": {
        "colab": {
          "base_uri": "https://localhost:8080/"
        },
        "id": "LKF1n9uHVyyD",
        "outputId": "864858df-64e4-475d-8540-48405b867160"
      },
      "execution_count": null,
      "outputs": [
        {
          "output_type": "stream",
          "name": "stdout",
          "text": [
            "Model: \"sequential_3\"\n",
            "_________________________________________________________________\n",
            " Layer (type)                Output Shape              Param #   \n",
            "=================================================================\n",
            " dense_4 (Dense)             (None, 1)                 2         \n",
            "                                                                 \n",
            "=================================================================\n",
            "Total params: 2\n",
            "Trainable params: 2\n",
            "Non-trainable params: 0\n",
            "_________________________________________________________________\n"
          ]
        }
      ]
    },
    {
      "cell_type": "code",
      "source": [
        "# Let's create a model which builds automatically by defining the input_shape argument in the first layer\n",
        "tf.random.set_seed(42)\n",
        "\n",
        "# 1. create a model (same as above)\n",
        "model = tf.keras.Sequential([\n",
        "    tf.keras.layers.Dense(10, input_shape=[1], name=\"input_layer\"),\n",
        "    tf.keras.layers.Dense(1, name=\"output_layer\")\n",
        "], name=\"model_1\")\n",
        "\n",
        "# 2. compile the model\n",
        "model.compile(loss=tf.keras.losses.mae,\n",
        "              optimizer=tf.keras.optimizers.SGD(),\n",
        "              metrics=[\"mae\"])"
      ],
      "metadata": {
        "id": "XCrrm9duV6Ul"
      },
      "execution_count": null,
      "outputs": []
    },
    {
      "cell_type": "code",
      "source": [
        "model.summary()"
      ],
      "metadata": {
        "id": "qz4EUHZKW9RO",
        "colab": {
          "base_uri": "https://localhost:8080/"
        },
        "outputId": "a43100e6-04c3-407e-af7e-72aaddb5f966"
      },
      "execution_count": null,
      "outputs": [
        {
          "output_type": "stream",
          "name": "stdout",
          "text": [
            "Model: \"model_1\"\n",
            "_________________________________________________________________\n",
            " Layer (type)                Output Shape              Param #   \n",
            "=================================================================\n",
            " input_layer (Dense)         (None, 10)                20        \n",
            "                                                                 \n",
            " output_layer (Dense)        (None, 1)                 11        \n",
            "                                                                 \n",
            "=================================================================\n",
            "Total params: 31\n",
            "Trainable params: 31\n",
            "Non-trainable params: 0\n",
            "_________________________________________________________________\n"
          ]
        }
      ]
    },
    {
      "cell_type": "markdown",
      "source": [
        "* Total params - total number of parameters in the model.\n",
        "* Trainable parameters - these are the parameters (patterns) the model can update as it trains.\n",
        "* Non-trainable params - these parameters aren't updated during training (this is typical when you bring in already learned patterns or parameters from other model during **transfer learning**).\n",
        "\n",
        "📖**Resource:** For a more in-depth overview of the trainable parameters within a layer, check out MIT's introduction to deep learning video.\n",
        "[MIT's introduction to deep learning video.](https://www.youtube.com/watch?v=QDX-1M5Nj7s&list=PLtBw6njQRU-rwp5__7C0oIVt26ZgjG9NI&index=2&ab_channel=AlexanderAmini)\n",
        "\n",
        "🛠 **Excersice:** Try palying around with that number of hidden units in the dense layer, see how that effects the number of parameters (total and trainable) by calling `model.summary()`"
      ],
      "metadata": {
        "id": "gHYpAJ33W-Zm"
      }
    },
    {
      "cell_type": "code",
      "source": [
        "# Let's fit out model to the training data\n",
        "model.fit(tf.expand_dims(X_train, axis=1),y_train,epochs=100, verbose=0)"
      ],
      "metadata": {
        "id": "BylPFNLKXjkL",
        "colab": {
          "base_uri": "https://localhost:8080/"
        },
        "outputId": "bdfd49bc-e324-4306-e681-8159f4ec3587"
      },
      "execution_count": null,
      "outputs": [
        {
          "output_type": "execute_result",
          "data": {
            "text/plain": [
              "<keras.callbacks.History at 0x7f0dface28c0>"
            ]
          },
          "metadata": {},
          "execution_count": 33
        }
      ]
    },
    {
      "cell_type": "code",
      "source": [
        "# Get a summary of our model\n",
        "model.summary()"
      ],
      "metadata": {
        "id": "r-qvV0SubJdj",
        "colab": {
          "base_uri": "https://localhost:8080/"
        },
        "outputId": "7d9b3214-69c0-485e-be80-a5add572693f"
      },
      "execution_count": null,
      "outputs": [
        {
          "output_type": "stream",
          "name": "stdout",
          "text": [
            "Model: \"model_1\"\n",
            "_________________________________________________________________\n",
            " Layer (type)                Output Shape              Param #   \n",
            "=================================================================\n",
            " input_layer (Dense)         (None, 10)                20        \n",
            "                                                                 \n",
            " output_layer (Dense)        (None, 1)                 11        \n",
            "                                                                 \n",
            "=================================================================\n",
            "Total params: 31\n",
            "Trainable params: 31\n",
            "Non-trainable params: 0\n",
            "_________________________________________________________________\n"
          ]
        }
      ]
    },
    {
      "cell_type": "code",
      "source": [
        "from tensorflow.keras.utils import plot_model\n",
        "\n",
        "plot_model(model=model, show_shapes=True)"
      ],
      "metadata": {
        "id": "sRDlmbO2bSzb",
        "colab": {
          "base_uri": "https://localhost:8080/",
          "height": 312
        },
        "outputId": "4d443748-d5a4-4e87-8206-1bf0e77854f9"
      },
      "execution_count": null,
      "outputs": [
        {
          "output_type": "execute_result",
          "data": {
            "image/png": "[encoded data removed]",
            "text/plain": [
              "<IPython.core.display.Image object>"
            ]
          },
          "metadata": {},
          "execution_count": 35
        }
      ]
    },
    {
      "cell_type": "markdown",
      "source": [
        "### Visualizing our model's predictions\n",
        "\n",
        "To visualize predictions, it is a good idea to plot them against the ground thruth labels.\n",
        "\n",
        "Often you will see this in the form of `y_test` or `y_true` versus `y_pred` (ground thruth versus model's prediction)."
      ],
      "metadata": {
        "id": "vmyyHehub728"
      }
    },
    {
      "cell_type": "code",
      "source": [
        "# Make some predictions\n",
        "y_pred = model.predict(X_test)\n",
        "y_pred"
      ],
      "metadata": {
        "id": "0Zx5srUTdTeD",
        "colab": {
          "base_uri": "https://localhost:8080/"
        },
        "outputId": "69f7fe6e-cf20-4636-b163-15a39fa04947"
      },
      "execution_count": null,
      "outputs": [
        {
          "output_type": "stream",
          "name": "stdout",
          "text": [
            "1/1 [==============================] - 0s 139ms/step\n"
          ]
        },
        {
          "output_type": "execute_result",
          "data": {
            "text/plain": [
              "array([[ 69.489   ],\n",
              "       [ 74.005714],\n",
              "       [ 78.522415],\n",
              "       [ 83.03912 ],\n",
              "       [ 87.55583 ],\n",
              "       [ 92.07254 ],\n",
              "       [ 96.58926 ],\n",
              "       [101.105965],\n",
              "       [105.62267 ],\n",
              "       [110.13938 ]], dtype=float32)"
            ]
          },
          "metadata": {},
          "execution_count": 36
        }
      ]
    },
    {
      "cell_type": "code",
      "source": [
        "y_test"
      ],
      "metadata": {
        "id": "WHF4v42eCcHr",
        "colab": {
          "base_uri": "https://localhost:8080/"
        },
        "outputId": "cd755afc-f0ed-4e43-b201-ebf56be435fb"
      },
      "execution_count": null,
      "outputs": [
        {
          "output_type": "execute_result",
          "data": {
            "text/plain": [
              "<tf.Tensor: shape=(10,), dtype=int32, numpy=array([ 70,  74,  78,  82,  86,  90,  94,  98, 102, 106], dtype=int32)>"
            ]
          },
          "metadata": {},
          "execution_count": 37
        }
      ]
    },
    {
      "cell_type": "markdown",
      "source": [
        "🔑 **Note:** If you feel like you are going to reuse some kind of functionality in the future, it's a good idea to turn it into a function."
      ],
      "metadata": {
        "id": "MaPkFjRNCu4X"
      }
    },
    {
      "cell_type": "code",
      "source": [
        "# Let's create a plottling function\n",
        "def plot_predictions(train_data=X_train,\n",
        "                    train_labels=y_train,\n",
        "                    test_data=X_test,\n",
        "                    test_labels=y_test,\n",
        "                    predictions=y_pred):\n",
        "  \"\"\"\n",
        "  plots training data, test data and compares predictions to ground truth labels.\n",
        "  \"\"\"\n",
        "  plt.figure(figsize=(10,7))\n",
        "  # plot the training data in blue\n",
        "  plt.scatter(train_data, train_labels, c=\"b\", label=\"Training data\")\n",
        "  # plot the testting data in green\n",
        "  plt.scatter(test_data, test_labels, c=\"g\", label=\"Testing data\")\n",
        "  # plot the model's predictions in red\n",
        "  plt.scatter(test_data, y_pred, c=\"r\", label=\"Predictions\")\n",
        "  # show the legend\n",
        "  plt.legend();"
      ],
      "metadata": {
        "id": "L60LpaZ5CfWg"
      },
      "execution_count": null,
      "outputs": []
    },
    {
      "cell_type": "code",
      "source": [
        "plot_predictions(train_data=X_train,\n",
        "                 train_labels=y_train,\n",
        "                 test_data=X_test,\n",
        "                 test_labels=y_test,\n",
        "                 predictions=y_pred)"
      ],
      "metadata": {
        "colab": {
          "base_uri": "https://localhost:8080/",
          "height": 452
        },
        "id": "e6Rx48-UECje",
        "outputId": "c2df5080-a453-425e-8a3a-de68013ea22f"
      },
      "execution_count": null,
      "outputs": [
        {
          "output_type": "display_data",
          "data": {
            "text/plain": [
              "<Figure size 1000x700 with 1 Axes>"
            ],
            "image/png": "[encoded data removed]"
          },
          "metadata": {}
        }
      ]
    },
    {
      "cell_type": "markdown",
      "source": [
        "### Evaluating our model's predictions with regression evaluation metrics\n",
        "\n",
        "Depending on the problem you are working on, there will be different evaluation metrics to evaluate your model's performance.\n",
        "\n",
        "Since we are working on a regression problem, two of the main metreics:\n",
        "\n",
        "* MAE - mean absolute error, \"on average, how wrong is each of my model's predictions\"\n",
        "\n",
        "* MSE - mean square error, \"square the average erros\""
      ],
      "metadata": {
        "id": "oN55FiJCEMQd"
      }
    },
    {
      "cell_type": "code",
      "source": [
        "# Evaluate the model on the test\n",
        "model.evaluate(X_test, y_test)"
      ],
      "metadata": {
        "colab": {
          "base_uri": "https://localhost:8080/"
        },
        "id": "loyvtZurFInv",
        "outputId": "53b838cf-9819-4a75-b32c-8297f67bf432"
      },
      "execution_count": null,
      "outputs": [
        {
          "output_type": "stream",
          "name": "stdout",
          "text": [
            "1/1 [==============================] - 0s 312ms/step - loss: 1.9164 - mae: 1.9164\n"
          ]
        },
        {
          "output_type": "execute_result",
          "data": {
            "text/plain": [
              "[1.9163910150527954, 1.9163910150527954]"
            ]
          },
          "metadata": {},
          "execution_count": 40
        }
      ]
    },
    {
      "cell_type": "code",
      "source": [
        "# calculate the mean absolute error\n",
        "mae = tf.metrics.mean_absolute_error(y_true=y_test,\n",
        "                                     y_pred=tf.constant(y_pred))\n",
        "mae"
      ],
      "metadata": {
        "id": "q-LlXSBJIq78",
        "colab": {
          "base_uri": "https://localhost:8080/"
        },
        "outputId": "a3878c4d-83bf-4c33-8590-29cf28da53ef"
      },
      "execution_count": null,
      "outputs": [
        {
          "output_type": "execute_result",
          "data": {
            "text/plain": [
              "<tf.Tensor: shape=(10,), dtype=float32, numpy=\n",
              "array([18.511002 , 14.796572 , 12.191034 , 10.5921755, 10.       ,\n",
              "       10.414508 , 11.835703 , 14.263578 , 17.69814  , 22.139381 ],\n",
              "      dtype=float32)>"
            ]
          },
          "metadata": {},
          "execution_count": 41
        }
      ]
    },
    {
      "cell_type": "code",
      "source": [
        "tf.constant(y_pred)"
      ],
      "metadata": {
        "colab": {
          "base_uri": "https://localhost:8080/"
        },
        "id": "U9d55_6eIXYy",
        "outputId": "0370779b-bf0c-4e1e-ab20-bdb46e1d0daf"
      },
      "execution_count": null,
      "outputs": [
        {
          "output_type": "execute_result",
          "data": {
            "text/plain": [
              "<tf.Tensor: shape=(10, 1), dtype=float32, numpy=\n",
              "array([[ 69.489   ],\n",
              "       [ 74.005714],\n",
              "       [ 78.522415],\n",
              "       [ 83.03912 ],\n",
              "       [ 87.55583 ],\n",
              "       [ 92.07254 ],\n",
              "       [ 96.58926 ],\n",
              "       [101.105965],\n",
              "       [105.62267 ],\n",
              "       [110.13938 ]], dtype=float32)>"
            ]
          },
          "metadata": {},
          "execution_count": 42
        }
      ]
    },
    {
      "cell_type": "code",
      "source": [
        "y_test"
      ],
      "metadata": {
        "colab": {
          "base_uri": "https://localhost:8080/"
        },
        "id": "Bcbc0wmyIl1r",
        "outputId": "c73779fb-20af-4d5b-e49e-cf56b7da1159"
      },
      "execution_count": null,
      "outputs": [
        {
          "output_type": "execute_result",
          "data": {
            "text/plain": [
              "<tf.Tensor: shape=(10,), dtype=int32, numpy=array([ 70,  74,  78,  82,  86,  90,  94,  98, 102, 106], dtype=int32)>"
            ]
          },
          "metadata": {},
          "execution_count": 43
        }
      ]
    },
    {
      "cell_type": "code",
      "source": [
        "tf.squeeze(y_pred)"
      ],
      "metadata": {
        "colab": {
          "base_uri": "https://localhost:8080/"
        },
        "id": "ZbUhxtmsInN8",
        "outputId": "8347a13e-f886-4a4c-c395-d28cf1defdd3"
      },
      "execution_count": null,
      "outputs": [
        {
          "output_type": "execute_result",
          "data": {
            "text/plain": [
              "<tf.Tensor: shape=(10,), dtype=float32, numpy=\n",
              "array([ 69.489   ,  74.005714,  78.522415,  83.03912 ,  87.55583 ,\n",
              "        92.07254 ,  96.58926 , 101.105965, 105.62267 , 110.13938 ],\n",
              "      dtype=float32)>"
            ]
          },
          "metadata": {},
          "execution_count": 44
        }
      ]
    },
    {
      "cell_type": "code",
      "source": [
        "# Calculate the mean absolute error\n",
        "mae = tf.metrics.mean_absolute_error(y_true=y_test,\n",
        "                                     y_pred=tf.squeeze(y_pred))\n",
        "mae"
      ],
      "metadata": {
        "colab": {
          "base_uri": "https://localhost:8080/"
        },
        "id": "yN_vQfowaPA4",
        "outputId": "eb96e73f-0931-4f7e-ce96-b56f2d34f079"
      },
      "execution_count": null,
      "outputs": [
        {
          "output_type": "execute_result",
          "data": {
            "text/plain": [
              "<tf.Tensor: shape=(), dtype=float32, numpy=1.9163902>"
            ]
          },
          "metadata": {},
          "execution_count": 45
        }
      ]
    },
    {
      "cell_type": "code",
      "source": [
        "# calculate the mean square error\n",
        "mse = tf.metrics.mean_squared_error(y_true=y_test,\n",
        "                                    y_pred=tf.squeeze(y_pred))\n",
        "mse"
      ],
      "metadata": {
        "colab": {
          "base_uri": "https://localhost:8080/"
        },
        "id": "Q00Lv4_AabLg",
        "outputId": "31fe66f4-5d02-45f3-c36f-9933685137ba"
      },
      "execution_count": null,
      "outputs": [
        {
          "output_type": "execute_result",
          "data": {
            "text/plain": [
              "<tf.Tensor: shape=(), dtype=float32, numpy=5.493939>"
            ]
          },
          "metadata": {},
          "execution_count": 46
        }
      ]
    },
    {
      "cell_type": "code",
      "source": [
        "# Make some functions to reuse mae and mse\n",
        "def mae(y_true, y_pred):\n",
        "  return tf.metrics.mean_absolute_error(y_true=y_true,\n",
        "                                        y_pred=tf.squeeze(y_pred))\n",
        "def mse(y_true, y_pred):\n",
        "  return tf.metrics.mean_squared_error(y_true=y_true,\n",
        "                                       y_pred=tf.squeeze(y_pred))"
      ],
      "metadata": {
        "id": "sgLxaFm1bG-V"
      },
      "execution_count": null,
      "outputs": []
    },
    {
      "cell_type": "markdown",
      "source": [
        "### Running experiments to improve our model\n",
        "\n",
        "```\n",
        "Build a model -> fit it -> evaluate it -> tweak it -> fit it -> evaluate it -> tweak it -> fit it -> evaluate it ...\n",
        "```\n",
        "\n",
        "1. Get more data - get more examples for your model to train on (more opportunities to learn patterns or relationships between features and labels).\n",
        "\n",
        "2. Make your model larger (using a more complex model) - this might come in the form of more layers or more hidden units in each layer.\n",
        "\n",
        "3. Train for longer - give your model more of a chance to find patterns in the data.\n",
        "\n",
        "Let's do 3 modelling experiments:\n",
        "\n",
        "1. `model_1` - same as the original model, 1 layer, trained for 100 epochs\n",
        "\n",
        "2. `model_2` - 2 layers, trained for 100 epochs\n",
        "\n",
        "3. `model_3` - 2 layers, trained for 500 epochs\n",
        "\n",
        "**Build `model_1`**"
      ],
      "metadata": {
        "id": "QkjVo5RTb0ka"
      }
    },
    {
      "cell_type": "code",
      "source": [
        "# Set random seed\n",
        "tf.random.set_seed(42)\n",
        "\n",
        "# 1. create the model\n",
        "model_1 = tf.keras.Sequential([\n",
        "    tf.keras.layers.Dense(1)\n",
        "])\n",
        "\n",
        "# 2. compile the model\n",
        "model_1.compile(loss=tf.keras.losses.mae,\n",
        "                optimizer=tf.keras.optimizers.SGD(),\n",
        "                metrics=[\"mae\"])\n",
        "\n",
        "# 3. fit the model\n",
        "model.fit(tf.expand_dims(X_train, axis=1),y_train,epochs=100)"
      ],
      "metadata": {
        "colab": {
          "base_uri": "https://localhost:8080/"
        },
        "id": "OltHFFj6cN_A",
        "outputId": "e7b59c2b-76ee-4d75-e6e9-b7ae3aaceb98"
      },
      "execution_count": null,
      "outputs": [
        {
          "output_type": "stream",
          "name": "stdout",
          "text": [
            "Epoch 1/100\n",
            "2/2 [==============================] - 0s 28ms/step - loss: 11.2626 - mae: 11.2626\n",
            "Epoch 2/100\n",
            "2/2 [==============================] - 0s 13ms/step - loss: 12.8485 - mae: 12.8485\n",
            "Epoch 3/100\n",
            "2/2 [==============================] - 0s 18ms/step - loss: 14.7493 - mae: 14.7493\n",
            "Epoch 4/100\n",
            "2/2 [==============================] - 0s 3ms/step - loss: 10.5758 - mae: 10.5758\n",
            "Epoch 5/100\n",
            "2/2 [==============================] - 0s 4ms/step - loss: 13.1707 - mae: 13.1707\n",
            "Epoch 6/100\n",
            "2/2 [==============================] - 0s 8ms/step - loss: 10.4081 - mae: 10.4081\n",
            "Epoch 7/100\n",
            "2/2 [==============================] - 0s 4ms/step - loss: 12.3773 - mae: 12.3773\n",
            "Epoch 8/100\n",
            "2/2 [==============================] - 0s 5ms/step - loss: 12.1440 - mae: 12.1440\n",
            "Epoch 9/100\n",
            "2/2 [==============================] - 0s 3ms/step - loss: 29.2241 - mae: 29.2241\n",
            "Epoch 10/100\n",
            "2/2 [==============================] - 0s 3ms/step - loss: 19.3480 - mae: 19.3480\n",
            "Epoch 11/100\n",
            "2/2 [==============================] - 0s 7ms/step - loss: 12.2250 - mae: 12.2250\n",
            "Epoch 12/100\n",
            "2/2 [==============================] - 0s 8ms/step - loss: 21.9583 - mae: 21.9583\n",
            "Epoch 13/100\n",
            "2/2 [==============================] - 0s 6ms/step - loss: 24.4562 - mae: 24.4562\n",
            "Epoch 14/100\n",
            "2/2 [==============================] - 0s 6ms/step - loss: 24.1285 - mae: 24.1285\n",
            "Epoch 15/100\n",
            "2/2 [==============================] - 0s 20ms/step - loss: 14.7534 - mae: 14.7534\n",
            "Epoch 16/100\n",
            "2/2 [==============================] - 0s 8ms/step - loss: 7.5246 - mae: 7.5246\n",
            "Epoch 17/100\n",
            "2/2 [==============================] - 0s 8ms/step - loss: 22.1835 - mae: 22.1835\n",
            "Epoch 18/100\n",
            "2/2 [==============================] - 0s 8ms/step - loss: 10.1646 - mae: 10.1646\n",
            "Epoch 19/100\n",
            "2/2 [==============================] - 0s 4ms/step - loss: 19.8332 - mae: 19.8332\n",
            "Epoch 20/100\n",
            "2/2 [==============================] - 0s 7ms/step - loss: 9.9644 - mae: 9.9644\n",
            "Epoch 21/100\n",
            "2/2 [==============================] - 0s 5ms/step - loss: 18.1835 - mae: 18.1835\n",
            "Epoch 22/100\n",
            "2/2 [==============================] - 0s 6ms/step - loss: 17.1623 - mae: 17.1623\n",
            "Epoch 23/100\n",
            "2/2 [==============================] - 0s 6ms/step - loss: 8.3093 - mae: 8.3093\n",
            "Epoch 24/100\n",
            "2/2 [==============================] - 0s 5ms/step - loss: 10.6969 - mae: 10.6969\n",
            "Epoch 25/100\n",
            "2/2 [==============================] - 0s 9ms/step - loss: 16.9115 - mae: 16.9115\n",
            "Epoch 26/100\n",
            "2/2 [==============================] - 0s 8ms/step - loss: 14.9071 - mae: 14.9071\n",
            "Epoch 27/100\n",
            "2/2 [==============================] - 0s 10ms/step - loss: 9.5017 - mae: 9.5017\n",
            "Epoch 28/100\n",
            "2/2 [==============================] - 0s 9ms/step - loss: 25.3274 - mae: 25.3274\n",
            "Epoch 29/100\n",
            "2/2 [==============================] - 0s 7ms/step - loss: 8.0921 - mae: 8.0921\n",
            "Epoch 30/100\n",
            "2/2 [==============================] - 0s 9ms/step - loss: 30.5667 - mae: 30.5667\n",
            "Epoch 31/100\n",
            "2/2 [==============================] - 0s 14ms/step - loss: 53.6401 - mae: 53.6401\n",
            "Epoch 32/100\n",
            "2/2 [==============================] - 0s 7ms/step - loss: 12.6210 - mae: 12.6210\n",
            "Epoch 33/100\n",
            "2/2 [==============================] - 0s 9ms/step - loss: 9.3021 - mae: 9.3021\n",
            "Epoch 34/100\n",
            "2/2 [==============================] - 0s 8ms/step - loss: 17.5255 - mae: 17.5255\n",
            "Epoch 35/100\n",
            "2/2 [==============================] - 0s 8ms/step - loss: 13.9975 - mae: 13.9975\n",
            "Epoch 36/100\n",
            "2/2 [==============================] - 0s 17ms/step - loss: 20.5280 - mae: 20.5280\n",
            "Epoch 37/100\n",
            "2/2 [==============================] - 0s 7ms/step - loss: 11.6910 - mae: 11.6910\n",
            "Epoch 38/100\n",
            "2/2 [==============================] - 0s 11ms/step - loss: 17.3215 - mae: 17.3215\n",
            "Epoch 39/100\n",
            "2/2 [==============================] - 0s 15ms/step - loss: 18.2988 - mae: 18.2988\n",
            "Epoch 40/100\n",
            "2/2 [==============================] - 0s 6ms/step - loss: 18.8812 - mae: 18.8812\n",
            "Epoch 41/100\n",
            "2/2 [==============================] - 0s 15ms/step - loss: 6.0630 - mae: 6.0630\n",
            "Epoch 42/100\n",
            "2/2 [==============================] - 0s 9ms/step - loss: 13.8784 - mae: 13.8784\n",
            "Epoch 43/100\n",
            "2/2 [==============================] - 0s 9ms/step - loss: 11.4399 - mae: 11.4399\n",
            "Epoch 44/100\n",
            "2/2 [==============================] - 0s 6ms/step - loss: 27.8496 - mae: 27.8496\n",
            "Epoch 45/100\n",
            "2/2 [==============================] - 0s 8ms/step - loss: 9.3822 - mae: 9.3822\n",
            "Epoch 46/100\n",
            "2/2 [==============================] - 0s 11ms/step - loss: 12.0632 - mae: 12.0632\n",
            "Epoch 47/100\n",
            "2/2 [==============================] - 0s 11ms/step - loss: 12.9507 - mae: 12.9507\n",
            "Epoch 48/100\n",
            "2/2 [==============================] - 0s 10ms/step - loss: 15.7648 - mae: 15.7648\n",
            "Epoch 49/100\n",
            "2/2 [==============================] - 0s 6ms/step - loss: 11.3092 - mae: 11.3092\n",
            "Epoch 50/100\n",
            "2/2 [==============================] - 0s 15ms/step - loss: 13.8849 - mae: 13.8849\n",
            "Epoch 51/100\n",
            "2/2 [==============================] - 0s 11ms/step - loss: 14.7041 - mae: 14.7041\n",
            "Epoch 52/100\n",
            "2/2 [==============================] - 0s 15ms/step - loss: 18.2558 - mae: 18.2558\n",
            "Epoch 53/100\n",
            "2/2 [==============================] - 0s 15ms/step - loss: 23.4841 - mae: 23.4841\n",
            "Epoch 54/100\n",
            "2/2 [==============================] - 0s 10ms/step - loss: 24.8453 - mae: 24.8453\n",
            "Epoch 55/100\n",
            "2/2 [==============================] - 0s 12ms/step - loss: 24.1077 - mae: 24.1077\n",
            "Epoch 56/100\n",
            "2/2 [==============================] - 0s 7ms/step - loss: 9.5297 - mae: 9.5297\n",
            "Epoch 57/100\n",
            "2/2 [==============================] - 0s 15ms/step - loss: 11.5480 - mae: 11.5480\n",
            "Epoch 58/100\n",
            "2/2 [==============================] - 0s 17ms/step - loss: 8.5956 - mae: 8.5956\n",
            "Epoch 59/100\n",
            "2/2 [==============================] - 0s 7ms/step - loss: 14.0011 - mae: 14.0011\n",
            "Epoch 60/100\n",
            "2/2 [==============================] - 0s 5ms/step - loss: 8.6586 - mae: 8.6586\n",
            "Epoch 61/100\n",
            "2/2 [==============================] - 0s 19ms/step - loss: 16.8680 - mae: 16.8680\n",
            "Epoch 62/100\n",
            "2/2 [==============================] - 0s 6ms/step - loss: 14.0984 - mae: 14.0984\n",
            "Epoch 63/100\n",
            "2/2 [==============================] - 0s 6ms/step - loss: 16.5258 - mae: 16.5258\n",
            "Epoch 64/100\n",
            "2/2 [==============================] - 0s 12ms/step - loss: 19.5350 - mae: 19.5350\n",
            "Epoch 65/100\n",
            "2/2 [==============================] - 0s 8ms/step - loss: 17.3446 - mae: 17.3446\n",
            "Epoch 66/100\n",
            "2/2 [==============================] - 0s 7ms/step - loss: 10.0688 - mae: 10.0688\n",
            "Epoch 67/100\n",
            "2/2 [==============================] - 0s 8ms/step - loss: 16.0664 - mae: 16.0664\n",
            "Epoch 68/100\n",
            "2/2 [==============================] - 0s 9ms/step - loss: 7.5178 - mae: 7.5178\n",
            "Epoch 69/100\n",
            "2/2 [==============================] - 0s 7ms/step - loss: 13.4994 - mae: 13.4994\n",
            "Epoch 70/100\n",
            "2/2 [==============================] - 0s 10ms/step - loss: 9.3890 - mae: 9.3890\n",
            "Epoch 71/100\n",
            "2/2 [==============================] - 0s 6ms/step - loss: 17.4029 - mae: 17.4029\n",
            "Epoch 72/100\n",
            "2/2 [==============================] - 0s 7ms/step - loss: 10.2280 - mae: 10.2280\n",
            "Epoch 73/100\n",
            "2/2 [==============================] - 0s 14ms/step - loss: 13.7496 - mae: 13.7496\n",
            "Epoch 74/100\n",
            "2/2 [==============================] - 0s 23ms/step - loss: 13.0216 - mae: 13.0216\n",
            "Epoch 75/100\n",
            "2/2 [==============================] - 0s 8ms/step - loss: 15.5737 - mae: 15.5737\n",
            "Epoch 76/100\n",
            "2/2 [==============================] - 0s 10ms/step - loss: 8.7477 - mae: 8.7477\n",
            "Epoch 77/100\n",
            "2/2 [==============================] - 0s 50ms/step - loss: 21.2061 - mae: 21.2061\n",
            "Epoch 78/100\n",
            "2/2 [==============================] - 0s 5ms/step - loss: 19.5259 - mae: 19.5259\n",
            "Epoch 79/100\n",
            "2/2 [==============================] - 0s 6ms/step - loss: 13.9266 - mae: 13.9266\n",
            "Epoch 80/100\n",
            "2/2 [==============================] - 0s 6ms/step - loss: 20.8153 - mae: 20.8153\n",
            "Epoch 81/100\n",
            "2/2 [==============================] - 0s 7ms/step - loss: 8.6317 - mae: 8.6317\n",
            "Epoch 82/100\n",
            "2/2 [==============================] - 0s 5ms/step - loss: 13.4357 - mae: 13.4357\n",
            "Epoch 83/100\n",
            "2/2 [==============================] - 0s 5ms/step - loss: 16.8700 - mae: 16.8700\n",
            "Epoch 84/100\n",
            "2/2 [==============================] - 0s 15ms/step - loss: 11.9584 - mae: 11.9584\n",
            "Epoch 85/100\n",
            "2/2 [==============================] - 0s 13ms/step - loss: 28.1124 - mae: 28.1124\n",
            "Epoch 86/100\n",
            "2/2 [==============================] - 0s 7ms/step - loss: 8.7529 - mae: 8.7529\n",
            "Epoch 87/100\n",
            "2/2 [==============================] - 0s 11ms/step - loss: 23.3215 - mae: 23.3215\n",
            "Epoch 88/100\n",
            "2/2 [==============================] - 0s 15ms/step - loss: 18.0926 - mae: 18.0926\n",
            "Epoch 89/100\n",
            "2/2 [==============================] - 0s 6ms/step - loss: 7.9961 - mae: 7.9961\n",
            "Epoch 90/100\n",
            "2/2 [==============================] - 0s 8ms/step - loss: 22.0815 - mae: 22.0815\n",
            "Epoch 91/100\n",
            "2/2 [==============================] - 0s 28ms/step - loss: 23.8307 - mae: 23.8307\n",
            "Epoch 92/100\n",
            "2/2 [==============================] - 0s 10ms/step - loss: 16.4243 - mae: 16.4243\n",
            "Epoch 93/100\n",
            "2/2 [==============================] - 0s 9ms/step - loss: 7.4177 - mae: 7.4177\n",
            "Epoch 94/100\n",
            "2/2 [==============================] - 0s 9ms/step - loss: 18.1995 - mae: 18.1995\n",
            "Epoch 95/100\n",
            "2/2 [==============================] - 0s 7ms/step - loss: 14.0379 - mae: 14.0379\n",
            "Epoch 96/100\n",
            "2/2 [==============================] - 0s 6ms/step - loss: 5.4070 - mae: 5.4070\n",
            "Epoch 97/100\n",
            "2/2 [==============================] - 0s 8ms/step - loss: 12.7848 - mae: 12.7848\n",
            "Epoch 98/100\n",
            "2/2 [==============================] - 0s 13ms/step - loss: 14.0433 - mae: 14.0433\n",
            "Epoch 99/100\n",
            "2/2 [==============================] - 0s 11ms/step - loss: 18.4494 - mae: 18.4494\n",
            "Epoch 100/100\n",
            "2/2 [==============================] - 0s 6ms/step - loss: 36.9762 - mae: 36.9762\n"
          ]
        },
        {
          "output_type": "execute_result",
          "data": {
            "text/plain": [
              "<keras.callbacks.History at 0x7f0dfb7f3610>"
            ]
          },
          "metadata": {},
          "execution_count": 48
        }
      ]
    },
    {
      "cell_type": "code",
      "source": [
        "# Make and plot predictions for model_1\n",
        "y_preds_1 = model_1.predict(tf.expand_dims(X_test, axis=1))\n",
        "plot_predictions(predictions=y_preds_1)"
      ],
      "metadata": {
        "id": "rN-djooXc5D1",
        "colab": {
          "base_uri": "https://localhost:8080/",
          "height": 506
        },
        "outputId": "6ffe157b-2d33-41b3-f71f-e7ab26395155"
      },
      "execution_count": null,
      "outputs": [
        {
          "output_type": "stream",
          "name": "stderr",
          "text": [
            "WARNING:tensorflow:5 out of the last 5 calls to <function Model.make_predict_function.<locals>.predict_function at 0x7f0dfb766290> triggered tf.function retracing. Tracing is expensive and the excessive number of tracings could be due to (1) creating @tf.function repeatedly in a loop, (2) passing tensors with different shapes, (3) passing Python objects instead of tensors. For (1), please define your @tf.function outside of the loop. For (2), @tf.function has reduce_retracing=True option that can avoid unnecessary retracing. For (3), please refer to https://www.tensorflow.org/guide/function#controlling_retracing and https://www.tensorflow.org/api_docs/python/tf/function for  more details.\n"
          ]
        },
        {
          "output_type": "stream",
          "name": "stdout",
          "text": [
            "1/1 [==============================] - 0s 85ms/step\n"
          ]
        },
        {
          "output_type": "display_data",
          "data": {
            "text/plain": [
              "<Figure size 1000x700 with 1 Axes>"
            ],
            "image/png": "[encoded data removed]"
          },
          "metadata": {}
        }
      ]
    },
    {
      "cell_type": "code",
      "source": [
        "# Calculate model_1 evaluation metrics\n",
        "mae_1 = mae(y_test, y_preds_1)\n",
        "mse_1 = mse(y_test, y_preds_1)\n",
        "mae_1, mse_1"
      ],
      "metadata": {
        "id": "Az5kJ2Fdq4we",
        "colab": {
          "base_uri": "https://localhost:8080/"
        },
        "outputId": "d4491bff-67ac-4038-e3e3-aba535866ac0"
      },
      "execution_count": null,
      "outputs": [
        {
          "output_type": "execute_result",
          "data": {
            "text/plain": [
              "(<tf.Tensor: shape=(), dtype=float32, numpy=129.8175>,\n",
              " <tf.Tensor: shape=(), dtype=float32, numpy=17164.059>)"
            ]
          },
          "metadata": {},
          "execution_count": 50
        }
      ]
    },
    {
      "cell_type": "markdown",
      "source": [
        "**Build `model_2`**\n",
        "\n",
        "* 2 dense layers trained for 100 epochs"
      ],
      "metadata": {
        "id": "Cqn4LImyXDsx"
      }
    },
    {
      "cell_type": "code",
      "source": [
        "tf.random.set_seed(42)\n",
        "\n",
        "model_2 = tf.keras.Sequential([\n",
        "    tf.keras.layers.Dense(10),\n",
        "    tf.keras.layers.Dense(1)\n",
        "])\n",
        "\n",
        "model_2.compile(loss=tf.keras.losses.mae,\n",
        "                optimizer=tf.keras.optimizers.SGD(),\n",
        "                metrics=[\"mse\"])\n",
        "\n",
        "model_2.fit(tf.expand_dims(X_train, axis=1),y_train,epochs=100)"
      ],
      "metadata": {
        "colab": {
          "base_uri": "https://localhost:8080/"
        },
        "id": "h6BJtGISXwoj",
        "outputId": "99f14173-069e-493c-e2d5-e1cc8086fd87"
      },
      "execution_count": null,
      "outputs": [
        {
          "output_type": "stream",
          "name": "stdout",
          "text": [
            "Epoch 1/100\n",
            "2/2 [==============================] - 0s 10ms/step - loss: 60.3141 - mse: 5770.2222\n",
            "Epoch 2/100\n",
            "2/2 [==============================] - 0s 8ms/step - loss: 31.8741 - mse: 1354.0839\n",
            "Epoch 3/100\n",
            "2/2 [==============================] - 0s 7ms/step - loss: 36.5238 - mse: 2021.9934\n",
            "Epoch 4/100\n",
            "2/2 [==============================] - 0s 7ms/step - loss: 29.0560 - mse: 1245.2010\n",
            "Epoch 5/100\n",
            "2/2 [==============================] - 0s 7ms/step - loss: 15.7400 - mse: 322.7239\n",
            "Epoch 6/100\n",
            "2/2 [==============================] - 0s 7ms/step - loss: 12.4796 - mse: 200.4500\n",
            "Epoch 7/100\n",
            "2/2 [==============================] - 0s 6ms/step - loss: 11.7515 - mse: 170.4163\n",
            "Epoch 8/100\n",
            "2/2 [==============================] - 0s 7ms/step - loss: 12.1251 - mse: 203.4908\n",
            "Epoch 9/100\n",
            "2/2 [==============================] - 0s 12ms/step - loss: 38.1314 - mse: 2247.9351\n",
            "Epoch 10/100\n",
            "2/2 [==============================] - 0s 7ms/step - loss: 25.6997 - mse: 927.7679\n",
            "Epoch 11/100\n",
            "2/2 [==============================] - 0s 6ms/step - loss: 10.2493 - mse: 148.6768\n",
            "Epoch 12/100\n",
            "2/2 [==============================] - 0s 10ms/step - loss: 25.2700 - mse: 890.2314\n",
            "Epoch 13/100\n",
            "2/2 [==============================] - 0s 7ms/step - loss: 17.0818 - mse: 405.4658\n",
            "Epoch 14/100\n",
            "2/2 [==============================] - 0s 7ms/step - loss: 26.0956 - mse: 1065.3772\n",
            "Epoch 15/100\n",
            "2/2 [==============================] - 0s 4ms/step - loss: 18.1355 - mse: 457.3018\n",
            "Epoch 16/100\n",
            "2/2 [==============================] - 0s 4ms/step - loss: 7.8567 - mse: 89.4631\n",
            "Epoch 17/100\n",
            "2/2 [==============================] - 0s 4ms/step - loss: 22.2517 - mse: 686.2966\n",
            "Epoch 18/100\n",
            "2/2 [==============================] - 0s 4ms/step - loss: 10.8335 - mse: 172.6045\n",
            "Epoch 19/100\n",
            "2/2 [==============================] - 0s 5ms/step - loss: 10.7228 - mse: 139.8007\n",
            "Epoch 20/100\n",
            "2/2 [==============================] - 0s 4ms/step - loss: 12.0455 - mse: 165.5370\n",
            "Epoch 21/100\n",
            "2/2 [==============================] - 0s 6ms/step - loss: 20.1753 - mse: 591.1735\n",
            "Epoch 22/100\n",
            "2/2 [==============================] - 0s 5ms/step - loss: 13.7992 - mse: 243.8675\n",
            "Epoch 23/100\n",
            "2/2 [==============================] - 0s 5ms/step - loss: 9.5424 - mse: 95.0302\n",
            "Epoch 24/100\n",
            "2/2 [==============================] - 0s 5ms/step - loss: 11.9000 - mse: 164.0195\n",
            "Epoch 25/100\n",
            "2/2 [==============================] - 0s 4ms/step - loss: 16.2313 - mse: 385.9817\n",
            "Epoch 26/100\n",
            "2/2 [==============================] - 0s 5ms/step - loss: 16.4213 - mse: 375.5748\n",
            "Epoch 27/100\n",
            "2/2 [==============================] - 0s 4ms/step - loss: 11.5899 - mse: 182.0502\n",
            "Epoch 28/100\n",
            "2/2 [==============================] - 0s 12ms/step - loss: 30.0329 - mse: 1470.8983\n",
            "Epoch 29/100\n",
            "2/2 [==============================] - 0s 7ms/step - loss: 9.2482 - mse: 92.4175\n",
            "Epoch 30/100\n",
            "2/2 [==============================] - 0s 5ms/step - loss: 30.5715 - mse: 1715.2048\n",
            "Epoch 31/100\n",
            "2/2 [==============================] - 0s 5ms/step - loss: 55.5794 - mse: 5542.1221\n",
            "Epoch 32/100\n",
            "2/2 [==============================] - 0s 7ms/step - loss: 9.7341 - mse: 103.4370\n",
            "Epoch 33/100\n",
            "2/2 [==============================] - 0s 20ms/step - loss: 12.3545 - mse: 195.4321\n",
            "Epoch 34/100\n",
            "2/2 [==============================] - 0s 7ms/step - loss: 24.7503 - mse: 931.8376\n",
            "Epoch 35/100\n",
            "2/2 [==============================] - 0s 5ms/step - loss: 11.9098 - mse: 211.6342\n",
            "Epoch 36/100\n",
            "2/2 [==============================] - 0s 8ms/step - loss: 22.0806 - mse: 694.5831\n",
            "Epoch 37/100\n",
            "2/2 [==============================] - 0s 11ms/step - loss: 17.5946 - mse: 442.7661\n",
            "Epoch 38/100\n",
            "2/2 [==============================] - 0s 8ms/step - loss: 10.7392 - mse: 134.1373\n",
            "Epoch 39/100\n",
            "2/2 [==============================] - 0s 24ms/step - loss: 11.2570 - mse: 167.9031\n",
            "Epoch 40/100\n",
            "2/2 [==============================] - 0s 10ms/step - loss: 18.2741 - mse: 482.1073\n",
            "Epoch 41/100\n",
            "2/2 [==============================] - 0s 7ms/step - loss: 10.5137 - mse: 181.5547\n",
            "Epoch 42/100\n",
            "2/2 [==============================] - 0s 6ms/step - loss: 7.8418 - mse: 82.9618\n",
            "Epoch 43/100\n",
            "2/2 [==============================] - 0s 7ms/step - loss: 14.2418 - mse: 292.7840\n",
            "Epoch 44/100\n",
            "2/2 [==============================] - 0s 5ms/step - loss: 25.0489 - mse: 996.2423\n",
            "Epoch 45/100\n",
            "2/2 [==============================] - 0s 5ms/step - loss: 10.9744 - mse: 138.4661\n",
            "Epoch 46/100\n",
            "2/2 [==============================] - 0s 5ms/step - loss: 13.0991 - mse: 246.4707\n",
            "Epoch 47/100\n",
            "2/2 [==============================] - 0s 8ms/step - loss: 10.4140 - mse: 171.9752\n",
            "Epoch 48/100\n",
            "2/2 [==============================] - 0s 5ms/step - loss: 17.1133 - mse: 397.0430\n",
            "Epoch 49/100\n",
            "2/2 [==============================] - 0s 4ms/step - loss: 9.6476 - mse: 101.6172\n",
            "Epoch 50/100\n",
            "2/2 [==============================] - 0s 5ms/step - loss: 13.9557 - mse: 268.5746\n",
            "Epoch 51/100\n",
            "2/2 [==============================] - 0s 8ms/step - loss: 11.6454 - mse: 157.1843\n",
            "Epoch 52/100\n",
            "2/2 [==============================] - 0s 6ms/step - loss: 30.9198 - mse: 1655.7864\n",
            "Epoch 53/100\n",
            "2/2 [==============================] - 0s 5ms/step - loss: 14.5119 - mse: 310.3144\n",
            "Epoch 54/100\n",
            "2/2 [==============================] - 0s 5ms/step - loss: 24.2530 - mse: 881.8927\n",
            "Epoch 55/100\n",
            "2/2 [==============================] - 0s 5ms/step - loss: 23.4999 - mse: 828.3307\n",
            "Epoch 56/100\n",
            "2/2 [==============================] - 0s 5ms/step - loss: 10.9774 - mse: 170.6483\n",
            "Epoch 57/100\n",
            "2/2 [==============================] - 0s 5ms/step - loss: 12.8749 - mse: 204.0242\n",
            "Epoch 58/100\n",
            "2/2 [==============================] - 0s 6ms/step - loss: 9.6716 - mse: 103.6388\n",
            "Epoch 59/100\n",
            "2/2 [==============================] - 0s 11ms/step - loss: 13.0477 - mse: 235.5542\n",
            "Epoch 60/100\n",
            "2/2 [==============================] - 0s 7ms/step - loss: 10.7132 - mse: 134.1723\n",
            "Epoch 61/100\n",
            "2/2 [==============================] - 0s 6ms/step - loss: 13.2575 - mse: 230.3121\n",
            "Epoch 62/100\n",
            "2/2 [==============================] - 0s 5ms/step - loss: 17.1157 - mse: 446.1563\n",
            "Epoch 63/100\n",
            "2/2 [==============================] - 0s 5ms/step - loss: 9.0606 - mse: 87.3242\n",
            "Epoch 64/100\n",
            "2/2 [==============================] - 0s 10ms/step - loss: 17.7590 - mse: 457.1656\n",
            "Epoch 65/100\n",
            "2/2 [==============================] - 0s 9ms/step - loss: 10.5360 - mse: 134.5198\n",
            "Epoch 66/100\n",
            "2/2 [==============================] - 0s 5ms/step - loss: 21.2560 - mse: 666.9109\n",
            "Epoch 67/100\n",
            "2/2 [==============================] - 0s 5ms/step - loss: 10.5370 - mse: 129.6202\n",
            "Epoch 68/100\n",
            "2/2 [==============================] - 0s 5ms/step - loss: 14.6998 - mse: 328.5135\n",
            "Epoch 69/100\n",
            "2/2 [==============================] - 0s 7ms/step - loss: 10.6729 - mse: 131.1873\n",
            "Epoch 70/100\n",
            "2/2 [==============================] - 0s 11ms/step - loss: 12.7651 - mse: 207.4954\n",
            "Epoch 71/100\n",
            "2/2 [==============================] - 0s 7ms/step - loss: 13.1932 - mse: 236.0583\n",
            "Epoch 72/100\n",
            "2/2 [==============================] - 0s 6ms/step - loss: 19.7766 - mse: 555.6805\n",
            "Epoch 73/100\n",
            "2/2 [==============================] - 0s 7ms/step - loss: 11.2350 - mse: 190.3568\n",
            "Epoch 74/100\n",
            "2/2 [==============================] - 0s 7ms/step - loss: 22.0841 - mse: 759.6057\n",
            "Epoch 75/100\n",
            "2/2 [==============================] - 0s 6ms/step - loss: 6.9334 - mse: 64.3861\n",
            "Epoch 76/100\n",
            "2/2 [==============================] - 0s 6ms/step - loss: 11.4278 - mse: 203.3596\n",
            "Epoch 77/100\n",
            "2/2 [==============================] - 0s 7ms/step - loss: 21.5837 - mse: 700.8825\n",
            "Epoch 78/100\n",
            "2/2 [==============================] - 0s 5ms/step - loss: 18.5970 - mse: 525.4608\n",
            "Epoch 79/100\n",
            "2/2 [==============================] - 0s 5ms/step - loss: 15.9218 - mse: 372.3752\n",
            "Epoch 80/100\n",
            "2/2 [==============================] - 0s 5ms/step - loss: 23.5414 - mse: 838.7673\n",
            "Epoch 81/100\n",
            "2/2 [==============================] - 0s 4ms/step - loss: 10.9476 - mse: 142.0666\n",
            "Epoch 82/100\n",
            "2/2 [==============================] - 0s 4ms/step - loss: 12.7331 - mse: 231.9077\n",
            "Epoch 83/100\n",
            "2/2 [==============================] - 0s 17ms/step - loss: 17.5000 - mse: 399.2254\n",
            "Epoch 84/100\n",
            "2/2 [==============================] - 0s 4ms/step - loss: 7.2864 - mse: 73.2271\n",
            "Epoch 85/100\n",
            "2/2 [==============================] - 0s 6ms/step - loss: 15.0263 - mse: 315.1994\n",
            "Epoch 86/100\n",
            "2/2 [==============================] - 0s 5ms/step - loss: 15.3361 - mse: 316.6902\n",
            "Epoch 87/100\n",
            "2/2 [==============================] - 0s 7ms/step - loss: 19.2050 - mse: 525.6367\n",
            "Epoch 88/100\n",
            "2/2 [==============================] - 0s 9ms/step - loss: 29.5726 - mse: 1264.1593\n",
            "Epoch 89/100\n",
            "2/2 [==============================] - 0s 5ms/step - loss: 10.1469 - mse: 124.2315\n",
            "Epoch 90/100\n",
            "2/2 [==============================] - 0s 9ms/step - loss: 21.3166 - mse: 650.8427\n",
            "Epoch 91/100\n",
            "2/2 [==============================] - 0s 6ms/step - loss: 10.5303 - mse: 162.7952\n",
            "Epoch 92/100\n",
            "2/2 [==============================] - 0s 7ms/step - loss: 18.2105 - mse: 454.1895\n",
            "Epoch 93/100\n",
            "2/2 [==============================] - 0s 7ms/step - loss: 6.8172 - mse: 67.4233\n",
            "Epoch 94/100\n",
            "2/2 [==============================] - 0s 11ms/step - loss: 13.0128 - mse: 230.1529\n",
            "Epoch 95/100\n",
            "2/2 [==============================] - 0s 11ms/step - loss: 18.3965 - mse: 499.1548\n",
            "Epoch 96/100\n",
            "2/2 [==============================] - 0s 11ms/step - loss: 10.3538 - mse: 178.6355\n",
            "Epoch 97/100\n",
            "2/2 [==============================] - 0s 6ms/step - loss: 14.4150 - mse: 314.0316\n",
            "Epoch 98/100\n",
            "2/2 [==============================] - 0s 6ms/step - loss: 6.5809 - mse: 60.6576\n",
            "Epoch 99/100\n",
            "2/2 [==============================] - 0s 12ms/step - loss: 12.6021 - mse: 229.4853\n",
            "Epoch 100/100\n",
            "2/2 [==============================] - 0s 5ms/step - loss: 19.4202 - mse: 553.8334\n"
          ]
        },
        {
          "output_type": "execute_result",
          "data": {
            "text/plain": [
              "<keras.callbacks.History at 0x7f0dfb7f0ee0>"
            ]
          },
          "metadata": {},
          "execution_count": 51
        }
      ]
    },
    {
      "cell_type": "code",
      "source": [
        "# Make and plot prediction of model_2\n",
        "y_preds_2 = model_2.predict(tf.expand_dims(X_test, axis=1))\n",
        "plot_predictions(predictions=y_preds_2)"
      ],
      "metadata": {
        "colab": {
          "base_uri": "https://localhost:8080/",
          "height": 506
        },
        "id": "qeCqKINdXuRo",
        "outputId": "233ad14a-6c80-4472-f3b0-09a7276a4f59"
      },
      "execution_count": null,
      "outputs": [
        {
          "output_type": "stream",
          "name": "stderr",
          "text": [
            "WARNING:tensorflow:6 out of the last 6 calls to <function Model.make_predict_function.<locals>.predict_function at 0x7f0dfb6152d0> triggered tf.function retracing. Tracing is expensive and the excessive number of tracings could be due to (1) creating @tf.function repeatedly in a loop, (2) passing tensors with different shapes, (3) passing Python objects instead of tensors. For (1), please define your @tf.function outside of the loop. For (2), @tf.function has reduce_retracing=True option that can avoid unnecessary retracing. For (3), please refer to https://www.tensorflow.org/guide/function#controlling_retracing and https://www.tensorflow.org/api_docs/python/tf/function for  more details.\n"
          ]
        },
        {
          "output_type": "stream",
          "name": "stdout",
          "text": [
            "1/1 [==============================] - 0s 35ms/step\n"
          ]
        },
        {
          "output_type": "display_data",
          "data": {
            "text/plain": [
              "<Figure size 1000x700 with 1 Axes>"
            ],
            "image/png": "[encoded data removed]"
          },
          "metadata": {}
        }
      ]
    },
    {
      "cell_type": "code",
      "source": [
        "# Calculate model_2 evaluation metrics\n",
        "mae_2 = mae(y_test, y_preds_2)\n",
        "mse_2 = mse(y_test, y_preds_2)\n",
        "mae_2, mse_2"
      ],
      "metadata": {
        "colab": {
          "base_uri": "https://localhost:8080/"
        },
        "id": "OWMhtP5LZAru",
        "outputId": "541e38f6-1dd1-4e38-92f9-2f22aedbb24f"
      },
      "execution_count": null,
      "outputs": [
        {
          "output_type": "execute_result",
          "data": {
            "text/plain": [
              "(<tf.Tensor: shape=(), dtype=float32, numpy=13.216455>,\n",
              " <tf.Tensor: shape=(), dtype=float32, numpy=184.6479>)"
            ]
          },
          "metadata": {},
          "execution_count": 53
        }
      ]
    },
    {
      "cell_type": "markdown",
      "source": [
        "**Build `model_3`**\n",
        "* 2 layers trained for 500 epochs"
      ],
      "metadata": {
        "id": "E13fIMONZReK"
      }
    },
    {
      "cell_type": "code",
      "source": [
        "tf.random.set_seed(42)\n",
        "\n",
        "model_3 = tf.keras.Sequential([\n",
        "    tf.keras.layers.Dense(10),\n",
        "    tf.keras.layers.Dense(1)\n",
        "])\n",
        "\n",
        "model_3.compile(loss=tf.keras.losses.mae,\n",
        "                optimizer=tf.keras.optimizers.SGD(),\n",
        "                metrics=[\"mae\"])\n",
        "\n",
        "model_3.fit(tf.expand_dims(X_train, axis=1),y_train,epochs=500)"
      ],
      "metadata": {
        "colab": {
          "base_uri": "https://localhost:8080/"
        },
        "id": "zo0cPY2-Zb8r",
        "outputId": "fa95aa3c-0ddb-4b07-d7cf-258a0162c690"
      },
      "execution_count": null,
      "outputs": [
        {
          "output_type": "stream",
          "name": "stdout",
          "text": [
            "Epoch 1/500\n",
            "2/2 [==============================] - 0s 8ms/step - loss: 29.4908 - mae: 29.4908\n",
            "Epoch 2/500\n",
            "2/2 [==============================] - 0s 4ms/step - loss: 25.7667 - mae: 25.7667\n",
            "Epoch 3/500\n",
            "2/2 [==============================] - 0s 7ms/step - loss: 30.5612 - mae: 30.5612\n",
            "Epoch 4/500\n",
            "2/2 [==============================] - 0s 5ms/step - loss: 29.3095 - mae: 29.3095\n",
            "Epoch 5/500\n",
            "2/2 [==============================] - 0s 6ms/step - loss: 14.2146 - mae: 14.2146\n",
            "Epoch 6/500\n",
            "2/2 [==============================] - 0s 5ms/step - loss: 11.3772 - mae: 11.3772\n",
            "Epoch 7/500\n",
            "2/2 [==============================] - 0s 4ms/step - loss: 12.4133 - mae: 12.4133\n",
            "Epoch 8/500\n",
            "2/2 [==============================] - 0s 5ms/step - loss: 10.9708 - mae: 10.9708\n",
            "Epoch 9/500\n",
            "2/2 [==============================] - 0s 5ms/step - loss: 38.8834 - mae: 38.8834\n",
            "Epoch 10/500\n",
            "2/2 [==============================] - 0s 5ms/step - loss: 26.4813 - mae: 26.4813\n",
            "Epoch 11/500\n",
            "2/2 [==============================] - 0s 4ms/step - loss: 11.8078 - mae: 11.8078\n",
            "Epoch 12/500\n",
            "2/2 [==============================] - 0s 5ms/step - loss: 23.6180 - mae: 23.6180\n",
            "Epoch 13/500\n",
            "2/2 [==============================] - 0s 6ms/step - loss: 21.1197 - mae: 21.1197\n",
            "Epoch 14/500\n",
            "2/2 [==============================] - 0s 5ms/step - loss: 23.5672 - mae: 23.5672\n",
            "Epoch 15/500\n",
            "2/2 [==============================] - 0s 5ms/step - loss: 15.6784 - mae: 15.6784\n",
            "Epoch 16/500\n",
            "2/2 [==============================] - 0s 5ms/step - loss: 10.4040 - mae: 10.4040\n",
            "Epoch 17/500\n",
            "2/2 [==============================] - 0s 4ms/step - loss: 19.5940 - mae: 19.5940\n",
            "Epoch 18/500\n",
            "2/2 [==============================] - 0s 5ms/step - loss: 13.2466 - mae: 13.2466\n",
            "Epoch 19/500\n",
            "2/2 [==============================] - 0s 4ms/step - loss: 15.9988 - mae: 15.9988\n",
            "Epoch 20/500\n",
            "2/2 [==============================] - 0s 4ms/step - loss: 10.1832 - mae: 10.1832\n",
            "Epoch 21/500\n",
            "2/2 [==============================] - 0s 4ms/step - loss: 13.7198 - mae: 13.7198\n",
            "Epoch 22/500\n",
            "2/2 [==============================] - 0s 6ms/step - loss: 21.8994 - mae: 21.8994\n",
            "Epoch 23/500\n",
            "2/2 [==============================] - 0s 5ms/step - loss: 10.4631 - mae: 10.4631\n",
            "Epoch 24/500\n",
            "2/2 [==============================] - 0s 4ms/step - loss: 15.7625 - mae: 15.7625\n",
            "Epoch 25/500\n",
            "2/2 [==============================] - 0s 4ms/step - loss: 14.9098 - mae: 14.9098\n",
            "Epoch 26/500\n",
            "2/2 [==============================] - 0s 4ms/step - loss: 19.5458 - mae: 19.5458\n",
            "Epoch 27/500\n",
            "2/2 [==============================] - 0s 4ms/step - loss: 20.4896 - mae: 20.4896\n",
            "Epoch 28/500\n",
            "2/2 [==============================] - 0s 4ms/step - loss: 14.8724 - mae: 14.8724\n",
            "Epoch 29/500\n",
            "2/2 [==============================] - 0s 4ms/step - loss: 9.2630 - mae: 9.2630\n",
            "Epoch 30/500\n",
            "2/2 [==============================] - 0s 4ms/step - loss: 30.2266 - mae: 30.2266\n",
            "Epoch 31/500\n",
            "2/2 [==============================] - 0s 3ms/step - loss: 54.9063 - mae: 54.9063\n",
            "Epoch 32/500\n",
            "2/2 [==============================] - 0s 5ms/step - loss: 9.6714 - mae: 9.6714\n",
            "Epoch 33/500\n",
            "2/2 [==============================] - 0s 4ms/step - loss: 12.2775 - mae: 12.2775\n",
            "Epoch 34/500\n",
            "2/2 [==============================] - 0s 4ms/step - loss: 24.3414 - mae: 24.3414\n",
            "Epoch 35/500\n",
            "2/2 [==============================] - 0s 4ms/step - loss: 11.9724 - mae: 11.9724\n",
            "Epoch 36/500\n",
            "2/2 [==============================] - 0s 4ms/step - loss: 22.2433 - mae: 22.2433\n",
            "Epoch 37/500\n",
            "2/2 [==============================] - 0s 4ms/step - loss: 17.3306 - mae: 17.3306\n",
            "Epoch 38/500\n",
            "2/2 [==============================] - 0s 4ms/step - loss: 10.6518 - mae: 10.6518\n",
            "Epoch 39/500\n",
            "2/2 [==============================] - 0s 4ms/step - loss: 11.1681 - mae: 11.1681\n",
            "Epoch 40/500\n",
            "2/2 [==============================] - 0s 4ms/step - loss: 17.9332 - mae: 17.9332\n",
            "Epoch 41/500\n",
            "2/2 [==============================] - 0s 4ms/step - loss: 10.3805 - mae: 10.3805\n",
            "Epoch 42/500\n",
            "2/2 [==============================] - 0s 5ms/step - loss: 7.2748 - mae: 7.2748\n",
            "Epoch 43/500\n",
            "2/2 [==============================] - 0s 4ms/step - loss: 18.9008 - mae: 18.9008\n",
            "Epoch 44/500\n",
            "2/2 [==============================] - 0s 4ms/step - loss: 20.0446 - mae: 20.0446\n",
            "Epoch 45/500\n",
            "2/2 [==============================] - 0s 4ms/step - loss: 10.1034 - mae: 10.1034\n",
            "Epoch 46/500\n",
            "2/2 [==============================] - 0s 4ms/step - loss: 11.3549 - mae: 11.3549\n",
            "Epoch 47/500\n",
            "2/2 [==============================] - 0s 4ms/step - loss: 9.8312 - mae: 9.8312\n",
            "Epoch 48/500\n",
            "2/2 [==============================] - 0s 10ms/step - loss: 17.6344 - mae: 17.6344\n",
            "Epoch 49/500\n",
            "2/2 [==============================] - 0s 3ms/step - loss: 9.3178 - mae: 9.3178\n",
            "Epoch 50/500\n",
            "2/2 [==============================] - 0s 4ms/step - loss: 13.3532 - mae: 13.3532\n",
            "Epoch 51/500\n",
            "2/2 [==============================] - 0s 4ms/step - loss: 11.4255 - mae: 11.4255\n",
            "Epoch 52/500\n",
            "2/2 [==============================] - 0s 4ms/step - loss: 29.3383 - mae: 29.3383\n",
            "Epoch 53/500\n",
            "2/2 [==============================] - 0s 4ms/step - loss: 16.7147 - mae: 16.7147\n",
            "Epoch 54/500\n",
            "2/2 [==============================] - 0s 4ms/step - loss: 21.6836 - mae: 21.6836\n",
            "Epoch 55/500\n",
            "2/2 [==============================] - 0s 4ms/step - loss: 22.1249 - mae: 22.1249\n",
            "Epoch 56/500\n",
            "2/2 [==============================] - 0s 4ms/step - loss: 11.2261 - mae: 11.2261\n",
            "Epoch 57/500\n",
            "2/2 [==============================] - 0s 4ms/step - loss: 13.1986 - mae: 13.1986\n",
            "Epoch 58/500\n",
            "2/2 [==============================] - 0s 4ms/step - loss: 9.8605 - mae: 9.8605\n",
            "Epoch 59/500\n",
            "2/2 [==============================] - 0s 4ms/step - loss: 13.3870 - mae: 13.3870\n",
            "Epoch 60/500\n",
            "2/2 [==============================] - 0s 4ms/step - loss: 10.9238 - mae: 10.9238\n",
            "Epoch 61/500\n",
            "2/2 [==============================] - 0s 4ms/step - loss: 13.5399 - mae: 13.5399\n",
            "Epoch 62/500\n",
            "2/2 [==============================] - 0s 4ms/step - loss: 17.6107 - mae: 17.6107\n",
            "Epoch 63/500\n",
            "2/2 [==============================] - 0s 4ms/step - loss: 9.1944 - mae: 9.1944\n",
            "Epoch 64/500\n",
            "2/2 [==============================] - 0s 4ms/step - loss: 18.4777 - mae: 18.4777\n",
            "Epoch 65/500\n",
            "2/2 [==============================] - 0s 4ms/step - loss: 10.1495 - mae: 10.1495\n",
            "Epoch 66/500\n",
            "2/2 [==============================] - 0s 4ms/step - loss: 24.3573 - mae: 24.3573\n",
            "Epoch 67/500\n",
            "2/2 [==============================] - 0s 4ms/step - loss: 10.9315 - mae: 10.9315\n",
            "Epoch 68/500\n",
            "2/2 [==============================] - 0s 5ms/step - loss: 10.8043 - mae: 10.8043\n",
            "Epoch 69/500\n",
            "2/2 [==============================] - 0s 5ms/step - loss: 23.3422 - mae: 23.3422\n",
            "Epoch 70/500\n",
            "2/2 [==============================] - 0s 4ms/step - loss: 8.8067 - mae: 8.8067\n",
            "Epoch 71/500\n",
            "2/2 [==============================] - 0s 6ms/step - loss: 15.9587 - mae: 15.9587\n",
            "Epoch 72/500\n",
            "2/2 [==============================] - 0s 4ms/step - loss: 8.1383 - mae: 8.1383\n",
            "Epoch 73/500\n",
            "2/2 [==============================] - 0s 5ms/step - loss: 9.4654 - mae: 9.4654\n",
            "Epoch 74/500\n",
            "2/2 [==============================] - 0s 4ms/step - loss: 28.1367 - mae: 28.1367\n",
            "Epoch 75/500\n",
            "2/2 [==============================] - 0s 4ms/step - loss: 10.2295 - mae: 10.2295\n",
            "Epoch 76/500\n",
            "2/2 [==============================] - 0s 4ms/step - loss: 13.1829 - mae: 13.1829\n",
            "Epoch 77/500\n",
            "2/2 [==============================] - 0s 4ms/step - loss: 18.4408 - mae: 18.4408\n",
            "Epoch 78/500\n",
            "2/2 [==============================] - 0s 4ms/step - loss: 9.0342 - mae: 9.0342\n",
            "Epoch 79/500\n",
            "2/2 [==============================] - 0s 4ms/step - loss: 23.4872 - mae: 23.4872\n",
            "Epoch 80/500\n",
            "2/2 [==============================] - 0s 4ms/step - loss: 26.1688 - mae: 26.1688\n",
            "Epoch 81/500\n",
            "2/2 [==============================] - 0s 4ms/step - loss: 11.4273 - mae: 11.4273\n",
            "Epoch 82/500\n",
            "2/2 [==============================] - 0s 5ms/step - loss: 12.4840 - mae: 12.4840\n",
            "Epoch 83/500\n",
            "2/2 [==============================] - 0s 4ms/step - loss: 17.1697 - mae: 17.1697\n",
            "Epoch 84/500\n",
            "2/2 [==============================] - 0s 4ms/step - loss: 6.6008 - mae: 6.6008\n",
            "Epoch 85/500\n",
            "2/2 [==============================] - 0s 5ms/step - loss: 20.3308 - mae: 20.3308\n",
            "Epoch 86/500\n",
            "2/2 [==============================] - 0s 5ms/step - loss: 10.1862 - mae: 10.1862\n",
            "Epoch 87/500\n",
            "2/2 [==============================] - 0s 4ms/step - loss: 24.3706 - mae: 24.3706\n",
            "Epoch 88/500\n",
            "2/2 [==============================] - 0s 4ms/step - loss: 19.0342 - mae: 19.0342\n",
            "Epoch 89/500\n",
            "2/2 [==============================] - 0s 4ms/step - loss: 7.1753 - mae: 7.1753\n",
            "Epoch 90/500\n",
            "2/2 [==============================] - 0s 5ms/step - loss: 18.2558 - mae: 18.2558\n",
            "Epoch 91/500\n",
            "2/2 [==============================] - 0s 4ms/step - loss: 13.3064 - mae: 13.3064\n",
            "Epoch 92/500\n",
            "2/2 [==============================] - 0s 4ms/step - loss: 14.8573 - mae: 14.8573\n",
            "Epoch 93/500\n",
            "2/2 [==============================] - 0s 4ms/step - loss: 11.6538 - mae: 11.6538\n",
            "Epoch 94/500\n",
            "2/2 [==============================] - 0s 4ms/step - loss: 16.2088 - mae: 16.2088\n",
            "Epoch 95/500\n",
            "2/2 [==============================] - 0s 4ms/step - loss: 15.5521 - mae: 15.5521\n",
            "Epoch 96/500\n",
            "2/2 [==============================] - 0s 4ms/step - loss: 15.0864 - mae: 15.0864\n",
            "Epoch 97/500\n",
            "2/2 [==============================] - 0s 5ms/step - loss: 10.9179 - mae: 10.9179\n",
            "Epoch 98/500\n",
            "2/2 [==============================] - 0s 4ms/step - loss: 14.3780 - mae: 14.3780\n",
            "Epoch 99/500\n",
            "2/2 [==============================] - 0s 4ms/step - loss: 13.3942 - mae: 13.3942\n",
            "Epoch 100/500\n",
            "2/2 [==============================] - 0s 4ms/step - loss: 20.0192 - mae: 20.0192\n",
            "Epoch 101/500\n",
            "2/2 [==============================] - 0s 4ms/step - loss: 22.4751 - mae: 22.4751\n",
            "Epoch 102/500\n",
            "2/2 [==============================] - 0s 4ms/step - loss: 11.2715 - mae: 11.2715\n",
            "Epoch 103/500\n",
            "2/2 [==============================] - 0s 4ms/step - loss: 9.3651 - mae: 9.3651\n",
            "Epoch 104/500\n",
            "2/2 [==============================] - 0s 5ms/step - loss: 25.0883 - mae: 25.0883\n",
            "Epoch 105/500\n",
            "2/2 [==============================] - 0s 5ms/step - loss: 12.0586 - mae: 12.0586\n",
            "Epoch 106/500\n",
            "2/2 [==============================] - 0s 4ms/step - loss: 10.1312 - mae: 10.1312\n",
            "Epoch 107/500\n",
            "2/2 [==============================] - 0s 4ms/step - loss: 22.6321 - mae: 22.6321\n",
            "Epoch 108/500\n",
            "2/2 [==============================] - 0s 4ms/step - loss: 8.1710 - mae: 8.1710\n",
            "Epoch 109/500\n",
            "2/2 [==============================] - 0s 5ms/step - loss: 13.4160 - mae: 13.4160\n",
            "Epoch 110/500\n",
            "2/2 [==============================] - 0s 4ms/step - loss: 7.9881 - mae: 7.9881\n",
            "Epoch 111/500\n",
            "2/2 [==============================] - 0s 4ms/step - loss: 15.7320 - mae: 15.7320\n",
            "Epoch 112/500\n",
            "2/2 [==============================] - 0s 4ms/step - loss: 8.7840 - mae: 8.7840\n",
            "Epoch 113/500\n",
            "2/2 [==============================] - 0s 4ms/step - loss: 22.7408 - mae: 22.7408\n",
            "Epoch 114/500\n",
            "2/2 [==============================] - 0s 4ms/step - loss: 19.0917 - mae: 19.0917\n",
            "Epoch 115/500\n",
            "2/2 [==============================] - 0s 3ms/step - loss: 11.1334 - mae: 11.1334\n",
            "Epoch 116/500\n",
            "2/2 [==============================] - 0s 4ms/step - loss: 23.1917 - mae: 23.1917\n",
            "Epoch 117/500\n",
            "2/2 [==============================] - 0s 4ms/step - loss: 9.6153 - mae: 9.6153\n",
            "Epoch 118/500\n",
            "2/2 [==============================] - 0s 4ms/step - loss: 10.6769 - mae: 10.6769\n",
            "Epoch 119/500\n",
            "2/2 [==============================] - 0s 4ms/step - loss: 8.0712 - mae: 8.0712\n",
            "Epoch 120/500\n",
            "2/2 [==============================] - 0s 4ms/step - loss: 29.4635 - mae: 29.4635\n",
            "Epoch 121/500\n",
            "2/2 [==============================] - 0s 5ms/step - loss: 8.1052 - mae: 8.1052\n",
            "Epoch 122/500\n",
            "2/2 [==============================] - 0s 5ms/step - loss: 28.1084 - mae: 28.1084\n",
            "Epoch 123/500\n",
            "2/2 [==============================] - 0s 5ms/step - loss: 32.6511 - mae: 32.6511\n",
            "Epoch 124/500\n",
            "2/2 [==============================] - 0s 5ms/step - loss: 19.4520 - mae: 19.4520\n",
            "Epoch 125/500\n",
            "2/2 [==============================] - 0s 4ms/step - loss: 6.4275 - mae: 6.4275\n",
            "Epoch 126/500\n",
            "2/2 [==============================] - 0s 4ms/step - loss: 26.7114 - mae: 26.7114\n",
            "Epoch 127/500\n",
            "2/2 [==============================] - 0s 4ms/step - loss: 8.5901 - mae: 8.5901\n",
            "Epoch 128/500\n",
            "2/2 [==============================] - 0s 4ms/step - loss: 13.7920 - mae: 13.7920\n",
            "Epoch 129/500\n",
            "2/2 [==============================] - 0s 4ms/step - loss: 10.9135 - mae: 10.9135\n",
            "Epoch 130/500\n",
            "2/2 [==============================] - 0s 5ms/step - loss: 15.4473 - mae: 15.4473\n",
            "Epoch 131/500\n",
            "2/2 [==============================] - 0s 5ms/step - loss: 8.8761 - mae: 8.8761\n",
            "Epoch 132/500\n",
            "2/2 [==============================] - 0s 5ms/step - loss: 14.9577 - mae: 14.9577\n",
            "Epoch 133/500\n",
            "2/2 [==============================] - 0s 5ms/step - loss: 7.9391 - mae: 7.9391\n",
            "Epoch 134/500\n",
            "2/2 [==============================] - 0s 5ms/step - loss: 22.3858 - mae: 22.3858\n",
            "Epoch 135/500\n",
            "2/2 [==============================] - 0s 5ms/step - loss: 20.1120 - mae: 20.1120\n",
            "Epoch 136/500\n",
            "2/2 [==============================] - 0s 4ms/step - loss: 14.4201 - mae: 14.4201\n",
            "Epoch 137/500\n",
            "2/2 [==============================] - 0s 4ms/step - loss: 22.3224 - mae: 22.3224\n",
            "Epoch 138/500\n",
            "2/2 [==============================] - 0s 5ms/step - loss: 8.8279 - mae: 8.8279\n",
            "Epoch 139/500\n",
            "2/2 [==============================] - 0s 4ms/step - loss: 6.3940 - mae: 6.3940\n",
            "Epoch 140/500\n",
            "2/2 [==============================] - 0s 4ms/step - loss: 26.5296 - mae: 26.5296\n",
            "Epoch 141/500\n",
            "2/2 [==============================] - 0s 4ms/step - loss: 12.5028 - mae: 12.5028\n",
            "Epoch 142/500\n",
            "2/2 [==============================] - 0s 4ms/step - loss: 21.6805 - mae: 21.6805\n",
            "Epoch 143/500\n",
            "2/2 [==============================] - 0s 4ms/step - loss: 14.5893 - mae: 14.5893\n",
            "Epoch 144/500\n",
            "2/2 [==============================] - 0s 4ms/step - loss: 11.4206 - mae: 11.4206\n",
            "Epoch 145/500\n",
            "2/2 [==============================] - 0s 5ms/step - loss: 25.2958 - mae: 25.2958\n",
            "Epoch 146/500\n",
            "2/2 [==============================] - 0s 5ms/step - loss: 10.7630 - mae: 10.7630\n",
            "Epoch 147/500\n",
            "2/2 [==============================] - 0s 4ms/step - loss: 14.2923 - mae: 14.2923\n",
            "Epoch 148/500\n",
            "2/2 [==============================] - 0s 4ms/step - loss: 17.2255 - mae: 17.2255\n",
            "Epoch 149/500\n",
            "2/2 [==============================] - 0s 4ms/step - loss: 8.9956 - mae: 8.9956\n",
            "Epoch 150/500\n",
            "2/2 [==============================] - 0s 4ms/step - loss: 7.8294 - mae: 7.8294\n",
            "Epoch 151/500\n",
            "2/2 [==============================] - 0s 5ms/step - loss: 20.4506 - mae: 20.4506\n",
            "Epoch 152/500\n",
            "2/2 [==============================] - 0s 5ms/step - loss: 10.3884 - mae: 10.3884\n",
            "Epoch 153/500\n",
            "2/2 [==============================] - 0s 4ms/step - loss: 30.0486 - mae: 30.0486\n",
            "Epoch 154/500\n",
            "2/2 [==============================] - 0s 7ms/step - loss: 10.4970 - mae: 10.4970\n",
            "Epoch 155/500\n",
            "2/2 [==============================] - 0s 4ms/step - loss: 15.3983 - mae: 15.3983\n",
            "Epoch 156/500\n",
            "2/2 [==============================] - 0s 4ms/step - loss: 16.8795 - mae: 16.8795\n",
            "Epoch 157/500\n",
            "2/2 [==============================] - 0s 4ms/step - loss: 33.1973 - mae: 33.1973\n",
            "Epoch 158/500\n",
            "2/2 [==============================] - 0s 5ms/step - loss: 10.8494 - mae: 10.8494\n",
            "Epoch 159/500\n",
            "2/2 [==============================] - 0s 4ms/step - loss: 8.9845 - mae: 8.9845\n",
            "Epoch 160/500\n",
            "2/2 [==============================] - 0s 4ms/step - loss: 22.3864 - mae: 22.3864\n",
            "Epoch 161/500\n",
            "2/2 [==============================] - 0s 5ms/step - loss: 11.8316 - mae: 11.8316\n",
            "Epoch 162/500\n",
            "2/2 [==============================] - 0s 5ms/step - loss: 21.7988 - mae: 21.7988\n",
            "Epoch 163/500\n",
            "2/2 [==============================] - 0s 4ms/step - loss: 19.4671 - mae: 19.4671\n",
            "Epoch 164/500\n",
            "2/2 [==============================] - 0s 4ms/step - loss: 11.3791 - mae: 11.3791\n",
            "Epoch 165/500\n",
            "2/2 [==============================] - 0s 4ms/step - loss: 11.6216 - mae: 11.6216\n",
            "Epoch 166/500\n",
            "2/2 [==============================] - 0s 4ms/step - loss: 21.3806 - mae: 21.3806\n",
            "Epoch 167/500\n",
            "2/2 [==============================] - 0s 4ms/step - loss: 26.8204 - mae: 26.8204\n",
            "Epoch 168/500\n",
            "2/2 [==============================] - 0s 5ms/step - loss: 9.9914 - mae: 9.9914\n",
            "Epoch 169/500\n",
            "2/2 [==============================] - 0s 4ms/step - loss: 23.0718 - mae: 23.0718\n",
            "Epoch 170/500\n",
            "2/2 [==============================] - 0s 5ms/step - loss: 10.0868 - mae: 10.0868\n",
            "Epoch 171/500\n",
            "2/2 [==============================] - 0s 5ms/step - loss: 17.8376 - mae: 17.8376\n",
            "Epoch 172/500\n",
            "2/2 [==============================] - 0s 5ms/step - loss: 29.3441 - mae: 29.3441\n",
            "Epoch 173/500\n",
            "2/2 [==============================] - 0s 4ms/step - loss: 16.9396 - mae: 16.9396\n",
            "Epoch 174/500\n",
            "2/2 [==============================] - 0s 4ms/step - loss: 11.1840 - mae: 11.1840\n",
            "Epoch 175/500\n",
            "2/2 [==============================] - 0s 4ms/step - loss: 27.4564 - mae: 27.4564\n",
            "Epoch 176/500\n",
            "2/2 [==============================] - 0s 4ms/step - loss: 8.4406 - mae: 8.4406\n",
            "Epoch 177/500\n",
            "2/2 [==============================] - 0s 4ms/step - loss: 9.3981 - mae: 9.3981\n",
            "Epoch 178/500\n",
            "2/2 [==============================] - 0s 4ms/step - loss: 18.5493 - mae: 18.5493\n",
            "Epoch 179/500\n",
            "2/2 [==============================] - 0s 6ms/step - loss: 10.4260 - mae: 10.4260\n",
            "Epoch 180/500\n",
            "2/2 [==============================] - 0s 4ms/step - loss: 8.0000 - mae: 8.0000\n",
            "Epoch 181/500\n",
            "2/2 [==============================] - 0s 5ms/step - loss: 17.7289 - mae: 17.7289\n",
            "Epoch 182/500\n",
            "2/2 [==============================] - 0s 4ms/step - loss: 11.1886 - mae: 11.1886\n",
            "Epoch 183/500\n",
            "2/2 [==============================] - 0s 5ms/step - loss: 12.3770 - mae: 12.3770\n",
            "Epoch 184/500\n",
            "2/2 [==============================] - 0s 4ms/step - loss: 27.3029 - mae: 27.3029\n",
            "Epoch 185/500\n",
            "2/2 [==============================] - 0s 4ms/step - loss: 7.5813 - mae: 7.5813\n",
            "Epoch 186/500\n",
            "2/2 [==============================] - 0s 4ms/step - loss: 15.9754 - mae: 15.9754\n",
            "Epoch 187/500\n",
            "2/2 [==============================] - 0s 5ms/step - loss: 8.5998 - mae: 8.5998\n",
            "Epoch 188/500\n",
            "2/2 [==============================] - 0s 4ms/step - loss: 28.7905 - mae: 28.7905\n",
            "Epoch 189/500\n",
            "2/2 [==============================] - 0s 4ms/step - loss: 13.1693 - mae: 13.1693\n",
            "Epoch 190/500\n",
            "2/2 [==============================] - 0s 4ms/step - loss: 18.3118 - mae: 18.3118\n",
            "Epoch 191/500\n",
            "2/2 [==============================] - 0s 4ms/step - loss: 13.7398 - mae: 13.7398\n",
            "Epoch 192/500\n",
            "2/2 [==============================] - 0s 4ms/step - loss: 13.7240 - mae: 13.7240\n",
            "Epoch 193/500\n",
            "2/2 [==============================] - 0s 5ms/step - loss: 28.5823 - mae: 28.5823\n",
            "Epoch 194/500\n",
            "2/2 [==============================] - 0s 4ms/step - loss: 7.1017 - mae: 7.1017\n",
            "Epoch 195/500\n",
            "2/2 [==============================] - 0s 4ms/step - loss: 7.0838 - mae: 7.0838\n",
            "Epoch 196/500\n",
            "2/2 [==============================] - 0s 7ms/step - loss: 22.0196 - mae: 22.0196\n",
            "Epoch 197/500\n",
            "2/2 [==============================] - 0s 4ms/step - loss: 20.8234 - mae: 20.8234\n",
            "Epoch 198/500\n",
            "2/2 [==============================] - 0s 4ms/step - loss: 12.4692 - mae: 12.4692\n",
            "Epoch 199/500\n",
            "2/2 [==============================] - 0s 7ms/step - loss: 17.8908 - mae: 17.8908\n",
            "Epoch 200/500\n",
            "2/2 [==============================] - 0s 4ms/step - loss: 13.7341 - mae: 13.7341\n",
            "Epoch 201/500\n",
            "2/2 [==============================] - 0s 7ms/step - loss: 5.5043 - mae: 5.5043\n",
            "Epoch 202/500\n",
            "2/2 [==============================] - 0s 4ms/step - loss: 13.6829 - mae: 13.6829\n",
            "Epoch 203/500\n",
            "2/2 [==============================] - 0s 4ms/step - loss: 9.4344 - mae: 9.4344\n",
            "Epoch 204/500\n",
            "2/2 [==============================] - 0s 4ms/step - loss: 20.9129 - mae: 20.9129\n",
            "Epoch 205/500\n",
            "2/2 [==============================] - 0s 4ms/step - loss: 9.5548 - mae: 9.5548\n",
            "Epoch 206/500\n",
            "2/2 [==============================] - 0s 4ms/step - loss: 11.7127 - mae: 11.7127\n",
            "Epoch 207/500\n",
            "2/2 [==============================] - 0s 5ms/step - loss: 14.3209 - mae: 14.3209\n",
            "Epoch 208/500\n",
            "2/2 [==============================] - 0s 4ms/step - loss: 14.8191 - mae: 14.8191\n",
            "Epoch 209/500\n",
            "2/2 [==============================] - 0s 3ms/step - loss: 14.6003 - mae: 14.6003\n",
            "Epoch 210/500\n",
            "2/2 [==============================] - 0s 4ms/step - loss: 17.8348 - mae: 17.8348\n",
            "Epoch 211/500\n",
            "2/2 [==============================] - 0s 4ms/step - loss: 9.8396 - mae: 9.8396\n",
            "Epoch 212/500\n",
            "2/2 [==============================] - 0s 4ms/step - loss: 18.2423 - mae: 18.2423\n",
            "Epoch 213/500\n",
            "2/2 [==============================] - 0s 4ms/step - loss: 15.0795 - mae: 15.0795\n",
            "Epoch 214/500\n",
            "2/2 [==============================] - 0s 4ms/step - loss: 14.6168 - mae: 14.6168\n",
            "Epoch 215/500\n",
            "2/2 [==============================] - 0s 3ms/step - loss: 23.3480 - mae: 23.3480\n",
            "Epoch 216/500\n",
            "2/2 [==============================] - 0s 4ms/step - loss: 13.2968 - mae: 13.2968\n",
            "Epoch 217/500\n",
            "2/2 [==============================] - 0s 4ms/step - loss: 9.8223 - mae: 9.8223\n",
            "Epoch 218/500\n",
            "2/2 [==============================] - 0s 4ms/step - loss: 12.6079 - mae: 12.6079\n",
            "Epoch 219/500\n",
            "2/2 [==============================] - 0s 6ms/step - loss: 5.3539 - mae: 5.3539\n",
            "Epoch 220/500\n",
            "2/2 [==============================] - 0s 5ms/step - loss: 14.7044 - mae: 14.7044\n",
            "Epoch 221/500\n",
            "2/2 [==============================] - 0s 4ms/step - loss: 33.5456 - mae: 33.5456\n",
            "Epoch 222/500\n",
            "2/2 [==============================] - 0s 3ms/step - loss: 13.9040 - mae: 13.9040\n",
            "Epoch 223/500\n",
            "2/2 [==============================] - 0s 4ms/step - loss: 11.0001 - mae: 11.0001\n",
            "Epoch 224/500\n",
            "2/2 [==============================] - 0s 4ms/step - loss: 14.9572 - mae: 14.9572\n",
            "Epoch 225/500\n",
            "2/2 [==============================] - 0s 4ms/step - loss: 17.0067 - mae: 17.0067\n",
            "Epoch 226/500\n",
            "2/2 [==============================] - 0s 4ms/step - loss: 16.1947 - mae: 16.1947\n",
            "Epoch 227/500\n",
            "2/2 [==============================] - 0s 4ms/step - loss: 16.5147 - mae: 16.5147\n",
            "Epoch 228/500\n",
            "2/2 [==============================] - 0s 4ms/step - loss: 9.9520 - mae: 9.9520\n",
            "Epoch 229/500\n",
            "2/2 [==============================] - 0s 4ms/step - loss: 17.8522 - mae: 17.8522\n",
            "Epoch 230/500\n",
            "2/2 [==============================] - 0s 4ms/step - loss: 15.4725 - mae: 15.4725\n",
            "Epoch 231/500\n",
            "2/2 [==============================] - 0s 4ms/step - loss: 20.9025 - mae: 20.9025\n",
            "Epoch 232/500\n",
            "2/2 [==============================] - 0s 4ms/step - loss: 25.9643 - mae: 25.9643\n",
            "Epoch 233/500\n",
            "2/2 [==============================] - 0s 4ms/step - loss: 17.0397 - mae: 17.0397\n",
            "Epoch 234/500\n",
            "2/2 [==============================] - 0s 4ms/step - loss: 7.0493 - mae: 7.0493\n",
            "Epoch 235/500\n",
            "2/2 [==============================] - 0s 4ms/step - loss: 16.0076 - mae: 16.0076\n",
            "Epoch 236/500\n",
            "2/2 [==============================] - 0s 5ms/step - loss: 6.7975 - mae: 6.7975\n",
            "Epoch 237/500\n",
            "2/2 [==============================] - 0s 5ms/step - loss: 8.7460 - mae: 8.7460\n",
            "Epoch 238/500\n",
            "2/2 [==============================] - 0s 4ms/step - loss: 7.8509 - mae: 7.8509\n",
            "Epoch 239/500\n",
            "2/2 [==============================] - 0s 4ms/step - loss: 15.9034 - mae: 15.9034\n",
            "Epoch 240/500\n",
            "2/2 [==============================] - 0s 5ms/step - loss: 9.1272 - mae: 9.1272\n",
            "Epoch 241/500\n",
            "2/2 [==============================] - 0s 4ms/step - loss: 13.6246 - mae: 13.6246\n",
            "Epoch 242/500\n",
            "2/2 [==============================] - 0s 4ms/step - loss: 8.9886 - mae: 8.9886\n",
            "Epoch 243/500\n",
            "2/2 [==============================] - 0s 7ms/step - loss: 19.6195 - mae: 19.6195\n",
            "Epoch 244/500\n",
            "2/2 [==============================] - 0s 6ms/step - loss: 13.8014 - mae: 13.8014\n",
            "Epoch 245/500\n",
            "2/2 [==============================] - 0s 8ms/step - loss: 14.4656 - mae: 14.4656\n",
            "Epoch 246/500\n",
            "2/2 [==============================] - 0s 6ms/step - loss: 18.1185 - mae: 18.1185\n",
            "Epoch 247/500\n",
            "2/2 [==============================] - 0s 4ms/step - loss: 37.2168 - mae: 37.2168\n",
            "Epoch 248/500\n",
            "2/2 [==============================] - 0s 4ms/step - loss: 6.7819 - mae: 6.7819\n",
            "Epoch 249/500\n",
            "2/2 [==============================] - 0s 5ms/step - loss: 8.0116 - mae: 8.0116\n",
            "Epoch 250/500\n",
            "2/2 [==============================] - 0s 4ms/step - loss: 24.9438 - mae: 24.9438\n",
            "Epoch 251/500\n",
            "2/2 [==============================] - 0s 5ms/step - loss: 10.4396 - mae: 10.4396\n",
            "Epoch 252/500\n",
            "2/2 [==============================] - 0s 4ms/step - loss: 30.8334 - mae: 30.8334\n",
            "Epoch 253/500\n",
            "2/2 [==============================] - 0s 4ms/step - loss: 8.1522 - mae: 8.1522\n",
            "Epoch 254/500\n",
            "2/2 [==============================] - 0s 5ms/step - loss: 16.3050 - mae: 16.3050\n",
            "Epoch 255/500\n",
            "2/2 [==============================] - 0s 4ms/step - loss: 22.0522 - mae: 22.0522\n",
            "Epoch 256/500\n",
            "2/2 [==============================] - 0s 4ms/step - loss: 26.8039 - mae: 26.8039\n",
            "Epoch 257/500\n",
            "2/2 [==============================] - 0s 4ms/step - loss: 11.8800 - mae: 11.8800\n",
            "Epoch 258/500\n",
            "2/2 [==============================] - 0s 4ms/step - loss: 8.5123 - mae: 8.5123\n",
            "Epoch 259/500\n",
            "2/2 [==============================] - 0s 5ms/step - loss: 22.8035 - mae: 22.8035\n",
            "Epoch 260/500\n",
            "2/2 [==============================] - 0s 5ms/step - loss: 31.2599 - mae: 31.2599\n",
            "Epoch 261/500\n",
            "2/2 [==============================] - 0s 5ms/step - loss: 11.0955 - mae: 11.0955\n",
            "Epoch 262/500\n",
            "2/2 [==============================] - 0s 4ms/step - loss: 9.9644 - mae: 9.9644\n",
            "Epoch 263/500\n",
            "2/2 [==============================] - 0s 5ms/step - loss: 8.9166 - mae: 8.9166\n",
            "Epoch 264/500\n",
            "2/2 [==============================] - 0s 6ms/step - loss: 21.2104 - mae: 21.2104\n",
            "Epoch 265/500\n",
            "2/2 [==============================] - 0s 5ms/step - loss: 11.5549 - mae: 11.5549\n",
            "Epoch 266/500\n",
            "2/2 [==============================] - 0s 5ms/step - loss: 13.4092 - mae: 13.4092\n",
            "Epoch 267/500\n",
            "2/2 [==============================] - 0s 4ms/step - loss: 11.1523 - mae: 11.1523\n",
            "Epoch 268/500\n",
            "2/2 [==============================] - 0s 4ms/step - loss: 19.3041 - mae: 19.3041\n",
            "Epoch 269/500\n",
            "2/2 [==============================] - 0s 5ms/step - loss: 40.2573 - mae: 40.2573\n",
            "Epoch 270/500\n",
            "2/2 [==============================] - 0s 5ms/step - loss: 12.7014 - mae: 12.7014\n",
            "Epoch 271/500\n",
            "2/2 [==============================] - 0s 5ms/step - loss: 14.8158 - mae: 14.8158\n",
            "Epoch 272/500\n",
            "2/2 [==============================] - 0s 5ms/step - loss: 28.5958 - mae: 28.5958\n",
            "Epoch 273/500\n",
            "2/2 [==============================] - 0s 5ms/step - loss: 7.3032 - mae: 7.3032\n",
            "Epoch 274/500\n",
            "2/2 [==============================] - 0s 5ms/step - loss: 6.3806 - mae: 6.3806\n",
            "Epoch 275/500\n",
            "2/2 [==============================] - 0s 6ms/step - loss: 36.4520 - mae: 36.4520\n",
            "Epoch 276/500\n",
            "2/2 [==============================] - 0s 6ms/step - loss: 8.2730 - mae: 8.2730\n",
            "Epoch 277/500\n",
            "2/2 [==============================] - 0s 4ms/step - loss: 27.3443 - mae: 27.3443\n",
            "Epoch 278/500\n",
            "2/2 [==============================] - 0s 4ms/step - loss: 10.7676 - mae: 10.7676\n",
            "Epoch 279/500\n",
            "2/2 [==============================] - 0s 4ms/step - loss: 16.1809 - mae: 16.1809\n",
            "Epoch 280/500\n",
            "2/2 [==============================] - 0s 4ms/step - loss: 21.3794 - mae: 21.3794\n",
            "Epoch 281/500\n",
            "2/2 [==============================] - 0s 4ms/step - loss: 23.4481 - mae: 23.4481\n",
            "Epoch 282/500\n",
            "2/2 [==============================] - 0s 4ms/step - loss: 8.1888 - mae: 8.1888\n",
            "Epoch 283/500\n",
            "2/2 [==============================] - 0s 4ms/step - loss: 8.4123 - mae: 8.4123\n",
            "Epoch 284/500\n",
            "2/2 [==============================] - 0s 4ms/step - loss: 26.1736 - mae: 26.1736\n",
            "Epoch 285/500\n",
            "2/2 [==============================] - 0s 5ms/step - loss: 14.8088 - mae: 14.8088\n",
            "Epoch 286/500\n",
            "2/2 [==============================] - 0s 4ms/step - loss: 8.6774 - mae: 8.6774\n",
            "Epoch 287/500\n",
            "2/2 [==============================] - 0s 4ms/step - loss: 22.4846 - mae: 22.4846\n",
            "Epoch 288/500\n",
            "2/2 [==============================] - 0s 4ms/step - loss: 22.8896 - mae: 22.8896\n",
            "Epoch 289/500\n",
            "2/2 [==============================] - 0s 4ms/step - loss: 12.1919 - mae: 12.1919\n",
            "Epoch 290/500\n",
            "2/2 [==============================] - 0s 4ms/step - loss: 16.7512 - mae: 16.7512\n",
            "Epoch 291/500\n",
            "2/2 [==============================] - 0s 5ms/step - loss: 17.0827 - mae: 17.0827\n",
            "Epoch 292/500\n",
            "2/2 [==============================] - 0s 4ms/step - loss: 10.2454 - mae: 10.2454\n",
            "Epoch 293/500\n",
            "2/2 [==============================] - 0s 4ms/step - loss: 15.0133 - mae: 15.0133\n",
            "Epoch 294/500\n",
            "2/2 [==============================] - 0s 4ms/step - loss: 22.1723 - mae: 22.1723\n",
            "Epoch 295/500\n",
            "2/2 [==============================] - 0s 4ms/step - loss: 19.1485 - mae: 19.1485\n",
            "Epoch 296/500\n",
            "2/2 [==============================] - 0s 4ms/step - loss: 6.7046 - mae: 6.7046\n",
            "Epoch 297/500\n",
            "2/2 [==============================] - 0s 9ms/step - loss: 9.7326 - mae: 9.7326\n",
            "Epoch 298/500\n",
            "2/2 [==============================] - 0s 4ms/step - loss: 23.8744 - mae: 23.8744\n",
            "Epoch 299/500\n",
            "2/2 [==============================] - 0s 4ms/step - loss: 18.7319 - mae: 18.7319\n",
            "Epoch 300/500\n",
            "2/2 [==============================] - 0s 4ms/step - loss: 8.2973 - mae: 8.2973\n",
            "Epoch 301/500\n",
            "2/2 [==============================] - 0s 4ms/step - loss: 18.8409 - mae: 18.8409\n",
            "Epoch 302/500\n",
            "2/2 [==============================] - 0s 4ms/step - loss: 6.7958 - mae: 6.7958\n",
            "Epoch 303/500\n",
            "2/2 [==============================] - 0s 4ms/step - loss: 15.7684 - mae: 15.7684\n",
            "Epoch 304/500\n",
            "2/2 [==============================] - 0s 4ms/step - loss: 10.7242 - mae: 10.7242\n",
            "Epoch 305/500\n",
            "2/2 [==============================] - 0s 6ms/step - loss: 12.4346 - mae: 12.4346\n",
            "Epoch 306/500\n",
            "2/2 [==============================] - 0s 4ms/step - loss: 8.1955 - mae: 8.1955\n",
            "Epoch 307/500\n",
            "2/2 [==============================] - 0s 5ms/step - loss: 12.8858 - mae: 12.8858\n",
            "Epoch 308/500\n",
            "2/2 [==============================] - 0s 4ms/step - loss: 8.0548 - mae: 8.0548\n",
            "Epoch 309/500\n",
            "2/2 [==============================] - 0s 4ms/step - loss: 11.5218 - mae: 11.5218\n",
            "Epoch 310/500\n",
            "2/2 [==============================] - 0s 4ms/step - loss: 6.2542 - mae: 6.2542\n",
            "Epoch 311/500\n",
            "2/2 [==============================] - 0s 3ms/step - loss: 5.9284 - mae: 5.9284\n",
            "Epoch 312/500\n",
            "2/2 [==============================] - 0s 4ms/step - loss: 28.2911 - mae: 28.2911\n",
            "Epoch 313/500\n",
            "2/2 [==============================] - 0s 4ms/step - loss: 11.8008 - mae: 11.8008\n",
            "Epoch 314/500\n",
            "2/2 [==============================] - 0s 4ms/step - loss: 12.6088 - mae: 12.6088\n",
            "Epoch 315/500\n",
            "2/2 [==============================] - 0s 4ms/step - loss: 24.3574 - mae: 24.3574\n",
            "Epoch 316/500\n",
            "2/2 [==============================] - 0s 4ms/step - loss: 15.0696 - mae: 15.0696\n",
            "Epoch 317/500\n",
            "2/2 [==============================] - 0s 4ms/step - loss: 20.8643 - mae: 20.8643\n",
            "Epoch 318/500\n",
            "2/2 [==============================] - 0s 4ms/step - loss: 9.2636 - mae: 9.2636\n",
            "Epoch 319/500\n",
            "2/2 [==============================] - 0s 4ms/step - loss: 11.8554 - mae: 11.8554\n",
            "Epoch 320/500\n",
            "2/2 [==============================] - 0s 4ms/step - loss: 12.4915 - mae: 12.4915\n",
            "Epoch 321/500\n",
            "2/2 [==============================] - 0s 4ms/step - loss: 5.3781 - mae: 5.3781\n",
            "Epoch 322/500\n",
            "2/2 [==============================] - 0s 4ms/step - loss: 14.1928 - mae: 14.1928\n",
            "Epoch 323/500\n",
            "2/2 [==============================] - 0s 4ms/step - loss: 18.6000 - mae: 18.6000\n",
            "Epoch 324/500\n",
            "2/2 [==============================] - 0s 4ms/step - loss: 18.0820 - mae: 18.0820\n",
            "Epoch 325/500\n",
            "2/2 [==============================] - 0s 4ms/step - loss: 7.2484 - mae: 7.2484\n",
            "Epoch 326/500\n",
            "2/2 [==============================] - 0s 4ms/step - loss: 22.0981 - mae: 22.0981\n",
            "Epoch 327/500\n",
            "2/2 [==============================] - 0s 4ms/step - loss: 22.0724 - mae: 22.0724\n",
            "Epoch 328/500\n",
            "2/2 [==============================] - 0s 4ms/step - loss: 13.2766 - mae: 13.2766\n",
            "Epoch 329/500\n",
            "2/2 [==============================] - 0s 7ms/step - loss: 16.1825 - mae: 16.1825\n",
            "Epoch 330/500\n",
            "2/2 [==============================] - 0s 6ms/step - loss: 7.4284 - mae: 7.4284\n",
            "Epoch 331/500\n",
            "2/2 [==============================] - 0s 5ms/step - loss: 23.0759 - mae: 23.0759\n",
            "Epoch 332/500\n",
            "2/2 [==============================] - 0s 5ms/step - loss: 13.6877 - mae: 13.6877\n",
            "Epoch 333/500\n",
            "2/2 [==============================] - 0s 4ms/step - loss: 10.7601 - mae: 10.7601\n",
            "Epoch 334/500\n",
            "2/2 [==============================] - 0s 4ms/step - loss: 7.0236 - mae: 7.0236\n",
            "Epoch 335/500\n",
            "2/2 [==============================] - 0s 4ms/step - loss: 13.0165 - mae: 13.0165\n",
            "Epoch 336/500\n",
            "2/2 [==============================] - 0s 4ms/step - loss: 32.3524 - mae: 32.3524\n",
            "Epoch 337/500\n",
            "2/2 [==============================] - 0s 4ms/step - loss: 10.5947 - mae: 10.5947\n",
            "Epoch 338/500\n",
            "2/2 [==============================] - 0s 5ms/step - loss: 20.0173 - mae: 20.0173\n",
            "Epoch 339/500\n",
            "2/2 [==============================] - 0s 4ms/step - loss: 34.1446 - mae: 34.1446\n",
            "Epoch 340/500\n",
            "2/2 [==============================] - 0s 4ms/step - loss: 8.7422 - mae: 8.7422\n",
            "Epoch 341/500\n",
            "2/2 [==============================] - 0s 4ms/step - loss: 21.7815 - mae: 21.7815\n",
            "Epoch 342/500\n",
            "2/2 [==============================] - 0s 5ms/step - loss: 13.9024 - mae: 13.9024\n",
            "Epoch 343/500\n",
            "2/2 [==============================] - 0s 5ms/step - loss: 11.7642 - mae: 11.7642\n",
            "Epoch 344/500\n",
            "2/2 [==============================] - 0s 5ms/step - loss: 10.7417 - mae: 10.7417\n",
            "Epoch 345/500\n",
            "2/2 [==============================] - 0s 4ms/step - loss: 30.9473 - mae: 30.9473\n",
            "Epoch 346/500\n",
            "2/2 [==============================] - 0s 4ms/step - loss: 10.6853 - mae: 10.6853\n",
            "Epoch 347/500\n",
            "2/2 [==============================] - 0s 4ms/step - loss: 25.6347 - mae: 25.6347\n",
            "Epoch 348/500\n",
            "2/2 [==============================] - 0s 4ms/step - loss: 13.1381 - mae: 13.1381\n",
            "Epoch 349/500\n",
            "2/2 [==============================] - 0s 4ms/step - loss: 13.1167 - mae: 13.1167\n",
            "Epoch 350/500\n",
            "2/2 [==============================] - 0s 4ms/step - loss: 15.4423 - mae: 15.4423\n",
            "Epoch 351/500\n",
            "2/2 [==============================] - 0s 4ms/step - loss: 32.9139 - mae: 32.9139\n",
            "Epoch 352/500\n",
            "2/2 [==============================] - 0s 4ms/step - loss: 14.0486 - mae: 14.0486\n",
            "Epoch 353/500\n",
            "2/2 [==============================] - 0s 4ms/step - loss: 16.0336 - mae: 16.0336\n",
            "Epoch 354/500\n",
            "2/2 [==============================] - 0s 4ms/step - loss: 13.3822 - mae: 13.3822\n",
            "Epoch 355/500\n",
            "2/2 [==============================] - 0s 4ms/step - loss: 21.5502 - mae: 21.5502\n",
            "Epoch 356/500\n",
            "2/2 [==============================] - 0s 4ms/step - loss: 16.1802 - mae: 16.1802\n",
            "Epoch 357/500\n",
            "2/2 [==============================] - 0s 3ms/step - loss: 11.7655 - mae: 11.7655\n",
            "Epoch 358/500\n",
            "2/2 [==============================] - 0s 4ms/step - loss: 14.8308 - mae: 14.8308\n",
            "Epoch 359/500\n",
            "2/2 [==============================] - 0s 4ms/step - loss: 12.3125 - mae: 12.3125\n",
            "Epoch 360/500\n",
            "2/2 [==============================] - 0s 4ms/step - loss: 20.2803 - mae: 20.2803\n",
            "Epoch 361/500\n",
            "2/2 [==============================] - 0s 4ms/step - loss: 11.0424 - mae: 11.0424\n",
            "Epoch 362/500\n",
            "2/2 [==============================] - 0s 6ms/step - loss: 6.8877 - mae: 6.8877\n",
            "Epoch 363/500\n",
            "2/2 [==============================] - 0s 4ms/step - loss: 23.9662 - mae: 23.9662\n",
            "Epoch 364/500\n",
            "2/2 [==============================] - 0s 4ms/step - loss: 29.7293 - mae: 29.7293\n",
            "Epoch 365/500\n",
            "2/2 [==============================] - 0s 4ms/step - loss: 8.4026 - mae: 8.4026\n",
            "Epoch 366/500\n",
            "2/2 [==============================] - 0s 4ms/step - loss: 6.1592 - mae: 6.1592\n",
            "Epoch 367/500\n",
            "2/2 [==============================] - 0s 4ms/step - loss: 34.7739 - mae: 34.7739\n",
            "Epoch 368/500\n",
            "2/2 [==============================] - 0s 6ms/step - loss: 7.4509 - mae: 7.4509\n",
            "Epoch 369/500\n",
            "2/2 [==============================] - 0s 4ms/step - loss: 8.7935 - mae: 8.7935\n",
            "Epoch 370/500\n",
            "2/2 [==============================] - 0s 4ms/step - loss: 14.3592 - mae: 14.3592\n",
            "Epoch 371/500\n",
            "2/2 [==============================] - 0s 4ms/step - loss: 6.9399 - mae: 6.9399\n",
            "Epoch 372/500\n",
            "2/2 [==============================] - 0s 4ms/step - loss: 6.6168 - mae: 6.6168\n",
            "Epoch 373/500\n",
            "2/2 [==============================] - 0s 4ms/step - loss: 24.2868 - mae: 24.2868\n",
            "Epoch 374/500\n",
            "2/2 [==============================] - 0s 4ms/step - loss: 10.2047 - mae: 10.2047\n",
            "Epoch 375/500\n",
            "2/2 [==============================] - 0s 4ms/step - loss: 12.8273 - mae: 12.8273\n",
            "Epoch 376/500\n",
            "2/2 [==============================] - 0s 4ms/step - loss: 14.6943 - mae: 14.6943\n",
            "Epoch 377/500\n",
            "2/2 [==============================] - 0s 4ms/step - loss: 14.6493 - mae: 14.6493\n",
            "Epoch 378/500\n",
            "2/2 [==============================] - 0s 4ms/step - loss: 16.1784 - mae: 16.1784\n",
            "Epoch 379/500\n",
            "2/2 [==============================] - 0s 4ms/step - loss: 20.5857 - mae: 20.5857\n",
            "Epoch 380/500\n",
            "2/2 [==============================] - 0s 4ms/step - loss: 34.2593 - mae: 34.2593\n",
            "Epoch 381/500\n",
            "2/2 [==============================] - 0s 4ms/step - loss: 8.9140 - mae: 8.9140\n",
            "Epoch 382/500\n",
            "2/2 [==============================] - 0s 5ms/step - loss: 9.6493 - mae: 9.6493\n",
            "Epoch 383/500\n",
            "2/2 [==============================] - 0s 5ms/step - loss: 5.8173 - mae: 5.8173\n",
            "Epoch 384/500\n",
            "2/2 [==============================] - 0s 4ms/step - loss: 8.7155 - mae: 8.7155\n",
            "Epoch 385/500\n",
            "2/2 [==============================] - 0s 4ms/step - loss: 4.9979 - mae: 4.9979\n",
            "Epoch 386/500\n",
            "2/2 [==============================] - 0s 4ms/step - loss: 25.1243 - mae: 25.1243\n",
            "Epoch 387/500\n",
            "2/2 [==============================] - 0s 4ms/step - loss: 15.1210 - mae: 15.1210\n",
            "Epoch 388/500\n",
            "2/2 [==============================] - 0s 4ms/step - loss: 6.6784 - mae: 6.6784\n",
            "Epoch 389/500\n",
            "2/2 [==============================] - 0s 4ms/step - loss: 17.5847 - mae: 17.5847\n",
            "Epoch 390/500\n",
            "2/2 [==============================] - 0s 4ms/step - loss: 23.8705 - mae: 23.8705\n",
            "Epoch 391/500\n",
            "2/2 [==============================] - 0s 7ms/step - loss: 16.4936 - mae: 16.4936\n",
            "Epoch 392/500\n",
            "2/2 [==============================] - 0s 6ms/step - loss: 8.3910 - mae: 8.3910\n",
            "Epoch 393/500\n",
            "2/2 [==============================] - 0s 4ms/step - loss: 18.1621 - mae: 18.1621\n",
            "Epoch 394/500\n",
            "2/2 [==============================] - 0s 4ms/step - loss: 14.2157 - mae: 14.2157\n",
            "Epoch 395/500\n",
            "2/2 [==============================] - 0s 4ms/step - loss: 28.6844 - mae: 28.6844\n",
            "Epoch 396/500\n",
            "2/2 [==============================] - 0s 6ms/step - loss: 8.2485 - mae: 8.2485\n",
            "Epoch 397/500\n",
            "2/2 [==============================] - 0s 4ms/step - loss: 10.2054 - mae: 10.2054\n",
            "Epoch 398/500\n",
            "2/2 [==============================] - 0s 4ms/step - loss: 10.1167 - mae: 10.1167\n",
            "Epoch 399/500\n",
            "2/2 [==============================] - 0s 4ms/step - loss: 6.1079 - mae: 6.1079\n",
            "Epoch 400/500\n",
            "2/2 [==============================] - 0s 4ms/step - loss: 21.8016 - mae: 21.8016\n",
            "Epoch 401/500\n",
            "2/2 [==============================] - 0s 5ms/step - loss: 13.2669 - mae: 13.2669\n",
            "Epoch 402/500\n",
            "2/2 [==============================] - 0s 4ms/step - loss: 22.2719 - mae: 22.2719\n",
            "Epoch 403/500\n",
            "2/2 [==============================] - 0s 4ms/step - loss: 20.8312 - mae: 20.8312\n",
            "Epoch 404/500\n",
            "2/2 [==============================] - 0s 5ms/step - loss: 13.9103 - mae: 13.9103\n",
            "Epoch 405/500\n",
            "2/2 [==============================] - 0s 5ms/step - loss: 6.5216 - mae: 6.5216\n",
            "Epoch 406/500\n",
            "2/2 [==============================] - 0s 4ms/step - loss: 23.8803 - mae: 23.8803\n",
            "Epoch 407/500\n",
            "2/2 [==============================] - 0s 4ms/step - loss: 15.4623 - mae: 15.4623\n",
            "Epoch 408/500\n",
            "2/2 [==============================] - 0s 4ms/step - loss: 5.7137 - mae: 5.7137\n",
            "Epoch 409/500\n",
            "2/2 [==============================] - 0s 4ms/step - loss: 30.8575 - mae: 30.8575\n",
            "Epoch 410/500\n",
            "2/2 [==============================] - 0s 4ms/step - loss: 9.3672 - mae: 9.3672\n",
            "Epoch 411/500\n",
            "2/2 [==============================] - 0s 4ms/step - loss: 14.9521 - mae: 14.9521\n",
            "Epoch 412/500\n",
            "2/2 [==============================] - 0s 4ms/step - loss: 21.8678 - mae: 21.8678\n",
            "Epoch 413/500\n",
            "2/2 [==============================] - 0s 3ms/step - loss: 12.4096 - mae: 12.4096\n",
            "Epoch 414/500\n",
            "2/2 [==============================] - 0s 4ms/step - loss: 6.6593 - mae: 6.6593\n",
            "Epoch 415/500\n",
            "2/2 [==============================] - 0s 4ms/step - loss: 12.7194 - mae: 12.7194\n",
            "Epoch 416/500\n",
            "2/2 [==============================] - 0s 3ms/step - loss: 26.9616 - mae: 26.9616\n",
            "Epoch 417/500\n",
            "2/2 [==============================] - 0s 4ms/step - loss: 11.9903 - mae: 11.9903\n",
            "Epoch 418/500\n",
            "2/2 [==============================] - 0s 4ms/step - loss: 13.0957 - mae: 13.0957\n",
            "Epoch 419/500\n",
            "2/2 [==============================] - 0s 4ms/step - loss: 16.0635 - mae: 16.0635\n",
            "Epoch 420/500\n",
            "2/2 [==============================] - 0s 4ms/step - loss: 25.1106 - mae: 25.1106\n",
            "Epoch 421/500\n",
            "2/2 [==============================] - 0s 4ms/step - loss: 16.5135 - mae: 16.5135\n",
            "Epoch 422/500\n",
            "2/2 [==============================] - 0s 4ms/step - loss: 8.7367 - mae: 8.7367\n",
            "Epoch 423/500\n",
            "2/2 [==============================] - 0s 4ms/step - loss: 24.8467 - mae: 24.8467\n",
            "Epoch 424/500\n",
            "2/2 [==============================] - 0s 4ms/step - loss: 16.2763 - mae: 16.2763\n",
            "Epoch 425/500\n",
            "2/2 [==============================] - 0s 4ms/step - loss: 7.5663 - mae: 7.5663\n",
            "Epoch 426/500\n",
            "2/2 [==============================] - 0s 4ms/step - loss: 21.7205 - mae: 21.7205\n",
            "Epoch 427/500\n",
            "2/2 [==============================] - 0s 4ms/step - loss: 6.7471 - mae: 6.7471\n",
            "Epoch 428/500\n",
            "2/2 [==============================] - 0s 4ms/step - loss: 13.9157 - mae: 13.9157\n",
            "Epoch 429/500\n",
            "2/2 [==============================] - 0s 4ms/step - loss: 11.8556 - mae: 11.8556\n",
            "Epoch 430/500\n",
            "2/2 [==============================] - 0s 4ms/step - loss: 10.6002 - mae: 10.6002\n",
            "Epoch 431/500\n",
            "2/2 [==============================] - 0s 4ms/step - loss: 12.1466 - mae: 12.1466\n",
            "Epoch 432/500\n",
            "2/2 [==============================] - 0s 4ms/step - loss: 7.6994 - mae: 7.6994\n",
            "Epoch 433/500\n",
            "2/2 [==============================] - 0s 4ms/step - loss: 14.8902 - mae: 14.8902\n",
            "Epoch 434/500\n",
            "2/2 [==============================] - 0s 5ms/step - loss: 18.0373 - mae: 18.0373\n",
            "Epoch 435/500\n",
            "2/2 [==============================] - 0s 4ms/step - loss: 9.7487 - mae: 9.7487\n",
            "Epoch 436/500\n",
            "2/2 [==============================] - 0s 4ms/step - loss: 27.6964 - mae: 27.6964\n",
            "Epoch 437/500\n",
            "2/2 [==============================] - 0s 4ms/step - loss: 5.4800 - mae: 5.4800\n",
            "Epoch 438/500\n",
            "2/2 [==============================] - 0s 4ms/step - loss: 5.5959 - mae: 5.5959\n",
            "Epoch 439/500\n",
            "2/2 [==============================] - 0s 8ms/step - loss: 43.0701 - mae: 43.0701\n",
            "Epoch 440/500\n",
            "2/2 [==============================] - 0s 5ms/step - loss: 23.9993 - mae: 23.9993\n",
            "Epoch 441/500\n",
            "2/2 [==============================] - 0s 4ms/step - loss: 5.7172 - mae: 5.7172\n",
            "Epoch 442/500\n",
            "2/2 [==============================] - 0s 4ms/step - loss: 21.4309 - mae: 21.4309\n",
            "Epoch 443/500\n",
            "2/2 [==============================] - 0s 4ms/step - loss: 6.6282 - mae: 6.6282\n",
            "Epoch 444/500\n",
            "2/2 [==============================] - 0s 4ms/step - loss: 18.9181 - mae: 18.9181\n",
            "Epoch 445/500\n",
            "2/2 [==============================] - 0s 4ms/step - loss: 14.2481 - mae: 14.2481\n",
            "Epoch 446/500\n",
            "2/2 [==============================] - 0s 4ms/step - loss: 17.0265 - mae: 17.0265\n",
            "Epoch 447/500\n",
            "2/2 [==============================] - 0s 3ms/step - loss: 6.5406 - mae: 6.5406\n",
            "Epoch 448/500\n",
            "2/2 [==============================] - 0s 4ms/step - loss: 7.5263 - mae: 7.5263\n",
            "Epoch 449/500\n",
            "2/2 [==============================] - 0s 4ms/step - loss: 15.0863 - mae: 15.0863\n",
            "Epoch 450/500\n",
            "2/2 [==============================] - 0s 4ms/step - loss: 17.8264 - mae: 17.8264\n",
            "Epoch 451/500\n",
            "2/2 [==============================] - 0s 4ms/step - loss: 14.7431 - mae: 14.7431\n",
            "Epoch 452/500\n",
            "2/2 [==============================] - 0s 4ms/step - loss: 31.5378 - mae: 31.5378\n",
            "Epoch 453/500\n",
            "2/2 [==============================] - 0s 4ms/step - loss: 11.1010 - mae: 11.1010\n",
            "Epoch 454/500\n",
            "2/2 [==============================] - 0s 3ms/step - loss: 26.7973 - mae: 26.7973\n",
            "Epoch 455/500\n",
            "2/2 [==============================] - 0s 4ms/step - loss: 12.4999 - mae: 12.4999\n",
            "Epoch 456/500\n",
            "2/2 [==============================] - 0s 4ms/step - loss: 15.2980 - mae: 15.2980\n",
            "Epoch 457/500\n",
            "2/2 [==============================] - 0s 4ms/step - loss: 18.9579 - mae: 18.9579\n",
            "Epoch 458/500\n",
            "2/2 [==============================] - 0s 4ms/step - loss: 23.6944 - mae: 23.6944\n",
            "Epoch 459/500\n",
            "2/2 [==============================] - 0s 4ms/step - loss: 17.1271 - mae: 17.1271\n",
            "Epoch 460/500\n",
            "2/2 [==============================] - 0s 4ms/step - loss: 5.4324 - mae: 5.4324\n",
            "Epoch 461/500\n",
            "2/2 [==============================] - 0s 4ms/step - loss: 17.6198 - mae: 17.6198\n",
            "Epoch 462/500\n",
            "2/2 [==============================] - 0s 4ms/step - loss: 14.2820 - mae: 14.2820\n",
            "Epoch 463/500\n",
            "2/2 [==============================] - 0s 4ms/step - loss: 21.4268 - mae: 21.4268\n",
            "Epoch 464/500\n",
            "2/2 [==============================] - 0s 4ms/step - loss: 22.8511 - mae: 22.8511\n",
            "Epoch 465/500\n",
            "2/2 [==============================] - 0s 4ms/step - loss: 12.3685 - mae: 12.3685\n",
            "Epoch 466/500\n",
            "2/2 [==============================] - 0s 4ms/step - loss: 9.4222 - mae: 9.4222\n",
            "Epoch 467/500\n",
            "2/2 [==============================] - 0s 5ms/step - loss: 21.5919 - mae: 21.5919\n",
            "Epoch 468/500\n",
            "2/2 [==============================] - 0s 4ms/step - loss: 23.7322 - mae: 23.7322\n",
            "Epoch 469/500\n",
            "2/2 [==============================] - 0s 4ms/step - loss: 21.1449 - mae: 21.1449\n",
            "Epoch 470/500\n",
            "2/2 [==============================] - 0s 3ms/step - loss: 9.1719 - mae: 9.1719\n",
            "Epoch 471/500\n",
            "2/2 [==============================] - 0s 4ms/step - loss: 19.6994 - mae: 19.6994\n",
            "Epoch 472/500\n",
            "2/2 [==============================] - 0s 4ms/step - loss: 14.0778 - mae: 14.0778\n",
            "Epoch 473/500\n",
            "2/2 [==============================] - 0s 4ms/step - loss: 16.4490 - mae: 16.4490\n",
            "Epoch 474/500\n",
            "2/2 [==============================] - 0s 4ms/step - loss: 47.3843 - mae: 47.3843\n",
            "Epoch 475/500\n",
            "2/2 [==============================] - 0s 4ms/step - loss: 21.5969 - mae: 21.5969\n",
            "Epoch 476/500\n",
            "2/2 [==============================] - 0s 4ms/step - loss: 12.7147 - mae: 12.7147\n",
            "Epoch 477/500\n",
            "2/2 [==============================] - 0s 4ms/step - loss: 28.7869 - mae: 28.7869\n",
            "Epoch 478/500\n",
            "2/2 [==============================] - 0s 4ms/step - loss: 6.5187 - mae: 6.5187\n",
            "Epoch 479/500\n",
            "2/2 [==============================] - 0s 4ms/step - loss: 5.6576 - mae: 5.6576\n",
            "Epoch 480/500\n",
            "2/2 [==============================] - 0s 4ms/step - loss: 17.0947 - mae: 17.0947\n",
            "Epoch 481/500\n",
            "2/2 [==============================] - 0s 4ms/step - loss: 11.3001 - mae: 11.3001\n",
            "Epoch 482/500\n",
            "2/2 [==============================] - 0s 4ms/step - loss: 19.1321 - mae: 19.1321\n",
            "Epoch 483/500\n",
            "2/2 [==============================] - 0s 4ms/step - loss: 30.2621 - mae: 30.2621\n",
            "Epoch 484/500\n",
            "2/2 [==============================] - 0s 5ms/step - loss: 28.5554 - mae: 28.5554\n",
            "Epoch 485/500\n",
            "2/2 [==============================] - 0s 5ms/step - loss: 9.9123 - mae: 9.9123\n",
            "Epoch 486/500\n",
            "2/2 [==============================] - 0s 4ms/step - loss: 7.0358 - mae: 7.0358\n",
            "Epoch 487/500\n",
            "2/2 [==============================] - 0s 4ms/step - loss: 6.3552 - mae: 6.3552\n",
            "Epoch 488/500\n",
            "2/2 [==============================] - 0s 5ms/step - loss: 29.5956 - mae: 29.5956\n",
            "Epoch 489/500\n",
            "2/2 [==============================] - 0s 4ms/step - loss: 12.7322 - mae: 12.7322\n",
            "Epoch 490/500\n",
            "2/2 [==============================] - 0s 4ms/step - loss: 13.1495 - mae: 13.1495\n",
            "Epoch 491/500\n",
            "2/2 [==============================] - 0s 4ms/step - loss: 24.4366 - mae: 24.4366\n",
            "Epoch 492/500\n",
            "2/2 [==============================] - 0s 4ms/step - loss: 18.4416 - mae: 18.4416\n",
            "Epoch 493/500\n",
            "2/2 [==============================] - 0s 4ms/step - loss: 4.8138 - mae: 4.8138\n",
            "Epoch 494/500\n",
            "2/2 [==============================] - 0s 4ms/step - loss: 11.8242 - mae: 11.8242\n",
            "Epoch 495/500\n",
            "2/2 [==============================] - 0s 4ms/step - loss: 13.8164 - mae: 13.8164\n",
            "Epoch 496/500\n",
            "2/2 [==============================] - 0s 5ms/step - loss: 12.0974 - mae: 12.0974\n",
            "Epoch 497/500\n",
            "2/2 [==============================] - 0s 4ms/step - loss: 17.1355 - mae: 17.1355\n",
            "Epoch 498/500\n",
            "2/2 [==============================] - 0s 4ms/step - loss: 9.1545 - mae: 9.1545\n",
            "Epoch 499/500\n",
            "2/2 [==============================] - 0s 4ms/step - loss: 20.7174 - mae: 20.7174\n",
            "Epoch 500/500\n",
            "2/2 [==============================] - 0s 4ms/step - loss: 14.3858 - mae: 14.3858\n"
          ]
        },
        {
          "output_type": "execute_result",
          "data": {
            "text/plain": [
              "<keras.callbacks.History at 0x7f0dfbf343d0>"
            ]
          },
          "metadata": {},
          "execution_count": 54
        }
      ]
    },
    {
      "cell_type": "code",
      "source": [
        "# Make and plot prediction of model_3\n",
        "y_preds_3 = model_3.predict(tf.expand_dims(X_test, axis=1))\n",
        "plot_predictions(predictions=y_preds_3)"
      ],
      "metadata": {
        "colab": {
          "base_uri": "https://localhost:8080/",
          "height": 469
        },
        "id": "kmVo9ozJZh7h",
        "outputId": "1506d496-ce6f-4e57-fa25-7da2782b8e0e"
      },
      "execution_count": null,
      "outputs": [
        {
          "output_type": "stream",
          "name": "stdout",
          "text": [
            "1/1 [==============================] - 0s 47ms/step\n"
          ]
        },
        {
          "output_type": "display_data",
          "data": {
            "text/plain": [
              "<Figure size 1000x700 with 1 Axes>"
            ],
            "image/png": "[encoded data removed]"
          },
          "metadata": {}
        }
      ]
    },
    {
      "cell_type": "code",
      "source": [
        "# Calculate model_3 evaluation metrics\n",
        "mae_3 = mae(y_test, y_preds_3)\n",
        "mse_3 = mse(y_test, y_preds_3)\n",
        "mae_3, mse_3"
      ],
      "metadata": {
        "colab": {
          "base_uri": "https://localhost:8080/"
        },
        "id": "yxmzEyy7ZyYO",
        "outputId": "e7104490-5c73-430c-d81d-9875bb5336f0"
      },
      "execution_count": null,
      "outputs": [
        {
          "output_type": "execute_result",
          "data": {
            "text/plain": [
              "(<tf.Tensor: shape=(), dtype=float32, numpy=67.94715>,\n",
              " <tf.Tensor: shape=(), dtype=float32, numpy=4701.4766>)"
            ]
          },
          "metadata": {},
          "execution_count": 56
        }
      ]
    },
    {
      "cell_type": "markdown",
      "source": [
        "🔑 **Note:** You want to start with small experiments and make sure they work and then increase their scale when necessary"
      ],
      "metadata": {
        "id": "VmvOla1FbZ1z"
      }
    },
    {
      "cell_type": "markdown",
      "source": [
        "## Comparing the results of our experiments\n",
        "\n",
        "We've run a few experiments, let's compare the results"
      ],
      "metadata": {
        "id": "ph6FbWQmZ7bd"
      }
    },
    {
      "cell_type": "code",
      "source": [
        "# Let's compare our model's results using a pandas Dataframe\n",
        "import pandas as pd\n",
        "\n",
        "model_results = [[\"model_1\", mae_1.numpy(), mse_1.numpy()],\n",
        "                 [\"model_2\", mae_2.numpy(), mse_2.numpy()],\n",
        "                 [\"model_3\", mae_3.numpy(), mse_3.numpy()]]\n",
        "all_results = pd.DataFrame(model_results, columns=[\"model\", \"mae\", \"mse\"])\n",
        "all_results"
      ],
      "metadata": {
        "colab": {
          "base_uri": "https://localhost:8080/",
          "height": 143
        },
        "id": "K5AoGRcabH__",
        "outputId": "02f90906-2dd5-4b7d-e0b3-180dd50633fb"
      },
      "execution_count": null,
      "outputs": [
        {
          "output_type": "execute_result",
          "data": {
            "text/plain": [
              "     model         mae           mse\n",
              "0  model_1  129.817505  17164.058594\n",
              "1  model_2   13.216455    184.647903\n",
              "2  model_3   67.947151   4701.476562"
            ],
            "text/html": [
              "\n",
              "  <div id=\"df-4026e94c-65c7-4a04-b9e2-291512e0e242\">\n",
              "    <div class=\"colab-df-container\">\n",
              "      <div>\n",
              "<style scoped>\n",
              "    .dataframe tbody tr th:only-of-type {\n",
              "        vertical-align: middle;\n",
              "    }\n",
              "\n",
              "    .dataframe tbody tr th {\n",
              "        vertical-align: top;\n",
              "    }\n",
              "\n",
              "    .dataframe thead th {\n",
              "        text-align: right;\n",
              "    }\n",
              "</style>\n",
              "<table border=\"1\" class=\"dataframe\">\n",
              "  <thead>\n",
              "    <tr style=\"text-align: right;\">\n",
              "      <th></th>\n",
              "      <th>model</th>\n",
              "      <th>mae</th>\n",
              "      <th>mse</th>\n",
              "    </tr>\n",
              "  </thead>\n",
              "  <tbody>\n",
              "    <tr>\n",
              "      <th>0</th>\n",
              "      <td>model_1</td>\n",
              "      <td>129.817505</td>\n",
              "      <td>17164.058594</td>\n",
              "    </tr>\n",
              "    <tr>\n",
              "      <th>1</th>\n",
              "      <td>model_2</td>\n",
              "      <td>13.216455</td>\n",
              "      <td>184.647903</td>\n",
              "    </tr>\n",
              "    <tr>\n",
              "      <th>2</th>\n",
              "      <td>model_3</td>\n",
              "      <td>67.947151</td>\n",
              "      <td>4701.476562</td>\n",
              "    </tr>\n",
              "  </tbody>\n",
              "</table>\n",
              "</div>\n",
              "      <button class=\"colab-df-convert\" onclick=\"convertToInteractive('df-4026e94c-65c7-4a04-b9e2-291512e0e242')\"\n",
              "              title=\"Convert this dataframe to an interactive table.\"\n",
              "              style=\"display:none;\">\n",
              "        \n",
              "  <svg xmlns=\"http://www.w3.org/2000/svg\" height=\"24px\"viewBox=\"0 0 24 24\"\n",
              "       width=\"24px\">\n",
              "    <path d=\"M0 0h24v24H0V0z\" fill=\"none\"/>\n",
              "    <path d=\"M18.56 5.44l.94 2.06.94-2.06 2.06-.94-2.06-.94-.94-2.06-.94 2.06-2.06.94zm-11 1L8.5 8.5l.94-2.06 2.06-.94-2.06-.94L8.5 2.5l-.94 2.06-2.06.94zm10 10l.94 2.06.94-2.06 2.06-.94-2.06-.94-.94-2.06-.94 2.06-2.06.94z\"/><path d=\"M17.41 7.96l-1.37-1.37c-.4-.4-.92-.59-1.43-.59-.52 0-1.04.2-1.43.59L10.3 9.45l-7.72 7.72c-.78.78-.78 2.05 0 2.83L4 21.41c.39.39.9.59 1.41.59.51 0 1.02-.2 1.41-.59l7.78-7.78 2.81-2.81c.8-.78.8-2.07 0-2.86zM5.41 20L4 18.59l7.72-7.72 1.47 1.35L5.41 20z\"/>\n",
              "  </svg>\n",
              "      </button>\n",
              "      \n",
              "  <style>\n",
              "    .colab-df-container {\n",
              "      display:flex;\n",
              "      flex-wrap:wrap;\n",
              "      gap: 12px;\n",
              "    }\n",
              "\n",
              "    .colab-df-convert {\n",
              "      background-color: #E8F0FE;\n",
              "      border: none;\n",
              "      border-radius: 50%;\n",
              "      cursor: pointer;\n",
              "      display: none;\n",
              "      fill: #1967D2;\n",
              "      height: 32px;\n",
              "      padding: 0 0 0 0;\n",
              "      width: 32px;\n",
              "    }\n",
              "\n",
              "    .colab-df-convert:hover {\n",
              "      background-color: #E2EBFA;\n",
              "      box-shadow: 0px 1px 2px rgba(60, 64, 67, 0.3), 0px 1px 3px 1px rgba(60, 64, 67, 0.15);\n",
              "      fill: #174EA6;\n",
              "    }\n",
              "\n",
              "    [theme=dark] .colab-df-convert {\n",
              "      background-color: #3B4455;\n",
              "      fill: #D2E3FC;\n",
              "    }\n",
              "\n",
              "    [theme=dark] .colab-df-convert:hover {\n",
              "      background-color: #434B5C;\n",
              "      box-shadow: 0px 1px 3px 1px rgba(0, 0, 0, 0.15);\n",
              "      filter: drop-shadow(0px 1px 2px rgba(0, 0, 0, 0.3));\n",
              "      fill: #FFFFFF;\n",
              "    }\n",
              "  </style>\n",
              "\n",
              "      <script>\n",
              "        const buttonEl =\n",
              "          document.querySelector('#df-4026e94c-65c7-4a04-b9e2-291512e0e242 button.colab-df-convert');\n",
              "        buttonEl.style.display =\n",
              "          google.colab.kernel.accessAllowed ? 'block' : 'none';\n",
              "\n",
              "        async function convertToInteractive(key) {\n",
              "          const element = document.querySelector('#df-4026e94c-65c7-4a04-b9e2-291512e0e242');\n",
              "          const dataTable =\n",
              "            await google.colab.kernel.invokeFunction('convertToInteractive',\n",
              "                                                     [key], {});\n",
              "          if (!dataTable) return;\n",
              "\n",
              "          const docLinkHtml = 'Like what you see? Visit the ' +\n",
              "            '<a target=\"_blank\" href=https://colab.research.google.com/notebooks/data_table.ipynb>data table notebook</a>'\n",
              "            + ' to learn more about interactive tables.';\n",
              "          element.innerHTML = '';\n",
              "          dataTable['output_type'] = 'display_data';\n",
              "          await google.colab.output.renderOutput(dataTable, element);\n",
              "          const docLink = document.createElement('div');\n",
              "          docLink.innerHTML = docLinkHtml;\n",
              "          element.appendChild(docLink);\n",
              "        }\n",
              "      </script>\n",
              "    </div>\n",
              "  </div>\n",
              "  "
            ]
          },
          "metadata": {},
          "execution_count": 57
        }
      ]
    },
    {
      "cell_type": "markdown",
      "source": [
        "Looks like `model_2` performed the best..."
      ],
      "metadata": {
        "id": "RcwHxr-rcsmL"
      }
    },
    {
      "cell_type": "code",
      "source": [
        "model_2.summary()"
      ],
      "metadata": {
        "colab": {
          "base_uri": "https://localhost:8080/"
        },
        "id": "SGf0zzk7cRCQ",
        "outputId": "9dd3cf85-85fa-4bbf-f2e1-d126f10c1f96"
      },
      "execution_count": null,
      "outputs": [
        {
          "output_type": "stream",
          "name": "stdout",
          "text": [
            "Model: \"sequential_5\"\n",
            "_________________________________________________________________\n",
            " Layer (type)                Output Shape              Param #   \n",
            "=================================================================\n",
            " dense_6 (Dense)             (None, 10)                20        \n",
            "                                                                 \n",
            " dense_7 (Dense)             (None, 1)                 11        \n",
            "                                                                 \n",
            "=================================================================\n",
            "Total params: 31\n",
            "Trainable params: 31\n",
            "Non-trainable params: 0\n",
            "_________________________________________________________________\n"
          ]
        }
      ]
    },
    {
      "cell_type": "markdown",
      "source": [
        "> 🔑 **Note:** One of your main goals should be to minimize the time between your experiments. The more experiments you do, the more things you'll figure out which don't work and in turn, you will get closer to figuring out what does work. Remember the machine learning practioner's motto: \"experiment, experiment, experiment\"."
      ],
      "metadata": {
        "id": "uBg6hJZAcxMH"
      }
    },
    {
      "cell_type": "markdown",
      "source": [
        "## Tracking your experiments\n",
        "\n",
        "One really good habit in machine learning modelling is to track the results of your experiments.\n",
        "\n",
        "And when doing so, it can be very tedious if you're running lots of experiments.\n",
        "\n",
        "Luckily, there are tools to help!\n",
        "\n",
        "📖 **Resource:** As you build more models, you'll want to look into using:\n",
        "* **TensorBoard** - a component of the TensorFlow library to help track modelling experiments.\n",
        "* **Weights & Biases** - a tool for trackiing all kinds of machine learning experiments (plugs straight into TensorBoard)."
      ],
      "metadata": {
        "id": "c_Pqn9bmcgIW"
      }
    },
    {
      "cell_type": "markdown",
      "source": [
        "## Saving our models\n",
        "\n",
        "Saving our models allows us to use them outside of google colab or wherever they were trained auch as in a web application or a mobile app.\n",
        "\n",
        "There are two  main formats we can save our models too:\n",
        "\n",
        "1. The SavedModel format\n",
        "2. The HDF5 format"
      ],
      "metadata": {
        "id": "r4F3KNeDeRjI"
      }
    },
    {
      "cell_type": "code",
      "source": [
        "# Save model using the SavedModel format\n",
        "model_2.save(\"best_model_SavedModel_format\")"
      ],
      "metadata": {
        "id": "dZQc61PDeYij",
        "colab": {
          "base_uri": "https://localhost:8080/"
        },
        "outputId": "c3aaa986-20df-40c8-b13a-d3d435e09932"
      },
      "execution_count": null,
      "outputs": [
        {
          "output_type": "stream",
          "name": "stderr",
          "text": [
            "WARNING:absl:Found untraced functions such as _update_step_xla while saving (showing 1 of 1). These functions will not be directly callable after loading.\n"
          ]
        }
      ]
    },
    {
      "cell_type": "code",
      "source": [
        "# Save the model using HDF5 format\n",
        "model_2.save(\"best_model_HDF5_format.h5\")"
      ],
      "metadata": {
        "id": "aIzxksAEN8U3"
      },
      "execution_count": null,
      "outputs": []
    },
    {
      "cell_type": "markdown",
      "source": [
        "## Loading in a saved model"
      ],
      "metadata": {
        "id": "2cbPmb6zOtSE"
      }
    },
    {
      "cell_type": "code",
      "source": [
        "# Load in the SavedModel format model\n",
        "loaded_SavedModel_format = tf.keras.models.load_model(\"/content/best_model_SavedModel_format\")\n",
        "loaded_SavedModel_format.summary()"
      ],
      "metadata": {
        "colab": {
          "base_uri": "https://localhost:8080/"
        },
        "id": "Z27hUUDDPP6C",
        "outputId": "c68c6268-e33b-407a-c9ef-cb4b2a412e92"
      },
      "execution_count": null,
      "outputs": [
        {
          "output_type": "stream",
          "name": "stdout",
          "text": [
            "Model: \"sequential_5\"\n",
            "_________________________________________________________________\n",
            " Layer (type)                Output Shape              Param #   \n",
            "=================================================================\n",
            " dense_6 (Dense)             (None, 10)                20        \n",
            "                                                                 \n",
            " dense_7 (Dense)             (None, 1)                 11        \n",
            "                                                                 \n",
            "=================================================================\n",
            "Total params: 31\n",
            "Trainable params: 31\n",
            "Non-trainable params: 0\n",
            "_________________________________________________________________\n"
          ]
        }
      ]
    },
    {
      "cell_type": "code",
      "source": [
        "# compare model_2 predictions with SavedModel format model predictions\n",
        "model_2_preds = model_2.predict(tf.expand_dims(X_test, axis=1))\n",
        "loaded_SavedModel_format_preds = loaded_SavedModel_format.predict(X_test)\n",
        "model_2_preds == loaded_SavedModel_format_preds"
      ],
      "metadata": {
        "colab": {
          "base_uri": "https://localhost:8080/"
        },
        "id": "ytYX8h1ePypZ",
        "outputId": "3e08cded-4b62-4161-b70f-33ba528d02bf"
      },
      "execution_count": null,
      "outputs": [
        {
          "output_type": "stream",
          "name": "stdout",
          "text": [
            "1/1 [==============================] - 0s 31ms/step\n",
            "1/1 [==============================] - 0s 74ms/step\n"
          ]
        },
        {
          "output_type": "execute_result",
          "data": {
            "text/plain": [
              "array([[ True],\n",
              "       [ True],\n",
              "       [ True],\n",
              "       [ True],\n",
              "       [ True],\n",
              "       [ True],\n",
              "       [ True],\n",
              "       [ True],\n",
              "       [ True],\n",
              "       [ True]])"
            ]
          },
          "metadata": {},
          "execution_count": 62
        }
      ]
    },
    {
      "cell_type": "code",
      "source": [
        "# Load in a model using .h5 format\n",
        "loaded_h5_model = tf.keras.models.load_model(\"/content/best_model_HDF5_format.h5\")\n",
        "loaded_h5_model.summary()"
      ],
      "metadata": {
        "colab": {
          "base_uri": "https://localhost:8080/"
        },
        "id": "5wsdZlfFQ5jO",
        "outputId": "0851e69d-67a8-4f80-d41a-b5277b9f558a"
      },
      "execution_count": null,
      "outputs": [
        {
          "output_type": "stream",
          "name": "stdout",
          "text": [
            "Model: \"sequential_5\"\n",
            "_________________________________________________________________\n",
            " Layer (type)                Output Shape              Param #   \n",
            "=================================================================\n",
            " dense_6 (Dense)             (None, 10)                20        \n",
            "                                                                 \n",
            " dense_7 (Dense)             (None, 1)                 11        \n",
            "                                                                 \n",
            "=================================================================\n",
            "Total params: 31\n",
            "Trainable params: 31\n",
            "Non-trainable params: 0\n",
            "_________________________________________________________________\n"
          ]
        }
      ]
    },
    {
      "cell_type": "code",
      "source": [
        "model_2.summary()"
      ],
      "metadata": {
        "colab": {
          "base_uri": "https://localhost:8080/"
        },
        "id": "p_brCzRdRX0-",
        "outputId": "e3b9fa4f-44aa-4360-dbec-60eef4c5b668"
      },
      "execution_count": null,
      "outputs": [
        {
          "output_type": "stream",
          "name": "stdout",
          "text": [
            "Model: \"sequential_5\"\n",
            "_________________________________________________________________\n",
            " Layer (type)                Output Shape              Param #   \n",
            "=================================================================\n",
            " dense_6 (Dense)             (None, 10)                20        \n",
            "                                                                 \n",
            " dense_7 (Dense)             (None, 1)                 11        \n",
            "                                                                 \n",
            "=================================================================\n",
            "Total params: 31\n",
            "Trainable params: 31\n",
            "Non-trainable params: 0\n",
            "_________________________________________________________________\n"
          ]
        }
      ]
    },
    {
      "cell_type": "code",
      "source": [
        "# Check to see if loaded.h5 model prediction match model_2\n",
        "model_2_preds = model_2.predict(tf.expand_dims(X_test, axis=1))\n",
        "loaded_h5_model_preds = loaded_h5_model.predict(tf.expand_dims(X_test, axis=1))\n",
        "model_2_preds == loaded_h5_model_preds"
      ],
      "metadata": {
        "colab": {
          "base_uri": "https://localhost:8080/"
        },
        "id": "Py2YDMiIRk9C",
        "outputId": "c60c1795-db56-47e2-98b2-ee84105c1854"
      },
      "execution_count": null,
      "outputs": [
        {
          "output_type": "stream",
          "name": "stdout",
          "text": [
            "1/1 [==============================] - 0s 42ms/step\n",
            "1/1 [==============================] - 0s 61ms/step\n"
          ]
        },
        {
          "output_type": "execute_result",
          "data": {
            "text/plain": [
              "array([[ True],\n",
              "       [ True],\n",
              "       [ True],\n",
              "       [ True],\n",
              "       [ True],\n",
              "       [ True],\n",
              "       [ True],\n",
              "       [ True],\n",
              "       [ True],\n",
              "       [ True]])"
            ]
          },
          "metadata": {},
          "execution_count": 65
        }
      ]
    },
    {
      "cell_type": "markdown",
      "source": [
        "## Download a model or any other file from google colab\n",
        "\n",
        "If you want to download your files from google colab:\n",
        "\n",
        "1. you can go to the files tab and right click on the file and click \"download\".\n",
        "2. use code (see the cell below).\n",
        "3. save it to google drive by connecting google drive and copying it there (see 2nd code cell below)."
      ],
      "metadata": {
        "id": "m3o2ljOhR649"
      }
    },
    {
      "cell_type": "code",
      "source": [
        "# Download a file from google colab\n",
        "# from google.colab import files\n",
        "# files.download(\"/content/best_model_HDF5_format.h5\")"
      ],
      "metadata": {
        "colab": {
          "base_uri": "https://localhost:8080/",
          "height": 17
        },
        "id": "uaDZ7JtNSbfy",
        "outputId": "de2c1d98-9760-4519-9a2f-243648164482"
      },
      "execution_count": null,
      "outputs": [
        {
          "output_type": "display_data",
          "data": {
            "text/plain": [
              "<IPython.core.display.Javascript object>"
            ],
            "application/javascript": [
              "\n",
              "    async function download(id, filename, size) {\n",
              "      if (!google.colab.kernel.accessAllowed) {\n",
              "        return;\n",
              "      }\n",
              "      const div = document.createElement('div');\n",
              "      const label = document.createElement('label');\n",
              "      label.textContent = `Downloading \"${filename}\": `;\n",
              "      div.appendChild(label);\n",
              "      const progress = document.createElement('progress');\n",
              "      progress.max = size;\n",
              "      div.appendChild(progress);\n",
              "      document.body.appendChild(div);\n",
              "\n",
              "      const buffers = [];\n",
              "      let downloaded = 0;\n",
              "\n",
              "      const channel = await google.colab.kernel.comms.open(id);\n",
              "      // Send a message to notify the kernel that we're ready.\n",
              "      channel.send({})\n",
              "\n",
              "      for await (const message of channel.messages) {\n",
              "        // Send a message to notify the kernel that we're ready.\n",
              "        channel.send({})\n",
              "        if (message.buffers) {\n",
              "          for (const buffer of message.buffers) {\n",
              "            buffers.push(buffer);\n",
              "            downloaded += buffer.byteLength;\n",
              "            progress.value = downloaded;\n",
              "          }\n",
              "        }\n",
              "      }\n",
              "      const blob = new Blob(buffers, {type: 'application/binary'});\n",
              "      const a = document.createElement('a');\n",
              "      a.href = window.URL.createObjectURL(blob);\n",
              "      a.download = filename;\n",
              "      div.appendChild(a);\n",
              "      a.click();\n",
              "      div.remove();\n",
              "    }\n",
              "  "
            ]
          },
          "metadata": {}
        },
        {
          "output_type": "display_data",
          "data": {
            "text/plain": [
              "<IPython.core.display.Javascript object>"
            ],
            "application/javascript": [
              "download(\"download_671d1790-d720-4e63-9098-f825204981db\", \"best_model_HDF5_format.h5\", 21952)"
            ]
          },
          "metadata": {}
        }
      ]
    },
    {
      "cell_type": "code",
      "source": [
        "# Save a file from google colab to google drive\n",
        "# !cp /content/best_model_HDF5_format.h5 /content/drive/MyDrive/TenserFlow"
      ],
      "metadata": {
        "id": "QT-MLGNHS_wr"
      },
      "execution_count": null,
      "outputs": []
    },
    {
      "cell_type": "code",
      "source": [
        "# !ls /content/drive/MyDrive/TenserFlow"
      ],
      "metadata": {
        "colab": {
          "base_uri": "https://localhost:8080/"
        },
        "id": "Y63oAxkDTq1M",
        "outputId": "8b7165b1-32bb-44c4-bc3a-0a00d8fa687a"
      },
      "execution_count": null,
      "outputs": [
        {
          "output_type": "stream",
          "name": "stdout",
          "text": [
            "best_model_HDF5_format.h5\n"
          ]
        }
      ]
    },
    {
      "cell_type": "markdown",
      "source": [
        "## A larger example"
      ],
      "metadata": {
        "id": "gfojIOtATv-k"
      }
    },
    {
      "cell_type": "code",
      "source": [
        "# Import the required libraries\n",
        "import tensorflow as tf\n",
        "import pandas as pd\n",
        "import matplotlib.pyplot as plt\n"
      ],
      "metadata": {
        "id": "NGBXdtBD_B7A"
      },
      "execution_count": null,
      "outputs": []
    },
    {
      "cell_type": "code",
      "source": [
        "# Read in the insurance dataset\n",
        "insurance = pd.read_csv(\"https://raw.githubusercontent.com/stedy/Machine-Learning-with-R-datasets/master/insurance.csv\")\n",
        "insurance"
      ],
      "metadata": {
        "colab": {
          "base_uri": "https://localhost:8080/",
          "height": 423
        },
        "id": "6hFUSlbiAENb",
        "outputId": "6ca059d7-9d4f-472f-a3fc-e16c22d50beb"
      },
      "execution_count": null,
      "outputs": [
        {
          "output_type": "execute_result",
          "data": {
            "text/plain": [
              "      age     sex     bmi  children smoker     region      charges\n",
              "0      19  female  27.900         0    yes  southwest  16884.92400\n",
              "1      18    male  33.770         1     no  southeast   1725.55230\n",
              "2      28    male  33.000         3     no  southeast   4449.46200\n",
              "3      33    male  22.705         0     no  northwest  21984.47061\n",
              "4      32    male  28.880         0     no  northwest   3866.85520\n",
              "...   ...     ...     ...       ...    ...        ...          ...\n",
              "1333   50    male  30.970         3     no  northwest  10600.54830\n",
              "1334   18  female  31.920         0     no  northeast   2205.98080\n",
              "1335   18  female  36.850         0     no  southeast   1629.83350\n",
              "1336   21  female  25.800         0     no  southwest   2007.94500\n",
              "1337   61  female  29.070         0    yes  northwest  29141.36030\n",
              "\n",
              "[1338 rows x 7 columns]"
            ],
            "text/html": [
              "\n",
              "  <div id=\"df-cb40b212-7f18-4c59-bc56-478fe8659d87\">\n",
              "    <div class=\"colab-df-container\">\n",
              "      <div>\n",
              "<style scoped>\n",
              "    .dataframe tbody tr th:only-of-type {\n",
              "        vertical-align: middle;\n",
              "    }\n",
              "\n",
              "    .dataframe tbody tr th {\n",
              "        vertical-align: top;\n",
              "    }\n",
              "\n",
              "    .dataframe thead th {\n",
              "        text-align: right;\n",
              "    }\n",
              "</style>\n",
              "<table border=\"1\" class=\"dataframe\">\n",
              "  <thead>\n",
              "    <tr style=\"text-align: right;\">\n",
              "      <th></th>\n",
              "      <th>age</th>\n",
              "      <th>sex</th>\n",
              "      <th>bmi</th>\n",
              "      <th>children</th>\n",
              "      <th>smoker</th>\n",
              "      <th>region</th>\n",
              "      <th>charges</th>\n",
              "    </tr>\n",
              "  </thead>\n",
              "  <tbody>\n",
              "    <tr>\n",
              "      <th>0</th>\n",
              "      <td>19</td>\n",
              "      <td>female</td>\n",
              "      <td>27.900</td>\n",
              "      <td>0</td>\n",
              "      <td>yes</td>\n",
              "      <td>southwest</td>\n",
              "      <td>16884.92400</td>\n",
              "    </tr>\n",
              "    <tr>\n",
              "      <th>1</th>\n",
              "      <td>18</td>\n",
              "      <td>male</td>\n",
              "      <td>33.770</td>\n",
              "      <td>1</td>\n",
              "      <td>no</td>\n",
              "      <td>southeast</td>\n",
              "      <td>1725.55230</td>\n",
              "    </tr>\n",
              "    <tr>\n",
              "      <th>2</th>\n",
              "      <td>28</td>\n",
              "      <td>male</td>\n",
              "      <td>33.000</td>\n",
              "      <td>3</td>\n",
              "      <td>no</td>\n",
              "      <td>southeast</td>\n",
              "      <td>4449.46200</td>\n",
              "    </tr>\n",
              "    <tr>\n",
              "      <th>3</th>\n",
              "      <td>33</td>\n",
              "      <td>male</td>\n",
              "      <td>22.705</td>\n",
              "      <td>0</td>\n",
              "      <td>no</td>\n",
              "      <td>northwest</td>\n",
              "      <td>21984.47061</td>\n",
              "    </tr>\n",
              "    <tr>\n",
              "      <th>4</th>\n",
              "      <td>32</td>\n",
              "      <td>male</td>\n",
              "      <td>28.880</td>\n",
              "      <td>0</td>\n",
              "      <td>no</td>\n",
              "      <td>northwest</td>\n",
              "      <td>3866.85520</td>\n",
              "    </tr>\n",
              "    <tr>\n",
              "      <th>...</th>\n",
              "      <td>...</td>\n",
              "      <td>...</td>\n",
              "      <td>...</td>\n",
              "      <td>...</td>\n",
              "      <td>...</td>\n",
              "      <td>...</td>\n",
              "      <td>...</td>\n",
              "    </tr>\n",
              "    <tr>\n",
              "      <th>1333</th>\n",
              "      <td>50</td>\n",
              "      <td>male</td>\n",
              "      <td>30.970</td>\n",
              "      <td>3</td>\n",
              "      <td>no</td>\n",
              "      <td>northwest</td>\n",
              "      <td>10600.54830</td>\n",
              "    </tr>\n",
              "    <tr>\n",
              "      <th>1334</th>\n",
              "      <td>18</td>\n",
              "      <td>female</td>\n",
              "      <td>31.920</td>\n",
              "      <td>0</td>\n",
              "      <td>no</td>\n",
              "      <td>northeast</td>\n",
              "      <td>2205.98080</td>\n",
              "    </tr>\n",
              "    <tr>\n",
              "      <th>1335</th>\n",
              "      <td>18</td>\n",
              "      <td>female</td>\n",
              "      <td>36.850</td>\n",
              "      <td>0</td>\n",
              "      <td>no</td>\n",
              "      <td>southeast</td>\n",
              "      <td>1629.83350</td>\n",
              "    </tr>\n",
              "    <tr>\n",
              "      <th>1336</th>\n",
              "      <td>21</td>\n",
              "      <td>female</td>\n",
              "      <td>25.800</td>\n",
              "      <td>0</td>\n",
              "      <td>no</td>\n",
              "      <td>southwest</td>\n",
              "      <td>2007.94500</td>\n",
              "    </tr>\n",
              "    <tr>\n",
              "      <th>1337</th>\n",
              "      <td>61</td>\n",
              "      <td>female</td>\n",
              "      <td>29.070</td>\n",
              "      <td>0</td>\n",
              "      <td>yes</td>\n",
              "      <td>northwest</td>\n",
              "      <td>29141.36030</td>\n",
              "    </tr>\n",
              "  </tbody>\n",
              "</table>\n",
              "<p>1338 rows × 7 columns</p>\n",
              "</div>\n",
              "      <button class=\"colab-df-convert\" onclick=\"convertToInteractive('df-cb40b212-7f18-4c59-bc56-478fe8659d87')\"\n",
              "              title=\"Convert this dataframe to an interactive table.\"\n",
              "              style=\"display:none;\">\n",
              "        \n",
              "  <svg xmlns=\"http://www.w3.org/2000/svg\" height=\"24px\"viewBox=\"0 0 24 24\"\n",
              "       width=\"24px\">\n",
              "    <path d=\"M0 0h24v24H0V0z\" fill=\"none\"/>\n",
              "    <path d=\"M18.56 5.44l.94 2.06.94-2.06 2.06-.94-2.06-.94-.94-2.06-.94 2.06-2.06.94zm-11 1L8.5 8.5l.94-2.06 2.06-.94-2.06-.94L8.5 2.5l-.94 2.06-2.06.94zm10 10l.94 2.06.94-2.06 2.06-.94-2.06-.94-.94-2.06-.94 2.06-2.06.94z\"/><path d=\"M17.41 7.96l-1.37-1.37c-.4-.4-.92-.59-1.43-.59-.52 0-1.04.2-1.43.59L10.3 9.45l-7.72 7.72c-.78.78-.78 2.05 0 2.83L4 21.41c.39.39.9.59 1.41.59.51 0 1.02-.2 1.41-.59l7.78-7.78 2.81-2.81c.8-.78.8-2.07 0-2.86zM5.41 20L4 18.59l7.72-7.72 1.47 1.35L5.41 20z\"/>\n",
              "  </svg>\n",
              "      </button>\n",
              "      \n",
              "  <style>\n",
              "    .colab-df-container {\n",
              "      display:flex;\n",
              "      flex-wrap:wrap;\n",
              "      gap: 12px;\n",
              "    }\n",
              "\n",
              "    .colab-df-convert {\n",
              "      background-color: #E8F0FE;\n",
              "      border: none;\n",
              "      border-radius: 50%;\n",
              "      cursor: pointer;\n",
              "      display: none;\n",
              "      fill: #1967D2;\n",
              "      height: 32px;\n",
              "      padding: 0 0 0 0;\n",
              "      width: 32px;\n",
              "    }\n",
              "\n",
              "    .colab-df-convert:hover {\n",
              "      background-color: #E2EBFA;\n",
              "      box-shadow: 0px 1px 2px rgba(60, 64, 67, 0.3), 0px 1px 3px 1px rgba(60, 64, 67, 0.15);\n",
              "      fill: #174EA6;\n",
              "    }\n",
              "\n",
              "    [theme=dark] .colab-df-convert {\n",
              "      background-color: #3B4455;\n",
              "      fill: #D2E3FC;\n",
              "    }\n",
              "\n",
              "    [theme=dark] .colab-df-convert:hover {\n",
              "      background-color: #434B5C;\n",
              "      box-shadow: 0px 1px 3px 1px rgba(0, 0, 0, 0.15);\n",
              "      filter: drop-shadow(0px 1px 2px rgba(0, 0, 0, 0.3));\n",
              "      fill: #FFFFFF;\n",
              "    }\n",
              "  </style>\n",
              "\n",
              "      <script>\n",
              "        const buttonEl =\n",
              "          document.querySelector('#df-cb40b212-7f18-4c59-bc56-478fe8659d87 button.colab-df-convert');\n",
              "        buttonEl.style.display =\n",
              "          google.colab.kernel.accessAllowed ? 'block' : 'none';\n",
              "\n",
              "        async function convertToInteractive(key) {\n",
              "          const element = document.querySelector('#df-cb40b212-7f18-4c59-bc56-478fe8659d87');\n",
              "          const dataTable =\n",
              "            await google.colab.kernel.invokeFunction('convertToInteractive',\n",
              "                                                     [key], {});\n",
              "          if (!dataTable) return;\n",
              "\n",
              "          const docLinkHtml = 'Like what you see? Visit the ' +\n",
              "            '<a target=\"_blank\" href=https://colab.research.google.com/notebooks/data_table.ipynb>data table notebook</a>'\n",
              "            + ' to learn more about interactive tables.';\n",
              "          element.innerHTML = '';\n",
              "          dataTable['output_type'] = 'display_data';\n",
              "          await google.colab.output.renderOutput(dataTable, element);\n",
              "          const docLink = document.createElement('div');\n",
              "          docLink.innerHTML = docLinkHtml;\n",
              "          element.appendChild(docLink);\n",
              "        }\n",
              "      </script>\n",
              "    </div>\n",
              "  </div>\n",
              "  "
            ]
          },
          "metadata": {},
          "execution_count": 71
        }
      ]
    },
    {
      "cell_type": "code",
      "source": [
        "# One-hot encoding the dataframe so it's all numbers\n",
        "insurance_one_hot = pd.get_dummies(insurance)\n",
        "insurance_one_hot.head()"
      ],
      "metadata": {
        "colab": {
          "base_uri": "https://localhost:8080/",
          "height": 270
        },
        "id": "3OdFz1kAANBh",
        "outputId": "ee7670ea-0b32-4b6f-f0ae-a9e73dc38f7d"
      },
      "execution_count": null,
      "outputs": [
        {
          "output_type": "execute_result",
          "data": {
            "text/plain": [
              "   age     bmi  children      charges  sex_female  sex_male  smoker_no  \\\n",
              "0   19  27.900         0  16884.92400           1         0          0   \n",
              "1   18  33.770         1   1725.55230           0         1          1   \n",
              "2   28  33.000         3   4449.46200           0         1          1   \n",
              "3   33  22.705         0  21984.47061           0         1          1   \n",
              "4   32  28.880         0   3866.85520           0         1          1   \n",
              "\n",
              "   smoker_yes  region_northeast  region_northwest  region_southeast  \\\n",
              "0           1                 0                 0                 0   \n",
              "1           0                 0                 0                 1   \n",
              "2           0                 0                 0                 1   \n",
              "3           0                 0                 1                 0   \n",
              "4           0                 0                 1                 0   \n",
              "\n",
              "   region_southwest  \n",
              "0                 1  \n",
              "1                 0  \n",
              "2                 0  \n",
              "3                 0  \n",
              "4                 0  "
            ],
            "text/html": [
              "\n",
              "  <div id=\"df-67573c36-4d18-41ca-ace7-5f81608683b3\">\n",
              "    <div class=\"colab-df-container\">\n",
              "      <div>\n",
              "<style scoped>\n",
              "    .dataframe tbody tr th:only-of-type {\n",
              "        vertical-align: middle;\n",
              "    }\n",
              "\n",
              "    .dataframe tbody tr th {\n",
              "        vertical-align: top;\n",
              "    }\n",
              "\n",
              "    .dataframe thead th {\n",
              "        text-align: right;\n",
              "    }\n",
              "</style>\n",
              "<table border=\"1\" class=\"dataframe\">\n",
              "  <thead>\n",
              "    <tr style=\"text-align: right;\">\n",
              "      <th></th>\n",
              "      <th>age</th>\n",
              "      <th>bmi</th>\n",
              "      <th>children</th>\n",
              "      <th>charges</th>\n",
              "      <th>sex_female</th>\n",
              "      <th>sex_male</th>\n",
              "      <th>smoker_no</th>\n",
              "      <th>smoker_yes</th>\n",
              "      <th>region_northeast</th>\n",
              "      <th>region_northwest</th>\n",
              "      <th>region_southeast</th>\n",
              "      <th>region_southwest</th>\n",
              "    </tr>\n",
              "  </thead>\n",
              "  <tbody>\n",
              "    <tr>\n",
              "      <th>0</th>\n",
              "      <td>19</td>\n",
              "      <td>27.900</td>\n",
              "      <td>0</td>\n",
              "      <td>16884.92400</td>\n",
              "      <td>1</td>\n",
              "      <td>0</td>\n",
              "      <td>0</td>\n",
              "      <td>1</td>\n",
              "      <td>0</td>\n",
              "      <td>0</td>\n",
              "      <td>0</td>\n",
              "      <td>1</td>\n",
              "    </tr>\n",
              "    <tr>\n",
              "      <th>1</th>\n",
              "      <td>18</td>\n",
              "      <td>33.770</td>\n",
              "      <td>1</td>\n",
              "      <td>1725.55230</td>\n",
              "      <td>0</td>\n",
              "      <td>1</td>\n",
              "      <td>1</td>\n",
              "      <td>0</td>\n",
              "      <td>0</td>\n",
              "      <td>0</td>\n",
              "      <td>1</td>\n",
              "      <td>0</td>\n",
              "    </tr>\n",
              "    <tr>\n",
              "      <th>2</th>\n",
              "      <td>28</td>\n",
              "      <td>33.000</td>\n",
              "      <td>3</td>\n",
              "      <td>4449.46200</td>\n",
              "      <td>0</td>\n",
              "      <td>1</td>\n",
              "      <td>1</td>\n",
              "      <td>0</td>\n",
              "      <td>0</td>\n",
              "      <td>0</td>\n",
              "      <td>1</td>\n",
              "      <td>0</td>\n",
              "    </tr>\n",
              "    <tr>\n",
              "      <th>3</th>\n",
              "      <td>33</td>\n",
              "      <td>22.705</td>\n",
              "      <td>0</td>\n",
              "      <td>21984.47061</td>\n",
              "      <td>0</td>\n",
              "      <td>1</td>\n",
              "      <td>1</td>\n",
              "      <td>0</td>\n",
              "      <td>0</td>\n",
              "      <td>1</td>\n",
              "      <td>0</td>\n",
              "      <td>0</td>\n",
              "    </tr>\n",
              "    <tr>\n",
              "      <th>4</th>\n",
              "      <td>32</td>\n",
              "      <td>28.880</td>\n",
              "      <td>0</td>\n",
              "      <td>3866.85520</td>\n",
              "      <td>0</td>\n",
              "      <td>1</td>\n",
              "      <td>1</td>\n",
              "      <td>0</td>\n",
              "      <td>0</td>\n",
              "      <td>1</td>\n",
              "      <td>0</td>\n",
              "      <td>0</td>\n",
              "    </tr>\n",
              "  </tbody>\n",
              "</table>\n",
              "</div>\n",
              "      <button class=\"colab-df-convert\" onclick=\"convertToInteractive('df-67573c36-4d18-41ca-ace7-5f81608683b3')\"\n",
              "              title=\"Convert this dataframe to an interactive table.\"\n",
              "              style=\"display:none;\">\n",
              "        \n",
              "  <svg xmlns=\"http://www.w3.org/2000/svg\" height=\"24px\"viewBox=\"0 0 24 24\"\n",
              "       width=\"24px\">\n",
              "    <path d=\"M0 0h24v24H0V0z\" fill=\"none\"/>\n",
              "    <path d=\"M18.56 5.44l.94 2.06.94-2.06 2.06-.94-2.06-.94-.94-2.06-.94 2.06-2.06.94zm-11 1L8.5 8.5l.94-2.06 2.06-.94-2.06-.94L8.5 2.5l-.94 2.06-2.06.94zm10 10l.94 2.06.94-2.06 2.06-.94-2.06-.94-.94-2.06-.94 2.06-2.06.94z\"/><path d=\"M17.41 7.96l-1.37-1.37c-.4-.4-.92-.59-1.43-.59-.52 0-1.04.2-1.43.59L10.3 9.45l-7.72 7.72c-.78.78-.78 2.05 0 2.83L4 21.41c.39.39.9.59 1.41.59.51 0 1.02-.2 1.41-.59l7.78-7.78 2.81-2.81c.8-.78.8-2.07 0-2.86zM5.41 20L4 18.59l7.72-7.72 1.47 1.35L5.41 20z\"/>\n",
              "  </svg>\n",
              "      </button>\n",
              "      \n",
              "  <style>\n",
              "    .colab-df-container {\n",
              "      display:flex;\n",
              "      flex-wrap:wrap;\n",
              "      gap: 12px;\n",
              "    }\n",
              "\n",
              "    .colab-df-convert {\n",
              "      background-color: #E8F0FE;\n",
              "      border: none;\n",
              "      border-radius: 50%;\n",
              "      cursor: pointer;\n",
              "      display: none;\n",
              "      fill: #1967D2;\n",
              "      height: 32px;\n",
              "      padding: 0 0 0 0;\n",
              "      width: 32px;\n",
              "    }\n",
              "\n",
              "    .colab-df-convert:hover {\n",
              "      background-color: #E2EBFA;\n",
              "      box-shadow: 0px 1px 2px rgba(60, 64, 67, 0.3), 0px 1px 3px 1px rgba(60, 64, 67, 0.15);\n",
              "      fill: #174EA6;\n",
              "    }\n",
              "\n",
              "    [theme=dark] .colab-df-convert {\n",
              "      background-color: #3B4455;\n",
              "      fill: #D2E3FC;\n",
              "    }\n",
              "\n",
              "    [theme=dark] .colab-df-convert:hover {\n",
              "      background-color: #434B5C;\n",
              "      box-shadow: 0px 1px 3px 1px rgba(0, 0, 0, 0.15);\n",
              "      filter: drop-shadow(0px 1px 2px rgba(0, 0, 0, 0.3));\n",
              "      fill: #FFFFFF;\n",
              "    }\n",
              "  </style>\n",
              "\n",
              "      <script>\n",
              "        const buttonEl =\n",
              "          document.querySelector('#df-67573c36-4d18-41ca-ace7-5f81608683b3 button.colab-df-convert');\n",
              "        buttonEl.style.display =\n",
              "          google.colab.kernel.accessAllowed ? 'block' : 'none';\n",
              "\n",
              "        async function convertToInteractive(key) {\n",
              "          const element = document.querySelector('#df-67573c36-4d18-41ca-ace7-5f81608683b3');\n",
              "          const dataTable =\n",
              "            await google.colab.kernel.invokeFunction('convertToInteractive',\n",
              "                                                     [key], {});\n",
              "          if (!dataTable) return;\n",
              "\n",
              "          const docLinkHtml = 'Like what you see? Visit the ' +\n",
              "            '<a target=\"_blank\" href=https://colab.research.google.com/notebooks/data_table.ipynb>data table notebook</a>'\n",
              "            + ' to learn more about interactive tables.';\n",
              "          element.innerHTML = '';\n",
              "          dataTable['output_type'] = 'display_data';\n",
              "          await google.colab.output.renderOutput(dataTable, element);\n",
              "          const docLink = document.createElement('div');\n",
              "          docLink.innerHTML = docLinkHtml;\n",
              "          element.appendChild(docLink);\n",
              "        }\n",
              "      </script>\n",
              "    </div>\n",
              "  </div>\n",
              "  "
            ]
          },
          "metadata": {},
          "execution_count": 73
        }
      ]
    },
    {
      "cell_type": "code",
      "source": [
        "# Create x and y values\n",
        "X = insurance_one_hot.drop(\"charges\", axis=1)\n",
        "y = insurance_one_hot[\"charges\"]"
      ],
      "metadata": {
        "id": "SgtF7mNFCn4q"
      },
      "execution_count": null,
      "outputs": []
    },
    {
      "cell_type": "code",
      "source": [
        "X.head()"
      ],
      "metadata": {
        "colab": {
          "base_uri": "https://localhost:8080/",
          "height": 270
        },
        "id": "4TBdlybeDFjG",
        "outputId": "5dadecba-6d79-4621-dfcd-aada076bf3db"
      },
      "execution_count": null,
      "outputs": [
        {
          "output_type": "execute_result",
          "data": {
            "text/plain": [
              "   age     bmi  children  sex_female  sex_male  smoker_no  smoker_yes  \\\n",
              "0   19  27.900         0           1         0          0           1   \n",
              "1   18  33.770         1           0         1          1           0   \n",
              "2   28  33.000         3           0         1          1           0   \n",
              "3   33  22.705         0           0         1          1           0   \n",
              "4   32  28.880         0           0         1          1           0   \n",
              "\n",
              "   region_northeast  region_northwest  region_southeast  region_southwest  \n",
              "0                 0                 0                 0                 1  \n",
              "1                 0                 0                 1                 0  \n",
              "2                 0                 0                 1                 0  \n",
              "3                 0                 1                 0                 0  \n",
              "4                 0                 1                 0                 0  "
            ],
            "text/html": [
              "\n",
              "  <div id=\"df-d7748f00-564f-4bf5-b0fc-4b620b5b0cbb\">\n",
              "    <div class=\"colab-df-container\">\n",
              "      <div>\n",
              "<style scoped>\n",
              "    .dataframe tbody tr th:only-of-type {\n",
              "        vertical-align: middle;\n",
              "    }\n",
              "\n",
              "    .dataframe tbody tr th {\n",
              "        vertical-align: top;\n",
              "    }\n",
              "\n",
              "    .dataframe thead th {\n",
              "        text-align: right;\n",
              "    }\n",
              "</style>\n",
              "<table border=\"1\" class=\"dataframe\">\n",
              "  <thead>\n",
              "    <tr style=\"text-align: right;\">\n",
              "      <th></th>\n",
              "      <th>age</th>\n",
              "      <th>bmi</th>\n",
              "      <th>children</th>\n",
              "      <th>sex_female</th>\n",
              "      <th>sex_male</th>\n",
              "      <th>smoker_no</th>\n",
              "      <th>smoker_yes</th>\n",
              "      <th>region_northeast</th>\n",
              "      <th>region_northwest</th>\n",
              "      <th>region_southeast</th>\n",
              "      <th>region_southwest</th>\n",
              "    </tr>\n",
              "  </thead>\n",
              "  <tbody>\n",
              "    <tr>\n",
              "      <th>0</th>\n",
              "      <td>19</td>\n",
              "      <td>27.900</td>\n",
              "      <td>0</td>\n",
              "      <td>1</td>\n",
              "      <td>0</td>\n",
              "      <td>0</td>\n",
              "      <td>1</td>\n",
              "      <td>0</td>\n",
              "      <td>0</td>\n",
              "      <td>0</td>\n",
              "      <td>1</td>\n",
              "    </tr>\n",
              "    <tr>\n",
              "      <th>1</th>\n",
              "      <td>18</td>\n",
              "      <td>33.770</td>\n",
              "      <td>1</td>\n",
              "      <td>0</td>\n",
              "      <td>1</td>\n",
              "      <td>1</td>\n",
              "      <td>0</td>\n",
              "      <td>0</td>\n",
              "      <td>0</td>\n",
              "      <td>1</td>\n",
              "      <td>0</td>\n",
              "    </tr>\n",
              "    <tr>\n",
              "      <th>2</th>\n",
              "      <td>28</td>\n",
              "      <td>33.000</td>\n",
              "      <td>3</td>\n",
              "      <td>0</td>\n",
              "      <td>1</td>\n",
              "      <td>1</td>\n",
              "      <td>0</td>\n",
              "      <td>0</td>\n",
              "      <td>0</td>\n",
              "      <td>1</td>\n",
              "      <td>0</td>\n",
              "    </tr>\n",
              "    <tr>\n",
              "      <th>3</th>\n",
              "      <td>33</td>\n",
              "      <td>22.705</td>\n",
              "      <td>0</td>\n",
              "      <td>0</td>\n",
              "      <td>1</td>\n",
              "      <td>1</td>\n",
              "      <td>0</td>\n",
              "      <td>0</td>\n",
              "      <td>1</td>\n",
              "      <td>0</td>\n",
              "      <td>0</td>\n",
              "    </tr>\n",
              "    <tr>\n",
              "      <th>4</th>\n",
              "      <td>32</td>\n",
              "      <td>28.880</td>\n",
              "      <td>0</td>\n",
              "      <td>0</td>\n",
              "      <td>1</td>\n",
              "      <td>1</td>\n",
              "      <td>0</td>\n",
              "      <td>0</td>\n",
              "      <td>1</td>\n",
              "      <td>0</td>\n",
              "      <td>0</td>\n",
              "    </tr>\n",
              "  </tbody>\n",
              "</table>\n",
              "</div>\n",
              "      <button class=\"colab-df-convert\" onclick=\"convertToInteractive('df-d7748f00-564f-4bf5-b0fc-4b620b5b0cbb')\"\n",
              "              title=\"Convert this dataframe to an interactive table.\"\n",
              "              style=\"display:none;\">\n",
              "        \n",
              "  <svg xmlns=\"http://www.w3.org/2000/svg\" height=\"24px\"viewBox=\"0 0 24 24\"\n",
              "       width=\"24px\">\n",
              "    <path d=\"M0 0h24v24H0V0z\" fill=\"none\"/>\n",
              "    <path d=\"M18.56 5.44l.94 2.06.94-2.06 2.06-.94-2.06-.94-.94-2.06-.94 2.06-2.06.94zm-11 1L8.5 8.5l.94-2.06 2.06-.94-2.06-.94L8.5 2.5l-.94 2.06-2.06.94zm10 10l.94 2.06.94-2.06 2.06-.94-2.06-.94-.94-2.06-.94 2.06-2.06.94z\"/><path d=\"M17.41 7.96l-1.37-1.37c-.4-.4-.92-.59-1.43-.59-.52 0-1.04.2-1.43.59L10.3 9.45l-7.72 7.72c-.78.78-.78 2.05 0 2.83L4 21.41c.39.39.9.59 1.41.59.51 0 1.02-.2 1.41-.59l7.78-7.78 2.81-2.81c.8-.78.8-2.07 0-2.86zM5.41 20L4 18.59l7.72-7.72 1.47 1.35L5.41 20z\"/>\n",
              "  </svg>\n",
              "      </button>\n",
              "      \n",
              "  <style>\n",
              "    .colab-df-container {\n",
              "      display:flex;\n",
              "      flex-wrap:wrap;\n",
              "      gap: 12px;\n",
              "    }\n",
              "\n",
              "    .colab-df-convert {\n",
              "      background-color: #E8F0FE;\n",
              "      border: none;\n",
              "      border-radius: 50%;\n",
              "      cursor: pointer;\n",
              "      display: none;\n",
              "      fill: #1967D2;\n",
              "      height: 32px;\n",
              "      padding: 0 0 0 0;\n",
              "      width: 32px;\n",
              "    }\n",
              "\n",
              "    .colab-df-convert:hover {\n",
              "      background-color: #E2EBFA;\n",
              "      box-shadow: 0px 1px 2px rgba(60, 64, 67, 0.3), 0px 1px 3px 1px rgba(60, 64, 67, 0.15);\n",
              "      fill: #174EA6;\n",
              "    }\n",
              "\n",
              "    [theme=dark] .colab-df-convert {\n",
              "      background-color: #3B4455;\n",
              "      fill: #D2E3FC;\n",
              "    }\n",
              "\n",
              "    [theme=dark] .colab-df-convert:hover {\n",
              "      background-color: #434B5C;\n",
              "      box-shadow: 0px 1px 3px 1px rgba(0, 0, 0, 0.15);\n",
              "      filter: drop-shadow(0px 1px 2px rgba(0, 0, 0, 0.3));\n",
              "      fill: #FFFFFF;\n",
              "    }\n",
              "  </style>\n",
              "\n",
              "      <script>\n",
              "        const buttonEl =\n",
              "          document.querySelector('#df-d7748f00-564f-4bf5-b0fc-4b620b5b0cbb button.colab-df-convert');\n",
              "        buttonEl.style.display =\n",
              "          google.colab.kernel.accessAllowed ? 'block' : 'none';\n",
              "\n",
              "        async function convertToInteractive(key) {\n",
              "          const element = document.querySelector('#df-d7748f00-564f-4bf5-b0fc-4b620b5b0cbb');\n",
              "          const dataTable =\n",
              "            await google.colab.kernel.invokeFunction('convertToInteractive',\n",
              "                                                     [key], {});\n",
              "          if (!dataTable) return;\n",
              "\n",
              "          const docLinkHtml = 'Like what you see? Visit the ' +\n",
              "            '<a target=\"_blank\" href=https://colab.research.google.com/notebooks/data_table.ipynb>data table notebook</a>'\n",
              "            + ' to learn more about interactive tables.';\n",
              "          element.innerHTML = '';\n",
              "          dataTable['output_type'] = 'display_data';\n",
              "          await google.colab.output.renderOutput(dataTable, element);\n",
              "          const docLink = document.createElement('div');\n",
              "          docLink.innerHTML = docLinkHtml;\n",
              "          element.appendChild(docLink);\n",
              "        }\n",
              "      </script>\n",
              "    </div>\n",
              "  </div>\n",
              "  "
            ]
          },
          "metadata": {},
          "execution_count": 75
        }
      ]
    },
    {
      "cell_type": "code",
      "source": [
        "y.head()"
      ],
      "metadata": {
        "colab": {
          "base_uri": "https://localhost:8080/"
        },
        "id": "Ritp_lOvDJOV",
        "outputId": "112717b1-ae18-43d3-da85-8d8ce6a25373"
      },
      "execution_count": null,
      "outputs": [
        {
          "output_type": "execute_result",
          "data": {
            "text/plain": [
              "0    16884.92400\n",
              "1     1725.55230\n",
              "2     4449.46200\n",
              "3    21984.47061\n",
              "4     3866.85520\n",
              "Name: charges, dtype: float64"
            ]
          },
          "metadata": {},
          "execution_count": 76
        }
      ]
    },
    {
      "cell_type": "code",
      "source": [
        "# Create training and test sets\n",
        "from sklearn.model_selection import train_test_split\n",
        "X_train, X_test, y_train, y_test = train_test_split(X, y, test_size=0.20, random_state=42)\n",
        "len(X), len(X_train), len(X_test)\n"
      ],
      "metadata": {
        "colab": {
          "base_uri": "https://localhost:8080/"
        },
        "id": "Jd4jAkt8C2Wa",
        "outputId": "c192e901-0ccb-463f-a30e-d859234b687c"
      },
      "execution_count": null,
      "outputs": [
        {
          "output_type": "execute_result",
          "data": {
            "text/plain": [
              "(1338, 1070, 268)"
            ]
          },
          "metadata": {},
          "execution_count": 77
        }
      ]
    },
    {
      "cell_type": "code",
      "source": [
        "# Build a neural network\n",
        "tf.random.set_seed(42)\n",
        "\n",
        "# 1. create a model\n",
        "insurance_model = tf.keras.Sequential([\n",
        "    tf.keras.layers.Dense(10),\n",
        "    tf.keras.layers.Dense(1)\n",
        "])\n",
        "\n",
        "# 2. compile the model\n",
        "insurance_model.compile(loss=tf.keras.losses.mae,\n",
        "                        optimizer=tf.keras.optimizers.SGD(),\n",
        "                        metrics=[\"mae\"])\n",
        "\n",
        "# 3. fit the model\n",
        "insurance_model.fit(tf.expand_dims(X_train, axis=1),y_train,epochs=100)"
      ],
      "metadata": {
        "colab": {
          "base_uri": "https://localhost:8080/"
        },
        "id": "stR9asJUC4L4",
        "outputId": "25ce961e-c779-4d43-f366-5b396f032e7f"
      },
      "execution_count": null,
      "outputs": [
        {
          "output_type": "stream",
          "name": "stdout",
          "text": [
            "Epoch 1/100\n",
            "34/34 [==============================] - 1s 2ms/step - loss: 8588.2949 - mae: 8588.2949\n",
            "Epoch 2/100\n",
            "34/34 [==============================] - 0s 1ms/step - loss: 7871.1279 - mae: 7871.1279\n",
            "Epoch 3/100\n",
            "34/34 [==============================] - 0s 1ms/step - loss: 7313.9800 - mae: 7313.9800\n",
            "Epoch 4/100\n",
            "34/34 [==============================] - 0s 1ms/step - loss: 7578.2759 - mae: 7578.2759\n",
            "Epoch 5/100\n",
            "34/34 [==============================] - 0s 2ms/step - loss: 7662.7422 - mae: 7662.7422\n",
            "Epoch 6/100\n",
            "34/34 [==============================] - 0s 2ms/step - loss: 7610.1406 - mae: 7610.1406\n",
            "Epoch 7/100\n",
            "34/34 [==============================] - 0s 2ms/step - loss: 7553.5024 - mae: 7553.5024\n",
            "Epoch 8/100\n",
            "34/34 [==============================] - 0s 2ms/step - loss: 7722.6494 - mae: 7722.6494\n",
            "Epoch 9/100\n",
            "34/34 [==============================] - 0s 1ms/step - loss: 7484.0596 - mae: 7484.0596\n",
            "Epoch 10/100\n",
            "34/34 [==============================] - 0s 1ms/step - loss: 7684.3716 - mae: 7684.3716\n",
            "Epoch 11/100\n",
            "34/34 [==============================] - 0s 2ms/step - loss: 7572.2124 - mae: 7572.2124\n",
            "Epoch 12/100\n",
            "34/34 [==============================] - 0s 1ms/step - loss: 7649.2773 - mae: 7649.2773\n",
            "Epoch 13/100\n",
            "34/34 [==============================] - 0s 2ms/step - loss: 7677.3394 - mae: 7677.3394\n",
            "Epoch 14/100\n",
            "34/34 [==============================] - 0s 1ms/step - loss: 7805.5791 - mae: 7805.5791\n",
            "Epoch 15/100\n",
            "34/34 [==============================] - 0s 2ms/step - loss: 7661.5298 - mae: 7661.5298\n",
            "Epoch 16/100\n",
            "34/34 [==============================] - 0s 1ms/step - loss: 7691.5845 - mae: 7691.5845\n",
            "Epoch 17/100\n",
            "34/34 [==============================] - 0s 1ms/step - loss: 7467.3418 - mae: 7467.3418\n",
            "Epoch 18/100\n",
            "34/34 [==============================] - 0s 1ms/step - loss: 7657.3164 - mae: 7657.3164\n",
            "Epoch 19/100\n",
            "34/34 [==============================] - 0s 2ms/step - loss: 7804.2588 - mae: 7804.2588\n",
            "Epoch 20/100\n",
            "34/34 [==============================] - 0s 2ms/step - loss: 7869.1646 - mae: 7869.1646\n",
            "Epoch 21/100\n",
            "34/34 [==============================] - 0s 2ms/step - loss: 7525.1162 - mae: 7525.1162\n",
            "Epoch 22/100\n",
            "34/34 [==============================] - 0s 1ms/step - loss: 7900.6523 - mae: 7900.6523\n",
            "Epoch 23/100\n",
            "34/34 [==============================] - 0s 1ms/step - loss: 7634.2837 - mae: 7634.2837\n",
            "Epoch 24/100\n",
            "34/34 [==============================] - 0s 1ms/step - loss: 7526.5093 - mae: 7526.5093\n",
            "Epoch 25/100\n",
            "34/34 [==============================] - 0s 1ms/step - loss: 7653.1646 - mae: 7653.1646\n",
            "Epoch 26/100\n",
            "34/34 [==============================] - 0s 1ms/step - loss: 7595.1973 - mae: 7595.1973\n",
            "Epoch 27/100\n",
            "34/34 [==============================] - 0s 2ms/step - loss: 7723.1694 - mae: 7723.1694\n",
            "Epoch 28/100\n",
            "34/34 [==============================] - 0s 2ms/step - loss: 7471.2627 - mae: 7471.2627\n",
            "Epoch 29/100\n",
            "34/34 [==============================] - 0s 1ms/step - loss: 7677.0771 - mae: 7677.0771\n",
            "Epoch 30/100\n",
            "34/34 [==============================] - 0s 1ms/step - loss: 7430.1392 - mae: 7430.1392\n",
            "Epoch 31/100\n",
            "34/34 [==============================] - 0s 1ms/step - loss: 7473.0439 - mae: 7473.0439\n",
            "Epoch 32/100\n",
            "34/34 [==============================] - 0s 1ms/step - loss: 7483.5107 - mae: 7483.5107\n",
            "Epoch 33/100\n",
            "34/34 [==============================] - 0s 1ms/step - loss: 7478.5630 - mae: 7478.5630\n",
            "Epoch 34/100\n",
            "34/34 [==============================] - 0s 1ms/step - loss: 7413.0894 - mae: 7413.0894\n",
            "Epoch 35/100\n",
            "34/34 [==============================] - 0s 1ms/step - loss: 7458.4390 - mae: 7458.4390\n",
            "Epoch 36/100\n",
            "34/34 [==============================] - 0s 1ms/step - loss: 7578.4336 - mae: 7578.4336\n",
            "Epoch 37/100\n",
            "34/34 [==============================] - 0s 1ms/step - loss: 7555.2109 - mae: 7555.2109\n",
            "Epoch 38/100\n",
            "34/34 [==============================] - 0s 1ms/step - loss: 7417.2930 - mae: 7417.2930\n",
            "Epoch 39/100\n",
            "34/34 [==============================] - 0s 1ms/step - loss: 7531.6211 - mae: 7531.6211\n",
            "Epoch 40/100\n",
            "34/34 [==============================] - 0s 1ms/step - loss: 7420.4443 - mae: 7420.4443\n",
            "Epoch 41/100\n",
            "34/34 [==============================] - 0s 1ms/step - loss: 7729.8452 - mae: 7729.8452\n",
            "Epoch 42/100\n",
            "34/34 [==============================] - 0s 1ms/step - loss: 7496.3013 - mae: 7496.3013\n",
            "Epoch 43/100\n",
            "34/34 [==============================] - 0s 1ms/step - loss: 7703.1821 - mae: 7703.1821\n",
            "Epoch 44/100\n",
            "34/34 [==============================] - 0s 1ms/step - loss: 7410.8682 - mae: 7410.8682\n",
            "Epoch 45/100\n",
            "34/34 [==============================] - 0s 1ms/step - loss: 7529.2373 - mae: 7529.2373\n",
            "Epoch 46/100\n",
            "34/34 [==============================] - 0s 2ms/step - loss: 7317.5098 - mae: 7317.5098\n",
            "Epoch 47/100\n",
            "34/34 [==============================] - 0s 1ms/step - loss: 7509.2295 - mae: 7509.2295\n",
            "Epoch 48/100\n",
            "34/34 [==============================] - 0s 1ms/step - loss: 7545.9028 - mae: 7545.9028\n",
            "Epoch 49/100\n",
            "34/34 [==============================] - 0s 1ms/step - loss: 7532.6411 - mae: 7532.6411\n",
            "Epoch 50/100\n",
            "34/34 [==============================] - 0s 1ms/step - loss: 7528.1816 - mae: 7528.1816\n",
            "Epoch 51/100\n",
            "34/34 [==============================] - 0s 1ms/step - loss: 7385.0088 - mae: 7385.0088\n",
            "Epoch 52/100\n",
            "34/34 [==============================] - 0s 1ms/step - loss: 7442.7964 - mae: 7442.7964\n",
            "Epoch 53/100\n",
            "34/34 [==============================] - 0s 1ms/step - loss: 7547.1924 - mae: 7547.1924\n",
            "Epoch 54/100\n",
            "34/34 [==============================] - 0s 1ms/step - loss: 7293.8794 - mae: 7293.8794\n",
            "Epoch 55/100\n",
            "34/34 [==============================] - 0s 1ms/step - loss: 7407.2280 - mae: 7407.2280\n",
            "Epoch 56/100\n",
            "34/34 [==============================] - 0s 1ms/step - loss: 7300.4395 - mae: 7300.4395\n",
            "Epoch 57/100\n",
            "34/34 [==============================] - 0s 1ms/step - loss: 7439.1562 - mae: 7439.1562\n",
            "Epoch 58/100\n",
            "34/34 [==============================] - 0s 1ms/step - loss: 7552.0952 - mae: 7552.0952\n",
            "Epoch 59/100\n",
            "34/34 [==============================] - 0s 1ms/step - loss: 7672.5640 - mae: 7672.5640\n",
            "Epoch 60/100\n",
            "34/34 [==============================] - 0s 994us/step - loss: 7351.9766 - mae: 7351.9766\n",
            "Epoch 61/100\n",
            "34/34 [==============================] - 0s 1ms/step - loss: 7573.1089 - mae: 7573.1089\n",
            "Epoch 62/100\n",
            "34/34 [==============================] - 0s 1ms/step - loss: 7493.9019 - mae: 7493.9019\n",
            "Epoch 63/100\n",
            "34/34 [==============================] - 0s 1ms/step - loss: 7319.0483 - mae: 7319.0483\n",
            "Epoch 64/100\n",
            "34/34 [==============================] - 0s 1ms/step - loss: 7436.0410 - mae: 7436.0410\n",
            "Epoch 65/100\n",
            "34/34 [==============================] - 0s 1ms/step - loss: 7427.5488 - mae: 7427.5488\n",
            "Epoch 66/100\n",
            "34/34 [==============================] - 0s 1ms/step - loss: 7554.4961 - mae: 7554.4961\n",
            "Epoch 67/100\n",
            "34/34 [==============================] - 0s 1ms/step - loss: 7358.8462 - mae: 7358.8462\n",
            "Epoch 68/100\n",
            "34/34 [==============================] - 0s 1ms/step - loss: 7487.3467 - mae: 7487.3467\n",
            "Epoch 69/100\n",
            "34/34 [==============================] - 0s 1ms/step - loss: 7471.0029 - mae: 7471.0029\n",
            "Epoch 70/100\n",
            "34/34 [==============================] - 0s 1ms/step - loss: 7493.9131 - mae: 7493.9131\n",
            "Epoch 71/100\n",
            "34/34 [==============================] - 0s 1ms/step - loss: 7229.0078 - mae: 7229.0078\n",
            "Epoch 72/100\n",
            "34/34 [==============================] - 0s 1ms/step - loss: 7469.9600 - mae: 7469.9600\n",
            "Epoch 73/100\n",
            "34/34 [==============================] - 0s 1ms/step - loss: 7206.2349 - mae: 7206.2349\n",
            "Epoch 74/100\n",
            "34/34 [==============================] - 0s 1ms/step - loss: 7381.6309 - mae: 7381.6309\n",
            "Epoch 75/100\n",
            "34/34 [==============================] - 0s 1ms/step - loss: 7358.0405 - mae: 7358.0405\n",
            "Epoch 76/100\n",
            "34/34 [==============================] - 0s 1ms/step - loss: 7083.3540 - mae: 7083.3540\n",
            "Epoch 77/100\n",
            "34/34 [==============================] - 0s 1ms/step - loss: 7521.3950 - mae: 7521.3950\n",
            "Epoch 78/100\n",
            "34/34 [==============================] - 0s 1ms/step - loss: 7470.8252 - mae: 7470.8252\n",
            "Epoch 79/100\n",
            "34/34 [==============================] - 0s 1ms/step - loss: 7467.9707 - mae: 7467.9707\n",
            "Epoch 80/100\n",
            "34/34 [==============================] - 0s 1ms/step - loss: 7312.3560 - mae: 7312.3560\n",
            "Epoch 81/100\n",
            "34/34 [==============================] - 0s 1ms/step - loss: 7255.6914 - mae: 7255.6914\n",
            "Epoch 82/100\n",
            "34/34 [==============================] - 0s 1ms/step - loss: 7209.9844 - mae: 7209.9844\n",
            "Epoch 83/100\n",
            "34/34 [==============================] - 0s 1ms/step - loss: 7436.6421 - mae: 7436.6421\n",
            "Epoch 84/100\n",
            "34/34 [==============================] - 0s 1ms/step - loss: 7206.4595 - mae: 7206.4595\n",
            "Epoch 85/100\n",
            "34/34 [==============================] - 0s 1ms/step - loss: 7308.0747 - mae: 7308.0747\n",
            "Epoch 86/100\n",
            "34/34 [==============================] - 0s 1ms/step - loss: 7256.7793 - mae: 7256.7793\n",
            "Epoch 87/100\n",
            "34/34 [==============================] - 0s 1ms/step - loss: 7332.1470 - mae: 7332.1470\n",
            "Epoch 88/100\n",
            "34/34 [==============================] - 0s 1ms/step - loss: 7355.6274 - mae: 7355.6274\n",
            "Epoch 89/100\n",
            "34/34 [==============================] - 0s 1ms/step - loss: 7318.1440 - mae: 7318.1440\n",
            "Epoch 90/100\n",
            "34/34 [==============================] - 0s 1ms/step - loss: 7333.4048 - mae: 7333.4048\n",
            "Epoch 91/100\n",
            "34/34 [==============================] - 0s 1ms/step - loss: 7232.5103 - mae: 7232.5103\n",
            "Epoch 92/100\n",
            "34/34 [==============================] - 0s 1ms/step - loss: 7266.4556 - mae: 7266.4556\n",
            "Epoch 93/100\n",
            "34/34 [==============================] - 0s 1ms/step - loss: 7407.6206 - mae: 7407.6206\n",
            "Epoch 94/100\n",
            "34/34 [==============================] - 0s 1ms/step - loss: 7282.3315 - mae: 7282.3315\n",
            "Epoch 95/100\n",
            "34/34 [==============================] - 0s 1ms/step - loss: 7385.5381 - mae: 7385.5381\n",
            "Epoch 96/100\n",
            "34/34 [==============================] - 0s 1ms/step - loss: 7280.5303 - mae: 7280.5303\n",
            "Epoch 97/100\n",
            "34/34 [==============================] - 0s 1ms/step - loss: 7243.4932 - mae: 7243.4932\n",
            "Epoch 98/100\n",
            "34/34 [==============================] - 0s 1ms/step - loss: 7436.9819 - mae: 7436.9819\n",
            "Epoch 99/100\n",
            "34/34 [==============================] - 0s 1ms/step - loss: 7403.4873 - mae: 7403.4873\n",
            "Epoch 100/100\n",
            "34/34 [==============================] - 0s 1ms/step - loss: 7129.0781 - mae: 7129.0781\n"
          ]
        },
        {
          "output_type": "execute_result",
          "data": {
            "text/plain": [
              "<keras.callbacks.History at 0x7f0df45ebb20>"
            ]
          },
          "metadata": {},
          "execution_count": 79
        }
      ]
    },
    {
      "cell_type": "code",
      "source": [
        "# CHeck the results of the insurance model on the test data\n",
        "insurance_model.evaluate(X_test, y_test)"
      ],
      "metadata": {
        "colab": {
          "base_uri": "https://localhost:8080/"
        },
        "id": "t1IFfVtCE_A_",
        "outputId": "9b5297c1-24fd-40da-b926-994b4e820850"
      },
      "execution_count": null,
      "outputs": [
        {
          "output_type": "stream",
          "name": "stdout",
          "text": [
            "9/9 [==============================] - 0s 1ms/step - loss: 6922.7231 - mae: 6922.7231\n"
          ]
        },
        {
          "output_type": "execute_result",
          "data": {
            "text/plain": [
              "[6922.72314453125, 6922.72314453125]"
            ]
          },
          "metadata": {},
          "execution_count": 80
        }
      ]
    },
    {
      "cell_type": "code",
      "source": [
        "y_train.median(), y_train.mean()"
      ],
      "metadata": {
        "colab": {
          "base_uri": "https://localhost:8080/"
        },
        "id": "BCKN9Yr8FgrP",
        "outputId": "16cc18f4-15b1-4b3d-d5de-dc399ac3cc37"
      },
      "execution_count": null,
      "outputs": [
        {
          "output_type": "execute_result",
          "data": {
            "text/plain": [
              "(9575.4421, 13346.089736364485)"
            ]
          },
          "metadata": {},
          "execution_count": 83
        }
      ]
    },
    {
      "cell_type": "markdown",
      "source": [
        "Right now the model is not performing too well... let's improve the model\n",
        "\n",
        "To (try) improve the model, run 2 experiments:\n",
        "1. Add an extra layer with more hidden units and use the Adam optimizer\n",
        "2. Train for longer"
      ],
      "metadata": {
        "id": "XT-mToriFqZa"
      }
    },
    {
      "cell_type": "code",
      "source": [
        "tf.random.set_seed(42)\n",
        "\n",
        "insurance_model_2 = tf.keras.Sequential([\n",
        "    tf.keras.layers.Dense(100),\n",
        "    tf.keras.layers.Dense(10),\n",
        "    tf.keras.layers.Dense(1)\n",
        "])\n",
        "\n",
        "insurance_model_2.compile(loss=tf.keras.losses.mae,\n",
        "                          optimizer=tf.keras.optimizers.Adam(),\n",
        "                          metrics=[\"mae\"])\n",
        "\n",
        "insurance_model_2.fit(tf.expand_dims(X_train, axis=1),y_train, epochs=100, verbose=1)"
      ],
      "metadata": {
        "colab": {
          "base_uri": "https://localhost:8080/"
        },
        "id": "vLfjR8jEGFDb",
        "outputId": "bbe57955-1f1f-4690-d826-aa32d644898e"
      },
      "execution_count": null,
      "outputs": [
        {
          "output_type": "stream",
          "name": "stdout",
          "text": [
            "Epoch 1/100\n",
            "34/34 [==============================] - 1s 1ms/step - loss: 13296.4834 - mae: 13296.4834\n",
            "Epoch 2/100\n",
            "34/34 [==============================] - 0s 1ms/step - loss: 13098.7578 - mae: 13098.7578\n",
            "Epoch 3/100\n",
            "34/34 [==============================] - 0s 1ms/step - loss: 12718.1504 - mae: 12718.1504\n",
            "Epoch 4/100\n",
            "34/34 [==============================] - 0s 1ms/step - loss: 11993.3848 - mae: 11993.3848\n",
            "Epoch 5/100\n",
            "34/34 [==============================] - 0s 1ms/step - loss: 10809.9775 - mae: 10809.9775\n",
            "Epoch 6/100\n",
            "34/34 [==============================] - 0s 1ms/step - loss: 9343.9805 - mae: 9343.9805\n",
            "Epoch 7/100\n",
            "34/34 [==============================] - 0s 1ms/step - loss: 8053.3354 - mae: 8053.3354\n",
            "Epoch 8/100\n",
            "34/34 [==============================] - 0s 1ms/step - loss: 7509.2642 - mae: 7509.2642\n",
            "Epoch 9/100\n",
            "34/34 [==============================] - 0s 1ms/step - loss: 7431.1978 - mae: 7431.1978\n",
            "Epoch 10/100\n",
            "34/34 [==============================] - 0s 1ms/step - loss: 7410.5796 - mae: 7410.5796\n",
            "Epoch 11/100\n",
            "34/34 [==============================] - 0s 1ms/step - loss: 7390.7471 - mae: 7390.7471\n",
            "Epoch 12/100\n",
            "34/34 [==============================] - 0s 1ms/step - loss: 7367.2773 - mae: 7367.2773\n",
            "Epoch 13/100\n",
            "34/34 [==============================] - 0s 1ms/step - loss: 7345.6519 - mae: 7345.6519\n",
            "Epoch 14/100\n",
            "34/34 [==============================] - 0s 1ms/step - loss: 7321.6748 - mae: 7321.6748\n",
            "Epoch 15/100\n",
            "34/34 [==============================] - 0s 1ms/step - loss: 7301.0493 - mae: 7301.0493\n",
            "Epoch 16/100\n",
            "34/34 [==============================] - 0s 1ms/step - loss: 7276.7227 - mae: 7276.7227\n",
            "Epoch 17/100\n",
            "34/34 [==============================] - 0s 1ms/step - loss: 7255.4463 - mae: 7255.4463\n",
            "Epoch 18/100\n",
            "34/34 [==============================] - 0s 2ms/step - loss: 7229.8203 - mae: 7229.8203\n",
            "Epoch 19/100\n",
            "34/34 [==============================] - 0s 1ms/step - loss: 7205.6411 - mae: 7205.6411\n",
            "Epoch 20/100\n",
            "34/34 [==============================] - 0s 1ms/step - loss: 7179.7358 - mae: 7179.7358\n",
            "Epoch 21/100\n",
            "34/34 [==============================] - 0s 1ms/step - loss: 7158.8501 - mae: 7158.8501\n",
            "Epoch 22/100\n",
            "34/34 [==============================] - 0s 1ms/step - loss: 7128.0508 - mae: 7128.0508\n",
            "Epoch 23/100\n",
            "34/34 [==============================] - 0s 1ms/step - loss: 7099.5850 - mae: 7099.5850\n",
            "Epoch 24/100\n",
            "34/34 [==============================] - 0s 1ms/step - loss: 7071.2339 - mae: 7071.2339\n",
            "Epoch 25/100\n",
            "34/34 [==============================] - 0s 1ms/step - loss: 7049.0869 - mae: 7049.0869\n",
            "Epoch 26/100\n",
            "34/34 [==============================] - 0s 1ms/step - loss: 7013.6787 - mae: 7013.6787\n",
            "Epoch 27/100\n",
            "34/34 [==============================] - 0s 1ms/step - loss: 6980.5967 - mae: 6980.5967\n",
            "Epoch 28/100\n",
            "34/34 [==============================] - 0s 1ms/step - loss: 6947.4839 - mae: 6947.4839\n",
            "Epoch 29/100\n",
            "34/34 [==============================] - 0s 1ms/step - loss: 6913.7251 - mae: 6913.7251\n",
            "Epoch 30/100\n",
            "34/34 [==============================] - 0s 1ms/step - loss: 6882.3442 - mae: 6882.3442\n",
            "Epoch 31/100\n",
            "34/34 [==============================] - 0s 2ms/step - loss: 6845.3232 - mae: 6845.3232\n",
            "Epoch 32/100\n",
            "34/34 [==============================] - 0s 1ms/step - loss: 6810.3008 - mae: 6810.3008\n",
            "Epoch 33/100\n",
            "34/34 [==============================] - 0s 1ms/step - loss: 6771.7437 - mae: 6771.7437\n",
            "Epoch 34/100\n",
            "34/34 [==============================] - 0s 1ms/step - loss: 6734.0020 - mae: 6734.0020\n",
            "Epoch 35/100\n",
            "34/34 [==============================] - 0s 1ms/step - loss: 6692.8687 - mae: 6692.8687\n",
            "Epoch 36/100\n",
            "34/34 [==============================] - 0s 1ms/step - loss: 6652.7119 - mae: 6652.7119\n",
            "Epoch 37/100\n",
            "34/34 [==============================] - 0s 1ms/step - loss: 6612.2827 - mae: 6612.2827\n",
            "Epoch 38/100\n",
            "34/34 [==============================] - 0s 1ms/step - loss: 6578.1040 - mae: 6578.1040\n",
            "Epoch 39/100\n",
            "34/34 [==============================] - 0s 1ms/step - loss: 6540.5776 - mae: 6540.5776\n",
            "Epoch 40/100\n",
            "34/34 [==============================] - 0s 1ms/step - loss: 6512.5869 - mae: 6512.5869\n",
            "Epoch 41/100\n",
            "34/34 [==============================] - 0s 1ms/step - loss: 6491.0054 - mae: 6491.0054\n",
            "Epoch 42/100\n",
            "34/34 [==============================] - 0s 1ms/step - loss: 6471.8740 - mae: 6471.8740\n",
            "Epoch 43/100\n",
            "34/34 [==============================] - 0s 1ms/step - loss: 6455.1313 - mae: 6455.1313\n",
            "Epoch 44/100\n",
            "34/34 [==============================] - 0s 1ms/step - loss: 6437.5361 - mae: 6437.5361\n",
            "Epoch 45/100\n",
            "34/34 [==============================] - 0s 1ms/step - loss: 6431.5962 - mae: 6431.5962\n",
            "Epoch 46/100\n",
            "34/34 [==============================] - 0s 1ms/step - loss: 6409.5557 - mae: 6409.5557\n",
            "Epoch 47/100\n",
            "34/34 [==============================] - 0s 1ms/step - loss: 6395.2998 - mae: 6395.2998\n",
            "Epoch 48/100\n",
            "34/34 [==============================] - 0s 2ms/step - loss: 6379.6738 - mae: 6379.6738\n",
            "Epoch 49/100\n",
            "34/34 [==============================] - 0s 1ms/step - loss: 6367.8369 - mae: 6367.8369\n",
            "Epoch 50/100\n",
            "34/34 [==============================] - 0s 1ms/step - loss: 6352.2388 - mae: 6352.2388\n",
            "Epoch 51/100\n",
            "34/34 [==============================] - 0s 1ms/step - loss: 6336.5747 - mae: 6336.5747\n",
            "Epoch 52/100\n",
            "34/34 [==============================] - 0s 1ms/step - loss: 6321.4058 - mae: 6321.4058\n",
            "Epoch 53/100\n",
            "34/34 [==============================] - 0s 1ms/step - loss: 6305.4688 - mae: 6305.4688\n",
            "Epoch 54/100\n",
            "34/34 [==============================] - 0s 1ms/step - loss: 6289.7266 - mae: 6289.7266\n",
            "Epoch 55/100\n",
            "34/34 [==============================] - 0s 1ms/step - loss: 6274.1904 - mae: 6274.1904\n",
            "Epoch 56/100\n",
            "34/34 [==============================] - 0s 1ms/step - loss: 6259.5703 - mae: 6259.5703\n",
            "Epoch 57/100\n",
            "34/34 [==============================] - 0s 1ms/step - loss: 6242.6807 - mae: 6242.6807\n",
            "Epoch 58/100\n",
            "34/34 [==============================] - 0s 1ms/step - loss: 6226.2324 - mae: 6226.2324\n",
            "Epoch 59/100\n",
            "34/34 [==============================] - 0s 1ms/step - loss: 6208.5444 - mae: 6208.5444\n",
            "Epoch 60/100\n",
            "34/34 [==============================] - 0s 1ms/step - loss: 6195.1816 - mae: 6195.1816\n",
            "Epoch 61/100\n",
            "34/34 [==============================] - 0s 1ms/step - loss: 6172.2959 - mae: 6172.2959\n",
            "Epoch 62/100\n",
            "34/34 [==============================] - 0s 1ms/step - loss: 6158.4795 - mae: 6158.4795\n",
            "Epoch 63/100\n",
            "34/34 [==============================] - 0s 1ms/step - loss: 6134.2085 - mae: 6134.2085\n",
            "Epoch 64/100\n",
            "34/34 [==============================] - 0s 2ms/step - loss: 6113.7515 - mae: 6113.7515\n",
            "Epoch 65/100\n",
            "34/34 [==============================] - 0s 1ms/step - loss: 6093.7437 - mae: 6093.7437\n",
            "Epoch 66/100\n",
            "34/34 [==============================] - 0s 1ms/step - loss: 6072.5171 - mae: 6072.5171\n",
            "Epoch 67/100\n",
            "34/34 [==============================] - 0s 1ms/step - loss: 6056.4253 - mae: 6056.4253\n",
            "Epoch 68/100\n",
            "34/34 [==============================] - 0s 1ms/step - loss: 6029.1680 - mae: 6029.1680\n",
            "Epoch 69/100\n",
            "34/34 [==============================] - 0s 1ms/step - loss: 6008.1411 - mae: 6008.1411\n",
            "Epoch 70/100\n",
            "34/34 [==============================] - 0s 1ms/step - loss: 5983.1729 - mae: 5983.1729\n",
            "Epoch 71/100\n",
            "34/34 [==============================] - 0s 1ms/step - loss: 5958.6470 - mae: 5958.6470\n",
            "Epoch 72/100\n",
            "34/34 [==============================] - 0s 1ms/step - loss: 5933.4004 - mae: 5933.4004\n",
            "Epoch 73/100\n",
            "34/34 [==============================] - 0s 1ms/step - loss: 5915.4849 - mae: 5915.4849\n",
            "Epoch 74/100\n",
            "34/34 [==============================] - 0s 1ms/step - loss: 5879.7178 - mae: 5879.7178\n",
            "Epoch 75/100\n",
            "34/34 [==============================] - 0s 1ms/step - loss: 5852.0542 - mae: 5852.0542\n",
            "Epoch 76/100\n",
            "34/34 [==============================] - 0s 1ms/step - loss: 5829.4526 - mae: 5829.4526\n",
            "Epoch 77/100\n",
            "34/34 [==============================] - 0s 1ms/step - loss: 5793.4966 - mae: 5793.4966\n",
            "Epoch 78/100\n",
            "34/34 [==============================] - 0s 1ms/step - loss: 5762.2861 - mae: 5762.2861\n",
            "Epoch 79/100\n",
            "34/34 [==============================] - 0s 1ms/step - loss: 5729.3369 - mae: 5729.3369\n",
            "Epoch 80/100\n",
            "34/34 [==============================] - 0s 2ms/step - loss: 5694.2432 - mae: 5694.2432\n",
            "Epoch 81/100\n",
            "34/34 [==============================] - 0s 1ms/step - loss: 5661.3687 - mae: 5661.3687\n",
            "Epoch 82/100\n",
            "34/34 [==============================] - 0s 1ms/step - loss: 5623.1475 - mae: 5623.1475\n",
            "Epoch 83/100\n",
            "34/34 [==============================] - 0s 1ms/step - loss: 5585.5391 - mae: 5585.5391\n",
            "Epoch 84/100\n",
            "34/34 [==============================] - 0s 1ms/step - loss: 5541.3813 - mae: 5541.3813\n",
            "Epoch 85/100\n",
            "34/34 [==============================] - 0s 1ms/step - loss: 5502.7686 - mae: 5502.7686\n",
            "Epoch 86/100\n",
            "34/34 [==============================] - 0s 1ms/step - loss: 5458.8696 - mae: 5458.8696\n",
            "Epoch 87/100\n",
            "34/34 [==============================] - 0s 1ms/step - loss: 5413.3691 - mae: 5413.3691\n",
            "Epoch 88/100\n",
            "34/34 [==============================] - 0s 1ms/step - loss: 5365.6519 - mae: 5365.6519\n",
            "Epoch 89/100\n",
            "34/34 [==============================] - 0s 1ms/step - loss: 5313.0801 - mae: 5313.0801\n",
            "Epoch 90/100\n",
            "34/34 [==============================] - 0s 1ms/step - loss: 5256.9888 - mae: 5256.9888\n",
            "Epoch 91/100\n",
            "34/34 [==============================] - 0s 1ms/step - loss: 5206.4229 - mae: 5206.4229\n",
            "Epoch 92/100\n",
            "34/34 [==============================] - 0s 1ms/step - loss: 5144.9121 - mae: 5144.9121\n",
            "Epoch 93/100\n",
            "34/34 [==============================] - 0s 1ms/step - loss: 5088.9287 - mae: 5088.9287\n",
            "Epoch 94/100\n",
            "34/34 [==============================] - 0s 1ms/step - loss: 5022.9312 - mae: 5022.9312\n",
            "Epoch 95/100\n",
            "34/34 [==============================] - 0s 1ms/step - loss: 4957.7295 - mae: 4957.7295\n",
            "Epoch 96/100\n",
            "34/34 [==============================] - 0s 1ms/step - loss: 4900.9307 - mae: 4900.9307\n",
            "Epoch 97/100\n",
            "34/34 [==============================] - 0s 2ms/step - loss: 4821.8970 - mae: 4821.8970\n",
            "Epoch 98/100\n",
            "34/34 [==============================] - 0s 1ms/step - loss: 4746.5493 - mae: 4746.5493\n",
            "Epoch 99/100\n",
            "34/34 [==============================] - 0s 1ms/step - loss: 4664.2510 - mae: 4664.2510\n",
            "Epoch 100/100\n",
            "34/34 [==============================] - 0s 1ms/step - loss: 4596.3145 - mae: 4596.3145\n"
          ]
        },
        {
          "output_type": "execute_result",
          "data": {
            "text/plain": [
              "<keras.callbacks.History at 0x7f0df4783790>"
            ]
          },
          "metadata": {},
          "execution_count": 91
        }
      ]
    },
    {
      "cell_type": "code",
      "source": [
        "# Evaluate the model\n",
        "insurance_model_2.evaluate(X_test, y_test)"
      ],
      "metadata": {
        "colab": {
          "base_uri": "https://localhost:8080/"
        },
        "id": "2254HInhHHJB",
        "outputId": "6fc97e08-d1b5-476d-f1c3-c5a9bfc319f9"
      },
      "execution_count": null,
      "outputs": [
        {
          "output_type": "stream",
          "name": "stdout",
          "text": [
            "9/9 [==============================] - 0s 1ms/step - loss: 4489.3794 - mae: 4489.3794\n"
          ]
        },
        {
          "output_type": "execute_result",
          "data": {
            "text/plain": [
              "[4489.37939453125, 4489.37939453125]"
            ]
          },
          "metadata": {},
          "execution_count": 92
        }
      ]
    },
    {
      "cell_type": "code",
      "source": [
        "insurance_model.evaluate(X_test, y_test)"
      ],
      "metadata": {
        "colab": {
          "base_uri": "https://localhost:8080/"
        },
        "id": "SnkGc0UIHRWa",
        "outputId": "9805410d-c5a3-4e11-fc39-039166ed08e1"
      },
      "execution_count": null,
      "outputs": [
        {
          "output_type": "stream",
          "name": "stdout",
          "text": [
            "9/9 [==============================] - 0s 5ms/step - loss: 6922.7231 - mae: 6922.7231\n"
          ]
        },
        {
          "output_type": "execute_result",
          "data": {
            "text/plain": [
              "[6922.72314453125, 6922.72314453125]"
            ]
          },
          "metadata": {},
          "execution_count": 93
        }
      ]
    },
    {
      "cell_type": "code",
      "source": [
        "tf.random.set_seed(42)\n",
        "\n",
        "insurance_model_3 = tf.keras.Sequential([\n",
        "    tf.keras.layers.Dense(100),\n",
        "    tf.keras.layers.Dense(10),\n",
        "    tf.keras.layers.Dense(1)\n",
        "])\n",
        "\n",
        "insurance_model_3.compile(loss=tf.keras.losses.mae,\n",
        "                          optimizer=tf.keras.optimizers.Adam(),\n",
        "                          metrics=[\"mae\"])\n",
        "\n",
        "history = insurance_model_3.fit(tf.expand_dims(X_test, axis=1), y_test, epochs=500)"
      ],
      "metadata": {
        "colab": {
          "base_uri": "https://localhost:8080/"
        },
        "id": "52yY9cM1H4ig",
        "outputId": "241d9a1b-db08-40e8-e863-b338fe421f34"
      },
      "execution_count": null,
      "outputs": [
        {
          "output_type": "stream",
          "name": "stdout",
          "text": [
            "Epoch 1/500\n",
            "9/9 [==============================] - 1s 3ms/step - loss: 12949.8174 - mae: 12949.8174\n",
            "Epoch 2/500\n",
            "9/9 [==============================] - 0s 2ms/step - loss: 12922.3857 - mae: 12922.3857\n",
            "Epoch 3/500\n",
            "9/9 [==============================] - 0s 2ms/step - loss: 12892.3018 - mae: 12892.3018\n",
            "Epoch 4/500\n",
            "9/9 [==============================] - 0s 2ms/step - loss: 12857.2588 - mae: 12857.2588\n",
            "Epoch 5/500\n",
            "9/9 [==============================] - 0s 3ms/step - loss: 12815.8154 - mae: 12815.8154\n",
            "Epoch 6/500\n",
            "9/9 [==============================] - 0s 2ms/step - loss: 12764.4082 - mae: 12764.4082\n",
            "Epoch 7/500\n",
            "9/9 [==============================] - 0s 2ms/step - loss: 12701.2236 - mae: 12701.2236\n",
            "Epoch 8/500\n",
            "9/9 [==============================] - 0s 2ms/step - loss: 12622.9961 - mae: 12622.9961\n",
            "Epoch 9/500\n",
            "9/9 [==============================] - 0s 2ms/step - loss: 12526.8408 - mae: 12526.8408\n",
            "Epoch 10/500\n",
            "9/9 [==============================] - 0s 2ms/step - loss: 12410.3799 - mae: 12410.3799\n",
            "Epoch 11/500\n",
            "9/9 [==============================] - 0s 2ms/step - loss: 12271.0049 - mae: 12271.0049\n",
            "Epoch 12/500\n",
            "9/9 [==============================] - 0s 2ms/step - loss: 12103.8877 - mae: 12103.8877\n",
            "Epoch 13/500\n",
            "9/9 [==============================] - 0s 2ms/step - loss: 11905.3896 - mae: 11905.3896\n",
            "Epoch 14/500\n",
            "9/9 [==============================] - 0s 2ms/step - loss: 11675.1885 - mae: 11675.1885\n",
            "Epoch 15/500\n",
            "9/9 [==============================] - 0s 2ms/step - loss: 11409.4902 - mae: 11409.4902\n",
            "Epoch 16/500\n",
            "9/9 [==============================] - 0s 2ms/step - loss: 11107.0283 - mae: 11107.0283\n",
            "Epoch 17/500\n",
            "9/9 [==============================] - 0s 2ms/step - loss: 10774.9580 - mae: 10774.9580\n",
            "Epoch 18/500\n",
            "9/9 [==============================] - 0s 2ms/step - loss: 10416.1650 - mae: 10416.1650\n",
            "Epoch 19/500\n",
            "9/9 [==============================] - 0s 2ms/step - loss: 10047.7295 - mae: 10047.7295\n",
            "Epoch 20/500\n",
            "9/9 [==============================] - 0s 2ms/step - loss: 9670.0195 - mae: 9670.0195\n",
            "Epoch 21/500\n",
            "9/9 [==============================] - 0s 2ms/step - loss: 9292.4463 - mae: 9292.4463\n",
            "Epoch 22/500\n",
            "9/9 [==============================] - 0s 2ms/step - loss: 8932.3838 - mae: 8932.3838\n",
            "Epoch 23/500\n",
            "9/9 [==============================] - 0s 2ms/step - loss: 8595.9268 - mae: 8595.9268\n",
            "Epoch 24/500\n",
            "9/9 [==============================] - 0s 2ms/step - loss: 8315.2227 - mae: 8315.2227\n",
            "Epoch 25/500\n",
            "9/9 [==============================] - 0s 2ms/step - loss: 8096.5469 - mae: 8096.5469\n",
            "Epoch 26/500\n",
            "9/9 [==============================] - 0s 3ms/step - loss: 7936.4321 - mae: 7936.4321\n",
            "Epoch 27/500\n",
            "9/9 [==============================] - 0s 2ms/step - loss: 7824.1504 - mae: 7824.1504\n",
            "Epoch 28/500\n",
            "9/9 [==============================] - 0s 2ms/step - loss: 7759.3306 - mae: 7759.3306\n",
            "Epoch 29/500\n",
            "9/9 [==============================] - 0s 2ms/step - loss: 7705.5410 - mae: 7705.5410\n",
            "Epoch 30/500\n",
            "9/9 [==============================] - 0s 2ms/step - loss: 7654.1206 - mae: 7654.1206\n",
            "Epoch 31/500\n",
            "9/9 [==============================] - 0s 2ms/step - loss: 7622.2402 - mae: 7622.2402\n",
            "Epoch 32/500\n",
            "9/9 [==============================] - 0s 2ms/step - loss: 7595.3179 - mae: 7595.3179\n",
            "Epoch 33/500\n",
            "9/9 [==============================] - 0s 2ms/step - loss: 7571.3950 - mae: 7571.3950\n",
            "Epoch 34/500\n",
            "9/9 [==============================] - 0s 2ms/step - loss: 7560.1504 - mae: 7560.1504\n",
            "Epoch 35/500\n",
            "9/9 [==============================] - 0s 2ms/step - loss: 7550.3135 - mae: 7550.3140\n",
            "Epoch 36/500\n",
            "9/9 [==============================] - 0s 2ms/step - loss: 7540.8770 - mae: 7540.8770\n",
            "Epoch 37/500\n",
            "9/9 [==============================] - 0s 3ms/step - loss: 7530.1064 - mae: 7530.1064\n",
            "Epoch 38/500\n",
            "9/9 [==============================] - 0s 2ms/step - loss: 7521.6733 - mae: 7521.6733\n",
            "Epoch 39/500\n",
            "9/9 [==============================] - 0s 2ms/step - loss: 7512.7256 - mae: 7512.7256\n",
            "Epoch 40/500\n",
            "9/9 [==============================] - 0s 2ms/step - loss: 7503.4229 - mae: 7503.4229\n",
            "Epoch 41/500\n",
            "9/9 [==============================] - 0s 2ms/step - loss: 7494.9492 - mae: 7494.9492\n",
            "Epoch 42/500\n",
            "9/9 [==============================] - 0s 2ms/step - loss: 7484.9092 - mae: 7484.9092\n",
            "Epoch 43/500\n",
            "9/9 [==============================] - 0s 3ms/step - loss: 7475.6855 - mae: 7475.6855\n",
            "Epoch 44/500\n",
            "9/9 [==============================] - 0s 2ms/step - loss: 7467.1265 - mae: 7467.1265\n",
            "Epoch 45/500\n",
            "9/9 [==============================] - 0s 2ms/step - loss: 7456.6729 - mae: 7456.6729\n",
            "Epoch 46/500\n",
            "9/9 [==============================] - 0s 2ms/step - loss: 7448.1548 - mae: 7448.1548\n",
            "Epoch 47/500\n",
            "9/9 [==============================] - 0s 2ms/step - loss: 7438.4312 - mae: 7438.4312\n",
            "Epoch 48/500\n",
            "9/9 [==============================] - 0s 3ms/step - loss: 7429.8281 - mae: 7429.8281\n",
            "Epoch 49/500\n",
            "9/9 [==============================] - 0s 2ms/step - loss: 7421.9824 - mae: 7421.9824\n",
            "Epoch 50/500\n",
            "9/9 [==============================] - 0s 2ms/step - loss: 7411.8867 - mae: 7411.8867\n",
            "Epoch 51/500\n",
            "9/9 [==============================] - 0s 2ms/step - loss: 7403.0078 - mae: 7403.0078\n",
            "Epoch 52/500\n",
            "9/9 [==============================] - 0s 2ms/step - loss: 7392.3906 - mae: 7392.3906\n",
            "Epoch 53/500\n",
            "9/9 [==============================] - 0s 2ms/step - loss: 7382.8442 - mae: 7382.8442\n",
            "Epoch 54/500\n",
            "9/9 [==============================] - 0s 2ms/step - loss: 7373.5039 - mae: 7373.5039\n",
            "Epoch 55/500\n",
            "9/9 [==============================] - 0s 2ms/step - loss: 7363.8330 - mae: 7363.8330\n",
            "Epoch 56/500\n",
            "9/9 [==============================] - 0s 2ms/step - loss: 7355.0039 - mae: 7355.0039\n",
            "Epoch 57/500\n",
            "9/9 [==============================] - 0s 2ms/step - loss: 7344.6494 - mae: 7344.6494\n",
            "Epoch 58/500\n",
            "9/9 [==============================] - 0s 2ms/step - loss: 7335.8975 - mae: 7335.8975\n",
            "Epoch 59/500\n",
            "9/9 [==============================] - 0s 2ms/step - loss: 7325.7036 - mae: 7325.7036\n",
            "Epoch 60/500\n",
            "9/9 [==============================] - 0s 2ms/step - loss: 7317.0308 - mae: 7317.0308\n",
            "Epoch 61/500\n",
            "9/9 [==============================] - 0s 2ms/step - loss: 7307.1650 - mae: 7307.1650\n",
            "Epoch 62/500\n",
            "9/9 [==============================] - 0s 2ms/step - loss: 7296.9131 - mae: 7296.9131\n",
            "Epoch 63/500\n",
            "9/9 [==============================] - 0s 2ms/step - loss: 7287.3691 - mae: 7287.3691\n",
            "Epoch 64/500\n",
            "9/9 [==============================] - 0s 2ms/step - loss: 7278.7275 - mae: 7278.7275\n",
            "Epoch 65/500\n",
            "9/9 [==============================] - 0s 2ms/step - loss: 7268.3857 - mae: 7268.3857\n",
            "Epoch 66/500\n",
            "9/9 [==============================] - 0s 3ms/step - loss: 7258.9419 - mae: 7258.9419\n",
            "Epoch 67/500\n",
            "9/9 [==============================] - 0s 2ms/step - loss: 7247.4531 - mae: 7247.4531\n",
            "Epoch 68/500\n",
            "9/9 [==============================] - 0s 2ms/step - loss: 7237.5654 - mae: 7237.5654\n",
            "Epoch 69/500\n",
            "9/9 [==============================] - 0s 2ms/step - loss: 7228.2568 - mae: 7228.2568\n",
            "Epoch 70/500\n",
            "9/9 [==============================] - 0s 2ms/step - loss: 7217.2881 - mae: 7217.2881\n",
            "Epoch 71/500\n",
            "9/9 [==============================] - 0s 2ms/step - loss: 7206.6260 - mae: 7206.6260\n",
            "Epoch 72/500\n",
            "9/9 [==============================] - 0s 3ms/step - loss: 7196.3955 - mae: 7196.3955\n",
            "Epoch 73/500\n",
            "9/9 [==============================] - 0s 2ms/step - loss: 7185.8765 - mae: 7185.8765\n",
            "Epoch 74/500\n",
            "9/9 [==============================] - 0s 2ms/step - loss: 7174.4072 - mae: 7174.4072\n",
            "Epoch 75/500\n",
            "9/9 [==============================] - 0s 2ms/step - loss: 7163.3896 - mae: 7163.3896\n",
            "Epoch 76/500\n",
            "9/9 [==============================] - 0s 2ms/step - loss: 7151.5679 - mae: 7151.5679\n",
            "Epoch 77/500\n",
            "9/9 [==============================] - 0s 2ms/step - loss: 7144.0811 - mae: 7144.0811\n",
            "Epoch 78/500\n",
            "9/9 [==============================] - 0s 2ms/step - loss: 7130.1318 - mae: 7130.1318\n",
            "Epoch 79/500\n",
            "9/9 [==============================] - 0s 2ms/step - loss: 7117.8208 - mae: 7117.8208\n",
            "Epoch 80/500\n",
            "9/9 [==============================] - 0s 2ms/step - loss: 7105.7266 - mae: 7105.7266\n",
            "Epoch 81/500\n",
            "9/9 [==============================] - 0s 2ms/step - loss: 7096.2305 - mae: 7096.2305\n",
            "Epoch 82/500\n",
            "9/9 [==============================] - 0s 2ms/step - loss: 7082.7241 - mae: 7082.7241\n",
            "Epoch 83/500\n",
            "9/9 [==============================] - 0s 2ms/step - loss: 7074.4185 - mae: 7074.4185\n",
            "Epoch 84/500\n",
            "9/9 [==============================] - 0s 2ms/step - loss: 7057.6763 - mae: 7057.6763\n",
            "Epoch 85/500\n",
            "9/9 [==============================] - 0s 2ms/step - loss: 7046.0210 - mae: 7046.0210\n",
            "Epoch 86/500\n",
            "9/9 [==============================] - 0s 2ms/step - loss: 7034.5503 - mae: 7034.5503\n",
            "Epoch 87/500\n",
            "9/9 [==============================] - 0s 2ms/step - loss: 7022.9741 - mae: 7022.9741\n",
            "Epoch 88/500\n",
            "9/9 [==============================] - 0s 2ms/step - loss: 7011.3164 - mae: 7011.3164\n",
            "Epoch 89/500\n",
            "9/9 [==============================] - 0s 2ms/step - loss: 7000.2446 - mae: 7000.2446\n",
            "Epoch 90/500\n",
            "9/9 [==============================] - 0s 2ms/step - loss: 6988.2773 - mae: 6988.2773\n",
            "Epoch 91/500\n",
            "9/9 [==============================] - 0s 2ms/step - loss: 6977.6313 - mae: 6977.6313\n",
            "Epoch 92/500\n",
            "9/9 [==============================] - 0s 2ms/step - loss: 6967.2100 - mae: 6967.2100\n",
            "Epoch 93/500\n",
            "9/9 [==============================] - 0s 2ms/step - loss: 6952.5469 - mae: 6952.5469\n",
            "Epoch 94/500\n",
            "9/9 [==============================] - 0s 2ms/step - loss: 6942.5156 - mae: 6942.5156\n",
            "Epoch 95/500\n",
            "9/9 [==============================] - 0s 2ms/step - loss: 6928.5132 - mae: 6928.5132\n",
            "Epoch 96/500\n",
            "9/9 [==============================] - 0s 2ms/step - loss: 6916.3760 - mae: 6916.3760\n",
            "Epoch 97/500\n",
            "9/9 [==============================] - 0s 3ms/step - loss: 6902.1445 - mae: 6902.1445\n",
            "Epoch 98/500\n",
            "9/9 [==============================] - 0s 2ms/step - loss: 6889.7524 - mae: 6889.7524\n",
            "Epoch 99/500\n",
            "9/9 [==============================] - 0s 2ms/step - loss: 6876.9956 - mae: 6876.9956\n",
            "Epoch 100/500\n",
            "9/9 [==============================] - 0s 2ms/step - loss: 6863.1372 - mae: 6863.1372\n",
            "Epoch 101/500\n",
            "9/9 [==============================] - 0s 2ms/step - loss: 6849.4248 - mae: 6849.4248\n",
            "Epoch 102/500\n",
            "9/9 [==============================] - 0s 2ms/step - loss: 6837.6924 - mae: 6837.6924\n",
            "Epoch 103/500\n",
            "9/9 [==============================] - 0s 2ms/step - loss: 6825.2690 - mae: 6825.2690\n",
            "Epoch 104/500\n",
            "9/9 [==============================] - 0s 2ms/step - loss: 6809.5732 - mae: 6809.5732\n",
            "Epoch 105/500\n",
            "9/9 [==============================] - 0s 2ms/step - loss: 6794.3472 - mae: 6794.3472\n",
            "Epoch 106/500\n",
            "9/9 [==============================] - 0s 2ms/step - loss: 6780.9932 - mae: 6780.9932\n",
            "Epoch 107/500\n",
            "9/9 [==============================] - 0s 2ms/step - loss: 6768.4702 - mae: 6768.4702\n",
            "Epoch 108/500\n",
            "9/9 [==============================] - 0s 2ms/step - loss: 6751.9526 - mae: 6751.9526\n",
            "Epoch 109/500\n",
            "9/9 [==============================] - 0s 2ms/step - loss: 6737.6924 - mae: 6737.6924\n",
            "Epoch 110/500\n",
            "9/9 [==============================] - 0s 2ms/step - loss: 6722.7671 - mae: 6722.7671\n",
            "Epoch 111/500\n",
            "9/9 [==============================] - 0s 2ms/step - loss: 6708.4731 - mae: 6708.4731\n",
            "Epoch 112/500\n",
            "9/9 [==============================] - 0s 3ms/step - loss: 6694.4019 - mae: 6694.4019\n",
            "Epoch 113/500\n",
            "9/9 [==============================] - 0s 2ms/step - loss: 6679.5039 - mae: 6679.5039\n",
            "Epoch 114/500\n",
            "9/9 [==============================] - 0s 2ms/step - loss: 6665.6533 - mae: 6665.6533\n",
            "Epoch 115/500\n",
            "9/9 [==============================] - 0s 2ms/step - loss: 6650.6226 - mae: 6650.6226\n",
            "Epoch 116/500\n",
            "9/9 [==============================] - 0s 2ms/step - loss: 6636.0767 - mae: 6636.0767\n",
            "Epoch 117/500\n",
            "9/9 [==============================] - 0s 2ms/step - loss: 6623.5059 - mae: 6623.5059\n",
            "Epoch 118/500\n",
            "9/9 [==============================] - 0s 2ms/step - loss: 6608.0986 - mae: 6608.0986\n",
            "Epoch 119/500\n",
            "9/9 [==============================] - 0s 2ms/step - loss: 6591.5278 - mae: 6591.5278\n",
            "Epoch 120/500\n",
            "9/9 [==============================] - 0s 2ms/step - loss: 6578.9028 - mae: 6578.9028\n",
            "Epoch 121/500\n",
            "9/9 [==============================] - 0s 3ms/step - loss: 6565.2231 - mae: 6565.2231\n",
            "Epoch 122/500\n",
            "9/9 [==============================] - 0s 3ms/step - loss: 6550.6133 - mae: 6550.6133\n",
            "Epoch 123/500\n",
            "9/9 [==============================] - 0s 2ms/step - loss: 6538.1128 - mae: 6538.1128\n",
            "Epoch 124/500\n",
            "9/9 [==============================] - 0s 3ms/step - loss: 6526.4365 - mae: 6526.4365\n",
            "Epoch 125/500\n",
            "9/9 [==============================] - 0s 2ms/step - loss: 6515.4814 - mae: 6515.4814\n",
            "Epoch 126/500\n",
            "9/9 [==============================] - 0s 2ms/step - loss: 6505.7734 - mae: 6505.7734\n",
            "Epoch 127/500\n",
            "9/9 [==============================] - 0s 3ms/step - loss: 6494.0410 - mae: 6494.0410\n",
            "Epoch 128/500\n",
            "9/9 [==============================] - 0s 2ms/step - loss: 6485.0322 - mae: 6485.0322\n",
            "Epoch 129/500\n",
            "9/9 [==============================] - 0s 2ms/step - loss: 6473.7144 - mae: 6473.7144\n",
            "Epoch 130/500\n",
            "9/9 [==============================] - 0s 3ms/step - loss: 6466.3926 - mae: 6466.3926\n",
            "Epoch 131/500\n",
            "9/9 [==============================] - 0s 3ms/step - loss: 6457.0869 - mae: 6457.0869\n",
            "Epoch 132/500\n",
            "9/9 [==============================] - 0s 2ms/step - loss: 6449.2812 - mae: 6449.2812\n",
            "Epoch 133/500\n",
            "9/9 [==============================] - 0s 3ms/step - loss: 6442.1943 - mae: 6442.1943\n",
            "Epoch 134/500\n",
            "9/9 [==============================] - 0s 3ms/step - loss: 6432.9639 - mae: 6432.9639\n",
            "Epoch 135/500\n",
            "9/9 [==============================] - 0s 2ms/step - loss: 6430.5469 - mae: 6430.5469\n",
            "Epoch 136/500\n",
            "9/9 [==============================] - 0s 2ms/step - loss: 6420.2583 - mae: 6420.2583\n",
            "Epoch 137/500\n",
            "9/9 [==============================] - 0s 2ms/step - loss: 6413.8926 - mae: 6413.8926\n",
            "Epoch 138/500\n",
            "9/9 [==============================] - 0s 2ms/step - loss: 6408.5161 - mae: 6408.5161\n",
            "Epoch 139/500\n",
            "9/9 [==============================] - 0s 2ms/step - loss: 6403.9956 - mae: 6403.9956\n",
            "Epoch 140/500\n",
            "9/9 [==============================] - 0s 2ms/step - loss: 6399.9302 - mae: 6399.9302\n",
            "Epoch 141/500\n",
            "9/9 [==============================] - 0s 2ms/step - loss: 6395.6323 - mae: 6395.6323\n",
            "Epoch 142/500\n",
            "9/9 [==============================] - 0s 2ms/step - loss: 6390.1846 - mae: 6390.1846\n",
            "Epoch 143/500\n",
            "9/9 [==============================] - 0s 2ms/step - loss: 6386.0156 - mae: 6386.0156\n",
            "Epoch 144/500\n",
            "9/9 [==============================] - 0s 2ms/step - loss: 6380.7354 - mae: 6380.7354\n",
            "Epoch 145/500\n",
            "9/9 [==============================] - 0s 2ms/step - loss: 6375.2427 - mae: 6375.2427\n",
            "Epoch 146/500\n",
            "9/9 [==============================] - 0s 2ms/step - loss: 6371.7515 - mae: 6371.7515\n",
            "Epoch 147/500\n",
            "9/9 [==============================] - 0s 2ms/step - loss: 6367.8203 - mae: 6367.8203\n",
            "Epoch 148/500\n",
            "9/9 [==============================] - 0s 2ms/step - loss: 6362.1157 - mae: 6362.1157\n",
            "Epoch 149/500\n",
            "9/9 [==============================] - 0s 2ms/step - loss: 6357.0039 - mae: 6357.0039\n",
            "Epoch 150/500\n",
            "9/9 [==============================] - 0s 2ms/step - loss: 6353.0693 - mae: 6353.0693\n",
            "Epoch 151/500\n",
            "9/9 [==============================] - 0s 2ms/step - loss: 6349.0649 - mae: 6349.0649\n",
            "Epoch 152/500\n",
            "9/9 [==============================] - 0s 2ms/step - loss: 6345.9497 - mae: 6345.9497\n",
            "Epoch 153/500\n",
            "9/9 [==============================] - 0s 2ms/step - loss: 6343.0391 - mae: 6343.0391\n",
            "Epoch 154/500\n",
            "9/9 [==============================] - 0s 2ms/step - loss: 6336.5381 - mae: 6336.5381\n",
            "Epoch 155/500\n",
            "9/9 [==============================] - 0s 3ms/step - loss: 6332.4204 - mae: 6332.4204\n",
            "Epoch 156/500\n",
            "9/9 [==============================] - 0s 2ms/step - loss: 6328.6929 - mae: 6328.6929\n",
            "Epoch 157/500\n",
            "9/9 [==============================] - 0s 2ms/step - loss: 6325.2344 - mae: 6325.2339\n",
            "Epoch 158/500\n",
            "9/9 [==============================] - 0s 2ms/step - loss: 6320.9092 - mae: 6320.9092\n",
            "Epoch 159/500\n",
            "9/9 [==============================] - 0s 2ms/step - loss: 6318.4141 - mae: 6318.4141\n",
            "Epoch 160/500\n",
            "9/9 [==============================] - 0s 2ms/step - loss: 6314.2847 - mae: 6314.2847\n",
            "Epoch 161/500\n",
            "9/9 [==============================] - 0s 2ms/step - loss: 6310.4980 - mae: 6310.4980\n",
            "Epoch 162/500\n",
            "9/9 [==============================] - 0s 2ms/step - loss: 6308.2153 - mae: 6308.2153\n",
            "Epoch 163/500\n",
            "9/9 [==============================] - 0s 2ms/step - loss: 6304.8354 - mae: 6304.8354\n",
            "Epoch 164/500\n",
            "9/9 [==============================] - 0s 2ms/step - loss: 6303.4502 - mae: 6303.4502\n",
            "Epoch 165/500\n",
            "9/9 [==============================] - 0s 2ms/step - loss: 6299.6099 - mae: 6299.6099\n",
            "Epoch 166/500\n",
            "9/9 [==============================] - 0s 3ms/step - loss: 6296.7949 - mae: 6296.7949\n",
            "Epoch 167/500\n",
            "9/9 [==============================] - 0s 2ms/step - loss: 6290.5898 - mae: 6290.5898\n",
            "Epoch 168/500\n",
            "9/9 [==============================] - 0s 2ms/step - loss: 6287.5620 - mae: 6287.5620\n",
            "Epoch 169/500\n",
            "9/9 [==============================] - 0s 2ms/step - loss: 6285.5142 - mae: 6285.5142\n",
            "Epoch 170/500\n",
            "9/9 [==============================] - 0s 2ms/step - loss: 6279.7769 - mae: 6279.7769\n",
            "Epoch 171/500\n",
            "9/9 [==============================] - 0s 2ms/step - loss: 6278.9790 - mae: 6278.9790\n",
            "Epoch 172/500\n",
            "9/9 [==============================] - 0s 2ms/step - loss: 6275.4668 - mae: 6275.4668\n",
            "Epoch 173/500\n",
            "9/9 [==============================] - 0s 2ms/step - loss: 6274.6973 - mae: 6274.6973\n",
            "Epoch 174/500\n",
            "9/9 [==============================] - 0s 2ms/step - loss: 6267.4282 - mae: 6267.4282\n",
            "Epoch 175/500\n",
            "9/9 [==============================] - 0s 2ms/step - loss: 6264.6880 - mae: 6264.6880\n",
            "Epoch 176/500\n",
            "9/9 [==============================] - 0s 2ms/step - loss: 6259.6841 - mae: 6259.6841\n",
            "Epoch 177/500\n",
            "9/9 [==============================] - 0s 2ms/step - loss: 6257.0991 - mae: 6257.0991\n",
            "Epoch 178/500\n",
            "9/9 [==============================] - 0s 2ms/step - loss: 6255.7803 - mae: 6255.7803\n",
            "Epoch 179/500\n",
            "9/9 [==============================] - 0s 2ms/step - loss: 6251.3306 - mae: 6251.3306\n",
            "Epoch 180/500\n",
            "9/9 [==============================] - 0s 2ms/step - loss: 6248.1685 - mae: 6248.1685\n",
            "Epoch 181/500\n",
            "9/9 [==============================] - 0s 2ms/step - loss: 6243.4058 - mae: 6243.4058\n",
            "Epoch 182/500\n",
            "9/9 [==============================] - 0s 2ms/step - loss: 6239.7900 - mae: 6239.7900\n",
            "Epoch 183/500\n",
            "9/9 [==============================] - 0s 2ms/step - loss: 6237.2002 - mae: 6237.2002\n",
            "Epoch 184/500\n",
            "9/9 [==============================] - 0s 2ms/step - loss: 6233.8076 - mae: 6233.8076\n",
            "Epoch 185/500\n",
            "9/9 [==============================] - 0s 2ms/step - loss: 6230.7554 - mae: 6230.7554\n",
            "Epoch 186/500\n",
            "9/9 [==============================] - 0s 2ms/step - loss: 6226.1816 - mae: 6226.1816\n",
            "Epoch 187/500\n",
            "9/9 [==============================] - 0s 2ms/step - loss: 6223.8340 - mae: 6223.8340\n",
            "Epoch 188/500\n",
            "9/9 [==============================] - 0s 2ms/step - loss: 6221.5244 - mae: 6221.5244\n",
            "Epoch 189/500\n",
            "9/9 [==============================] - 0s 2ms/step - loss: 6217.8711 - mae: 6217.8711\n",
            "Epoch 190/500\n",
            "9/9 [==============================] - 0s 2ms/step - loss: 6213.6201 - mae: 6213.6201\n",
            "Epoch 191/500\n",
            "9/9 [==============================] - 0s 2ms/step - loss: 6209.2891 - mae: 6209.2891\n",
            "Epoch 192/500\n",
            "9/9 [==============================] - 0s 2ms/step - loss: 6204.8975 - mae: 6204.8975\n",
            "Epoch 193/500\n",
            "9/9 [==============================] - 0s 2ms/step - loss: 6201.6885 - mae: 6201.6885\n",
            "Epoch 194/500\n",
            "9/9 [==============================] - 0s 2ms/step - loss: 6199.7266 - mae: 6199.7266\n",
            "Epoch 195/500\n",
            "9/9 [==============================] - 0s 2ms/step - loss: 6195.3799 - mae: 6195.3799\n",
            "Epoch 196/500\n",
            "9/9 [==============================] - 0s 2ms/step - loss: 6191.3296 - mae: 6191.3296\n",
            "Epoch 197/500\n",
            "9/9 [==============================] - 0s 2ms/step - loss: 6187.2437 - mae: 6187.2437\n",
            "Epoch 198/500\n",
            "9/9 [==============================] - 0s 2ms/step - loss: 6187.6323 - mae: 6187.6323\n",
            "Epoch 199/500\n",
            "9/9 [==============================] - 0s 2ms/step - loss: 6180.5518 - mae: 6180.5518\n",
            "Epoch 200/500\n",
            "9/9 [==============================] - 0s 2ms/step - loss: 6176.5962 - mae: 6176.5962\n",
            "Epoch 201/500\n",
            "9/9 [==============================] - 0s 2ms/step - loss: 6173.2295 - mae: 6173.2295\n",
            "Epoch 202/500\n",
            "9/9 [==============================] - 0s 2ms/step - loss: 6169.7197 - mae: 6169.7197\n",
            "Epoch 203/500\n",
            "9/9 [==============================] - 0s 2ms/step - loss: 6169.4111 - mae: 6169.4111\n",
            "Epoch 204/500\n",
            "9/9 [==============================] - 0s 3ms/step - loss: 6164.5845 - mae: 6164.5845\n",
            "Epoch 205/500\n",
            "9/9 [==============================] - 0s 2ms/step - loss: 6159.9346 - mae: 6159.9346\n",
            "Epoch 206/500\n",
            "9/9 [==============================] - 0s 2ms/step - loss: 6154.0098 - mae: 6154.0098\n",
            "Epoch 207/500\n",
            "9/9 [==============================] - 0s 2ms/step - loss: 6150.8491 - mae: 6150.8491\n",
            "Epoch 208/500\n",
            "9/9 [==============================] - 0s 2ms/step - loss: 6149.3369 - mae: 6149.3369\n",
            "Epoch 209/500\n",
            "9/9 [==============================] - 0s 2ms/step - loss: 6144.8735 - mae: 6144.8735\n",
            "Epoch 210/500\n",
            "9/9 [==============================] - 0s 2ms/step - loss: 6140.6323 - mae: 6140.6323\n",
            "Epoch 211/500\n",
            "9/9 [==============================] - 0s 2ms/step - loss: 6137.0093 - mae: 6137.0093\n",
            "Epoch 212/500\n",
            "9/9 [==============================] - 0s 2ms/step - loss: 6131.5303 - mae: 6131.5303\n",
            "Epoch 213/500\n",
            "9/9 [==============================] - 0s 2ms/step - loss: 6130.4219 - mae: 6130.4219\n",
            "Epoch 214/500\n",
            "9/9 [==============================] - 0s 2ms/step - loss: 6125.2612 - mae: 6125.2612\n",
            "Epoch 215/500\n",
            "9/9 [==============================] - 0s 2ms/step - loss: 6122.7192 - mae: 6122.7192\n",
            "Epoch 216/500\n",
            "9/9 [==============================] - 0s 3ms/step - loss: 6119.9971 - mae: 6119.9971\n",
            "Epoch 217/500\n",
            "9/9 [==============================] - 0s 2ms/step - loss: 6113.6543 - mae: 6113.6543\n",
            "Epoch 218/500\n",
            "9/9 [==============================] - 0s 2ms/step - loss: 6115.9863 - mae: 6115.9863\n",
            "Epoch 219/500\n",
            "9/9 [==============================] - 0s 2ms/step - loss: 6105.9331 - mae: 6105.9331\n",
            "Epoch 220/500\n",
            "9/9 [==============================] - 0s 2ms/step - loss: 6103.1670 - mae: 6103.1670\n",
            "Epoch 221/500\n",
            "9/9 [==============================] - 0s 2ms/step - loss: 6099.9351 - mae: 6099.9351\n",
            "Epoch 222/500\n",
            "9/9 [==============================] - 0s 2ms/step - loss: 6096.0020 - mae: 6096.0020\n",
            "Epoch 223/500\n",
            "9/9 [==============================] - 0s 2ms/step - loss: 6095.0645 - mae: 6095.0645\n",
            "Epoch 224/500\n",
            "9/9 [==============================] - 0s 2ms/step - loss: 6086.2642 - mae: 6086.2642\n",
            "Epoch 225/500\n",
            "9/9 [==============================] - 0s 2ms/step - loss: 6083.9121 - mae: 6083.9121\n",
            "Epoch 226/500\n",
            "9/9 [==============================] - 0s 2ms/step - loss: 6078.8828 - mae: 6078.8828\n",
            "Epoch 227/500\n",
            "9/9 [==============================] - 0s 2ms/step - loss: 6074.8755 - mae: 6074.8755\n",
            "Epoch 228/500\n",
            "9/9 [==============================] - 0s 2ms/step - loss: 6071.6680 - mae: 6071.6680\n",
            "Epoch 229/500\n",
            "9/9 [==============================] - 0s 3ms/step - loss: 6066.9209 - mae: 6066.9209\n",
            "Epoch 230/500\n",
            "9/9 [==============================] - 0s 2ms/step - loss: 6067.8496 - mae: 6067.8496\n",
            "Epoch 231/500\n",
            "9/9 [==============================] - 0s 2ms/step - loss: 6061.1157 - mae: 6061.1157\n",
            "Epoch 232/500\n",
            "9/9 [==============================] - 0s 2ms/step - loss: 6056.5166 - mae: 6056.5166\n",
            "Epoch 233/500\n",
            "9/9 [==============================] - 0s 3ms/step - loss: 6051.9863 - mae: 6051.9863\n",
            "Epoch 234/500\n",
            "9/9 [==============================] - 0s 2ms/step - loss: 6049.4995 - mae: 6049.4995\n",
            "Epoch 235/500\n",
            "9/9 [==============================] - 0s 2ms/step - loss: 6045.8628 - mae: 6045.8628\n",
            "Epoch 236/500\n",
            "9/9 [==============================] - 0s 2ms/step - loss: 6044.8555 - mae: 6044.8555\n",
            "Epoch 237/500\n",
            "9/9 [==============================] - 0s 2ms/step - loss: 6038.8076 - mae: 6038.8076\n",
            "Epoch 238/500\n",
            "9/9 [==============================] - 0s 2ms/step - loss: 6032.6787 - mae: 6032.6787\n",
            "Epoch 239/500\n",
            "9/9 [==============================] - 0s 2ms/step - loss: 6030.8833 - mae: 6030.8833\n",
            "Epoch 240/500\n",
            "9/9 [==============================] - 0s 2ms/step - loss: 6025.1631 - mae: 6025.1631\n",
            "Epoch 241/500\n",
            "9/9 [==============================] - 0s 2ms/step - loss: 6025.1997 - mae: 6025.1997\n",
            "Epoch 242/500\n",
            "9/9 [==============================] - 0s 2ms/step - loss: 6024.9165 - mae: 6024.9165\n",
            "Epoch 243/500\n",
            "9/9 [==============================] - 0s 2ms/step - loss: 6014.4590 - mae: 6014.4590\n",
            "Epoch 244/500\n",
            "9/9 [==============================] - 0s 2ms/step - loss: 6012.3203 - mae: 6012.3203\n",
            "Epoch 245/500\n",
            "9/9 [==============================] - 0s 2ms/step - loss: 6007.4106 - mae: 6007.4106\n",
            "Epoch 246/500\n",
            "9/9 [==============================] - 0s 2ms/step - loss: 6002.4517 - mae: 6002.4517\n",
            "Epoch 247/500\n",
            "9/9 [==============================] - 0s 3ms/step - loss: 5999.4531 - mae: 5999.4531\n",
            "Epoch 248/500\n",
            "9/9 [==============================] - 0s 3ms/step - loss: 5994.9341 - mae: 5994.9341\n",
            "Epoch 249/500\n",
            "9/9 [==============================] - 0s 2ms/step - loss: 5990.3047 - mae: 5990.3047\n",
            "Epoch 250/500\n",
            "9/9 [==============================] - 0s 2ms/step - loss: 5986.9570 - mae: 5986.9570\n",
            "Epoch 251/500\n",
            "9/9 [==============================] - 0s 2ms/step - loss: 5983.5801 - mae: 5983.5801\n",
            "Epoch 252/500\n",
            "9/9 [==============================] - 0s 2ms/step - loss: 5979.7622 - mae: 5979.7622\n",
            "Epoch 253/500\n",
            "9/9 [==============================] - 0s 2ms/step - loss: 5976.9165 - mae: 5976.9165\n",
            "Epoch 254/500\n",
            "9/9 [==============================] - 0s 2ms/step - loss: 5970.0615 - mae: 5970.0615\n",
            "Epoch 255/500\n",
            "9/9 [==============================] - 0s 2ms/step - loss: 5966.3042 - mae: 5966.3042\n",
            "Epoch 256/500\n",
            "9/9 [==============================] - 0s 3ms/step - loss: 5963.0220 - mae: 5963.0220\n",
            "Epoch 257/500\n",
            "9/9 [==============================] - 0s 2ms/step - loss: 5956.8755 - mae: 5956.8755\n",
            "Epoch 258/500\n",
            "9/9 [==============================] - 0s 2ms/step - loss: 5952.1011 - mae: 5952.1011\n",
            "Epoch 259/500\n",
            "9/9 [==============================] - 0s 2ms/step - loss: 5949.1338 - mae: 5949.1338\n",
            "Epoch 260/500\n",
            "9/9 [==============================] - 0s 3ms/step - loss: 5948.9604 - mae: 5948.9604\n",
            "Epoch 261/500\n",
            "9/9 [==============================] - 0s 3ms/step - loss: 5940.4888 - mae: 5940.4888\n",
            "Epoch 262/500\n",
            "9/9 [==============================] - 0s 2ms/step - loss: 5934.9814 - mae: 5934.9814\n",
            "Epoch 263/500\n",
            "9/9 [==============================] - 0s 3ms/step - loss: 5929.5400 - mae: 5929.5400\n",
            "Epoch 264/500\n",
            "9/9 [==============================] - 0s 2ms/step - loss: 5925.8853 - mae: 5925.8853\n",
            "Epoch 265/500\n",
            "9/9 [==============================] - 0s 2ms/step - loss: 5920.7358 - mae: 5920.7358\n",
            "Epoch 266/500\n",
            "9/9 [==============================] - 0s 2ms/step - loss: 5917.6245 - mae: 5917.6245\n",
            "Epoch 267/500\n",
            "9/9 [==============================] - 0s 2ms/step - loss: 5914.5889 - mae: 5914.5889\n",
            "Epoch 268/500\n",
            "9/9 [==============================] - 0s 2ms/step - loss: 5909.5181 - mae: 5909.5181\n",
            "Epoch 269/500\n",
            "9/9 [==============================] - 0s 3ms/step - loss: 5904.4673 - mae: 5904.4673\n",
            "Epoch 270/500\n",
            "9/9 [==============================] - 0s 2ms/step - loss: 5898.5615 - mae: 5898.5615\n",
            "Epoch 271/500\n",
            "9/9 [==============================] - 0s 2ms/step - loss: 5892.8477 - mae: 5892.8477\n",
            "Epoch 272/500\n",
            "9/9 [==============================] - 0s 2ms/step - loss: 5889.9976 - mae: 5889.9976\n",
            "Epoch 273/500\n",
            "9/9 [==============================] - 0s 2ms/step - loss: 5883.8701 - mae: 5883.8701\n",
            "Epoch 274/500\n",
            "9/9 [==============================] - 0s 2ms/step - loss: 5877.6895 - mae: 5877.6895\n",
            "Epoch 275/500\n",
            "9/9 [==============================] - 0s 2ms/step - loss: 5874.3682 - mae: 5874.3682\n",
            "Epoch 276/500\n",
            "9/9 [==============================] - 0s 2ms/step - loss: 5872.5601 - mae: 5872.5601\n",
            "Epoch 277/500\n",
            "9/9 [==============================] - 0s 2ms/step - loss: 5863.1440 - mae: 5863.1440\n",
            "Epoch 278/500\n",
            "9/9 [==============================] - 0s 3ms/step - loss: 5860.4795 - mae: 5860.4795\n",
            "Epoch 279/500\n",
            "9/9 [==============================] - 0s 2ms/step - loss: 5855.0591 - mae: 5855.0591\n",
            "Epoch 280/500\n",
            "9/9 [==============================] - 0s 2ms/step - loss: 5850.3149 - mae: 5850.3149\n",
            "Epoch 281/500\n",
            "9/9 [==============================] - 0s 2ms/step - loss: 5846.0713 - mae: 5846.0713\n",
            "Epoch 282/500\n",
            "9/9 [==============================] - 0s 2ms/step - loss: 5838.5332 - mae: 5838.5332\n",
            "Epoch 283/500\n",
            "9/9 [==============================] - 0s 2ms/step - loss: 5839.6304 - mae: 5839.6304\n",
            "Epoch 284/500\n",
            "9/9 [==============================] - 0s 2ms/step - loss: 5828.2300 - mae: 5828.2300\n",
            "Epoch 285/500\n",
            "9/9 [==============================] - 0s 2ms/step - loss: 5825.3184 - mae: 5825.3184\n",
            "Epoch 286/500\n",
            "9/9 [==============================] - 0s 2ms/step - loss: 5817.5845 - mae: 5817.5845\n",
            "Epoch 287/500\n",
            "9/9 [==============================] - 0s 2ms/step - loss: 5814.9595 - mae: 5814.9595\n",
            "Epoch 288/500\n",
            "9/9 [==============================] - 0s 2ms/step - loss: 5806.6108 - mae: 5806.6108\n",
            "Epoch 289/500\n",
            "9/9 [==============================] - 0s 2ms/step - loss: 5801.2236 - mae: 5801.2236\n",
            "Epoch 290/500\n",
            "9/9 [==============================] - 0s 2ms/step - loss: 5796.3608 - mae: 5796.3608\n",
            "Epoch 291/500\n",
            "9/9 [==============================] - 0s 2ms/step - loss: 5795.2124 - mae: 5795.2124\n",
            "Epoch 292/500\n",
            "9/9 [==============================] - 0s 2ms/step - loss: 5786.5664 - mae: 5786.5664\n",
            "Epoch 293/500\n",
            "9/9 [==============================] - 0s 2ms/step - loss: 5781.7446 - mae: 5781.7446\n",
            "Epoch 294/500\n",
            "9/9 [==============================] - 0s 2ms/step - loss: 5773.7061 - mae: 5773.7061\n",
            "Epoch 295/500\n",
            "9/9 [==============================] - 0s 2ms/step - loss: 5768.7324 - mae: 5768.7324\n",
            "Epoch 296/500\n",
            "9/9 [==============================] - 0s 2ms/step - loss: 5760.9243 - mae: 5760.9243\n",
            "Epoch 297/500\n",
            "9/9 [==============================] - 0s 2ms/step - loss: 5758.7109 - mae: 5758.7109\n",
            "Epoch 298/500\n",
            "9/9 [==============================] - 0s 2ms/step - loss: 5749.4189 - mae: 5749.4189\n",
            "Epoch 299/500\n",
            "9/9 [==============================] - 0s 2ms/step - loss: 5746.6494 - mae: 5746.6494\n",
            "Epoch 300/500\n",
            "9/9 [==============================] - 0s 2ms/step - loss: 5739.9385 - mae: 5739.9385\n",
            "Epoch 301/500\n",
            "9/9 [==============================] - 0s 2ms/step - loss: 5734.1914 - mae: 5734.1914\n",
            "Epoch 302/500\n",
            "9/9 [==============================] - 0s 3ms/step - loss: 5726.1201 - mae: 5726.1201\n",
            "Epoch 303/500\n",
            "9/9 [==============================] - 0s 3ms/step - loss: 5718.6377 - mae: 5718.6377\n",
            "Epoch 304/500\n",
            "9/9 [==============================] - 0s 2ms/step - loss: 5713.1279 - mae: 5713.1279\n",
            "Epoch 305/500\n",
            "9/9 [==============================] - 0s 3ms/step - loss: 5706.3960 - mae: 5706.3960\n",
            "Epoch 306/500\n",
            "9/9 [==============================] - 0s 3ms/step - loss: 5702.4009 - mae: 5702.4009\n",
            "Epoch 307/500\n",
            "9/9 [==============================] - 0s 2ms/step - loss: 5700.4341 - mae: 5700.4341\n",
            "Epoch 308/500\n",
            "9/9 [==============================] - 0s 3ms/step - loss: 5687.0864 - mae: 5687.0864\n",
            "Epoch 309/500\n",
            "9/9 [==============================] - 0s 3ms/step - loss: 5681.1167 - mae: 5681.1167\n",
            "Epoch 310/500\n",
            "9/9 [==============================] - 0s 2ms/step - loss: 5675.1436 - mae: 5675.1436\n",
            "Epoch 311/500\n",
            "9/9 [==============================] - 0s 2ms/step - loss: 5667.1255 - mae: 5667.1255\n",
            "Epoch 312/500\n",
            "9/9 [==============================] - 0s 2ms/step - loss: 5660.1152 - mae: 5660.1152\n",
            "Epoch 313/500\n",
            "9/9 [==============================] - 0s 2ms/step - loss: 5653.9692 - mae: 5653.9697\n",
            "Epoch 314/500\n",
            "9/9 [==============================] - 0s 2ms/step - loss: 5647.5200 - mae: 5647.5200\n",
            "Epoch 315/500\n",
            "9/9 [==============================] - 0s 2ms/step - loss: 5640.8945 - mae: 5640.8945\n",
            "Epoch 316/500\n",
            "9/9 [==============================] - 0s 2ms/step - loss: 5634.1602 - mae: 5634.1602\n",
            "Epoch 317/500\n",
            "9/9 [==============================] - 0s 2ms/step - loss: 5626.6353 - mae: 5626.6353\n",
            "Epoch 318/500\n",
            "9/9 [==============================] - 0s 2ms/step - loss: 5624.3604 - mae: 5624.3604\n",
            "Epoch 319/500\n",
            "9/9 [==============================] - 0s 2ms/step - loss: 5612.0366 - mae: 5612.0366\n",
            "Epoch 320/500\n",
            "9/9 [==============================] - 0s 2ms/step - loss: 5603.6982 - mae: 5603.6982\n",
            "Epoch 321/500\n",
            "9/9 [==============================] - 0s 3ms/step - loss: 5596.4282 - mae: 5596.4282\n",
            "Epoch 322/500\n",
            "9/9 [==============================] - 0s 2ms/step - loss: 5599.2554 - mae: 5599.2554\n",
            "Epoch 323/500\n",
            "9/9 [==============================] - 0s 2ms/step - loss: 5583.3887 - mae: 5583.3887\n",
            "Epoch 324/500\n",
            "9/9 [==============================] - 0s 3ms/step - loss: 5578.3384 - mae: 5578.3384\n",
            "Epoch 325/500\n",
            "9/9 [==============================] - 0s 2ms/step - loss: 5566.4697 - mae: 5566.4697\n",
            "Epoch 326/500\n",
            "9/9 [==============================] - 0s 3ms/step - loss: 5560.2324 - mae: 5560.2324\n",
            "Epoch 327/500\n",
            "9/9 [==============================] - 0s 2ms/step - loss: 5551.6279 - mae: 5551.6279\n",
            "Epoch 328/500\n",
            "9/9 [==============================] - 0s 2ms/step - loss: 5546.2280 - mae: 5546.2280\n",
            "Epoch 329/500\n",
            "9/9 [==============================] - 0s 2ms/step - loss: 5536.2109 - mae: 5536.2109\n",
            "Epoch 330/500\n",
            "9/9 [==============================] - 0s 2ms/step - loss: 5527.9800 - mae: 5527.9800\n",
            "Epoch 331/500\n",
            "9/9 [==============================] - 0s 2ms/step - loss: 5519.1763 - mae: 5519.1763\n",
            "Epoch 332/500\n",
            "9/9 [==============================] - 0s 2ms/step - loss: 5511.5073 - mae: 5511.5073\n",
            "Epoch 333/500\n",
            "9/9 [==============================] - 0s 2ms/step - loss: 5501.8916 - mae: 5501.8916\n",
            "Epoch 334/500\n",
            "9/9 [==============================] - 0s 2ms/step - loss: 5497.0000 - mae: 5497.0000\n",
            "Epoch 335/500\n",
            "9/9 [==============================] - 0s 2ms/step - loss: 5490.1094 - mae: 5490.1094\n",
            "Epoch 336/500\n",
            "9/9 [==============================] - 0s 3ms/step - loss: 5475.9404 - mae: 5475.9404\n",
            "Epoch 337/500\n",
            "9/9 [==============================] - 0s 3ms/step - loss: 5470.5557 - mae: 5470.5557\n",
            "Epoch 338/500\n",
            "9/9 [==============================] - 0s 3ms/step - loss: 5458.3828 - mae: 5458.3828\n",
            "Epoch 339/500\n",
            "9/9 [==============================] - 0s 2ms/step - loss: 5452.0425 - mae: 5452.0425\n",
            "Epoch 340/500\n",
            "9/9 [==============================] - 0s 2ms/step - loss: 5440.5684 - mae: 5440.5684\n",
            "Epoch 341/500\n",
            "9/9 [==============================] - 0s 3ms/step - loss: 5430.1826 - mae: 5430.1826\n",
            "Epoch 342/500\n",
            "9/9 [==============================] - 0s 3ms/step - loss: 5421.7598 - mae: 5421.7598\n",
            "Epoch 343/500\n",
            "9/9 [==============================] - 0s 2ms/step - loss: 5410.1855 - mae: 5410.1855\n",
            "Epoch 344/500\n",
            "9/9 [==============================] - 0s 2ms/step - loss: 5402.6050 - mae: 5402.6050\n",
            "Epoch 345/500\n",
            "9/9 [==============================] - 0s 2ms/step - loss: 5392.8555 - mae: 5392.8555\n",
            "Epoch 346/500\n",
            "9/9 [==============================] - 0s 2ms/step - loss: 5382.8652 - mae: 5382.8652\n",
            "Epoch 347/500\n",
            "9/9 [==============================] - 0s 2ms/step - loss: 5371.8452 - mae: 5371.8452\n",
            "Epoch 348/500\n",
            "9/9 [==============================] - 0s 2ms/step - loss: 5363.8755 - mae: 5363.8755\n",
            "Epoch 349/500\n",
            "9/9 [==============================] - 0s 3ms/step - loss: 5354.6475 - mae: 5354.6475\n",
            "Epoch 350/500\n",
            "9/9 [==============================] - 0s 2ms/step - loss: 5341.1021 - mae: 5341.1021\n",
            "Epoch 351/500\n",
            "9/9 [==============================] - 0s 2ms/step - loss: 5330.3701 - mae: 5330.3701\n",
            "Epoch 352/500\n",
            "9/9 [==============================] - 0s 2ms/step - loss: 5319.5171 - mae: 5319.5171\n",
            "Epoch 353/500\n",
            "9/9 [==============================] - 0s 3ms/step - loss: 5308.7969 - mae: 5308.7969\n",
            "Epoch 354/500\n",
            "9/9 [==============================] - 0s 3ms/step - loss: 5299.3369 - mae: 5299.3369\n",
            "Epoch 355/500\n",
            "9/9 [==============================] - 0s 2ms/step - loss: 5289.4697 - mae: 5289.4697\n",
            "Epoch 356/500\n",
            "9/9 [==============================] - 0s 2ms/step - loss: 5275.4712 - mae: 5275.4712\n",
            "Epoch 357/500\n",
            "9/9 [==============================] - 0s 3ms/step - loss: 5264.6016 - mae: 5264.6016\n",
            "Epoch 358/500\n",
            "9/9 [==============================] - 0s 2ms/step - loss: 5254.1519 - mae: 5254.1519\n",
            "Epoch 359/500\n",
            "9/9 [==============================] - 0s 3ms/step - loss: 5254.7261 - mae: 5254.7261\n",
            "Epoch 360/500\n",
            "9/9 [==============================] - 0s 2ms/step - loss: 5234.6567 - mae: 5234.6567\n",
            "Epoch 361/500\n",
            "9/9 [==============================] - 0s 2ms/step - loss: 5224.3418 - mae: 5224.3418\n",
            "Epoch 362/500\n",
            "9/9 [==============================] - 0s 2ms/step - loss: 5208.0498 - mae: 5208.0498\n",
            "Epoch 363/500\n",
            "9/9 [==============================] - 0s 2ms/step - loss: 5192.6709 - mae: 5192.6709\n",
            "Epoch 364/500\n",
            "9/9 [==============================] - 0s 2ms/step - loss: 5182.1826 - mae: 5182.1826\n",
            "Epoch 365/500\n",
            "9/9 [==============================] - 0s 2ms/step - loss: 5173.0088 - mae: 5173.0088\n",
            "Epoch 366/500\n",
            "9/9 [==============================] - 0s 2ms/step - loss: 5163.6128 - mae: 5163.6128\n",
            "Epoch 367/500\n",
            "9/9 [==============================] - 0s 2ms/step - loss: 5145.0864 - mae: 5145.0864\n",
            "Epoch 368/500\n",
            "9/9 [==============================] - 0s 2ms/step - loss: 5136.2510 - mae: 5136.2510\n",
            "Epoch 369/500\n",
            "9/9 [==============================] - 0s 2ms/step - loss: 5120.7212 - mae: 5120.7212\n",
            "Epoch 370/500\n",
            "9/9 [==============================] - 0s 2ms/step - loss: 5111.5679 - mae: 5111.5679\n",
            "Epoch 371/500\n",
            "9/9 [==============================] - 0s 2ms/step - loss: 5097.6533 - mae: 5097.6533\n",
            "Epoch 372/500\n",
            "9/9 [==============================] - 0s 2ms/step - loss: 5085.5269 - mae: 5085.5269\n",
            "Epoch 373/500\n",
            "9/9 [==============================] - 0s 2ms/step - loss: 5071.9536 - mae: 5071.9536\n",
            "Epoch 374/500\n",
            "9/9 [==============================] - 0s 2ms/step - loss: 5065.4736 - mae: 5065.4736\n",
            "Epoch 375/500\n",
            "9/9 [==============================] - 0s 2ms/step - loss: 5047.2314 - mae: 5047.2314\n",
            "Epoch 376/500\n",
            "9/9 [==============================] - 0s 2ms/step - loss: 5032.7642 - mae: 5032.7642\n",
            "Epoch 377/500\n",
            "9/9 [==============================] - 0s 2ms/step - loss: 5019.7070 - mae: 5019.7070\n",
            "Epoch 378/500\n",
            "9/9 [==============================] - 0s 2ms/step - loss: 5005.0654 - mae: 5005.0654\n",
            "Epoch 379/500\n",
            "9/9 [==============================] - 0s 2ms/step - loss: 4989.7505 - mae: 4989.7505\n",
            "Epoch 380/500\n",
            "9/9 [==============================] - 0s 2ms/step - loss: 4984.7422 - mae: 4984.7422\n",
            "Epoch 381/500\n",
            "9/9 [==============================] - 0s 2ms/step - loss: 4963.2236 - mae: 4963.2236\n",
            "Epoch 382/500\n",
            "9/9 [==============================] - 0s 2ms/step - loss: 4950.3267 - mae: 4950.3267\n",
            "Epoch 383/500\n",
            "9/9 [==============================] - 0s 2ms/step - loss: 4934.4746 - mae: 4934.4746\n",
            "Epoch 384/500\n",
            "9/9 [==============================] - 0s 2ms/step - loss: 4918.2769 - mae: 4918.2769\n",
            "Epoch 385/500\n",
            "9/9 [==============================] - 0s 2ms/step - loss: 4901.8398 - mae: 4901.8398\n",
            "Epoch 386/500\n",
            "9/9 [==============================] - 0s 2ms/step - loss: 4889.5063 - mae: 4889.5063\n",
            "Epoch 387/500\n",
            "9/9 [==============================] - 0s 2ms/step - loss: 4874.5840 - mae: 4874.5840\n",
            "Epoch 388/500\n",
            "9/9 [==============================] - 0s 2ms/step - loss: 4853.1714 - mae: 4853.1714\n",
            "Epoch 389/500\n",
            "9/9 [==============================] - 0s 2ms/step - loss: 4844.3896 - mae: 4844.3896\n",
            "Epoch 390/500\n",
            "9/9 [==============================] - 0s 2ms/step - loss: 4826.4351 - mae: 4826.4351\n",
            "Epoch 391/500\n",
            "9/9 [==============================] - 0s 2ms/step - loss: 4806.3730 - mae: 4806.3730\n",
            "Epoch 392/500\n",
            "9/9 [==============================] - 0s 2ms/step - loss: 4789.6411 - mae: 4789.6411\n",
            "Epoch 393/500\n",
            "9/9 [==============================] - 0s 2ms/step - loss: 4781.4878 - mae: 4781.4878\n",
            "Epoch 394/500\n",
            "9/9 [==============================] - 0s 2ms/step - loss: 4762.5317 - mae: 4762.5317\n",
            "Epoch 395/500\n",
            "9/9 [==============================] - 0s 2ms/step - loss: 4741.1606 - mae: 4741.1606\n",
            "Epoch 396/500\n",
            "9/9 [==============================] - 0s 2ms/step - loss: 4722.3457 - mae: 4722.3457\n",
            "Epoch 397/500\n",
            "9/9 [==============================] - 0s 2ms/step - loss: 4707.3179 - mae: 4707.3179\n",
            "Epoch 398/500\n",
            "9/9 [==============================] - 0s 2ms/step - loss: 4687.8101 - mae: 4687.8101\n",
            "Epoch 399/500\n",
            "9/9 [==============================] - 0s 2ms/step - loss: 4677.5933 - mae: 4677.5933\n",
            "Epoch 400/500\n",
            "9/9 [==============================] - 0s 2ms/step - loss: 4654.3184 - mae: 4654.3184\n",
            "Epoch 401/500\n",
            "9/9 [==============================] - 0s 2ms/step - loss: 4640.8540 - mae: 4640.8540\n",
            "Epoch 402/500\n",
            "9/9 [==============================] - 0s 2ms/step - loss: 4617.6533 - mae: 4617.6533\n",
            "Epoch 403/500\n",
            "9/9 [==============================] - 0s 2ms/step - loss: 4592.9956 - mae: 4592.9956\n",
            "Epoch 404/500\n",
            "9/9 [==============================] - 0s 2ms/step - loss: 4572.4834 - mae: 4572.4834\n",
            "Epoch 405/500\n",
            "9/9 [==============================] - 0s 2ms/step - loss: 4550.2896 - mae: 4550.2896\n",
            "Epoch 406/500\n",
            "9/9 [==============================] - 0s 2ms/step - loss: 4526.4658 - mae: 4526.4658\n",
            "Epoch 407/500\n",
            "9/9 [==============================] - 0s 2ms/step - loss: 4518.3169 - mae: 4518.3169\n",
            "Epoch 408/500\n",
            "9/9 [==============================] - 0s 2ms/step - loss: 4494.1128 - mae: 4494.1128\n",
            "Epoch 409/500\n",
            "9/9 [==============================] - 0s 2ms/step - loss: 4470.2271 - mae: 4470.2271\n",
            "Epoch 410/500\n",
            "9/9 [==============================] - 0s 2ms/step - loss: 4444.5991 - mae: 4444.5991\n",
            "Epoch 411/500\n",
            "9/9 [==============================] - 0s 2ms/step - loss: 4422.5747 - mae: 4422.5747\n",
            "Epoch 412/500\n",
            "9/9 [==============================] - 0s 2ms/step - loss: 4405.3955 - mae: 4405.3955\n",
            "Epoch 413/500\n",
            "9/9 [==============================] - 0s 2ms/step - loss: 4380.6460 - mae: 4380.6460\n",
            "Epoch 414/500\n",
            "9/9 [==============================] - 0s 2ms/step - loss: 4351.9663 - mae: 4351.9663\n",
            "Epoch 415/500\n",
            "9/9 [==============================] - 0s 2ms/step - loss: 4332.0010 - mae: 4332.0010\n",
            "Epoch 416/500\n",
            "9/9 [==============================] - 0s 2ms/step - loss: 4306.5591 - mae: 4306.5591\n",
            "Epoch 417/500\n",
            "9/9 [==============================] - 0s 2ms/step - loss: 4282.8701 - mae: 4282.8701\n",
            "Epoch 418/500\n",
            "9/9 [==============================] - 0s 2ms/step - loss: 4260.5322 - mae: 4260.5322\n",
            "Epoch 419/500\n",
            "9/9 [==============================] - 0s 2ms/step - loss: 4234.1387 - mae: 4234.1387\n",
            "Epoch 420/500\n",
            "9/9 [==============================] - 0s 2ms/step - loss: 4212.3389 - mae: 4212.3389\n",
            "Epoch 421/500\n",
            "9/9 [==============================] - 0s 2ms/step - loss: 4188.0791 - mae: 4188.0791\n",
            "Epoch 422/500\n",
            "9/9 [==============================] - 0s 2ms/step - loss: 4162.3008 - mae: 4162.3008\n",
            "Epoch 423/500\n",
            "9/9 [==============================] - 0s 2ms/step - loss: 4144.6802 - mae: 4144.6802\n",
            "Epoch 424/500\n",
            "9/9 [==============================] - 0s 2ms/step - loss: 4119.9072 - mae: 4119.9072\n",
            "Epoch 425/500\n",
            "9/9 [==============================] - 0s 2ms/step - loss: 4103.1196 - mae: 4103.1196\n",
            "Epoch 426/500\n",
            "9/9 [==============================] - 0s 2ms/step - loss: 4067.2849 - mae: 4067.2849\n",
            "Epoch 427/500\n",
            "9/9 [==============================] - 0s 2ms/step - loss: 4045.5215 - mae: 4045.5215\n",
            "Epoch 428/500\n",
            "9/9 [==============================] - 0s 2ms/step - loss: 4027.4534 - mae: 4027.4534\n",
            "Epoch 429/500\n",
            "9/9 [==============================] - 0s 2ms/step - loss: 3987.0754 - mae: 3987.0754\n",
            "Epoch 430/500\n",
            "9/9 [==============================] - 0s 2ms/step - loss: 3963.8816 - mae: 3963.8816\n",
            "Epoch 431/500\n",
            "9/9 [==============================] - 0s 2ms/step - loss: 3942.2747 - mae: 3942.2747\n",
            "Epoch 432/500\n",
            "9/9 [==============================] - 0s 4ms/step - loss: 3922.6157 - mae: 3922.6157\n",
            "Epoch 433/500\n",
            "9/9 [==============================] - 0s 2ms/step - loss: 3893.1411 - mae: 3893.1411\n",
            "Epoch 434/500\n",
            "9/9 [==============================] - 0s 2ms/step - loss: 3876.9148 - mae: 3876.9148\n",
            "Epoch 435/500\n",
            "9/9 [==============================] - 0s 2ms/step - loss: 3861.6584 - mae: 3861.6584\n",
            "Epoch 436/500\n",
            "9/9 [==============================] - 0s 2ms/step - loss: 3838.6733 - mae: 3838.6733\n",
            "Epoch 437/500\n",
            "9/9 [==============================] - 0s 2ms/step - loss: 3826.6799 - mae: 3826.6799\n",
            "Epoch 438/500\n",
            "9/9 [==============================] - 0s 2ms/step - loss: 3808.0195 - mae: 3808.0195\n",
            "Epoch 439/500\n",
            "9/9 [==============================] - 0s 2ms/step - loss: 3794.7910 - mae: 3794.7910\n",
            "Epoch 440/500\n",
            "9/9 [==============================] - 0s 2ms/step - loss: 3785.2891 - mae: 3785.2891\n",
            "Epoch 441/500\n",
            "9/9 [==============================] - 0s 2ms/step - loss: 3773.7568 - mae: 3773.7568\n",
            "Epoch 442/500\n",
            "9/9 [==============================] - 0s 2ms/step - loss: 3767.2454 - mae: 3767.2454\n",
            "Epoch 443/500\n",
            "9/9 [==============================] - 0s 2ms/step - loss: 3753.8430 - mae: 3753.8430\n",
            "Epoch 444/500\n",
            "9/9 [==============================] - 0s 2ms/step - loss: 3750.3108 - mae: 3750.3108\n",
            "Epoch 445/500\n",
            "9/9 [==============================] - 0s 2ms/step - loss: 3737.9272 - mae: 3737.9272\n",
            "Epoch 446/500\n",
            "9/9 [==============================] - 0s 3ms/step - loss: 3736.0845 - mae: 3736.0845\n",
            "Epoch 447/500\n",
            "9/9 [==============================] - 0s 2ms/step - loss: 3719.4854 - mae: 3719.4854\n",
            "Epoch 448/500\n",
            "9/9 [==============================] - 0s 2ms/step - loss: 3732.8198 - mae: 3732.8198\n",
            "Epoch 449/500\n",
            "9/9 [==============================] - 0s 2ms/step - loss: 3708.7268 - mae: 3708.7268\n",
            "Epoch 450/500\n",
            "9/9 [==============================] - 0s 2ms/step - loss: 3689.7791 - mae: 3689.7791\n",
            "Epoch 451/500\n",
            "9/9 [==============================] - 0s 2ms/step - loss: 3695.3789 - mae: 3695.3789\n",
            "Epoch 452/500\n",
            "9/9 [==============================] - 0s 2ms/step - loss: 3686.7383 - mae: 3686.7383\n",
            "Epoch 453/500\n",
            "9/9 [==============================] - 0s 2ms/step - loss: 3689.5225 - mae: 3689.5225\n",
            "Epoch 454/500\n",
            "9/9 [==============================] - 0s 2ms/step - loss: 3684.5540 - mae: 3684.5540\n",
            "Epoch 455/500\n",
            "9/9 [==============================] - 0s 2ms/step - loss: 3665.4124 - mae: 3665.4124\n",
            "Epoch 456/500\n",
            "9/9 [==============================] - 0s 2ms/step - loss: 3655.0447 - mae: 3655.0447\n",
            "Epoch 457/500\n",
            "9/9 [==============================] - 0s 2ms/step - loss: 3662.6555 - mae: 3662.6555\n",
            "Epoch 458/500\n",
            "9/9 [==============================] - 0s 2ms/step - loss: 3660.8506 - mae: 3660.8506\n",
            "Epoch 459/500\n",
            "9/9 [==============================] - 0s 2ms/step - loss: 3645.0498 - mae: 3645.0498\n",
            "Epoch 460/500\n",
            "9/9 [==============================] - 0s 2ms/step - loss: 3649.0540 - mae: 3649.0540\n",
            "Epoch 461/500\n",
            "9/9 [==============================] - 0s 2ms/step - loss: 3645.5703 - mae: 3645.5703\n",
            "Epoch 462/500\n",
            "9/9 [==============================] - 0s 2ms/step - loss: 3642.9690 - mae: 3642.9690\n",
            "Epoch 463/500\n",
            "9/9 [==============================] - 0s 2ms/step - loss: 3635.2451 - mae: 3635.2451\n",
            "Epoch 464/500\n",
            "9/9 [==============================] - 0s 2ms/step - loss: 3638.6680 - mae: 3638.6680\n",
            "Epoch 465/500\n",
            "9/9 [==============================] - 0s 2ms/step - loss: 3641.0459 - mae: 3641.0459\n",
            "Epoch 466/500\n",
            "9/9 [==============================] - 0s 2ms/step - loss: 3635.6978 - mae: 3635.6978\n",
            "Epoch 467/500\n",
            "9/9 [==============================] - 0s 2ms/step - loss: 3623.5315 - mae: 3623.5315\n",
            "Epoch 468/500\n",
            "9/9 [==============================] - 0s 2ms/step - loss: 3630.8857 - mae: 3630.8857\n",
            "Epoch 469/500\n",
            "9/9 [==============================] - 0s 2ms/step - loss: 3624.2866 - mae: 3624.2866\n",
            "Epoch 470/500\n",
            "9/9 [==============================] - 0s 3ms/step - loss: 3649.8411 - mae: 3649.8411\n",
            "Epoch 471/500\n",
            "9/9 [==============================] - 0s 2ms/step - loss: 3629.9978 - mae: 3629.9978\n",
            "Epoch 472/500\n",
            "9/9 [==============================] - 0s 3ms/step - loss: 3628.5339 - mae: 3628.5339\n",
            "Epoch 473/500\n",
            "9/9 [==============================] - 0s 3ms/step - loss: 3618.5559 - mae: 3618.5559\n",
            "Epoch 474/500\n",
            "9/9 [==============================] - 0s 2ms/step - loss: 3612.7495 - mae: 3612.7495\n",
            "Epoch 475/500\n",
            "9/9 [==============================] - 0s 2ms/step - loss: 3620.8235 - mae: 3620.8235\n",
            "Epoch 476/500\n",
            "9/9 [==============================] - 0s 2ms/step - loss: 3614.8940 - mae: 3614.8940\n",
            "Epoch 477/500\n",
            "9/9 [==============================] - 0s 2ms/step - loss: 3615.2363 - mae: 3615.2363\n",
            "Epoch 478/500\n",
            "9/9 [==============================] - 0s 2ms/step - loss: 3615.9299 - mae: 3615.9299\n",
            "Epoch 479/500\n",
            "9/9 [==============================] - 0s 2ms/step - loss: 3612.0015 - mae: 3612.0015\n",
            "Epoch 480/500\n",
            "9/9 [==============================] - 0s 2ms/step - loss: 3618.4646 - mae: 3618.4646\n",
            "Epoch 481/500\n",
            "9/9 [==============================] - 0s 2ms/step - loss: 3617.4370 - mae: 3617.4370\n",
            "Epoch 482/500\n",
            "9/9 [==============================] - 0s 4ms/step - loss: 3614.5415 - mae: 3614.5415\n",
            "Epoch 483/500\n",
            "9/9 [==============================] - 0s 2ms/step - loss: 3615.1418 - mae: 3615.1418\n",
            "Epoch 484/500\n",
            "9/9 [==============================] - 0s 2ms/step - loss: 3609.0298 - mae: 3609.0298\n",
            "Epoch 485/500\n",
            "9/9 [==============================] - 0s 2ms/step - loss: 3621.2161 - mae: 3621.2161\n",
            "Epoch 486/500\n",
            "9/9 [==============================] - 0s 3ms/step - loss: 3612.7400 - mae: 3612.7400\n",
            "Epoch 487/500\n",
            "9/9 [==============================] - 0s 3ms/step - loss: 3606.6768 - mae: 3606.6768\n",
            "Epoch 488/500\n",
            "9/9 [==============================] - 0s 2ms/step - loss: 3603.5862 - mae: 3603.5862\n",
            "Epoch 489/500\n",
            "9/9 [==============================] - 0s 2ms/step - loss: 3604.0352 - mae: 3604.0352\n",
            "Epoch 490/500\n",
            "9/9 [==============================] - 0s 2ms/step - loss: 3607.9268 - mae: 3607.9268\n",
            "Epoch 491/500\n",
            "9/9 [==============================] - 0s 2ms/step - loss: 3603.8508 - mae: 3603.8508\n",
            "Epoch 492/500\n",
            "9/9 [==============================] - 0s 2ms/step - loss: 3605.0879 - mae: 3605.0879\n",
            "Epoch 493/500\n",
            "9/9 [==============================] - 0s 2ms/step - loss: 3608.4204 - mae: 3608.4204\n",
            "Epoch 494/500\n",
            "9/9 [==============================] - 0s 2ms/step - loss: 3598.2981 - mae: 3598.2981\n",
            "Epoch 495/500\n",
            "9/9 [==============================] - 0s 2ms/step - loss: 3610.7627 - mae: 3610.7627\n",
            "Epoch 496/500\n",
            "9/9 [==============================] - 0s 2ms/step - loss: 3597.3474 - mae: 3597.3474\n",
            "Epoch 497/500\n",
            "9/9 [==============================] - 0s 2ms/step - loss: 3597.6616 - mae: 3597.6616\n",
            "Epoch 498/500\n",
            "9/9 [==============================] - 0s 2ms/step - loss: 3595.9629 - mae: 3595.9629\n",
            "Epoch 499/500\n",
            "9/9 [==============================] - 0s 2ms/step - loss: 3594.9756 - mae: 3594.9756\n",
            "Epoch 500/500\n",
            "9/9 [==============================] - 0s 2ms/step - loss: 3598.2900 - mae: 3598.2900\n"
          ]
        }
      ]
    },
    {
      "cell_type": "code",
      "source": [
        "insurance_model_3.evaluate(X_test, y_test)"
      ],
      "metadata": {
        "colab": {
          "base_uri": "https://localhost:8080/"
        },
        "id": "Mp62PYzTIoW2",
        "outputId": "f7b62cc8-23ae-4402-bac8-26a3841931e3"
      },
      "execution_count": null,
      "outputs": [
        {
          "output_type": "stream",
          "name": "stdout",
          "text": [
            "9/9 [==============================] - 0s 2ms/step - loss: 3591.0476 - mae: 3591.0476\n"
          ]
        },
        {
          "output_type": "execute_result",
          "data": {
            "text/plain": [
              "[3591.047607421875, 3591.047607421875]"
            ]
          },
          "metadata": {},
          "execution_count": 97
        }
      ]
    },
    {
      "cell_type": "code",
      "source": [
        "insurance_model.evaluate(X_test, y_test)"
      ],
      "metadata": {
        "colab": {
          "base_uri": "https://localhost:8080/"
        },
        "id": "uj2gM2jAI2j4",
        "outputId": "1d2e1ae8-1403-4031-84b3-41637ed6a659"
      },
      "execution_count": null,
      "outputs": [
        {
          "output_type": "stream",
          "name": "stdout",
          "text": [
            "9/9 [==============================] - 0s 2ms/step - loss: 6922.7231 - mae: 6922.7231\n"
          ]
        },
        {
          "output_type": "execute_result",
          "data": {
            "text/plain": [
              "[6922.72314453125, 6922.72314453125]"
            ]
          },
          "metadata": {},
          "execution_count": 98
        }
      ]
    },
    {
      "cell_type": "code",
      "source": [
        "# Plot history also known as a loss curve or a training curve\n",
        "pd.DataFrame(history.history).plot()\n",
        "plt.ylabel(\"loss\")\n",
        "plt.xlabel(\"epochs\")"
      ],
      "metadata": {
        "colab": {
          "base_uri": "https://localhost:8080/",
          "height": 466
        },
        "id": "Lkr8bxJ1JEgx",
        "outputId": "be9b9949-a415-4767-9277-c395d3ba70dd"
      },
      "execution_count": null,
      "outputs": [
        {
          "output_type": "execute_result",
          "data": {
            "text/plain": [
              "Text(0.5, 0, 'epochs')"
            ]
          },
          "metadata": {},
          "execution_count": 99
        },
        {
          "output_type": "display_data",
          "data": {
            "text/plain": [
              "<Figure size 640x480 with 1 Axes>"
            ],
            "image/png": "[encoded data removed]"
          },
          "metadata": {}
        }
      ]
    },
    {
      "cell_type": "markdown",
      "source": [
        "To figure out when to stop training your model, you can use the [EarlyStopping Callback](https://www.tensorflow.org/api_docs/python/tf/keras/callbacks/EarlyStopping), which is a TensorFlow component you can add to the model to stop trainig once it stops improving a certain metric"
      ],
      "metadata": {
        "id": "FZFrIG5gJSns"
      }
    },
    {
      "cell_type": "markdown",
      "source": [
        "## Preprocessing data (normalization and standardization)\n",
        "\n",
        "In terms of scaling values, neural networks tend to prefer normalization.\n",
        "\n",
        "If unsure on which to use, try both and see which performs better"
      ],
      "metadata": {
        "id": "V5n6fcOoKy47"
      }
    },
    {
      "cell_type": "code",
      "source": [
        "import pandas as pd\n",
        "import matplotlib.pyplot as plt\n",
        "import tensorflow as tf\n",
        "\n",
        "insurance = pd.read_csv(\"https://raw.githubusercontent.com/stedy/Machine-Learning-with-R-datasets/master/insurance.csv\")\n",
        "insurance"
      ],
      "metadata": {
        "colab": {
          "base_uri": "https://localhost:8080/",
          "height": 423
        },
        "id": "bmQuvA57NSSr",
        "outputId": "bc9cd54d-1f39-4010-88b8-a39e1b6f8188"
      },
      "execution_count": null,
      "outputs": [
        {
          "output_type": "execute_result",
          "data": {
            "text/plain": [
              "      age     sex     bmi  children smoker     region      charges\n",
              "0      19  female  27.900         0    yes  southwest  16884.92400\n",
              "1      18    male  33.770         1     no  southeast   1725.55230\n",
              "2      28    male  33.000         3     no  southeast   4449.46200\n",
              "3      33    male  22.705         0     no  northwest  21984.47061\n",
              "4      32    male  28.880         0     no  northwest   3866.85520\n",
              "...   ...     ...     ...       ...    ...        ...          ...\n",
              "1333   50    male  30.970         3     no  northwest  10600.54830\n",
              "1334   18  female  31.920         0     no  northeast   2205.98080\n",
              "1335   18  female  36.850         0     no  southeast   1629.83350\n",
              "1336   21  female  25.800         0     no  southwest   2007.94500\n",
              "1337   61  female  29.070         0    yes  northwest  29141.36030\n",
              "\n",
              "[1338 rows x 7 columns]"
            ],
            "text/html": [
              "\n",
              "  <div id=\"df-edaff80a-7a8f-488c-ac84-b363daec3e1e\">\n",
              "    <div class=\"colab-df-container\">\n",
              "      <div>\n",
              "<style scoped>\n",
              "    .dataframe tbody tr th:only-of-type {\n",
              "        vertical-align: middle;\n",
              "    }\n",
              "\n",
              "    .dataframe tbody tr th {\n",
              "        vertical-align: top;\n",
              "    }\n",
              "\n",
              "    .dataframe thead th {\n",
              "        text-align: right;\n",
              "    }\n",
              "</style>\n",
              "<table border=\"1\" class=\"dataframe\">\n",
              "  <thead>\n",
              "    <tr style=\"text-align: right;\">\n",
              "      <th></th>\n",
              "      <th>age</th>\n",
              "      <th>sex</th>\n",
              "      <th>bmi</th>\n",
              "      <th>children</th>\n",
              "      <th>smoker</th>\n",
              "      <th>region</th>\n",
              "      <th>charges</th>\n",
              "    </tr>\n",
              "  </thead>\n",
              "  <tbody>\n",
              "    <tr>\n",
              "      <th>0</th>\n",
              "      <td>19</td>\n",
              "      <td>female</td>\n",
              "      <td>27.900</td>\n",
              "      <td>0</td>\n",
              "      <td>yes</td>\n",
              "      <td>southwest</td>\n",
              "      <td>16884.92400</td>\n",
              "    </tr>\n",
              "    <tr>\n",
              "      <th>1</th>\n",
              "      <td>18</td>\n",
              "      <td>male</td>\n",
              "      <td>33.770</td>\n",
              "      <td>1</td>\n",
              "      <td>no</td>\n",
              "      <td>southeast</td>\n",
              "      <td>1725.55230</td>\n",
              "    </tr>\n",
              "    <tr>\n",
              "      <th>2</th>\n",
              "      <td>28</td>\n",
              "      <td>male</td>\n",
              "      <td>33.000</td>\n",
              "      <td>3</td>\n",
              "      <td>no</td>\n",
              "      <td>southeast</td>\n",
              "      <td>4449.46200</td>\n",
              "    </tr>\n",
              "    <tr>\n",
              "      <th>3</th>\n",
              "      <td>33</td>\n",
              "      <td>male</td>\n",
              "      <td>22.705</td>\n",
              "      <td>0</td>\n",
              "      <td>no</td>\n",
              "      <td>northwest</td>\n",
              "      <td>21984.47061</td>\n",
              "    </tr>\n",
              "    <tr>\n",
              "      <th>4</th>\n",
              "      <td>32</td>\n",
              "      <td>male</td>\n",
              "      <td>28.880</td>\n",
              "      <td>0</td>\n",
              "      <td>no</td>\n",
              "      <td>northwest</td>\n",
              "      <td>3866.85520</td>\n",
              "    </tr>\n",
              "    <tr>\n",
              "      <th>...</th>\n",
              "      <td>...</td>\n",
              "      <td>...</td>\n",
              "      <td>...</td>\n",
              "      <td>...</td>\n",
              "      <td>...</td>\n",
              "      <td>...</td>\n",
              "      <td>...</td>\n",
              "    </tr>\n",
              "    <tr>\n",
              "      <th>1333</th>\n",
              "      <td>50</td>\n",
              "      <td>male</td>\n",
              "      <td>30.970</td>\n",
              "      <td>3</td>\n",
              "      <td>no</td>\n",
              "      <td>northwest</td>\n",
              "      <td>10600.54830</td>\n",
              "    </tr>\n",
              "    <tr>\n",
              "      <th>1334</th>\n",
              "      <td>18</td>\n",
              "      <td>female</td>\n",
              "      <td>31.920</td>\n",
              "      <td>0</td>\n",
              "      <td>no</td>\n",
              "      <td>northeast</td>\n",
              "      <td>2205.98080</td>\n",
              "    </tr>\n",
              "    <tr>\n",
              "      <th>1335</th>\n",
              "      <td>18</td>\n",
              "      <td>female</td>\n",
              "      <td>36.850</td>\n",
              "      <td>0</td>\n",
              "      <td>no</td>\n",
              "      <td>southeast</td>\n",
              "      <td>1629.83350</td>\n",
              "    </tr>\n",
              "    <tr>\n",
              "      <th>1336</th>\n",
              "      <td>21</td>\n",
              "      <td>female</td>\n",
              "      <td>25.800</td>\n",
              "      <td>0</td>\n",
              "      <td>no</td>\n",
              "      <td>southwest</td>\n",
              "      <td>2007.94500</td>\n",
              "    </tr>\n",
              "    <tr>\n",
              "      <th>1337</th>\n",
              "      <td>61</td>\n",
              "      <td>female</td>\n",
              "      <td>29.070</td>\n",
              "      <td>0</td>\n",
              "      <td>yes</td>\n",
              "      <td>northwest</td>\n",
              "      <td>29141.36030</td>\n",
              "    </tr>\n",
              "  </tbody>\n",
              "</table>\n",
              "<p>1338 rows × 7 columns</p>\n",
              "</div>\n",
              "      <button class=\"colab-df-convert\" onclick=\"convertToInteractive('df-edaff80a-7a8f-488c-ac84-b363daec3e1e')\"\n",
              "              title=\"Convert this dataframe to an interactive table.\"\n",
              "              style=\"display:none;\">\n",
              "        \n",
              "  <svg xmlns=\"http://www.w3.org/2000/svg\" height=\"24px\"viewBox=\"0 0 24 24\"\n",
              "       width=\"24px\">\n",
              "    <path d=\"M0 0h24v24H0V0z\" fill=\"none\"/>\n",
              "    <path d=\"M18.56 5.44l.94 2.06.94-2.06 2.06-.94-2.06-.94-.94-2.06-.94 2.06-2.06.94zm-11 1L8.5 8.5l.94-2.06 2.06-.94-2.06-.94L8.5 2.5l-.94 2.06-2.06.94zm10 10l.94 2.06.94-2.06 2.06-.94-2.06-.94-.94-2.06-.94 2.06-2.06.94z\"/><path d=\"M17.41 7.96l-1.37-1.37c-.4-.4-.92-.59-1.43-.59-.52 0-1.04.2-1.43.59L10.3 9.45l-7.72 7.72c-.78.78-.78 2.05 0 2.83L4 21.41c.39.39.9.59 1.41.59.51 0 1.02-.2 1.41-.59l7.78-7.78 2.81-2.81c.8-.78.8-2.07 0-2.86zM5.41 20L4 18.59l7.72-7.72 1.47 1.35L5.41 20z\"/>\n",
              "  </svg>\n",
              "      </button>\n",
              "      \n",
              "  <style>\n",
              "    .colab-df-container {\n",
              "      display:flex;\n",
              "      flex-wrap:wrap;\n",
              "      gap: 12px;\n",
              "    }\n",
              "\n",
              "    .colab-df-convert {\n",
              "      background-color: #E8F0FE;\n",
              "      border: none;\n",
              "      border-radius: 50%;\n",
              "      cursor: pointer;\n",
              "      display: none;\n",
              "      fill: #1967D2;\n",
              "      height: 32px;\n",
              "      padding: 0 0 0 0;\n",
              "      width: 32px;\n",
              "    }\n",
              "\n",
              "    .colab-df-convert:hover {\n",
              "      background-color: #E2EBFA;\n",
              "      box-shadow: 0px 1px 2px rgba(60, 64, 67, 0.3), 0px 1px 3px 1px rgba(60, 64, 67, 0.15);\n",
              "      fill: #174EA6;\n",
              "    }\n",
              "\n",
              "    [theme=dark] .colab-df-convert {\n",
              "      background-color: #3B4455;\n",
              "      fill: #D2E3FC;\n",
              "    }\n",
              "\n",
              "    [theme=dark] .colab-df-convert:hover {\n",
              "      background-color: #434B5C;\n",
              "      box-shadow: 0px 1px 3px 1px rgba(0, 0, 0, 0.15);\n",
              "      filter: drop-shadow(0px 1px 2px rgba(0, 0, 0, 0.3));\n",
              "      fill: #FFFFFF;\n",
              "    }\n",
              "  </style>\n",
              "\n",
              "      <script>\n",
              "        const buttonEl =\n",
              "          document.querySelector('#df-edaff80a-7a8f-488c-ac84-b363daec3e1e button.colab-df-convert');\n",
              "        buttonEl.style.display =\n",
              "          google.colab.kernel.accessAllowed ? 'block' : 'none';\n",
              "\n",
              "        async function convertToInteractive(key) {\n",
              "          const element = document.querySelector('#df-edaff80a-7a8f-488c-ac84-b363daec3e1e');\n",
              "          const dataTable =\n",
              "            await google.colab.kernel.invokeFunction('convertToInteractive',\n",
              "                                                     [key], {});\n",
              "          if (!dataTable) return;\n",
              "\n",
              "          const docLinkHtml = 'Like what you see? Visit the ' +\n",
              "            '<a target=\"_blank\" href=https://colab.research.google.com/notebooks/data_table.ipynb>data table notebook</a>'\n",
              "            + ' to learn more about interactive tables.';\n",
              "          element.innerHTML = '';\n",
              "          dataTable['output_type'] = 'display_data';\n",
              "          await google.colab.output.renderOutput(dataTable, element);\n",
              "          const docLink = document.createElement('div');\n",
              "          docLink.innerHTML = docLinkHtml;\n",
              "          element.appendChild(docLink);\n",
              "        }\n",
              "      </script>\n",
              "    </div>\n",
              "  </div>\n",
              "  "
            ]
          },
          "metadata": {},
          "execution_count": 106
        }
      ]
    },
    {
      "cell_type": "code",
      "source": [
        "from sklearn.compose import make_column_transformer\n",
        "from sklearn.preprocessing import MinMaxScaler, OneHotEncoder\n",
        "from sklearn.model_selection import train_test_split\n",
        "\n",
        "# Create a column transformer\n",
        "ct = make_column_transformer(\n",
        "    (MinMaxScaler(), [\"age\", \"bmi\", \"children\"]), # turn all values in these collumns between 0 and 1\n",
        "    (OneHotEncoder(handle_unknown=\"ignore\"), [\"sex\", \"smoker\", \"region\"])\n",
        ")\n",
        "\n",
        "# Create X & y\n",
        "X = insurance.drop(\"charges\", axis=1)\n",
        "y = insurance[\"charges\"]\n",
        "\n",
        "# Build our train and test sets\n",
        "X_train, X_test, y_train, y_test = train_test_split(X, y, test_size=0.20, random_state=42)\n",
        "\n",
        "# Fit the column transformer to our training data\n",
        "ct.fit(X_train)\n",
        "\n",
        "# Transform training and test data with normalization\n",
        "X_train_normal = ct.transform(X_train)\n",
        "X_test_normal = ct.transform(X_test)"
      ],
      "metadata": {
        "id": "EqzS6COhLL82"
      },
      "execution_count": null,
      "outputs": []
    },
    {
      "cell_type": "code",
      "source": [
        "X_train.loc[0]"
      ],
      "metadata": {
        "colab": {
          "base_uri": "https://localhost:8080/"
        },
        "id": "e4add-xwQFlG",
        "outputId": "2520c993-bf40-4194-d099-377733b7f6a7"
      },
      "execution_count": null,
      "outputs": [
        {
          "output_type": "execute_result",
          "data": {
            "text/plain": [
              "age                19\n",
              "sex            female\n",
              "bmi              27.9\n",
              "children            0\n",
              "smoker            yes\n",
              "region      southwest\n",
              "Name: 0, dtype: object"
            ]
          },
          "metadata": {},
          "execution_count": 109
        }
      ]
    },
    {
      "cell_type": "code",
      "source": [
        "X_train_normal[0]"
      ],
      "metadata": {
        "colab": {
          "base_uri": "https://localhost:8080/"
        },
        "id": "iBiJd3DJQJeB",
        "outputId": "8363a64c-a760-48be-e499-2431111309cc"
      },
      "execution_count": null,
      "outputs": [
        {
          "output_type": "execute_result",
          "data": {
            "text/plain": [
              "array([0.60869565, 0.10734463, 0.4       , 1.        , 0.        ,\n",
              "       1.        , 0.        , 0.        , 1.        , 0.        ,\n",
              "       0.        ])"
            ]
          },
          "metadata": {},
          "execution_count": 110
        }
      ]
    },
    {
      "cell_type": "code",
      "source": [
        "X_train.shape, X_train_normal.shape"
      ],
      "metadata": {
        "colab": {
          "base_uri": "https://localhost:8080/"
        },
        "id": "bVMpMYkNQbbE",
        "outputId": "6e6a8c83-41f1-4117-b735-c2eda2fb3334"
      },
      "execution_count": null,
      "outputs": [
        {
          "output_type": "execute_result",
          "data": {
            "text/plain": [
              "((1070, 6), (1070, 11))"
            ]
          },
          "metadata": {},
          "execution_count": 112
        }
      ]
    },
    {
      "cell_type": "markdown",
      "source": [
        "The data has been noemlaized and one hot encoded. Now build a neural network and see how it goes"
      ],
      "metadata": {
        "id": "auvas8cdQn6y"
      }
    },
    {
      "cell_type": "code",
      "source": [
        "tf.random.set_seed(42)\n",
        "\n",
        "insurance_model_4 = tf.keras.Sequential([\n",
        "    tf.keras.layers.Dense(100),\n",
        "    tf.keras.layers.Dense(10),\n",
        "    tf.keras.layers.Dense(1)\n",
        "])\n",
        "\n",
        "insurance_model_4.compile(loss=tf.keras.losses.mae,\n",
        "                               optimizer=tf.keras.optimizers.SGD(),\n",
        "                               metrics=[\"mae\"])\n",
        "\n",
        "insurance_model_4.fit(tf.expand_dims(X_train_normal, axis=1), y_train, epochs=350)"
      ],
      "metadata": {
        "colab": {
          "base_uri": "https://localhost:8080/"
        },
        "id": "uJgKk3fgQkr6",
        "outputId": "154952b3-5577-493f-a653-d81ef836ff5e"
      },
      "execution_count": null,
      "outputs": [
        {
          "output_type": "stream",
          "name": "stdout",
          "text": [
            "Epoch 1/350\n",
            "34/34 [==============================] - 1s 4ms/step - loss: 13339.7256 - mae: 13339.7256\n",
            "Epoch 2/350\n",
            "34/34 [==============================] - 0s 2ms/step - loss: 11191.0273 - mae: 11191.0273\n",
            "Epoch 3/350\n",
            "34/34 [==============================] - 0s 2ms/step - loss: 6135.9214 - mae: 6135.9214\n",
            "Epoch 4/350\n",
            "34/34 [==============================] - 0s 2ms/step - loss: 5491.5273 - mae: 5491.5273\n",
            "Epoch 5/350\n",
            "34/34 [==============================] - 0s 2ms/step - loss: 5255.6377 - mae: 5255.6377\n",
            "Epoch 6/350\n",
            "34/34 [==============================] - 0s 2ms/step - loss: 5403.6138 - mae: 5403.6138\n",
            "Epoch 7/350\n",
            "34/34 [==============================] - 0s 2ms/step - loss: 5053.6216 - mae: 5053.6216\n",
            "Epoch 8/350\n",
            "34/34 [==============================] - 0s 2ms/step - loss: 5471.7319 - mae: 5471.7319\n",
            "Epoch 9/350\n",
            "34/34 [==============================] - 0s 2ms/step - loss: 4918.5532 - mae: 4918.5532\n",
            "Epoch 10/350\n",
            "34/34 [==============================] - 0s 3ms/step - loss: 5005.9722 - mae: 5005.9722\n",
            "Epoch 11/350\n",
            "34/34 [==============================] - 0s 4ms/step - loss: 5132.9346 - mae: 5132.9346\n",
            "Epoch 12/350\n",
            "34/34 [==============================] - 0s 4ms/step - loss: 5159.5615 - mae: 5159.5615\n",
            "Epoch 13/350\n",
            "34/34 [==============================] - 0s 3ms/step - loss: 4822.8994 - mae: 4822.8994\n",
            "Epoch 14/350\n",
            "34/34 [==============================] - 0s 3ms/step - loss: 5053.5317 - mae: 5053.5317\n",
            "Epoch 15/350\n",
            "34/34 [==============================] - 0s 2ms/step - loss: 4979.4678 - mae: 4979.4678\n",
            "Epoch 16/350\n",
            "34/34 [==============================] - 0s 1ms/step - loss: 5010.8789 - mae: 5010.8789\n",
            "Epoch 17/350\n",
            "34/34 [==============================] - 0s 1ms/step - loss: 5408.6436 - mae: 5408.6436\n",
            "Epoch 18/350\n",
            "34/34 [==============================] - 0s 1ms/step - loss: 4832.0967 - mae: 4832.0967\n",
            "Epoch 19/350\n",
            "34/34 [==============================] - 0s 1ms/step - loss: 4677.5464 - mae: 4677.5464\n",
            "Epoch 20/350\n",
            "34/34 [==============================] - 0s 1ms/step - loss: 4984.8643 - mae: 4984.8643\n",
            "Epoch 21/350\n",
            "34/34 [==============================] - 0s 1ms/step - loss: 5120.4243 - mae: 5120.4243\n",
            "Epoch 22/350\n",
            "34/34 [==============================] - 0s 1ms/step - loss: 5095.3442 - mae: 5095.3442\n",
            "Epoch 23/350\n",
            "34/34 [==============================] - 0s 1ms/step - loss: 5162.0103 - mae: 5162.0103\n",
            "Epoch 24/350\n",
            "34/34 [==============================] - 0s 1ms/step - loss: 4583.7319 - mae: 4583.7319\n",
            "Epoch 25/350\n",
            "34/34 [==============================] - 0s 2ms/step - loss: 4938.0747 - mae: 4938.0747\n",
            "Epoch 26/350\n",
            "34/34 [==============================] - 0s 2ms/step - loss: 4779.0923 - mae: 4779.0923\n",
            "Epoch 27/350\n",
            "34/34 [==============================] - 0s 2ms/step - loss: 5084.5537 - mae: 5084.5537\n",
            "Epoch 28/350\n",
            "34/34 [==============================] - 0s 2ms/step - loss: 4743.9736 - mae: 4743.9736\n",
            "Epoch 29/350\n",
            "34/34 [==============================] - 0s 2ms/step - loss: 5084.8003 - mae: 5084.8003\n",
            "Epoch 30/350\n",
            "34/34 [==============================] - 0s 2ms/step - loss: 5072.3423 - mae: 5072.3423\n",
            "Epoch 31/350\n",
            "34/34 [==============================] - 0s 1ms/step - loss: 5377.7036 - mae: 5377.7036\n",
            "Epoch 32/350\n",
            "34/34 [==============================] - 0s 1ms/step - loss: 5375.4077 - mae: 5375.4077\n",
            "Epoch 33/350\n",
            "34/34 [==============================] - 0s 1ms/step - loss: 5195.1543 - mae: 5195.1543\n",
            "Epoch 34/350\n",
            "34/34 [==============================] - 0s 1ms/step - loss: 5157.3784 - mae: 5157.3784\n",
            "Epoch 35/350\n",
            "34/34 [==============================] - 0s 2ms/step - loss: 4539.2568 - mae: 4539.2568\n",
            "Epoch 36/350\n",
            "34/34 [==============================] - 0s 1ms/step - loss: 5480.5879 - mae: 5480.5879\n",
            "Epoch 37/350\n",
            "34/34 [==============================] - 0s 2ms/step - loss: 5648.6567 - mae: 5648.6567\n",
            "Epoch 38/350\n",
            "34/34 [==============================] - 0s 2ms/step - loss: 4670.6099 - mae: 4670.6099\n",
            "Epoch 39/350\n",
            "34/34 [==============================] - 0s 1ms/step - loss: 5296.4619 - mae: 5296.4619\n",
            "Epoch 40/350\n",
            "34/34 [==============================] - 0s 1ms/step - loss: 5134.1138 - mae: 5134.1138\n",
            "Epoch 41/350\n",
            "34/34 [==============================] - 0s 2ms/step - loss: 4917.9170 - mae: 4917.9170\n",
            "Epoch 42/350\n",
            "34/34 [==============================] - 0s 2ms/step - loss: 5085.5273 - mae: 5085.5273\n",
            "Epoch 43/350\n",
            "34/34 [==============================] - 0s 2ms/step - loss: 4982.8735 - mae: 4982.8735\n",
            "Epoch 44/350\n",
            "34/34 [==============================] - 0s 2ms/step - loss: 5103.6250 - mae: 5103.6250\n",
            "Epoch 45/350\n",
            "34/34 [==============================] - 0s 1ms/step - loss: 5043.9487 - mae: 5043.9487\n",
            "Epoch 46/350\n",
            "34/34 [==============================] - 0s 2ms/step - loss: 4835.7788 - mae: 4835.7788\n",
            "Epoch 47/350\n",
            "34/34 [==============================] - 0s 2ms/step - loss: 5401.3252 - mae: 5401.3252\n",
            "Epoch 48/350\n",
            "34/34 [==============================] - 0s 2ms/step - loss: 5027.6382 - mae: 5027.6382\n",
            "Epoch 49/350\n",
            "34/34 [==============================] - 0s 1ms/step - loss: 4740.0161 - mae: 4740.0161\n",
            "Epoch 50/350\n",
            "34/34 [==============================] - 0s 2ms/step - loss: 5240.2681 - mae: 5240.2681\n",
            "Epoch 51/350\n",
            "34/34 [==============================] - 0s 1ms/step - loss: 5051.6851 - mae: 5051.6851\n",
            "Epoch 52/350\n",
            "34/34 [==============================] - 0s 2ms/step - loss: 4730.3457 - mae: 4730.3457\n",
            "Epoch 53/350\n",
            "34/34 [==============================] - 0s 2ms/step - loss: 4844.6060 - mae: 4844.6060\n",
            "Epoch 54/350\n",
            "34/34 [==============================] - 0s 1ms/step - loss: 4878.7017 - mae: 4878.7017\n",
            "Epoch 55/350\n",
            "34/34 [==============================] - 0s 2ms/step - loss: 5171.1533 - mae: 5171.1533\n",
            "Epoch 56/350\n",
            "34/34 [==============================] - 0s 2ms/step - loss: 5269.7271 - mae: 5269.7271\n",
            "Epoch 57/350\n",
            "34/34 [==============================] - 0s 2ms/step - loss: 5076.2646 - mae: 5076.2646\n",
            "Epoch 58/350\n",
            "34/34 [==============================] - 0s 2ms/step - loss: 4962.2881 - mae: 4962.2881\n",
            "Epoch 59/350\n",
            "34/34 [==============================] - 0s 2ms/step - loss: 4762.2939 - mae: 4762.2939\n",
            "Epoch 60/350\n",
            "34/34 [==============================] - 0s 2ms/step - loss: 5221.1958 - mae: 5221.1958\n",
            "Epoch 61/350\n",
            "34/34 [==============================] - 0s 2ms/step - loss: 5344.3096 - mae: 5344.3096\n",
            "Epoch 62/350\n",
            "34/34 [==============================] - 0s 2ms/step - loss: 4864.5723 - mae: 4864.5723\n",
            "Epoch 63/350\n",
            "34/34 [==============================] - 0s 2ms/step - loss: 5001.8535 - mae: 5001.8535\n",
            "Epoch 64/350\n",
            "34/34 [==============================] - 0s 2ms/step - loss: 4666.9209 - mae: 4666.9209\n",
            "Epoch 65/350\n",
            "34/34 [==============================] - 0s 1ms/step - loss: 5118.2275 - mae: 5118.2275\n",
            "Epoch 66/350\n",
            "34/34 [==============================] - 0s 2ms/step - loss: 5269.6455 - mae: 5269.6455\n",
            "Epoch 67/350\n",
            "34/34 [==============================] - 0s 1ms/step - loss: 5356.9858 - mae: 5356.9858\n",
            "Epoch 68/350\n",
            "34/34 [==============================] - 0s 1ms/step - loss: 5084.8999 - mae: 5084.8999\n",
            "Epoch 69/350\n",
            "34/34 [==============================] - 0s 1ms/step - loss: 5061.6494 - mae: 5061.6494\n",
            "Epoch 70/350\n",
            "34/34 [==============================] - 0s 1ms/step - loss: 4906.6519 - mae: 4906.6519\n",
            "Epoch 71/350\n",
            "34/34 [==============================] - 0s 1ms/step - loss: 5136.8857 - mae: 5136.8857\n",
            "Epoch 72/350\n",
            "34/34 [==============================] - 0s 2ms/step - loss: 5603.2056 - mae: 5603.2056\n",
            "Epoch 73/350\n",
            "34/34 [==============================] - 0s 1ms/step - loss: 4981.7280 - mae: 4981.7280\n",
            "Epoch 74/350\n",
            "34/34 [==============================] - 0s 1ms/step - loss: 4980.1392 - mae: 4980.1392\n",
            "Epoch 75/350\n",
            "34/34 [==============================] - 0s 2ms/step - loss: 4991.8589 - mae: 4991.8589\n",
            "Epoch 76/350\n",
            "34/34 [==============================] - 0s 2ms/step - loss: 5353.9033 - mae: 5353.9033\n",
            "Epoch 77/350\n",
            "34/34 [==============================] - 0s 2ms/step - loss: 4875.3042 - mae: 4875.3042\n",
            "Epoch 78/350\n",
            "34/34 [==============================] - 0s 2ms/step - loss: 5072.2339 - mae: 5072.2339\n",
            "Epoch 79/350\n",
            "34/34 [==============================] - 0s 2ms/step - loss: 5414.4839 - mae: 5414.4839\n",
            "Epoch 80/350\n",
            "34/34 [==============================] - 0s 2ms/step - loss: 5011.3159 - mae: 5011.3159\n",
            "Epoch 81/350\n",
            "34/34 [==============================] - 0s 1ms/step - loss: 5032.8135 - mae: 5032.8135\n",
            "Epoch 82/350\n",
            "34/34 [==============================] - 0s 1ms/step - loss: 5499.7798 - mae: 5499.7798\n",
            "Epoch 83/350\n",
            "34/34 [==============================] - 0s 1ms/step - loss: 5053.6094 - mae: 5053.6094\n",
            "Epoch 84/350\n",
            "34/34 [==============================] - 0s 1ms/step - loss: 4661.9189 - mae: 4661.9189\n",
            "Epoch 85/350\n",
            "34/34 [==============================] - 0s 1ms/step - loss: 5460.8970 - mae: 5460.8970\n",
            "Epoch 86/350\n",
            "34/34 [==============================] - 0s 1ms/step - loss: 4795.4688 - mae: 4795.4688\n",
            "Epoch 87/350\n",
            "34/34 [==============================] - 0s 1ms/step - loss: 5000.5396 - mae: 5000.5396\n",
            "Epoch 88/350\n",
            "34/34 [==============================] - 0s 1ms/step - loss: 4925.5093 - mae: 4925.5093\n",
            "Epoch 89/350\n",
            "34/34 [==============================] - 0s 1ms/step - loss: 4668.8696 - mae: 4668.8696\n",
            "Epoch 90/350\n",
            "34/34 [==============================] - 0s 1ms/step - loss: 5267.7788 - mae: 5267.7788\n",
            "Epoch 91/350\n",
            "34/34 [==============================] - 0s 1ms/step - loss: 4987.4321 - mae: 4987.4321\n",
            "Epoch 92/350\n",
            "34/34 [==============================] - 0s 1ms/step - loss: 5278.8423 - mae: 5278.8423\n",
            "Epoch 93/350\n",
            "34/34 [==============================] - 0s 1ms/step - loss: 4884.0410 - mae: 4884.0410\n",
            "Epoch 94/350\n",
            "34/34 [==============================] - 0s 1ms/step - loss: 5371.5781 - mae: 5371.5781\n",
            "Epoch 95/350\n",
            "34/34 [==============================] - 0s 1ms/step - loss: 4995.1826 - mae: 4995.1826\n",
            "Epoch 96/350\n",
            "34/34 [==============================] - 0s 1ms/step - loss: 5124.3726 - mae: 5124.3726\n",
            "Epoch 97/350\n",
            "34/34 [==============================] - 0s 1ms/step - loss: 4894.2871 - mae: 4894.2871\n",
            "Epoch 98/350\n",
            "34/34 [==============================] - 0s 1ms/step - loss: 4980.2827 - mae: 4980.2827\n",
            "Epoch 99/350\n",
            "34/34 [==============================] - 0s 1ms/step - loss: 4660.9233 - mae: 4660.9233\n",
            "Epoch 100/350\n",
            "34/34 [==============================] - 0s 1ms/step - loss: 4569.7402 - mae: 4569.7402\n",
            "Epoch 101/350\n",
            "34/34 [==============================] - 0s 1ms/step - loss: 5324.1860 - mae: 5324.1860\n",
            "Epoch 102/350\n",
            "34/34 [==============================] - 0s 2ms/step - loss: 5225.2329 - mae: 5225.2329\n",
            "Epoch 103/350\n",
            "34/34 [==============================] - 0s 1ms/step - loss: 4630.2012 - mae: 4630.2012\n",
            "Epoch 104/350\n",
            "34/34 [==============================] - 0s 1ms/step - loss: 5434.4131 - mae: 5434.4131\n",
            "Epoch 105/350\n",
            "34/34 [==============================] - 0s 1ms/step - loss: 5202.2866 - mae: 5202.2866\n",
            "Epoch 106/350\n",
            "34/34 [==============================] - 0s 1ms/step - loss: 5168.7183 - mae: 5168.7183\n",
            "Epoch 107/350\n",
            "34/34 [==============================] - 0s 1ms/step - loss: 4915.7339 - mae: 4915.7339\n",
            "Epoch 108/350\n",
            "34/34 [==============================] - 0s 1ms/step - loss: 4683.2764 - mae: 4683.2764\n",
            "Epoch 109/350\n",
            "34/34 [==============================] - 0s 1ms/step - loss: 5002.0483 - mae: 5002.0483\n",
            "Epoch 110/350\n",
            "34/34 [==============================] - 0s 1ms/step - loss: 5162.1528 - mae: 5162.1528\n",
            "Epoch 111/350\n",
            "34/34 [==============================] - 0s 1ms/step - loss: 5078.1812 - mae: 5078.1812\n",
            "Epoch 112/350\n",
            "34/34 [==============================] - 0s 1ms/step - loss: 5085.8589 - mae: 5085.8589\n",
            "Epoch 113/350\n",
            "34/34 [==============================] - 0s 1ms/step - loss: 5031.8618 - mae: 5031.8618\n",
            "Epoch 114/350\n",
            "34/34 [==============================] - 0s 1ms/step - loss: 4825.0532 - mae: 4825.0532\n",
            "Epoch 115/350\n",
            "34/34 [==============================] - 0s 1ms/step - loss: 4809.8364 - mae: 4809.8364\n",
            "Epoch 116/350\n",
            "34/34 [==============================] - 0s 1ms/step - loss: 5259.8345 - mae: 5259.8345\n",
            "Epoch 117/350\n",
            "34/34 [==============================] - 0s 1ms/step - loss: 5338.2793 - mae: 5338.2793\n",
            "Epoch 118/350\n",
            "34/34 [==============================] - 0s 1ms/step - loss: 4887.9424 - mae: 4887.9424\n",
            "Epoch 119/350\n",
            "34/34 [==============================] - 0s 1ms/step - loss: 4953.3159 - mae: 4953.3159\n",
            "Epoch 120/350\n",
            "34/34 [==============================] - 0s 1ms/step - loss: 4843.6416 - mae: 4843.6416\n",
            "Epoch 121/350\n",
            "34/34 [==============================] - 0s 1ms/step - loss: 4600.2935 - mae: 4600.2935\n",
            "Epoch 122/350\n",
            "34/34 [==============================] - 0s 1ms/step - loss: 4904.5679 - mae: 4904.5679\n",
            "Epoch 123/350\n",
            "34/34 [==============================] - 0s 1ms/step - loss: 4979.5972 - mae: 4979.5972\n",
            "Epoch 124/350\n",
            "34/34 [==============================] - 0s 1ms/step - loss: 5126.1938 - mae: 5126.1938\n",
            "Epoch 125/350\n",
            "34/34 [==============================] - 0s 1ms/step - loss: 4596.3540 - mae: 4596.3540\n",
            "Epoch 126/350\n",
            "34/34 [==============================] - 0s 1ms/step - loss: 4762.8525 - mae: 4762.8525\n",
            "Epoch 127/350\n",
            "34/34 [==============================] - 0s 1ms/step - loss: 4785.2065 - mae: 4785.2065\n",
            "Epoch 128/350\n",
            "34/34 [==============================] - 0s 1ms/step - loss: 4682.5645 - mae: 4682.5645\n",
            "Epoch 129/350\n",
            "34/34 [==============================] - 0s 1ms/step - loss: 4491.4316 - mae: 4491.4316\n",
            "Epoch 130/350\n",
            "34/34 [==============================] - 0s 1ms/step - loss: 4862.1978 - mae: 4862.1978\n",
            "Epoch 131/350\n",
            "34/34 [==============================] - 0s 1ms/step - loss: 5250.7070 - mae: 5250.7070\n",
            "Epoch 132/350\n",
            "34/34 [==============================] - 0s 1ms/step - loss: 5209.9912 - mae: 5209.9912\n",
            "Epoch 133/350\n",
            "34/34 [==============================] - 0s 1ms/step - loss: 5531.5845 - mae: 5531.5845\n",
            "Epoch 134/350\n",
            "34/34 [==============================] - 0s 1ms/step - loss: 4851.0728 - mae: 4851.0728\n",
            "Epoch 135/350\n",
            "34/34 [==============================] - 0s 1ms/step - loss: 4750.1260 - mae: 4750.1260\n",
            "Epoch 136/350\n",
            "34/34 [==============================] - 0s 1ms/step - loss: 4889.9521 - mae: 4889.9521\n",
            "Epoch 137/350\n",
            "34/34 [==============================] - 0s 1ms/step - loss: 4862.3589 - mae: 4862.3589\n",
            "Epoch 138/350\n",
            "34/34 [==============================] - 0s 1ms/step - loss: 4698.3315 - mae: 4698.3315\n",
            "Epoch 139/350\n",
            "34/34 [==============================] - 0s 1ms/step - loss: 4955.9727 - mae: 4955.9727\n",
            "Epoch 140/350\n",
            "34/34 [==============================] - 0s 1ms/step - loss: 4996.1602 - mae: 4996.1602\n",
            "Epoch 141/350\n",
            "34/34 [==============================] - 0s 1ms/step - loss: 4614.8296 - mae: 4614.8296\n",
            "Epoch 142/350\n",
            "34/34 [==============================] - 0s 1ms/step - loss: 4525.7524 - mae: 4525.7524\n",
            "Epoch 143/350\n",
            "34/34 [==============================] - 0s 1ms/step - loss: 5096.5850 - mae: 5096.5850\n",
            "Epoch 144/350\n",
            "34/34 [==============================] - 0s 2ms/step - loss: 5003.2744 - mae: 5003.2744\n",
            "Epoch 145/350\n",
            "34/34 [==============================] - 0s 1ms/step - loss: 4743.2065 - mae: 4743.2065\n",
            "Epoch 146/350\n",
            "34/34 [==============================] - 0s 1ms/step - loss: 4673.8872 - mae: 4673.8872\n",
            "Epoch 147/350\n",
            "34/34 [==============================] - 0s 1ms/step - loss: 4357.3706 - mae: 4357.3706\n",
            "Epoch 148/350\n",
            "34/34 [==============================] - 0s 1ms/step - loss: 4668.2715 - mae: 4668.2715\n",
            "Epoch 149/350\n",
            "34/34 [==============================] - 0s 1ms/step - loss: 4986.3608 - mae: 4986.3608\n",
            "Epoch 150/350\n",
            "34/34 [==============================] - 0s 1ms/step - loss: 4819.7119 - mae: 4819.7119\n",
            "Epoch 151/350\n",
            "34/34 [==============================] - 0s 1ms/step - loss: 5645.3545 - mae: 5645.3545\n",
            "Epoch 152/350\n",
            "34/34 [==============================] - 0s 1ms/step - loss: 5176.6313 - mae: 5176.6313\n",
            "Epoch 153/350\n",
            "34/34 [==============================] - 0s 1ms/step - loss: 4714.9521 - mae: 4714.9521\n",
            "Epoch 154/350\n",
            "34/34 [==============================] - 0s 1ms/step - loss: 5591.3340 - mae: 5591.3340\n",
            "Epoch 155/350\n",
            "34/34 [==============================] - 0s 1ms/step - loss: 4602.8779 - mae: 4602.8779\n",
            "Epoch 156/350\n",
            "34/34 [==============================] - 0s 1ms/step - loss: 4773.7793 - mae: 4773.7793\n",
            "Epoch 157/350\n",
            "34/34 [==============================] - 0s 1ms/step - loss: 5035.6646 - mae: 5035.6646\n",
            "Epoch 158/350\n",
            "34/34 [==============================] - 0s 1ms/step - loss: 4815.9395 - mae: 4815.9395\n",
            "Epoch 159/350\n",
            "34/34 [==============================] - 0s 1ms/step - loss: 4277.3447 - mae: 4277.3447\n",
            "Epoch 160/350\n",
            "34/34 [==============================] - 0s 2ms/step - loss: 4990.7891 - mae: 4990.7891\n",
            "Epoch 161/350\n",
            "34/34 [==============================] - 0s 1ms/step - loss: 4871.1191 - mae: 4871.1191\n",
            "Epoch 162/350\n",
            "34/34 [==============================] - 0s 1ms/step - loss: 5079.8511 - mae: 5079.8511\n",
            "Epoch 163/350\n",
            "34/34 [==============================] - 0s 1ms/step - loss: 4723.9644 - mae: 4723.9644\n",
            "Epoch 164/350\n",
            "34/34 [==============================] - 0s 1ms/step - loss: 4550.0962 - mae: 4550.0962\n",
            "Epoch 165/350\n",
            "34/34 [==============================] - 0s 1ms/step - loss: 5408.5864 - mae: 5408.5864\n",
            "Epoch 166/350\n",
            "34/34 [==============================] - 0s 1ms/step - loss: 4666.0703 - mae: 4666.0703\n",
            "Epoch 167/350\n",
            "34/34 [==============================] - 0s 1ms/step - loss: 4873.3286 - mae: 4873.3286\n",
            "Epoch 168/350\n",
            "34/34 [==============================] - 0s 1ms/step - loss: 4752.2617 - mae: 4752.2617\n",
            "Epoch 169/350\n",
            "34/34 [==============================] - 0s 1ms/step - loss: 4952.3813 - mae: 4952.3813\n",
            "Epoch 170/350\n",
            "34/34 [==============================] - 0s 1ms/step - loss: 4978.1558 - mae: 4978.1558\n",
            "Epoch 171/350\n",
            "34/34 [==============================] - 0s 1ms/step - loss: 4823.8838 - mae: 4823.8838\n",
            "Epoch 172/350\n",
            "34/34 [==============================] - 0s 1ms/step - loss: 4766.1230 - mae: 4766.1230\n",
            "Epoch 173/350\n",
            "34/34 [==============================] - 0s 1ms/step - loss: 4710.0142 - mae: 4710.0142\n",
            "Epoch 174/350\n",
            "34/34 [==============================] - 0s 1ms/step - loss: 4591.3486 - mae: 4591.3486\n",
            "Epoch 175/350\n",
            "34/34 [==============================] - 0s 1ms/step - loss: 4888.7266 - mae: 4888.7266\n",
            "Epoch 176/350\n",
            "34/34 [==============================] - 0s 1ms/step - loss: 4620.3218 - mae: 4620.3218\n",
            "Epoch 177/350\n",
            "34/34 [==============================] - 0s 1ms/step - loss: 4867.3677 - mae: 4867.3677\n",
            "Epoch 178/350\n",
            "34/34 [==============================] - 0s 1ms/step - loss: 4812.7734 - mae: 4812.7734\n",
            "Epoch 179/350\n",
            "34/34 [==============================] - 0s 1ms/step - loss: 4663.1255 - mae: 4663.1255\n",
            "Epoch 180/350\n",
            "34/34 [==============================] - 0s 1ms/step - loss: 4621.6904 - mae: 4621.6904\n",
            "Epoch 181/350\n",
            "34/34 [==============================] - 0s 1ms/step - loss: 4875.0723 - mae: 4875.0723\n",
            "Epoch 182/350\n",
            "34/34 [==============================] - 0s 1ms/step - loss: 5026.3682 - mae: 5026.3682\n",
            "Epoch 183/350\n",
            "34/34 [==============================] - 0s 1ms/step - loss: 4718.7695 - mae: 4718.7695\n",
            "Epoch 184/350\n",
            "34/34 [==============================] - 0s 1ms/step - loss: 4772.6919 - mae: 4772.6919\n",
            "Epoch 185/350\n",
            "34/34 [==============================] - 0s 1ms/step - loss: 4576.7319 - mae: 4576.7319\n",
            "Epoch 186/350\n",
            "34/34 [==============================] - 0s 1ms/step - loss: 4424.8228 - mae: 4424.8228\n",
            "Epoch 187/350\n",
            "34/34 [==============================] - 0s 1ms/step - loss: 4736.3149 - mae: 4736.3149\n",
            "Epoch 188/350\n",
            "34/34 [==============================] - 0s 1ms/step - loss: 4826.6992 - mae: 4826.6992\n",
            "Epoch 189/350\n",
            "34/34 [==============================] - 0s 1ms/step - loss: 4833.3213 - mae: 4833.3213\n",
            "Epoch 190/350\n",
            "34/34 [==============================] - 0s 1ms/step - loss: 5147.4868 - mae: 5147.4868\n",
            "Epoch 191/350\n",
            "34/34 [==============================] - 0s 1ms/step - loss: 4933.9985 - mae: 4933.9985\n",
            "Epoch 192/350\n",
            "34/34 [==============================] - 0s 1ms/step - loss: 5158.1426 - mae: 5158.1426\n",
            "Epoch 193/350\n",
            "34/34 [==============================] - 0s 1ms/step - loss: 4973.3657 - mae: 4973.3657\n",
            "Epoch 194/350\n",
            "34/34 [==============================] - 0s 1ms/step - loss: 4750.2402 - mae: 4750.2402\n",
            "Epoch 195/350\n",
            "34/34 [==============================] - 0s 1ms/step - loss: 4848.6616 - mae: 4848.6616\n",
            "Epoch 196/350\n",
            "34/34 [==============================] - 0s 1ms/step - loss: 4670.3442 - mae: 4670.3442\n",
            "Epoch 197/350\n",
            "34/34 [==============================] - 0s 1ms/step - loss: 4652.6484 - mae: 4652.6484\n",
            "Epoch 198/350\n",
            "34/34 [==============================] - 0s 1ms/step - loss: 4653.3530 - mae: 4653.3530\n",
            "Epoch 199/350\n",
            "34/34 [==============================] - 0s 1ms/step - loss: 4819.1694 - mae: 4819.1694\n",
            "Epoch 200/350\n",
            "34/34 [==============================] - 0s 1ms/step - loss: 5140.4663 - mae: 5140.4663\n",
            "Epoch 201/350\n",
            "34/34 [==============================] - 0s 1ms/step - loss: 4749.1885 - mae: 4749.1885\n",
            "Epoch 202/350\n",
            "34/34 [==============================] - 0s 1ms/step - loss: 4795.6270 - mae: 4795.6270\n",
            "Epoch 203/350\n",
            "34/34 [==============================] - 0s 1ms/step - loss: 4741.8809 - mae: 4741.8809\n",
            "Epoch 204/350\n",
            "34/34 [==============================] - 0s 1ms/step - loss: 4645.0479 - mae: 4645.0479\n",
            "Epoch 205/350\n",
            "34/34 [==============================] - 0s 1ms/step - loss: 4786.1084 - mae: 4786.1084\n",
            "Epoch 206/350\n",
            "34/34 [==============================] - 0s 2ms/step - loss: 4765.2085 - mae: 4765.2085\n",
            "Epoch 207/350\n",
            "34/34 [==============================] - 0s 1ms/step - loss: 4984.2168 - mae: 4984.2168\n",
            "Epoch 208/350\n",
            "34/34 [==============================] - 0s 1ms/step - loss: 4390.6011 - mae: 4390.6011\n",
            "Epoch 209/350\n",
            "34/34 [==============================] - 0s 1ms/step - loss: 5240.9478 - mae: 5240.9478\n",
            "Epoch 210/350\n",
            "34/34 [==============================] - 0s 1ms/step - loss: 4566.7642 - mae: 4566.7642\n",
            "Epoch 211/350\n",
            "34/34 [==============================] - 0s 1ms/step - loss: 4629.0361 - mae: 4629.0361\n",
            "Epoch 212/350\n",
            "34/34 [==============================] - 0s 1ms/step - loss: 4918.0815 - mae: 4918.0815\n",
            "Epoch 213/350\n",
            "34/34 [==============================] - 0s 1ms/step - loss: 5006.7017 - mae: 5006.7017\n",
            "Epoch 214/350\n",
            "34/34 [==============================] - 0s 1ms/step - loss: 4700.3457 - mae: 4700.3457\n",
            "Epoch 215/350\n",
            "34/34 [==============================] - 0s 1ms/step - loss: 5132.3911 - mae: 5132.3911\n",
            "Epoch 216/350\n",
            "34/34 [==============================] - 0s 1ms/step - loss: 4421.0845 - mae: 4421.0845\n",
            "Epoch 217/350\n",
            "34/34 [==============================] - 0s 1ms/step - loss: 4468.2310 - mae: 4468.2310\n",
            "Epoch 218/350\n",
            "34/34 [==============================] - 0s 1ms/step - loss: 4569.5112 - mae: 4569.5112\n",
            "Epoch 219/350\n",
            "34/34 [==============================] - 0s 1ms/step - loss: 4490.8315 - mae: 4490.8315\n",
            "Epoch 220/350\n",
            "34/34 [==============================] - 0s 1ms/step - loss: 4852.1221 - mae: 4852.1221\n",
            "Epoch 221/350\n",
            "34/34 [==============================] - 0s 1ms/step - loss: 4489.9512 - mae: 4489.9512\n",
            "Epoch 222/350\n",
            "34/34 [==============================] - 0s 1ms/step - loss: 5182.0615 - mae: 5182.0615\n",
            "Epoch 223/350\n",
            "34/34 [==============================] - 0s 1ms/step - loss: 4545.9175 - mae: 4545.9175\n",
            "Epoch 224/350\n",
            "34/34 [==============================] - 0s 1ms/step - loss: 4799.8291 - mae: 4799.8291\n",
            "Epoch 225/350\n",
            "34/34 [==============================] - 0s 1ms/step - loss: 4471.7036 - mae: 4471.7036\n",
            "Epoch 226/350\n",
            "34/34 [==============================] - 0s 1ms/step - loss: 4553.1230 - mae: 4553.1230\n",
            "Epoch 227/350\n",
            "34/34 [==============================] - 0s 1ms/step - loss: 4498.9355 - mae: 4498.9355\n",
            "Epoch 228/350\n",
            "34/34 [==============================] - 0s 1ms/step - loss: 4920.1050 - mae: 4920.1050\n",
            "Epoch 229/350\n",
            "34/34 [==============================] - 0s 1ms/step - loss: 4917.4199 - mae: 4917.4199\n",
            "Epoch 230/350\n",
            "34/34 [==============================] - 0s 1ms/step - loss: 4771.5703 - mae: 4771.5703\n",
            "Epoch 231/350\n",
            "34/34 [==============================] - 0s 1ms/step - loss: 4560.6484 - mae: 4560.6484\n",
            "Epoch 232/350\n",
            "34/34 [==============================] - 0s 1ms/step - loss: 4406.9233 - mae: 4406.9233\n",
            "Epoch 233/350\n",
            "34/34 [==============================] - 0s 1ms/step - loss: 4607.6245 - mae: 4607.6245\n",
            "Epoch 234/350\n",
            "34/34 [==============================] - 0s 1ms/step - loss: 4468.9058 - mae: 4468.9058\n",
            "Epoch 235/350\n",
            "34/34 [==============================] - 0s 1ms/step - loss: 4904.8018 - mae: 4904.8018\n",
            "Epoch 236/350\n",
            "34/34 [==============================] - 0s 1ms/step - loss: 4363.1343 - mae: 4363.1343\n",
            "Epoch 237/350\n",
            "34/34 [==============================] - 0s 1ms/step - loss: 4672.0708 - mae: 4672.0708\n",
            "Epoch 238/350\n",
            "34/34 [==============================] - 0s 1ms/step - loss: 4705.5679 - mae: 4705.5679\n",
            "Epoch 239/350\n",
            "34/34 [==============================] - 0s 1ms/step - loss: 4921.4019 - mae: 4921.4019\n",
            "Epoch 240/350\n",
            "34/34 [==============================] - 0s 1ms/step - loss: 4709.4692 - mae: 4709.4692\n",
            "Epoch 241/350\n",
            "34/34 [==============================] - 0s 1ms/step - loss: 4468.0127 - mae: 4468.0127\n",
            "Epoch 242/350\n",
            "34/34 [==============================] - 0s 1ms/step - loss: 4746.0991 - mae: 4746.0991\n",
            "Epoch 243/350\n",
            "34/34 [==============================] - 0s 1ms/step - loss: 4534.6855 - mae: 4534.6855\n",
            "Epoch 244/350\n",
            "34/34 [==============================] - 0s 1ms/step - loss: 4637.1226 - mae: 4637.1226\n",
            "Epoch 245/350\n",
            "34/34 [==============================] - 0s 1ms/step - loss: 4561.9727 - mae: 4561.9727\n",
            "Epoch 246/350\n",
            "34/34 [==============================] - 0s 1ms/step - loss: 5115.4619 - mae: 5115.4619\n",
            "Epoch 247/350\n",
            "34/34 [==============================] - 0s 1ms/step - loss: 4653.8081 - mae: 4653.8081\n",
            "Epoch 248/350\n",
            "34/34 [==============================] - 0s 1ms/step - loss: 4718.5625 - mae: 4718.5625\n",
            "Epoch 249/350\n",
            "34/34 [==============================] - 0s 1ms/step - loss: 4463.5918 - mae: 4463.5918\n",
            "Epoch 250/350\n",
            "34/34 [==============================] - 0s 1ms/step - loss: 5012.8809 - mae: 5012.8809\n",
            "Epoch 251/350\n",
            "34/34 [==============================] - 0s 1ms/step - loss: 4372.3242 - mae: 4372.3242\n",
            "Epoch 252/350\n",
            "34/34 [==============================] - 0s 1ms/step - loss: 4533.0054 - mae: 4533.0054\n",
            "Epoch 253/350\n",
            "34/34 [==============================] - 0s 1ms/step - loss: 4467.8955 - mae: 4467.8955\n",
            "Epoch 254/350\n",
            "34/34 [==============================] - 0s 1ms/step - loss: 4673.1685 - mae: 4673.1685\n",
            "Epoch 255/350\n",
            "34/34 [==============================] - 0s 1ms/step - loss: 4893.8037 - mae: 4893.8037\n",
            "Epoch 256/350\n",
            "34/34 [==============================] - 0s 1ms/step - loss: 5036.8032 - mae: 5036.8032\n",
            "Epoch 257/350\n",
            "34/34 [==============================] - 0s 1ms/step - loss: 4270.5498 - mae: 4270.5498\n",
            "Epoch 258/350\n",
            "34/34 [==============================] - 0s 1ms/step - loss: 4796.8232 - mae: 4796.8232\n",
            "Epoch 259/350\n",
            "34/34 [==============================] - 0s 1ms/step - loss: 4321.3071 - mae: 4321.3071\n",
            "Epoch 260/350\n",
            "34/34 [==============================] - 0s 1ms/step - loss: 4742.8633 - mae: 4742.8633\n",
            "Epoch 261/350\n",
            "34/34 [==============================] - 0s 1ms/step - loss: 4802.8511 - mae: 4802.8511\n",
            "Epoch 262/350\n",
            "34/34 [==============================] - 0s 1ms/step - loss: 4870.6548 - mae: 4870.6548\n",
            "Epoch 263/350\n",
            "34/34 [==============================] - 0s 1ms/step - loss: 4588.1235 - mae: 4588.1235\n",
            "Epoch 264/350\n",
            "34/34 [==============================] - 0s 1ms/step - loss: 4950.4141 - mae: 4950.4141\n",
            "Epoch 265/350\n",
            "34/34 [==============================] - 0s 1ms/step - loss: 4504.8613 - mae: 4504.8613\n",
            "Epoch 266/350\n",
            "34/34 [==============================] - 0s 1ms/step - loss: 4353.1333 - mae: 4353.1333\n",
            "Epoch 267/350\n",
            "34/34 [==============================] - 0s 2ms/step - loss: 4927.0103 - mae: 4927.0103\n",
            "Epoch 268/350\n",
            "34/34 [==============================] - 0s 1ms/step - loss: 4680.1772 - mae: 4680.1772\n",
            "Epoch 269/350\n",
            "34/34 [==============================] - 0s 1ms/step - loss: 4520.9346 - mae: 4520.9346\n",
            "Epoch 270/350\n",
            "34/34 [==============================] - 0s 1ms/step - loss: 4709.5024 - mae: 4709.5024\n",
            "Epoch 271/350\n",
            "34/34 [==============================] - 0s 1ms/step - loss: 4402.5469 - mae: 4402.5469\n",
            "Epoch 272/350\n",
            "34/34 [==============================] - 0s 1ms/step - loss: 4540.2466 - mae: 4540.2466\n",
            "Epoch 273/350\n",
            "34/34 [==============================] - 0s 1ms/step - loss: 4434.5859 - mae: 4434.5859\n",
            "Epoch 274/350\n",
            "34/34 [==============================] - 0s 1ms/step - loss: 5011.1367 - mae: 5011.1367\n",
            "Epoch 275/350\n",
            "34/34 [==============================] - 0s 1ms/step - loss: 4488.6870 - mae: 4488.6870\n",
            "Epoch 276/350\n",
            "34/34 [==============================] - 0s 1ms/step - loss: 4739.9512 - mae: 4739.9512\n",
            "Epoch 277/350\n",
            "34/34 [==============================] - 0s 1ms/step - loss: 4763.5239 - mae: 4763.5239\n",
            "Epoch 278/350\n",
            "34/34 [==============================] - 0s 1ms/step - loss: 4590.0356 - mae: 4590.0356\n",
            "Epoch 279/350\n",
            "34/34 [==============================] - 0s 1ms/step - loss: 4230.9565 - mae: 4230.9565\n",
            "Epoch 280/350\n",
            "34/34 [==============================] - 0s 1ms/step - loss: 4906.6577 - mae: 4906.6577\n",
            "Epoch 281/350\n",
            "34/34 [==============================] - 0s 1ms/step - loss: 4977.6240 - mae: 4977.6240\n",
            "Epoch 282/350\n",
            "34/34 [==============================] - 0s 1ms/step - loss: 4356.9292 - mae: 4356.9292\n",
            "Epoch 283/350\n",
            "34/34 [==============================] - 0s 2ms/step - loss: 4420.4087 - mae: 4420.4087\n",
            "Epoch 284/350\n",
            "34/34 [==============================] - 0s 2ms/step - loss: 4383.0879 - mae: 4383.0879\n",
            "Epoch 285/350\n",
            "34/34 [==============================] - 0s 2ms/step - loss: 5387.6714 - mae: 5387.6714\n",
            "Epoch 286/350\n",
            "34/34 [==============================] - 0s 2ms/step - loss: 4501.3774 - mae: 4501.3774\n",
            "Epoch 287/350\n",
            "34/34 [==============================] - 0s 2ms/step - loss: 4588.9185 - mae: 4588.9185\n",
            "Epoch 288/350\n",
            "34/34 [==============================] - 0s 2ms/step - loss: 4500.9409 - mae: 4500.9409\n",
            "Epoch 289/350\n",
            "34/34 [==============================] - 0s 2ms/step - loss: 4368.9448 - mae: 4368.9448\n",
            "Epoch 290/350\n",
            "34/34 [==============================] - 0s 2ms/step - loss: 4847.9863 - mae: 4847.9863\n",
            "Epoch 291/350\n",
            "34/34 [==============================] - 0s 2ms/step - loss: 4516.2959 - mae: 4516.2959\n",
            "Epoch 292/350\n",
            "34/34 [==============================] - 0s 2ms/step - loss: 4359.0122 - mae: 4359.0122\n",
            "Epoch 293/350\n",
            "34/34 [==============================] - 0s 2ms/step - loss: 4398.4541 - mae: 4398.4541\n",
            "Epoch 294/350\n",
            "34/34 [==============================] - 0s 2ms/step - loss: 4574.8799 - mae: 4574.8799\n",
            "Epoch 295/350\n",
            "34/34 [==============================] - 0s 2ms/step - loss: 4516.5459 - mae: 4516.5459\n",
            "Epoch 296/350\n",
            "34/34 [==============================] - 0s 2ms/step - loss: 4639.4048 - mae: 4639.4048\n",
            "Epoch 297/350\n",
            "34/34 [==============================] - 0s 2ms/step - loss: 5016.1899 - mae: 5016.1899\n",
            "Epoch 298/350\n",
            "34/34 [==============================] - 0s 2ms/step - loss: 4778.2964 - mae: 4778.2964\n",
            "Epoch 299/350\n",
            "34/34 [==============================] - 0s 2ms/step - loss: 4474.0635 - mae: 4474.0635\n",
            "Epoch 300/350\n",
            "34/34 [==============================] - 0s 2ms/step - loss: 4553.5918 - mae: 4553.5918\n",
            "Epoch 301/350\n",
            "34/34 [==============================] - 0s 1ms/step - loss: 4336.9399 - mae: 4336.9399\n",
            "Epoch 302/350\n",
            "34/34 [==============================] - 0s 1ms/step - loss: 4464.9844 - mae: 4464.9844\n",
            "Epoch 303/350\n",
            "34/34 [==============================] - 0s 2ms/step - loss: 4480.3940 - mae: 4480.3940\n",
            "Epoch 304/350\n",
            "34/34 [==============================] - 0s 1ms/step - loss: 4350.5767 - mae: 4350.5767\n",
            "Epoch 305/350\n",
            "34/34 [==============================] - 0s 1ms/step - loss: 4264.3325 - mae: 4264.3325\n",
            "Epoch 306/350\n",
            "34/34 [==============================] - 0s 1ms/step - loss: 4495.3096 - mae: 4495.3096\n",
            "Epoch 307/350\n",
            "34/34 [==============================] - 0s 1ms/step - loss: 4245.2461 - mae: 4245.2461\n",
            "Epoch 308/350\n",
            "34/34 [==============================] - 0s 2ms/step - loss: 4331.5342 - mae: 4331.5342\n",
            "Epoch 309/350\n",
            "34/34 [==============================] - 0s 2ms/step - loss: 4664.3257 - mae: 4664.3257\n",
            "Epoch 310/350\n",
            "34/34 [==============================] - 0s 1ms/step - loss: 4545.0449 - mae: 4545.0449\n",
            "Epoch 311/350\n",
            "34/34 [==============================] - 0s 2ms/step - loss: 4857.0396 - mae: 4857.0396\n",
            "Epoch 312/350\n",
            "34/34 [==============================] - 0s 2ms/step - loss: 4332.2607 - mae: 4332.2607\n",
            "Epoch 313/350\n",
            "34/34 [==============================] - 0s 2ms/step - loss: 4582.0049 - mae: 4582.0049\n",
            "Epoch 314/350\n",
            "34/34 [==============================] - 0s 1ms/step - loss: 4227.2632 - mae: 4227.2632\n",
            "Epoch 315/350\n",
            "34/34 [==============================] - 0s 2ms/step - loss: 4362.4995 - mae: 4362.4995\n",
            "Epoch 316/350\n",
            "34/34 [==============================] - 0s 2ms/step - loss: 4258.4287 - mae: 4258.4287\n",
            "Epoch 317/350\n",
            "34/34 [==============================] - 0s 2ms/step - loss: 4435.9277 - mae: 4435.9277\n",
            "Epoch 318/350\n",
            "34/34 [==============================] - 0s 1ms/step - loss: 4207.4619 - mae: 4207.4619\n",
            "Epoch 319/350\n",
            "34/34 [==============================] - 0s 1ms/step - loss: 4484.5850 - mae: 4484.5850\n",
            "Epoch 320/350\n",
            "34/34 [==============================] - 0s 2ms/step - loss: 4423.6353 - mae: 4423.6353\n",
            "Epoch 321/350\n",
            "34/34 [==============================] - 0s 2ms/step - loss: 4300.6455 - mae: 4300.6455\n",
            "Epoch 322/350\n",
            "34/34 [==============================] - 0s 2ms/step - loss: 4234.4160 - mae: 4234.4160\n",
            "Epoch 323/350\n",
            "34/34 [==============================] - 0s 2ms/step - loss: 4517.0317 - mae: 4517.0317\n",
            "Epoch 324/350\n",
            "34/34 [==============================] - 0s 2ms/step - loss: 4395.8711 - mae: 4395.8711\n",
            "Epoch 325/350\n",
            "34/34 [==============================] - 0s 2ms/step - loss: 4146.8364 - mae: 4146.8364\n",
            "Epoch 326/350\n",
            "34/34 [==============================] - 0s 1ms/step - loss: 4530.0762 - mae: 4530.0762\n",
            "Epoch 327/350\n",
            "34/34 [==============================] - 0s 1ms/step - loss: 4433.3926 - mae: 4433.3926\n",
            "Epoch 328/350\n",
            "34/34 [==============================] - 0s 2ms/step - loss: 4236.1787 - mae: 4236.1787\n",
            "Epoch 329/350\n",
            "34/34 [==============================] - 0s 1ms/step - loss: 4089.5322 - mae: 4089.5322\n",
            "Epoch 330/350\n",
            "34/34 [==============================] - 0s 2ms/step - loss: 4372.4985 - mae: 4372.4985\n",
            "Epoch 331/350\n",
            "34/34 [==============================] - 0s 2ms/step - loss: 4455.5479 - mae: 4455.5479\n",
            "Epoch 332/350\n",
            "34/34 [==============================] - 0s 2ms/step - loss: 4669.6768 - mae: 4669.6768\n",
            "Epoch 333/350\n",
            "34/34 [==============================] - 0s 2ms/step - loss: 4361.4375 - mae: 4361.4375\n",
            "Epoch 334/350\n",
            "34/34 [==============================] - 0s 2ms/step - loss: 4435.7681 - mae: 4435.7681\n",
            "Epoch 335/350\n",
            "34/34 [==============================] - 0s 2ms/step - loss: 4265.7290 - mae: 4265.7290\n",
            "Epoch 336/350\n",
            "34/34 [==============================] - 0s 2ms/step - loss: 4335.8701 - mae: 4335.8701\n",
            "Epoch 337/350\n",
            "34/34 [==============================] - 0s 2ms/step - loss: 4400.4253 - mae: 4400.4253\n",
            "Epoch 338/350\n",
            "34/34 [==============================] - 0s 2ms/step - loss: 4471.5181 - mae: 4471.5181\n",
            "Epoch 339/350\n",
            "34/34 [==============================] - 0s 2ms/step - loss: 4107.6514 - mae: 4107.6514\n",
            "Epoch 340/350\n",
            "34/34 [==============================] - 0s 2ms/step - loss: 4398.9326 - mae: 4398.9326\n",
            "Epoch 341/350\n",
            "34/34 [==============================] - 0s 2ms/step - loss: 4299.8262 - mae: 4299.8262\n",
            "Epoch 342/350\n",
            "34/34 [==============================] - 0s 1ms/step - loss: 4266.2632 - mae: 4266.2632\n",
            "Epoch 343/350\n",
            "34/34 [==============================] - 0s 2ms/step - loss: 4583.6963 - mae: 4583.6963\n",
            "Epoch 344/350\n",
            "34/34 [==============================] - 0s 2ms/step - loss: 4342.4429 - mae: 4342.4429\n",
            "Epoch 345/350\n",
            "34/34 [==============================] - 0s 2ms/step - loss: 4337.6187 - mae: 4337.6187\n",
            "Epoch 346/350\n",
            "34/34 [==============================] - 0s 1ms/step - loss: 4369.7651 - mae: 4369.7651\n",
            "Epoch 347/350\n",
            "34/34 [==============================] - 0s 1ms/step - loss: 4336.3525 - mae: 4336.3525\n",
            "Epoch 348/350\n",
            "34/34 [==============================] - 0s 1ms/step - loss: 4620.1699 - mae: 4620.1699\n",
            "Epoch 349/350\n",
            "34/34 [==============================] - 0s 1ms/step - loss: 4249.1904 - mae: 4249.1904\n",
            "Epoch 350/350\n",
            "34/34 [==============================] - 0s 1ms/step - loss: 4232.0352 - mae: 4232.0352\n"
          ]
        },
        {
          "output_type": "execute_result",
          "data": {
            "text/plain": [
              "<keras.callbacks.History at 0x7f0e0967ed10>"
            ]
          },
          "metadata": {},
          "execution_count": 127
        }
      ]
    },
    {
      "cell_type": "code",
      "source": [
        "insurance_model_4.evaluate(X_test_normal, y_test)"
      ],
      "metadata": {
        "colab": {
          "base_uri": "https://localhost:8080/"
        },
        "id": "sL4fBkLSRumo",
        "outputId": "7f599c0a-8d9f-4224-b648-b3c09b761fd9"
      },
      "execution_count": null,
      "outputs": [
        {
          "output_type": "stream",
          "name": "stdout",
          "text": [
            "9/9 [==============================] - 0s 1ms/step - loss: 4365.8105 - mae: 4365.8105\n"
          ]
        },
        {
          "output_type": "execute_result",
          "data": {
            "text/plain": [
              "[4365.810546875, 4365.810546875]"
            ]
          },
          "metadata": {},
          "execution_count": 129
        }
      ]
    },
    {
      "cell_type": "code",
      "source": [],
      "metadata": {
        "id": "FEqjIM6YMPcI"
      },
      "execution_count": null,
      "outputs": []
    }
  ]
}